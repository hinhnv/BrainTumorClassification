{
  "nbformat": 4,
  "nbformat_minor": 0,
  "metadata": {
    "accelerator": "GPU",
    "colab": {
      "name": "brain_tumor_inceptionresnetv2_pytorch.ipynb",
      "provenance": [],
      "collapsed_sections": []
    },
    "kernelspec": {
      "display_name": "Python 3",
      "name": "python3"
    },
    "language_info": {
      "name": "python"
    }
  },
  "cells": [
    {
      "cell_type": "code",
      "metadata": {
        "colab": {
          "base_uri": "https://localhost:8080/"
        },
        "id": "al_XWgRp3EzB",
        "outputId": "37d5efa8-84ca-4359-d059-18e05ee5fb67"
      },
      "source": [
        "from google.colab import drive\n",
        "drive.mount('/content/drive')"
      ],
      "execution_count": 1,
      "outputs": [
        {
          "output_type": "stream",
          "text": [
            "Drive already mounted at /content/drive; to attempt to forcibly remount, call drive.mount(\"/content/drive\", force_remount=True).\n"
          ],
          "name": "stdout"
        }
      ]
    },
    {
      "cell_type": "code",
      "metadata": {
        "colab": {
          "base_uri": "https://localhost:8080/"
        },
        "id": "GPMeqQO6AP2D",
        "outputId": "257e1de9-a3d1-46be-d216-5caf72434838"
      },
      "source": [
        "%cd /content/drive/My Drive/Adas/src\n",
        "from adas import Adas"
      ],
      "execution_count": 2,
      "outputs": [
        {
          "output_type": "stream",
          "text": [
            "/content/drive/My Drive/Adas/src\n"
          ],
          "name": "stdout"
        }
      ]
    },
    {
      "cell_type": "code",
      "metadata": {
        "colab": {
          "base_uri": "https://localhost:8080/"
        },
        "id": "Ik5OMPhJMbDZ",
        "outputId": "93109b2b-0f6c-44bc-c9bc-e695c904796a"
      },
      "source": [
        "# !pip install torch-inception-resnet-v2\n",
        "!pip install cnn-finetune"
      ],
      "execution_count": 3,
      "outputs": [
        {
          "output_type": "stream",
          "text": [
            "Requirement already satisfied: cnn-finetune in /usr/local/lib/python3.7/dist-packages (0.6.0)\n",
            "Requirement already satisfied: tqdm in /usr/local/lib/python3.7/dist-packages (from cnn-finetune) (4.41.1)\n",
            "Requirement already satisfied: pretrainedmodels>=0.7.4 in /usr/local/lib/python3.7/dist-packages (from cnn-finetune) (0.7.4)\n",
            "Requirement already satisfied: torchvision>=0.3.0 in /usr/local/lib/python3.7/dist-packages (from cnn-finetune) (0.10.0+cu102)\n",
            "Requirement already satisfied: scipy in /usr/local/lib/python3.7/dist-packages (from cnn-finetune) (1.4.1)\n",
            "Requirement already satisfied: torch in /usr/local/lib/python3.7/dist-packages (from cnn-finetune) (1.9.0+cu102)\n",
            "Requirement already satisfied: munch in /usr/local/lib/python3.7/dist-packages (from pretrainedmodels>=0.7.4->cnn-finetune) (2.5.0)\n",
            "Requirement already satisfied: numpy in /usr/local/lib/python3.7/dist-packages (from torchvision>=0.3.0->cnn-finetune) (1.19.5)\n",
            "Requirement already satisfied: pillow>=5.3.0 in /usr/local/lib/python3.7/dist-packages (from torchvision>=0.3.0->cnn-finetune) (7.1.2)\n",
            "Requirement already satisfied: typing-extensions in /usr/local/lib/python3.7/dist-packages (from torch->cnn-finetune) (3.7.4.3)\n",
            "Requirement already satisfied: six in /usr/local/lib/python3.7/dist-packages (from munch->pretrainedmodels>=0.7.4->cnn-finetune) (1.15.0)\n"
          ],
          "name": "stdout"
        }
      ]
    },
    {
      "cell_type": "code",
      "metadata": {
        "id": "4gIgIRBCNl43"
      },
      "source": [
        "# from cnn_finetune.contrib import pretrainedmodels\n",
        "from cnn_finetune import make_model"
      ],
      "execution_count": 4,
      "outputs": []
    },
    {
      "cell_type": "code",
      "metadata": {
        "id": "jrQMAMh7ARMZ"
      },
      "source": [
        "import matplotlib.pyplot as plt\n",
        "from torchvision import datasets, models, transforms\n",
        "import helper\n",
        "import torch.nn as nn\n",
        "import torch.nn.functional as F\n",
        "import torch.optim as optim\n",
        "\n",
        "from torchvision import datasets\n",
        "from torchvision import transforms\n",
        "import matplotlib.pyplot as plt\n",
        "import torch, torchvision\n",
        "from torch.utils.data import DataLoader\n",
        "import time\n",
        "from torchsummary import summary\n",
        "import numpy as np\n",
        "import os\n",
        "\n",
        "from PIL import Image"
      ],
      "execution_count": 5,
      "outputs": []
    },
    {
      "cell_type": "code",
      "metadata": {
        "id": "B_IymEbSAWFo"
      },
      "source": [
        "IMAGE_SIZE = 256\n",
        "batch_size = 16\n",
        "\n",
        "DATADIR_TRAIN = \"/content/drive/My Drive/DetectBrainTumor/data_15062021/T2_Train/\"\n",
        "DATADIR_VAL = \"/content/drive/My Drive/DetectBrainTumor/data_15062021/T2_Val/\""
      ],
      "execution_count": 6,
      "outputs": []
    },
    {
      "cell_type": "code",
      "metadata": {
        "id": "_dG28e-KICv6"
      },
      "source": [
        "# Applying Transforms to the Data\n",
        "train_transform = transforms.Compose([\n",
        "        transforms.RandomResizedCrop(size=256, scale=(0.8, 1.0)),\n",
        "        transforms.RandomRotation(degrees=15),\n",
        "        transforms.RandomHorizontalFlip(),\n",
        "        transforms.CenterCrop(size=224),\n",
        "        transforms.ToTensor(),\n",
        "        transforms.Normalize([0.485, 0.456, 0.406],\n",
        "                             [0.229, 0.224, 0.225])\n",
        "    ])\n",
        "\n",
        "test_transform = transforms.Compose([\n",
        "        transforms.Resize(size=256),\n",
        "        transforms.CenterCrop(size=224),\n",
        "        transforms.ToTensor(),\n",
        "        transforms.Normalize([0.485, 0.456, 0.406],\n",
        "                             [0.229, 0.224, 0.225])\n",
        "    ])"
      ],
      "execution_count": 7,
      "outputs": []
    },
    {
      "cell_type": "code",
      "metadata": {
        "id": "8JuOKAOLAi0X"
      },
      "source": [
        "train_data = datasets.ImageFolder(DATADIR_TRAIN, transform=train_transform)                                       \n",
        "val_data = datasets.ImageFolder(DATADIR_VAL, transform=test_transform)\n",
        "\n",
        "#Data Loading\n",
        "train_loader = torch.utils.data.DataLoader(train_data, batch_size=batch_size, shuffle=True)\n",
        "val_loader = torch.utils.data.DataLoader(val_data, batch_size=batch_size, shuffle=True)"
      ],
      "execution_count": 8,
      "outputs": []
    },
    {
      "cell_type": "code",
      "metadata": {
        "id": "aOZ-WlKeJUnb"
      },
      "source": [
        "classes = ('YES', 'NO')"
      ],
      "execution_count": 9,
      "outputs": []
    },
    {
      "cell_type": "code",
      "metadata": {
        "id": "kTT7H1l_NvJr"
      },
      "source": [
        "train_data_size = len(train_data)\n",
        "test_data_size = len(val_data)"
      ],
      "execution_count": 10,
      "outputs": []
    },
    {
      "cell_type": "code",
      "metadata": {
        "id": "PmgAbQbVJbqn"
      },
      "source": [
        "# import matplotlib.pyplot as plt\n",
        "# import numpy as np\n",
        "\n",
        "# # functions to show an image\n",
        "\n",
        "\n",
        "# def imshow(img):\n",
        "#     img = img / 2 + 0.5     # unnormalize\n",
        "#     npimg = img.numpy()\n",
        "#     plt.imshow(np.transpose(npimg, (1, 2, 0)))\n",
        "#     plt.show()\n",
        "\n",
        "\n",
        "# # get some random training images\n",
        "# dataiter = iter(train_loader)\n",
        "# images, labels = dataiter.next()\n",
        "\n",
        "# # show images\n",
        "# imshow(torchvision.utils.make_grid(images))\n",
        "# # print labels\n",
        "# print(' '.join('%5s' % classes[labels[j]] for j in range(2)))"
      ],
      "execution_count": 11,
      "outputs": []
    },
    {
      "cell_type": "code",
      "metadata": {
        "id": "JP2vIpVTXMPE"
      },
      "source": [
        "device = torch.device(\"cuda:0\" if torch.cuda.is_available() else \"cpu\")"
      ],
      "execution_count": 12,
      "outputs": []
    },
    {
      "cell_type": "code",
      "metadata": {
        "id": "CJAOJSrCDEdY",
        "colab": {
          "base_uri": "https://localhost:8080/"
        },
        "outputId": "98396f33-517f-4c9f-c12f-20c5a8041502"
      },
      "source": [
        "# Load pretrained ResNet50 Model\n",
        "# model_class = models.inception_v3(pretrained=True)\n",
        "model_class = make_model('inceptionresnetv2', num_classes=2, pretrained=True, input_size=(256, 256))"
      ],
      "execution_count": 13,
      "outputs": [
        {
          "output_type": "stream",
          "text": [
            "/usr/local/lib/python3.7/dist-packages/torch/nn/functional.py:718: UserWarning: Named tensors and all their associated APIs are an experimental feature and subject to change. Please do not use them for anything important until they are released as stable. (Triggered internally at  /pytorch/c10/core/TensorImpl.h:1156.)\n",
            "  return torch.max_pool2d(input, kernel_size, stride, padding, dilation, ceil_mode)\n"
          ],
          "name": "stderr"
        }
      ]
    },
    {
      "cell_type": "code",
      "metadata": {
        "id": "qWHwvjeWOVSJ"
      },
      "source": [
        "# Freeze model parameters\n",
        "# for param in model_class.parameters():\n",
        "#     param.requires_grad = False"
      ],
      "execution_count": 14,
      "outputs": []
    },
    {
      "cell_type": "code",
      "metadata": {
        "id": "yKCG2en0o-71"
      },
      "source": [
        "# fc_inputs = model_class.fc.in_features\n",
        "# fc_inputs"
      ],
      "execution_count": 15,
      "outputs": []
    },
    {
      "cell_type": "code",
      "metadata": {
        "id": "nE_07JDiOW8w"
      },
      "source": [
        "# Change the final layer of ResNet50 Model for Transfer Learning\n",
        "inputs = model_class._classifier.in_features\n",
        "\n",
        "model_class._classifier = nn.Sequential(\n",
        "    nn.Linear(inputs, 128),\n",
        "    nn.ReLU(),\n",
        "    nn.Dropout(0.3),\n",
        "    nn.Flatten(),\n",
        "    nn.Dropout(0.5),\n",
        "    nn.Linear(128, 2), # Since 100 possible outputs\n",
        "    # nn.LogSoftmax(dim=1) # For using NLLLoss()\n",
        ")\n",
        "\n",
        "# Convert model to be used on GPU\n",
        "model_class = model_class.to(device)"
      ],
      "execution_count": 16,
      "outputs": []
    },
    {
      "cell_type": "code",
      "metadata": {
        "id": "921-fqC4Ocep"
      },
      "source": [
        "def train_and_validate(model, scheduler, loss_criterion, optimizer, epochs):\n",
        "    '''\n",
        "    Function to train and validate\n",
        "    Parameters\n",
        "        :param model: Model to train and validate\n",
        "        :param loss_criterion: Loss Criterion to minimize\n",
        "        :param optimizer: Optimizer for computing gradients\n",
        "        :param epochs: Number of epochs (default=25)\n",
        "  \n",
        "    Returns\n",
        "        model: Trained Model with best validation accuracy\n",
        "        history: (dict object): Having training loss, accuracy and validation loss, accuracy\n",
        "    '''\n",
        "    \n",
        "    start = time.time()\n",
        "    history = []\n",
        "    best_loss = 100000.0\n",
        "    best_epoch = None\n",
        "    flag = 0\n",
        "\n",
        "    for epoch in range(epochs):\n",
        "        epoch_start = time.time()\n",
        "        print(\"Epoch: {}/{}\".format(epoch+1, epochs))\n",
        "        \n",
        "        # Set to training mode\n",
        "        model.train()\n",
        "        \n",
        "        # Loss and Accuracy within the epoch\n",
        "        train_loss = 0.0\n",
        "        train_acc = 0.0\n",
        "        \n",
        "        valid_loss = 0.0\n",
        "        valid_acc = 0.0\n",
        "        \n",
        "        for i, (inputs, labels) in enumerate(train_loader):\n",
        "\n",
        "            inputs = inputs.to(device)\n",
        "            labels = labels.to(device)\n",
        "            \n",
        "            # Clean existing gradients\n",
        "            optimizer.zero_grad()\n",
        "            \n",
        "            # Forward pass - compute outputs on input data using the model\n",
        "            outputs = model(inputs)\n",
        "            \n",
        "            # Compute loss\n",
        "            loss = loss_criterion(outputs, labels)\n",
        "            \n",
        "            # Backpropagate the gradients\n",
        "            loss.backward()\n",
        "            \n",
        "            # Update the parameters\n",
        "            optimizer.step()\n",
        "            \n",
        "            \n",
        "            # Compute the total loss for the batch and add it to train_loss\n",
        "            train_loss += loss.item() * inputs.size(0)\n",
        "            \n",
        "            # Compute the accuracy\n",
        "            ret, predictions = torch.max(outputs.data, 1)\n",
        "            correct_counts = predictions.eq(labels.data.view_as(predictions))\n",
        "            \n",
        "            # Convert correct_counts to float and then compute the mean\n",
        "            acc = torch.mean(correct_counts.type(torch.FloatTensor))\n",
        "            \n",
        "            # Compute total accuracy in the whole batch and add to train_acc\n",
        "            train_acc += acc.item() * inputs.size(0)\n",
        "            \n",
        "            #print(\"Batch number: {:03d}, Training: Loss: {:.4f}, Accuracy: {:.4f}\".format(i, loss.item(), acc.item()))\n",
        "\n",
        "        \n",
        "        # Validation - No gradient tracking needed\n",
        "        with torch.no_grad():\n",
        "\n",
        "            # Set to evaluation mode\n",
        "            model.eval()\n",
        "\n",
        "            # Validation loop\n",
        "            for j, (inputs, labels) in enumerate(val_loader):\n",
        "                inputs = inputs.to(device)\n",
        "                labels = labels.to(device)\n",
        "\n",
        "                # Forward pass - compute outputs on input data using the model\n",
        "                outputs = model(inputs)\n",
        "\n",
        "                # Compute loss\n",
        "                loss = loss_criterion(outputs, labels)\n",
        "\n",
        "                # Compute the total loss for the batch and add it to valid_loss\n",
        "                valid_loss += loss.item() * inputs.size(0)\n",
        "\n",
        "                # Calculate validation accuracy\n",
        "                ret, predictions = torch.max(outputs.data, 1)\n",
        "                correct_counts = predictions.eq(labels.data.view_as(predictions))\n",
        "\n",
        "                # Convert correct_counts to float and then compute the mean\n",
        "                acc = torch.mean(correct_counts.type(torch.FloatTensor))\n",
        "\n",
        "                # Compute total accuracy in the whole batch and add to valid_acc\n",
        "                valid_acc += acc.item() * inputs.size(0)\n",
        "                # if not j%100:\n",
        "                #   print(\"Validation Batch number: {:03d}, Validation: Loss: {:.4f}, Accuracy: {:.4f}\".format(j, loss.item(), acc.item()))\n",
        "        if valid_loss < best_loss:\n",
        "            best_loss = valid_loss\n",
        "            best_epoch = epoch\n",
        "\n",
        "        # Find average training loss and training accuracy\n",
        "        avg_train_loss = train_loss/train_data_size \n",
        "        avg_train_acc = train_acc/train_data_size\n",
        "\n",
        "        # Find average training loss and training accuracy\n",
        "        avg_valid_loss = valid_loss/test_data_size \n",
        "        avg_valid_acc = valid_acc/test_data_size\n",
        "\n",
        "        history.append([avg_train_loss, avg_valid_loss, avg_train_acc, avg_valid_acc])\n",
        "                \n",
        "        epoch_end = time.time()\n",
        "    \n",
        "        print(\"Epoch : {:03d}, Training: Loss - {:.4f}, Accuracy - {:.4f}%, Validation : Loss - {:.4f}, Accuracy - {:.4f}%, Time: {:.4f}s\".format(epoch+1, avg_train_loss, avg_train_acc*100, avg_valid_loss, avg_valid_acc*100, epoch_end-epoch_start))\n",
        "\n",
        "        #reduce lr\n",
        "        \n",
        "        if avg_valid_acc*100 > 90:\n",
        "          flag = 1\n",
        "\n",
        "        if flag == 1:\n",
        "          scheduler.step(avg_valid_loss)\n",
        "        \n",
        "        print('Epoch-{0} learning rate: {1}'.format(epoch, optimizer.param_groups[0]['lr']))\n",
        "\n",
        "        # Save if the model has best accuracy till now\n",
        "        # torch.save(model, 'model_'+str(epoch)+'.pt')\n",
        "        # optimizer.epoch_step(epoch)       \n",
        "    return model, history, best_epoch"
      ],
      "execution_count": 17,
      "outputs": []
    },
    {
      "cell_type": "code",
      "metadata": {
        "id": "Jx6C95OqFFT1"
      },
      "source": [
        "# Define Optimizer and Loss Function\n",
        "# loss_func = nn.NLLLoss()\n",
        "loss_func = nn.CrossEntropyLoss()\n",
        "optimizer = optim.Adam(params=list(model_class.parameters()), lr=1e-5)"
      ],
      "execution_count": 18,
      "outputs": []
    },
    {
      "cell_type": "code",
      "metadata": {
        "colab": {
          "base_uri": "https://localhost:8080/"
        },
        "id": "BR6dTBifOhoW",
        "outputId": "b94ef83e-a122-4440-b14e-28adc210d32a"
      },
      "source": [
        "num_epochs = 100\n",
        "\n",
        "start = time.time()\n",
        "\n",
        "# trained_model, history, best_epoch = train_and_validate(model_class, loss_func, optimizer, num_epochs)\n",
        "\n",
        "# scheduler = optim.lr_scheduler.MultiStepLR(optimizer, milestones=[20,35], gamma=0.1)\n",
        "# scheduler = optim.lr_scheduler.StepLR(optimizer, step_size=2, gamma=torch.exp(-0.1))\n",
        "\n",
        "# lambda1 = lambda epoch: torch.exp(-1) ** epoch\n",
        "# scheduler = torch.optim.lr_scheduler.LambdaLR(optimizer, lr_lambda=lambda1)\n",
        "\n",
        "scheduler = torch.optim.lr_scheduler.ReduceLROnPlateau(optimizer, mode='min', factor= 0.9, patience=2, threshold=0.0001, threshold_mode='abs')\n",
        "\n",
        "trained_model, history, best_epoch = train_and_validate(model_class, scheduler, loss_func, optimizer, num_epochs)\n",
        "\n",
        "end = time.time()\n",
        "# torch.save(history, 'history.pt')"
      ],
      "execution_count": 19,
      "outputs": [
        {
          "output_type": "stream",
          "text": [
            "Epoch: 1/100\n",
            "Epoch : 001, Training: Loss - 0.6895, Accuracy - 54.7355%, Validation : Loss - 0.6696, Accuracy - 64.0167%, Time: 29.1382s\n",
            "Epoch-0 learning rate: 1e-05\n",
            "Epoch: 2/100\n",
            "Epoch : 002, Training: Loss - 0.6465, Accuracy - 70.7257%, Validation : Loss - 0.6315, Accuracy - 71.1297%, Time: 29.2580s\n",
            "Epoch-1 learning rate: 1e-05\n",
            "Epoch: 3/100\n",
            "Epoch : 003, Training: Loss - 0.5789, Accuracy - 78.5978%, Validation : Loss - 0.5593, Accuracy - 71.9665%, Time: 29.4270s\n",
            "Epoch-2 learning rate: 1e-05\n",
            "Epoch: 4/100\n",
            "Epoch : 004, Training: Loss - 0.4746, Accuracy - 84.6248%, Validation : Loss - 0.4776, Accuracy - 74.4770%, Time: 29.6000s\n",
            "Epoch-3 learning rate: 1e-05\n",
            "Epoch: 5/100\n",
            "Epoch : 005, Training: Loss - 0.3850, Accuracy - 87.4539%, Validation : Loss - 0.4134, Accuracy - 79.0795%, Time: 29.8138s\n",
            "Epoch-4 learning rate: 1e-05\n",
            "Epoch: 6/100\n",
            "Epoch : 006, Training: Loss - 0.2907, Accuracy - 90.8979%, Validation : Loss - 0.3816, Accuracy - 82.4268%, Time: 30.0008s\n",
            "Epoch-5 learning rate: 1e-05\n",
            "Epoch: 7/100\n",
            "Epoch : 007, Training: Loss - 0.2773, Accuracy - 90.0369%, Validation : Loss - 0.3570, Accuracy - 84.1004%, Time: 30.1028s\n",
            "Epoch-6 learning rate: 1e-05\n",
            "Epoch: 8/100\n",
            "Epoch : 008, Training: Loss - 0.2180, Accuracy - 93.2349%, Validation : Loss - 0.3488, Accuracy - 84.1004%, Time: 30.1017s\n",
            "Epoch-7 learning rate: 1e-05\n",
            "Epoch: 9/100\n",
            "Epoch : 009, Training: Loss - 0.1764, Accuracy - 94.2189%, Validation : Loss - 0.3344, Accuracy - 85.7741%, Time: 30.0640s\n",
            "Epoch-8 learning rate: 1e-05\n",
            "Epoch: 10/100\n",
            "Epoch : 010, Training: Loss - 0.1630, Accuracy - 94.7109%, Validation : Loss - 0.3293, Accuracy - 86.6109%, Time: 30.1301s\n",
            "Epoch-9 learning rate: 1e-05\n",
            "Epoch: 11/100\n",
            "Epoch : 011, Training: Loss - 0.1327, Accuracy - 96.0640%, Validation : Loss - 0.3354, Accuracy - 85.7741%, Time: 30.2587s\n",
            "Epoch-10 learning rate: 1e-05\n",
            "Epoch: 12/100\n",
            "Epoch : 012, Training: Loss - 0.1198, Accuracy - 95.6950%, Validation : Loss - 0.3276, Accuracy - 87.0293%, Time: 30.4291s\n",
            "Epoch-11 learning rate: 1e-05\n",
            "Epoch: 13/100\n",
            "Epoch : 013, Training: Loss - 0.1210, Accuracy - 96.4330%, Validation : Loss - 0.3332, Accuracy - 87.8661%, Time: 30.3037s\n",
            "Epoch-12 learning rate: 1e-05\n",
            "Epoch: 14/100\n",
            "Epoch : 014, Training: Loss - 0.0974, Accuracy - 97.2940%, Validation : Loss - 0.3502, Accuracy - 86.6109%, Time: 30.3697s\n",
            "Epoch-13 learning rate: 1e-05\n",
            "Epoch: 15/100\n",
            "Epoch : 015, Training: Loss - 0.0750, Accuracy - 97.7860%, Validation : Loss - 0.3217, Accuracy - 87.8661%, Time: 30.3559s\n",
            "Epoch-14 learning rate: 1e-05\n",
            "Epoch: 16/100\n",
            "Epoch : 016, Training: Loss - 0.0999, Accuracy - 97.1710%, Validation : Loss - 0.3216, Accuracy - 90.3766%, Time: 30.3472s\n",
            "Epoch-15 learning rate: 1e-05\n",
            "Epoch: 17/100\n",
            "Epoch : 017, Training: Loss - 0.0998, Accuracy - 96.4330%, Validation : Loss - 0.3234, Accuracy - 90.7950%, Time: 30.4111s\n",
            "Epoch-16 learning rate: 1e-05\n",
            "Epoch: 18/100\n",
            "Epoch : 018, Training: Loss - 0.0654, Accuracy - 98.5240%, Validation : Loss - 0.3374, Accuracy - 89.1213%, Time: 30.3379s\n",
            "Epoch-17 learning rate: 1e-05\n",
            "Epoch: 19/100\n",
            "Epoch : 019, Training: Loss - 0.0548, Accuracy - 98.7700%, Validation : Loss - 0.3471, Accuracy - 90.3766%, Time: 30.4196s\n",
            "Epoch-18 learning rate: 9e-06\n",
            "Epoch: 20/100\n",
            "Epoch : 020, Training: Loss - 0.0550, Accuracy - 98.8930%, Validation : Loss - 0.3713, Accuracy - 90.3766%, Time: 30.4620s\n",
            "Epoch-19 learning rate: 9e-06\n",
            "Epoch: 21/100\n",
            "Epoch : 021, Training: Loss - 0.0538, Accuracy - 98.7700%, Validation : Loss - 0.3629, Accuracy - 89.9582%, Time: 30.4356s\n",
            "Epoch-20 learning rate: 9e-06\n",
            "Epoch: 22/100\n",
            "Epoch : 022, Training: Loss - 0.0747, Accuracy - 98.1550%, Validation : Loss - 0.3581, Accuracy - 90.7950%, Time: 30.3767s\n",
            "Epoch-21 learning rate: 8.1e-06\n",
            "Epoch: 23/100\n",
            "Epoch : 023, Training: Loss - 0.0442, Accuracy - 98.8930%, Validation : Loss - 0.3539, Accuracy - 89.9582%, Time: 30.4700s\n",
            "Epoch-22 learning rate: 8.1e-06\n",
            "Epoch: 24/100\n",
            "Epoch : 024, Training: Loss - 0.0393, Accuracy - 98.7700%, Validation : Loss - 0.3722, Accuracy - 89.9582%, Time: 30.3505s\n",
            "Epoch-23 learning rate: 8.1e-06\n",
            "Epoch: 25/100\n",
            "Epoch : 025, Training: Loss - 0.0321, Accuracy - 99.2620%, Validation : Loss - 0.3856, Accuracy - 89.9582%, Time: 30.4488s\n",
            "Epoch-24 learning rate: 7.2900000000000005e-06\n",
            "Epoch: 26/100\n",
            "Epoch : 026, Training: Loss - 0.0566, Accuracy - 98.2780%, Validation : Loss - 0.3776, Accuracy - 90.3766%, Time: 30.3962s\n",
            "Epoch-25 learning rate: 7.2900000000000005e-06\n",
            "Epoch: 27/100\n",
            "Epoch : 027, Training: Loss - 0.0278, Accuracy - 99.3850%, Validation : Loss - 0.3567, Accuracy - 89.5397%, Time: 30.3670s\n",
            "Epoch-26 learning rate: 7.2900000000000005e-06\n",
            "Epoch: 28/100\n",
            "Epoch : 028, Training: Loss - 0.0276, Accuracy - 99.6310%, Validation : Loss - 0.3558, Accuracy - 89.5397%, Time: 30.3200s\n",
            "Epoch-27 learning rate: 6.561e-06\n",
            "Epoch: 29/100\n",
            "Epoch : 029, Training: Loss - 0.0259, Accuracy - 99.5080%, Validation : Loss - 0.3748, Accuracy - 90.3766%, Time: 30.4400s\n",
            "Epoch-28 learning rate: 6.561e-06\n",
            "Epoch: 30/100\n",
            "Epoch : 030, Training: Loss - 0.0221, Accuracy - 99.7540%, Validation : Loss - 0.3772, Accuracy - 89.5397%, Time: 30.3412s\n",
            "Epoch-29 learning rate: 6.561e-06\n",
            "Epoch: 31/100\n",
            "Epoch : 031, Training: Loss - 0.0328, Accuracy - 99.0160%, Validation : Loss - 0.3823, Accuracy - 90.3766%, Time: 30.4137s\n",
            "Epoch-30 learning rate: 5.904900000000001e-06\n",
            "Epoch: 32/100\n",
            "Epoch : 032, Training: Loss - 0.0300, Accuracy - 98.8930%, Validation : Loss - 0.3972, Accuracy - 91.2134%, Time: 30.3664s\n",
            "Epoch-31 learning rate: 5.904900000000001e-06\n",
            "Epoch: 33/100\n",
            "Epoch : 033, Training: Loss - 0.0261, Accuracy - 99.5080%, Validation : Loss - 0.3801, Accuracy - 90.3766%, Time: 30.4327s\n",
            "Epoch-32 learning rate: 5.904900000000001e-06\n",
            "Epoch: 34/100\n",
            "Epoch : 034, Training: Loss - 0.0257, Accuracy - 99.2620%, Validation : Loss - 0.3370, Accuracy - 89.5397%, Time: 30.3667s\n",
            "Epoch-33 learning rate: 5.314410000000001e-06\n",
            "Epoch: 35/100\n",
            "Epoch : 035, Training: Loss - 0.0183, Accuracy - 99.7540%, Validation : Loss - 0.3805, Accuracy - 90.3766%, Time: 30.4531s\n",
            "Epoch-34 learning rate: 5.314410000000001e-06\n",
            "Epoch: 36/100\n",
            "Epoch : 036, Training: Loss - 0.0171, Accuracy - 99.6310%, Validation : Loss - 0.3629, Accuracy - 90.3766%, Time: 30.6897s\n",
            "Epoch-35 learning rate: 5.314410000000001e-06\n",
            "Epoch: 37/100\n",
            "Epoch : 037, Training: Loss - 0.0252, Accuracy - 99.6310%, Validation : Loss - 0.3723, Accuracy - 89.1213%, Time: 30.6015s\n",
            "Epoch-36 learning rate: 4.782969000000001e-06\n",
            "Epoch: 38/100\n",
            "Epoch : 038, Training: Loss - 0.0483, Accuracy - 99.1390%, Validation : Loss - 0.3760, Accuracy - 89.5397%, Time: 30.5401s\n",
            "Epoch-37 learning rate: 4.782969000000001e-06\n",
            "Epoch: 39/100\n",
            "Epoch : 039, Training: Loss - 0.0111, Accuracy - 99.8770%, Validation : Loss - 0.3812, Accuracy - 90.3766%, Time: 30.5328s\n",
            "Epoch-38 learning rate: 4.782969000000001e-06\n",
            "Epoch: 40/100\n",
            "Epoch : 040, Training: Loss - 0.0164, Accuracy - 99.6310%, Validation : Loss - 0.3788, Accuracy - 89.1213%, Time: 30.3761s\n",
            "Epoch-39 learning rate: 4.3046721000000005e-06\n",
            "Epoch: 41/100\n",
            "Epoch : 041, Training: Loss - 0.0207, Accuracy - 99.1390%, Validation : Loss - 0.3782, Accuracy - 89.5397%, Time: 30.4518s\n",
            "Epoch-40 learning rate: 4.3046721000000005e-06\n",
            "Epoch: 42/100\n",
            "Epoch : 042, Training: Loss - 0.0157, Accuracy - 99.5080%, Validation : Loss - 0.3865, Accuracy - 89.9582%, Time: 30.3806s\n",
            "Epoch-41 learning rate: 4.3046721000000005e-06\n",
            "Epoch: 43/100\n",
            "Epoch : 043, Training: Loss - 0.0114, Accuracy - 99.8770%, Validation : Loss - 0.3958, Accuracy - 87.8661%, Time: 30.4107s\n",
            "Epoch-42 learning rate: 3.874204890000001e-06\n",
            "Epoch: 44/100\n",
            "Epoch : 044, Training: Loss - 0.0187, Accuracy - 99.6310%, Validation : Loss - 0.4174, Accuracy - 89.9582%, Time: 30.4447s\n",
            "Epoch-43 learning rate: 3.874204890000001e-06\n",
            "Epoch: 45/100\n",
            "Epoch : 045, Training: Loss - 0.0125, Accuracy - 99.7540%, Validation : Loss - 0.3912, Accuracy - 89.5397%, Time: 30.4686s\n",
            "Epoch-44 learning rate: 3.874204890000001e-06\n",
            "Epoch: 46/100\n",
            "Epoch : 046, Training: Loss - 0.0285, Accuracy - 99.0160%, Validation : Loss - 0.3742, Accuracy - 88.7029%, Time: 30.3759s\n",
            "Epoch-45 learning rate: 3.4867844010000007e-06\n",
            "Epoch: 47/100\n",
            "Epoch : 047, Training: Loss - 0.0110, Accuracy - 99.7540%, Validation : Loss - 0.3746, Accuracy - 88.7029%, Time: 30.3221s\n",
            "Epoch-46 learning rate: 3.4867844010000007e-06\n",
            "Epoch: 48/100\n",
            "Epoch : 048, Training: Loss - 0.0098, Accuracy - 99.8770%, Validation : Loss - 0.3955, Accuracy - 89.5397%, Time: 30.4110s\n",
            "Epoch-47 learning rate: 3.4867844010000007e-06\n",
            "Epoch: 49/100\n",
            "Epoch : 049, Training: Loss - 0.0235, Accuracy - 99.7540%, Validation : Loss - 0.4030, Accuracy - 89.1213%, Time: 30.4060s\n",
            "Epoch-48 learning rate: 3.1381059609000006e-06\n",
            "Epoch: 50/100\n",
            "Epoch : 050, Training: Loss - 0.0120, Accuracy - 99.6310%, Validation : Loss - 0.3954, Accuracy - 89.5397%, Time: 30.3583s\n",
            "Epoch-49 learning rate: 3.1381059609000006e-06\n",
            "Epoch: 51/100\n",
            "Epoch : 051, Training: Loss - 0.0132, Accuracy - 99.8770%, Validation : Loss - 0.3990, Accuracy - 89.1213%, Time: 30.4101s\n",
            "Epoch-50 learning rate: 3.1381059609000006e-06\n",
            "Epoch: 52/100\n",
            "Epoch : 052, Training: Loss - 0.0098, Accuracy - 100.0000%, Validation : Loss - 0.3985, Accuracy - 88.7029%, Time: 30.4223s\n",
            "Epoch-51 learning rate: 2.8242953648100006e-06\n",
            "Epoch: 53/100\n",
            "Epoch : 053, Training: Loss - 0.0107, Accuracy - 99.7540%, Validation : Loss - 0.3904, Accuracy - 89.5397%, Time: 30.5016s\n",
            "Epoch-52 learning rate: 2.8242953648100006e-06\n",
            "Epoch: 54/100\n",
            "Epoch : 054, Training: Loss - 0.0222, Accuracy - 99.3850%, Validation : Loss - 0.4224, Accuracy - 88.7029%, Time: 30.3437s\n",
            "Epoch-53 learning rate: 2.8242953648100006e-06\n",
            "Epoch: 55/100\n",
            "Epoch : 055, Training: Loss - 0.0084, Accuracy - 100.0000%, Validation : Loss - 0.4217, Accuracy - 88.2845%, Time: 30.4796s\n",
            "Epoch-54 learning rate: 2.5418658283290006e-06\n",
            "Epoch: 56/100\n",
            "Epoch : 056, Training: Loss - 0.0144, Accuracy - 99.7540%, Validation : Loss - 0.3928, Accuracy - 88.2845%, Time: 30.4055s\n",
            "Epoch-55 learning rate: 2.5418658283290006e-06\n",
            "Epoch: 57/100\n",
            "Epoch : 057, Training: Loss - 0.0131, Accuracy - 99.8770%, Validation : Loss - 0.4080, Accuracy - 89.1213%, Time: 30.4295s\n",
            "Epoch-56 learning rate: 2.5418658283290006e-06\n",
            "Epoch: 58/100\n",
            "Epoch : 058, Training: Loss - 0.0099, Accuracy - 100.0000%, Validation : Loss - 0.4181, Accuracy - 88.2845%, Time: 30.4531s\n",
            "Epoch-57 learning rate: 2.2876792454961005e-06\n",
            "Epoch: 59/100\n",
            "Epoch : 059, Training: Loss - 0.0098, Accuracy - 99.7540%, Validation : Loss - 0.3951, Accuracy - 88.7029%, Time: 30.3418s\n",
            "Epoch-58 learning rate: 2.2876792454961005e-06\n",
            "Epoch: 60/100\n",
            "Epoch : 060, Training: Loss - 0.0071, Accuracy - 100.0000%, Validation : Loss - 0.4316, Accuracy - 88.7029%, Time: 30.3531s\n",
            "Epoch-59 learning rate: 2.2876792454961005e-06\n",
            "Epoch: 61/100\n",
            "Epoch : 061, Training: Loss - 0.0182, Accuracy - 99.7540%, Validation : Loss - 0.4168, Accuracy - 88.7029%, Time: 30.4470s\n",
            "Epoch-60 learning rate: 2.0589113209464906e-06\n",
            "Epoch: 62/100\n",
            "Epoch : 062, Training: Loss - 0.0072, Accuracy - 100.0000%, Validation : Loss - 0.4281, Accuracy - 89.1213%, Time: 30.3876s\n",
            "Epoch-61 learning rate: 2.0589113209464906e-06\n",
            "Epoch: 63/100\n",
            "Epoch : 063, Training: Loss - 0.0064, Accuracy - 100.0000%, Validation : Loss - 0.3984, Accuracy - 88.7029%, Time: 30.4871s\n",
            "Epoch-62 learning rate: 2.0589113209464906e-06\n",
            "Epoch: 64/100\n",
            "Epoch : 064, Training: Loss - 0.0116, Accuracy - 99.7540%, Validation : Loss - 0.4070, Accuracy - 89.1213%, Time: 30.4989s\n",
            "Epoch-63 learning rate: 1.8530201888518416e-06\n",
            "Epoch: 65/100\n",
            "Epoch : 065, Training: Loss - 0.0100, Accuracy - 99.8770%, Validation : Loss - 0.4012, Accuracy - 89.1213%, Time: 30.5231s\n",
            "Epoch-64 learning rate: 1.8530201888518416e-06\n",
            "Epoch: 66/100\n",
            "Epoch : 066, Training: Loss - 0.0093, Accuracy - 99.8770%, Validation : Loss - 0.4077, Accuracy - 88.7029%, Time: 30.5557s\n",
            "Epoch-65 learning rate: 1.8530201888518416e-06\n",
            "Epoch: 67/100\n",
            "Epoch : 067, Training: Loss - 0.0062, Accuracy - 100.0000%, Validation : Loss - 0.4110, Accuracy - 89.5397%, Time: 30.4290s\n",
            "Epoch-66 learning rate: 1.6677181699666574e-06\n",
            "Epoch: 68/100\n",
            "Epoch : 068, Training: Loss - 0.0137, Accuracy - 99.6310%, Validation : Loss - 0.4222, Accuracy - 88.2845%, Time: 30.3448s\n",
            "Epoch-67 learning rate: 1.6677181699666574e-06\n",
            "Epoch: 69/100\n",
            "Epoch : 069, Training: Loss - 0.0181, Accuracy - 99.5080%, Validation : Loss - 0.4199, Accuracy - 88.2845%, Time: 30.3512s\n",
            "Epoch-68 learning rate: 1.6677181699666574e-06\n",
            "Epoch: 70/100\n",
            "Epoch : 070, Training: Loss - 0.0058, Accuracy - 100.0000%, Validation : Loss - 0.4127, Accuracy - 88.7029%, Time: 30.3777s\n",
            "Epoch-69 learning rate: 1.5009463529699917e-06\n",
            "Epoch: 71/100\n",
            "Epoch : 071, Training: Loss - 0.0143, Accuracy - 99.6310%, Validation : Loss - 0.4128, Accuracy - 90.3766%, Time: 30.3553s\n",
            "Epoch-70 learning rate: 1.5009463529699917e-06\n",
            "Epoch: 72/100\n",
            "Epoch : 072, Training: Loss - 0.0109, Accuracy - 99.7540%, Validation : Loss - 0.4022, Accuracy - 89.5397%, Time: 30.4258s\n",
            "Epoch-71 learning rate: 1.5009463529699917e-06\n",
            "Epoch: 73/100\n",
            "Epoch : 073, Training: Loss - 0.0052, Accuracy - 100.0000%, Validation : Loss - 0.3970, Accuracy - 89.1213%, Time: 30.4528s\n",
            "Epoch-72 learning rate: 1.3508517176729926e-06\n",
            "Epoch: 74/100\n",
            "Epoch : 074, Training: Loss - 0.0130, Accuracy - 99.6310%, Validation : Loss - 0.4236, Accuracy - 89.1213%, Time: 30.4856s\n",
            "Epoch-73 learning rate: 1.3508517176729926e-06\n",
            "Epoch: 75/100\n",
            "Epoch : 075, Training: Loss - 0.0068, Accuracy - 100.0000%, Validation : Loss - 0.4133, Accuracy - 89.9582%, Time: 30.4552s\n",
            "Epoch-74 learning rate: 1.3508517176729926e-06\n",
            "Epoch: 76/100\n",
            "Epoch : 076, Training: Loss - 0.0103, Accuracy - 99.8770%, Validation : Loss - 0.4153, Accuracy - 88.2845%, Time: 30.4470s\n",
            "Epoch-75 learning rate: 1.2157665459056933e-06\n",
            "Epoch: 77/100\n",
            "Epoch : 077, Training: Loss - 0.0091, Accuracy - 99.7540%, Validation : Loss - 0.4191, Accuracy - 89.9582%, Time: 30.4643s\n",
            "Epoch-76 learning rate: 1.2157665459056933e-06\n",
            "Epoch: 78/100\n",
            "Epoch : 078, Training: Loss - 0.0077, Accuracy - 100.0000%, Validation : Loss - 0.4314, Accuracy - 90.3766%, Time: 30.4065s\n",
            "Epoch-77 learning rate: 1.2157665459056933e-06\n",
            "Epoch: 79/100\n",
            "Epoch : 079, Training: Loss - 0.0088, Accuracy - 99.8770%, Validation : Loss - 0.4056, Accuracy - 89.1213%, Time: 30.4157s\n",
            "Epoch-78 learning rate: 1.0941898913151241e-06\n",
            "Epoch: 80/100\n",
            "Epoch : 080, Training: Loss - 0.0313, Accuracy - 99.7540%, Validation : Loss - 0.4067, Accuracy - 89.1213%, Time: 30.7599s\n",
            "Epoch-79 learning rate: 1.0941898913151241e-06\n",
            "Epoch: 81/100\n",
            "Epoch : 081, Training: Loss - 0.0050, Accuracy - 100.0000%, Validation : Loss - 0.4272, Accuracy - 89.1213%, Time: 30.7074s\n",
            "Epoch-80 learning rate: 1.0941898913151241e-06\n",
            "Epoch: 82/100\n",
            "Epoch : 082, Training: Loss - 0.0122, Accuracy - 99.6310%, Validation : Loss - 0.4366, Accuracy - 89.5397%, Time: 30.5140s\n",
            "Epoch-81 learning rate: 9.847709021836117e-07\n",
            "Epoch: 83/100\n",
            "Epoch : 083, Training: Loss - 0.0057, Accuracy - 100.0000%, Validation : Loss - 0.4297, Accuracy - 89.9582%, Time: 30.4725s\n",
            "Epoch-82 learning rate: 9.847709021836117e-07\n",
            "Epoch: 84/100\n",
            "Epoch : 084, Training: Loss - 0.0068, Accuracy - 100.0000%, Validation : Loss - 0.4451, Accuracy - 89.1213%, Time: 30.5858s\n",
            "Epoch-83 learning rate: 9.847709021836117e-07\n",
            "Epoch: 85/100\n",
            "Epoch : 085, Training: Loss - 0.0092, Accuracy - 99.7540%, Validation : Loss - 0.4261, Accuracy - 88.7029%, Time: 30.4675s\n",
            "Epoch-84 learning rate: 8.862938119652506e-07\n",
            "Epoch: 86/100\n",
            "Epoch : 086, Training: Loss - 0.0084, Accuracy - 99.7540%, Validation : Loss - 0.4157, Accuracy - 88.7029%, Time: 30.4375s\n",
            "Epoch-85 learning rate: 8.862938119652506e-07\n",
            "Epoch: 87/100\n",
            "Epoch : 087, Training: Loss - 0.0174, Accuracy - 99.6310%, Validation : Loss - 0.4187, Accuracy - 88.7029%, Time: 30.5434s\n",
            "Epoch-86 learning rate: 8.862938119652506e-07\n",
            "Epoch: 88/100\n",
            "Epoch : 088, Training: Loss - 0.0132, Accuracy - 99.6310%, Validation : Loss - 0.4195, Accuracy - 89.5397%, Time: 30.4256s\n",
            "Epoch-87 learning rate: 7.976644307687255e-07\n",
            "Epoch: 89/100\n",
            "Epoch : 089, Training: Loss - 0.0235, Accuracy - 99.6310%, Validation : Loss - 0.3961, Accuracy - 89.1213%, Time: 30.4900s\n",
            "Epoch-88 learning rate: 7.976644307687255e-07\n",
            "Epoch: 90/100\n",
            "Epoch : 090, Training: Loss - 0.0186, Accuracy - 99.6310%, Validation : Loss - 0.4124, Accuracy - 89.1213%, Time: 30.5095s\n",
            "Epoch-89 learning rate: 7.976644307687255e-07\n",
            "Epoch: 91/100\n",
            "Epoch : 091, Training: Loss - 0.0045, Accuracy - 100.0000%, Validation : Loss - 0.4251, Accuracy - 89.9582%, Time: 30.4885s\n",
            "Epoch-90 learning rate: 7.17897987691853e-07\n",
            "Epoch: 92/100\n",
            "Epoch : 092, Training: Loss - 0.0229, Accuracy - 99.2620%, Validation : Loss - 0.4237, Accuracy - 90.3766%, Time: 30.5187s\n",
            "Epoch-91 learning rate: 7.17897987691853e-07\n",
            "Epoch: 93/100\n",
            "Epoch : 093, Training: Loss - 0.0089, Accuracy - 99.8770%, Validation : Loss - 0.4201, Accuracy - 89.5397%, Time: 30.4604s\n",
            "Epoch-92 learning rate: 7.17897987691853e-07\n",
            "Epoch: 94/100\n",
            "Epoch : 094, Training: Loss - 0.0117, Accuracy - 99.8770%, Validation : Loss - 0.4089, Accuracy - 89.1213%, Time: 30.5640s\n",
            "Epoch-93 learning rate: 6.461081889226677e-07\n",
            "Epoch: 95/100\n",
            "Epoch : 095, Training: Loss - 0.0052, Accuracy - 100.0000%, Validation : Loss - 0.4072, Accuracy - 88.7029%, Time: 30.5751s\n",
            "Epoch-94 learning rate: 6.461081889226677e-07\n",
            "Epoch: 96/100\n",
            "Epoch : 096, Training: Loss - 0.0152, Accuracy - 99.5080%, Validation : Loss - 0.4248, Accuracy - 89.9582%, Time: 30.5090s\n",
            "Epoch-95 learning rate: 6.461081889226677e-07\n",
            "Epoch: 97/100\n",
            "Epoch : 097, Training: Loss - 0.0092, Accuracy - 99.6310%, Validation : Loss - 0.3935, Accuracy - 89.9582%, Time: 30.4811s\n",
            "Epoch-96 learning rate: 5.814973700304009e-07\n",
            "Epoch: 98/100\n",
            "Epoch : 098, Training: Loss - 0.0097, Accuracy - 99.8770%, Validation : Loss - 0.4130, Accuracy - 90.3766%, Time: 30.6332s\n",
            "Epoch-97 learning rate: 5.814973700304009e-07\n",
            "Epoch: 99/100\n",
            "Epoch : 099, Training: Loss - 0.0054, Accuracy - 100.0000%, Validation : Loss - 0.3990, Accuracy - 90.3766%, Time: 30.4288s\n",
            "Epoch-98 learning rate: 5.814973700304009e-07\n",
            "Epoch: 100/100\n",
            "Epoch : 100, Training: Loss - 0.0060, Accuracy - 99.8770%, Validation : Loss - 0.4060, Accuracy - 89.5397%, Time: 30.4762s\n",
            "Epoch-99 learning rate: 5.233476330273609e-07\n"
          ],
          "name": "stdout"
        }
      ]
    },
    {
      "cell_type": "code",
      "metadata": {
        "id": "HigTVpI3JjHv",
        "colab": {
          "base_uri": "https://localhost:8080/"
        },
        "outputId": "3e7d5fcc-390f-4842-edaa-102d3bb720a3"
      },
      "source": [
        "print(\"Thoi gian training: \",end-start)"
      ],
      "execution_count": 20,
      "outputs": [
        {
          "output_type": "stream",
          "text": [
            "Thoi gian training:  3037.6050927639008\n"
          ],
          "name": "stdout"
        }
      ]
    },
    {
      "cell_type": "code",
      "metadata": {
        "id": "ODgSE9IXX09u",
        "colab": {
          "base_uri": "https://localhost:8080/"
        },
        "outputId": "0ce690d4-f71d-4f93-9479-a9acca06e77c"
      },
      "source": [
        "#save model\n",
        "import time\n",
        "from datetime import date\n",
        "today = date.today()\n",
        "d1 = today.strftime(\"%d%m%Y\")\n",
        "print(\"d1 =\", d1)\n",
        "torch.save(trained_model, '/content/drive/My Drive/DetectBrainTumor/model/pytorch/model_inceptionresnetv2_'+str(d1)+'.pt')"
      ],
      "execution_count": 21,
      "outputs": [
        {
          "output_type": "stream",
          "text": [
            "d1 = 30062021\n"
          ],
          "name": "stdout"
        }
      ]
    },
    {
      "cell_type": "code",
      "metadata": {
        "id": "pdsNnsHaX2fa"
      },
      "source": [
        "import pickle\n",
        "with open('/content/drive/My Drive/DetectBrainTumor/result/pytorch/history_inceptionresnetv2.pickle', 'wb') as f:\n",
        "    pickle.dump([history], f)\n",
        "\n",
        "# with open('/content/drive/My Drive/DetectBrainTumor/result/pytorch/time_inceptionresnetv2.pickle', 'wb') as f:\n",
        "#     pickle.dump(arr_time, f)"
      ],
      "execution_count": 22,
      "outputs": []
    },
    {
      "cell_type": "code",
      "metadata": {
        "id": "uKg5tSsGdxRW"
      },
      "source": [
        "loss_train = []\n",
        "loss_val = []\n",
        "acc_train = []\n",
        "acc_val = []\n",
        "\n",
        "for i in range(len(history)):\n",
        "  loss_train.append(history[i][0])\n",
        "  loss_val.append(history[i][1])\n",
        "  acc_train.append(history[i][2])\n",
        "  acc_val.append(history[i][3])"
      ],
      "execution_count": 23,
      "outputs": []
    },
    {
      "cell_type": "code",
      "metadata": {
        "id": "pB0-ZXLqI5fZ",
        "colab": {
          "base_uri": "https://localhost:8080/",
          "height": 457
        },
        "outputId": "06f2a913-6350-4723-85f9-d804c5392d7f"
      },
      "source": [
        "# summarize history for accuracy\n",
        "fig,a =  plt.subplots(1, 2, figsize=(16,7))\n",
        "a[0].plot(acc_train)\n",
        "a[0].plot(acc_val)\n",
        "a[0].set_title('model accuracy')\n",
        "a[0].set_ylabel('accuracy')\n",
        "a[0].set_xlabel('epoch')\n",
        "a[0].legend(['train', 'val'], loc='upper left')\n",
        "# summarize history for loss for epoch\n",
        "# plt.figure(figsize=(10,10))\n",
        "a[1].plot(loss_train)\n",
        "a[1].plot(loss_val)\n",
        "a[1].set_title('model loss')\n",
        "a[1].set_ylabel('loss')\n",
        "a[1].set_xlabel('epoch')\n",
        "a[1].legend(['train', 'val'], loc='upper left')\n",
        "plt.show()"
      ],
      "execution_count": 24,
      "outputs": [
        {
          "output_type": "display_data",
          "data": {
            "image/png": "[encoded data removed]",
            "text/plain": [
              "<Figure size 1152x504 with 2 Axes>"
            ]
          },
          "metadata": {
            "tags": [],
            "needs_background": "light"
          }
        }
      ]
    }
  ]
}