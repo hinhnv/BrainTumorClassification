{
  "nbformat": 4,
  "nbformat_minor": 0,
  "metadata": {
    "accelerator": "GPU",
    "colab": {
      "name": "brain_tumor_mobilenet_v3_pytorch_adas.ipynb",
      "provenance": [],
      "collapsed_sections": []
    },
    "kernelspec": {
      "display_name": "Python 3",
      "name": "python3"
    },
    "language_info": {
      "name": "python"
    }
  },
  "cells": [
    {
      "cell_type": "code",
      "metadata": {
        "colab": {
          "base_uri": "https://localhost:8080/"
        },
        "id": "al_XWgRp3EzB",
        "outputId": "f2499ca1-15d8-4db4-9f68-b103fa692aba"
      },
      "source": [
        "from google.colab import drive\n",
        "drive.mount('/content/drive')"
      ],
      "execution_count": null,
      "outputs": [
        {
          "output_type": "stream",
          "text": [
            "Drive already mounted at /content/drive; to attempt to forcibly remount, call drive.mount(\"/content/drive\", force_remount=True).\n"
          ],
          "name": "stdout"
        }
      ]
    },
    {
      "cell_type": "code",
      "metadata": {
        "colab": {
          "base_uri": "https://localhost:8080/"
        },
        "id": "GPMeqQO6AP2D",
        "outputId": "82a8d985-fbb4-48ac-b331-4ea2af610ea3"
      },
      "source": [
        "%cd /content/drive/My Drive/Adas/src\n",
        "from adas import Adas"
      ],
      "execution_count": null,
      "outputs": [
        {
          "output_type": "stream",
          "text": [
            "/content/drive/My Drive/Adas/src\n"
          ],
          "name": "stdout"
        }
      ]
    },
    {
      "cell_type": "code",
      "metadata": {
        "id": "jrQMAMh7ARMZ"
      },
      "source": [
        "import matplotlib.pyplot as plt\n",
        "from torchvision import datasets, models, transforms\n",
        "import helper\n",
        "import torch.nn as nn\n",
        "import torch.nn.functional as F\n",
        "import torch.optim as optim\n",
        "\n",
        "from torchvision import datasets\n",
        "from torchvision import transforms\n",
        "import matplotlib.pyplot as plt\n",
        "import torch, torchvision\n",
        "from torch.utils.data import DataLoader\n",
        "import time\n",
        "from torchsummary import summary\n",
        "import numpy as np\n",
        "import os\n",
        "\n",
        "from PIL import Image"
      ],
      "execution_count": null,
      "outputs": []
    },
    {
      "cell_type": "code",
      "metadata": {
        "id": "B_IymEbSAWFo"
      },
      "source": [
        "IMAGE_SIZE = 256\n",
        "batch_size = 16\n",
        "\n",
        "DATADIR_TRAIN = \"/content/drive/My Drive/DetectBrainTumor/data_15062021/T2_Train/\"\n",
        "DATADIR_VAL = \"/content/drive/My Drive/DetectBrainTumor/data_15062021/T2_Val/\""
      ],
      "execution_count": null,
      "outputs": []
    },
    {
      "cell_type": "code",
      "metadata": {
        "id": "_dG28e-KICv6"
      },
      "source": [
        "# Applying Transforms to the Data\n",
        "train_transform = transforms.Compose([\n",
        "        transforms.RandomResizedCrop(size=256, scale=(0.8, 1.0)),\n",
        "        transforms.RandomRotation(degrees=15),\n",
        "        transforms.RandomHorizontalFlip(),\n",
        "        transforms.CenterCrop(size=224),\n",
        "        transforms.ToTensor(),\n",
        "        transforms.Normalize([0.485, 0.456, 0.406],\n",
        "                             [0.229, 0.224, 0.225])\n",
        "    ])\n",
        "\n",
        "test_transform = transforms.Compose([\n",
        "        transforms.Resize(size=256),\n",
        "        transforms.CenterCrop(size=224),\n",
        "        transforms.ToTensor(),\n",
        "        transforms.Normalize([0.485, 0.456, 0.406],\n",
        "                             [0.229, 0.224, 0.225])\n",
        "    ])"
      ],
      "execution_count": null,
      "outputs": []
    },
    {
      "cell_type": "code",
      "metadata": {
        "id": "8JuOKAOLAi0X"
      },
      "source": [
        "train_data = datasets.ImageFolder(DATADIR_TRAIN, transform=train_transform)                                       \n",
        "val_data = datasets.ImageFolder(DATADIR_VAL, transform=test_transform)\n",
        "\n",
        "#Data Loading\n",
        "train_loader = torch.utils.data.DataLoader(train_data, batch_size=batch_size, shuffle=True)\n",
        "val_loader = torch.utils.data.DataLoader(val_data, batch_size=batch_size, shuffle=True)"
      ],
      "execution_count": null,
      "outputs": []
    },
    {
      "cell_type": "code",
      "metadata": {
        "id": "aOZ-WlKeJUnb"
      },
      "source": [
        "classes = ('YES', 'NO')"
      ],
      "execution_count": null,
      "outputs": []
    },
    {
      "cell_type": "code",
      "metadata": {
        "id": "kTT7H1l_NvJr"
      },
      "source": [
        "train_data_size = len(train_data)\n",
        "test_data_size = len(val_data)"
      ],
      "execution_count": null,
      "outputs": []
    },
    {
      "cell_type": "code",
      "metadata": {
        "id": "PmgAbQbVJbqn"
      },
      "source": [
        "# import matplotlib.pyplot as plt\n",
        "# import numpy as np\n",
        "\n",
        "# # functions to show an image\n",
        "\n",
        "\n",
        "# def imshow(img):\n",
        "#     img = img / 2 + 0.5     # unnormalize\n",
        "#     npimg = img.numpy()\n",
        "#     plt.imshow(np.transpose(npimg, (1, 2, 0)))\n",
        "#     plt.show()\n",
        "\n",
        "\n",
        "# # get some random training images\n",
        "# dataiter = iter(train_loader)\n",
        "# images, labels = dataiter.next()\n",
        "\n",
        "# # show images\n",
        "# imshow(torchvision.utils.make_grid(images))\n",
        "# # print labels\n",
        "# print(' '.join('%5s' % classes[labels[j]] for j in range(2)))"
      ],
      "execution_count": null,
      "outputs": []
    },
    {
      "cell_type": "code",
      "metadata": {
        "id": "JP2vIpVTXMPE"
      },
      "source": [
        "device = torch.device(\"cuda:0\" if torch.cuda.is_available() else \"cpu\")"
      ],
      "execution_count": null,
      "outputs": []
    },
    {
      "cell_type": "code",
      "metadata": {
        "id": "CJAOJSrCDEdY"
      },
      "source": [
        "# Load pretrained ResNet50 Model\n",
        "model_class = models.mobilenet_v2(pretrained=True)"
      ],
      "execution_count": null,
      "outputs": []
    },
    {
      "cell_type": "code",
      "metadata": {
        "id": "nE_07JDiOW8w"
      },
      "source": [
        "# Change the final layer of ResNet50 Model for Transfer Learning\n",
        "# inputs = model_class._classifier.in_features\n",
        "\n",
        "model_class._classifier = nn.Sequential(\n",
        "    nn.Linear(1280, 128),\n",
        "    nn.ReLU(),\n",
        "    nn.Dropout(0.3),\n",
        "    nn.Flatten(),\n",
        "    nn.Dropout(0.5),\n",
        "    nn.Linear(128, 2), # Since 2 possible outputs\n",
        "    nn.LogSoftmax(dim=1) # For using NLLLoss()\n",
        ")\n",
        "\n",
        "# Convert model to be used on GPU\n",
        "model_class = model_class.to(device)"
      ],
      "execution_count": null,
      "outputs": []
    },
    {
      "cell_type": "code",
      "metadata": {
        "id": "921-fqC4Ocep"
      },
      "source": [
        "def train_and_validate(model, scheduler, loss_criterion, optimizer, epochs):\n",
        "    '''\n",
        "    Function to train and validate\n",
        "    Parameters\n",
        "        :param model: Model to train and validate\n",
        "        :param loss_criterion: Loss Criterion to minimize\n",
        "        :param optimizer: Optimizer for computing gradients\n",
        "        :param epochs: Number of epochs (default=25)\n",
        "  \n",
        "    Returns\n",
        "        model: Trained Model with best validation accuracy\n",
        "        history: (dict object): Having training loss, accuracy and validation loss, accuracy\n",
        "    '''\n",
        "    \n",
        "    start = time.time()\n",
        "    history = []\n",
        "    best_loss = 100000.0\n",
        "    best_epoch = None\n",
        "    flag = 0\n",
        "\n",
        "    for epoch in range(epochs):\n",
        "        epoch_start = time.time()\n",
        "        print(\"Epoch: {}/{}\".format(epoch+1, epochs))\n",
        "        \n",
        "        # Set to training mode\n",
        "        model.train()\n",
        "        \n",
        "        # Loss and Accuracy within the epoch\n",
        "        train_loss = 0.0\n",
        "        train_acc = 0.0\n",
        "        \n",
        "        valid_loss = 0.0\n",
        "        valid_acc = 0.0\n",
        "        \n",
        "        for i, (inputs, labels) in enumerate(train_loader):\n",
        "\n",
        "            inputs = inputs.to(device)\n",
        "            labels = labels.to(device)\n",
        "            \n",
        "            # Clean existing gradients\n",
        "            optimizer.zero_grad()\n",
        "            \n",
        "            # Forward pass - compute outputs on input data using the model\n",
        "            outputs = model(inputs)\n",
        "            \n",
        "            # Compute loss\n",
        "            loss = loss_criterion(outputs, labels)\n",
        "            \n",
        "            # Backpropagate the gradients\n",
        "            loss.backward()\n",
        "            \n",
        "            # Update the parameters\n",
        "            optimizer.step()\n",
        "            \n",
        "            \n",
        "            # Compute the total loss for the batch and add it to train_loss\n",
        "            train_loss += loss.item() * inputs.size(0)\n",
        "            \n",
        "            # Compute the accuracy\n",
        "            ret, predictions = torch.max(outputs.data, 1)\n",
        "            correct_counts = predictions.eq(labels.data.view_as(predictions))\n",
        "            \n",
        "            # Convert correct_counts to float and then compute the mean\n",
        "            acc = torch.mean(correct_counts.type(torch.FloatTensor))\n",
        "            \n",
        "            # Compute total accuracy in the whole batch and add to train_acc\n",
        "            train_acc += acc.item() * inputs.size(0)\n",
        "            \n",
        "            #print(\"Batch number: {:03d}, Training: Loss: {:.4f}, Accuracy: {:.4f}\".format(i, loss.item(), acc.item()))\n",
        "\n",
        "        \n",
        "        # Validation - No gradient tracking needed\n",
        "        with torch.no_grad():\n",
        "\n",
        "            # Set to evaluation mode\n",
        "            model.eval()\n",
        "\n",
        "            # Validation loop\n",
        "            for j, (inputs, labels) in enumerate(val_loader):\n",
        "                inputs = inputs.to(device)\n",
        "                labels = labels.to(device)\n",
        "\n",
        "                # Forward pass - compute outputs on input data using the model\n",
        "                outputs = model(inputs)\n",
        "\n",
        "                # Compute loss\n",
        "                loss = loss_criterion(outputs, labels)\n",
        "\n",
        "                # Compute the total loss for the batch and add it to valid_loss\n",
        "                valid_loss += loss.item() * inputs.size(0)\n",
        "\n",
        "                # Calculate validation accuracy\n",
        "                ret, predictions = torch.max(outputs.data, 1)\n",
        "                correct_counts = predictions.eq(labels.data.view_as(predictions))\n",
        "\n",
        "                # Convert correct_counts to float and then compute the mean\n",
        "                acc = torch.mean(correct_counts.type(torch.FloatTensor))\n",
        "\n",
        "                # Compute total accuracy in the whole batch and add to valid_acc\n",
        "                valid_acc += acc.item() * inputs.size(0)\n",
        "                # if not j%100:\n",
        "                #   print(\"Validation Batch number: {:03d}, Validation: Loss: {:.4f}, Accuracy: {:.4f}\".format(j, loss.item(), acc.item()))\n",
        "        if valid_loss < best_loss:\n",
        "            best_loss = valid_loss\n",
        "            best_epoch = epoch\n",
        "\n",
        "        # Find average training loss and training accuracy\n",
        "        avg_train_loss = train_loss/train_data_size \n",
        "        avg_train_acc = train_acc/train_data_size\n",
        "\n",
        "        # Find average training loss and training accuracy\n",
        "        avg_valid_loss = valid_loss/test_data_size \n",
        "        avg_valid_acc = valid_acc/test_data_size\n",
        "\n",
        "        history.append([avg_train_loss, avg_valid_loss, avg_train_acc, avg_valid_acc])\n",
        "                \n",
        "        epoch_end = time.time()\n",
        "    \n",
        "        print(\"Epoch : {:03d}, Training: Loss - {:.4f}, Accuracy - {:.4f}%, Validation : Loss - {:.4f}, Accuracy - {:.4f}%, Time: {:.4f}s\".format(epoch+1, avg_train_loss, avg_train_acc*100, avg_valid_loss, avg_valid_acc*100, epoch_end-epoch_start))\n",
        "\n",
        "        #reduce lr\n",
        "        \n",
        "        if avg_valid_acc*100 > 90:\n",
        "          flag = 1\n",
        "\n",
        "        if flag == 1:\n",
        "          scheduler.step(avg_valid_loss)\n",
        "        \n",
        "        print('Epoch-{0} learning rate: {1}'.format(epoch, optimizer.param_groups[0]['lr']))\n",
        "\n",
        "        # Save if the model has best accuracy till now\n",
        "        # torch.save(model, 'model_'+str(epoch)+'.pt')\n",
        "        # optimizer.epoch_step(epoch)       \n",
        "    return model, history, best_epoch"
      ],
      "execution_count": null,
      "outputs": []
    },
    {
      "cell_type": "code",
      "metadata": {
        "id": "Jx6C95OqFFT1",
        "colab": {
          "base_uri": "https://localhost:8080/"
        },
        "outputId": "1ef89259-d3df-4aa2-cfc0-5dc7c4de2ac5"
      },
      "source": [
        "# Define Optimizer and Loss Function\n",
        "# loss_func = nn.NLLLoss()\n",
        "loss_func = nn.CrossEntropyLoss()\n",
        "optimizer = Adas(params=list(model_class.parameters()), lr=4e-3, beta = 0.95)"
      ],
      "execution_count": null,
      "outputs": [
        {
          "output_type": "stream",
          "text": [
            "52\n"
          ],
          "name": "stdout"
        }
      ]
    },
    {
      "cell_type": "code",
      "metadata": {
        "colab": {
          "base_uri": "https://localhost:8080/"
        },
        "id": "BR6dTBifOhoW",
        "outputId": "08fe6d84-715d-4a53-9754-c5ad082eae68"
      },
      "source": [
        "num_epochs = 100\n",
        "\n",
        "start = time.time()\n",
        "\n",
        "# trained_model, history, best_epoch = train_and_validate(model_class, loss_func, optimizer, num_epochs)\n",
        "\n",
        "# scheduler = optim.lr_scheduler.MultiStepLR(optimizer, milestones=[20,35], gamma=0.1)\n",
        "# scheduler = optim.lr_scheduler.StepLR(optimizer, step_size=2, gamma=torch.exp(-0.1))\n",
        "\n",
        "# lambda1 = lambda epoch: torch.exp(-1) ** epoch\n",
        "# scheduler = torch.optim.lr_scheduler.LambdaLR(optimizer, lr_lambda=lambda1)\n",
        "\n",
        "scheduler = torch.optim.lr_scheduler.ReduceLROnPlateau(optimizer, mode='min', factor= 0.9, patience=1, threshold=0.0001, threshold_mode='abs')\n",
        "\n",
        "trained_model, history, best_epoch = train_and_validate(model_class, scheduler, loss_func, optimizer, num_epochs)\n",
        "\n",
        "end = time.time()\n",
        "# torch.save(history, 'history.pt')"
      ],
      "execution_count": null,
      "outputs": [
        {
          "output_type": "stream",
          "text": [
            "Epoch: 1/100\n",
            "Epoch : 001, Training: Loss - 1.8155, Accuracy - 72.4477%, Validation : Loss - 1.3399, Accuracy - 77.4059%, Time: 16.8409s\n",
            "Epoch-0 learning rate: 0.004\n",
            "Epoch: 2/100\n",
            "Epoch : 002, Training: Loss - 0.3365, Accuracy - 90.0369%, Validation : Loss - 0.5331, Accuracy - 82.8452%, Time: 16.7008s\n",
            "Epoch-1 learning rate: 0.004\n",
            "Epoch: 3/100\n",
            "Epoch : 003, Training: Loss - 0.2379, Accuracy - 92.1279%, Validation : Loss - 0.5070, Accuracy - 81.1715%, Time: 16.5832s\n",
            "Epoch-2 learning rate: 0.004\n",
            "Epoch: 4/100\n",
            "Epoch : 004, Training: Loss - 0.1683, Accuracy - 94.7109%, Validation : Loss - 0.5086, Accuracy - 84.1004%, Time: 16.5554s\n",
            "Epoch-3 learning rate: 0.004\n",
            "Epoch: 5/100\n",
            "Epoch : 005, Training: Loss - 0.1951, Accuracy - 93.2349%, Validation : Loss - 0.4288, Accuracy - 87.4477%, Time: 16.5615s\n",
            "Epoch-4 learning rate: 0.004\n",
            "Epoch: 6/100\n",
            "Epoch : 006, Training: Loss - 0.1402, Accuracy - 94.8339%, Validation : Loss - 0.4233, Accuracy - 87.4477%, Time: 16.5509s\n",
            "Epoch-5 learning rate: 0.004\n",
            "Epoch: 7/100\n",
            "Epoch : 007, Training: Loss - 0.0977, Accuracy - 97.0480%, Validation : Loss - 0.4044, Accuracy - 87.4477%, Time: 16.5524s\n",
            "Epoch-6 learning rate: 0.004\n",
            "Epoch: 8/100\n",
            "Epoch : 008, Training: Loss - 0.1122, Accuracy - 96.4330%, Validation : Loss - 0.3590, Accuracy - 87.8661%, Time: 16.4967s\n",
            "Epoch-7 learning rate: 0.004\n",
            "Epoch: 9/100\n",
            "Epoch : 009, Training: Loss - 0.0885, Accuracy - 96.9250%, Validation : Loss - 0.4229, Accuracy - 87.4477%, Time: 16.6767s\n",
            "Epoch-8 learning rate: 0.004\n",
            "Epoch: 10/100\n",
            "Epoch : 010, Training: Loss - 0.0740, Accuracy - 97.0480%, Validation : Loss - 0.3856, Accuracy - 89.1213%, Time: 16.5174s\n",
            "Epoch-9 learning rate: 0.004\n",
            "Epoch: 11/100\n",
            "Epoch : 011, Training: Loss - 0.0570, Accuracy - 98.4010%, Validation : Loss - 0.4502, Accuracy - 87.0293%, Time: 16.4269s\n",
            "Epoch-10 learning rate: 0.004\n",
            "Epoch: 12/100\n",
            "Epoch : 012, Training: Loss - 0.0624, Accuracy - 97.9090%, Validation : Loss - 0.3956, Accuracy - 89.5397%, Time: 16.5866s\n",
            "Epoch-11 learning rate: 0.004\n",
            "Epoch: 13/100\n",
            "Epoch : 013, Training: Loss - 0.0439, Accuracy - 98.5240%, Validation : Loss - 0.3741, Accuracy - 90.7950%, Time: 16.4415s\n",
            "Epoch-12 learning rate: 0.004\n",
            "Epoch: 14/100\n",
            "Epoch : 014, Training: Loss - 0.0760, Accuracy - 97.5400%, Validation : Loss - 0.4173, Accuracy - 88.2845%, Time: 16.4020s\n",
            "Epoch-13 learning rate: 0.004\n",
            "Epoch: 15/100\n",
            "Epoch : 015, Training: Loss - 0.0668, Accuracy - 97.9090%, Validation : Loss - 0.4063, Accuracy - 88.7029%, Time: 16.5138s\n",
            "Epoch-14 learning rate: 0.0036000000000000003\n",
            "Epoch: 16/100\n",
            "Epoch : 016, Training: Loss - 0.0457, Accuracy - 98.5240%, Validation : Loss - 0.3814, Accuracy - 90.3766%, Time: 16.3935s\n",
            "Epoch-15 learning rate: 0.0036000000000000003\n",
            "Epoch: 17/100\n",
            "Epoch : 017, Training: Loss - 0.0329, Accuracy - 98.8930%, Validation : Loss - 0.5652, Accuracy - 87.4477%, Time: 16.4276s\n",
            "Epoch-16 learning rate: 0.0032400000000000003\n",
            "Epoch: 18/100\n",
            "Epoch : 018, Training: Loss - 0.0446, Accuracy - 98.2780%, Validation : Loss - 0.3765, Accuracy - 90.7950%, Time: 16.4900s\n",
            "Epoch-17 learning rate: 0.0032400000000000003\n",
            "Epoch: 19/100\n",
            "Epoch : 019, Training: Loss - 0.0426, Accuracy - 98.6470%, Validation : Loss - 0.3387, Accuracy - 91.6318%, Time: 16.5551s\n",
            "Epoch-18 learning rate: 0.0032400000000000003\n",
            "Epoch: 20/100\n",
            "Epoch : 020, Training: Loss - 0.0415, Accuracy - 98.6470%, Validation : Loss - 0.3443, Accuracy - 92.4686%, Time: 16.4446s\n",
            "Epoch-19 learning rate: 0.0032400000000000003\n",
            "Epoch: 21/100\n",
            "Epoch : 021, Training: Loss - 0.0620, Accuracy - 98.0320%, Validation : Loss - 0.3414, Accuracy - 91.6318%, Time: 16.5506s\n",
            "Epoch-20 learning rate: 0.002916\n",
            "Epoch: 22/100\n",
            "Epoch : 022, Training: Loss - 0.0558, Accuracy - 97.7860%, Validation : Loss - 0.3279, Accuracy - 92.4686%, Time: 16.5204s\n",
            "Epoch-21 learning rate: 0.002916\n",
            "Epoch: 23/100\n",
            "Epoch : 023, Training: Loss - 0.0214, Accuracy - 99.5080%, Validation : Loss - 0.3278, Accuracy - 93.3054%, Time: 16.4480s\n",
            "Epoch-22 learning rate: 0.002916\n",
            "Epoch: 24/100\n",
            "Epoch : 024, Training: Loss - 0.0358, Accuracy - 98.8930%, Validation : Loss - 0.2958, Accuracy - 93.7238%, Time: 16.4298s\n",
            "Epoch-23 learning rate: 0.002916\n",
            "Epoch: 25/100\n",
            "Epoch : 025, Training: Loss - 0.0219, Accuracy - 99.5080%, Validation : Loss - 0.3234, Accuracy - 94.1423%, Time: 16.3567s\n",
            "Epoch-24 learning rate: 0.002916\n",
            "Epoch: 26/100\n",
            "Epoch : 026, Training: Loss - 0.0438, Accuracy - 98.6470%, Validation : Loss - 0.3317, Accuracy - 92.4686%, Time: 16.3848s\n",
            "Epoch-25 learning rate: 0.0026244000000000003\n",
            "Epoch: 27/100\n",
            "Epoch : 027, Training: Loss - 0.0101, Accuracy - 99.8770%, Validation : Loss - 0.3290, Accuracy - 92.0502%, Time: 16.3158s\n",
            "Epoch-26 learning rate: 0.0026244000000000003\n",
            "Epoch: 28/100\n",
            "Epoch : 028, Training: Loss - 0.0241, Accuracy - 99.0160%, Validation : Loss - 0.3611, Accuracy - 91.2134%, Time: 16.3404s\n",
            "Epoch-27 learning rate: 0.00236196\n",
            "Epoch: 29/100\n",
            "Epoch : 029, Training: Loss - 0.0265, Accuracy - 99.3850%, Validation : Loss - 0.3071, Accuracy - 92.8870%, Time: 16.3838s\n",
            "Epoch-28 learning rate: 0.00236196\n",
            "Epoch: 30/100\n",
            "Epoch : 030, Training: Loss - 0.0385, Accuracy - 98.4010%, Validation : Loss - 0.3336, Accuracy - 92.8870%, Time: 16.3491s\n",
            "Epoch-29 learning rate: 0.002125764\n",
            "Epoch: 31/100\n",
            "Epoch : 031, Training: Loss - 0.0225, Accuracy - 99.2620%, Validation : Loss - 0.3278, Accuracy - 92.8870%, Time: 16.2619s\n",
            "Epoch-30 learning rate: 0.002125764\n",
            "Epoch: 32/100\n",
            "Epoch : 032, Training: Loss - 0.0172, Accuracy - 99.3850%, Validation : Loss - 0.3272, Accuracy - 91.6318%, Time: 16.4020s\n",
            "Epoch-31 learning rate: 0.0019131876\n",
            "Epoch: 33/100\n",
            "Epoch : 033, Training: Loss - 0.0161, Accuracy - 99.6310%, Validation : Loss - 0.3271, Accuracy - 92.0502%, Time: 16.3110s\n",
            "Epoch-32 learning rate: 0.0019131876\n",
            "Epoch: 34/100\n",
            "Epoch : 034, Training: Loss - 0.0294, Accuracy - 98.8930%, Validation : Loss - 0.3651, Accuracy - 92.8870%, Time: 16.2565s\n",
            "Epoch-33 learning rate: 0.00172186884\n",
            "Epoch: 35/100\n",
            "Epoch : 035, Training: Loss - 0.0128, Accuracy - 99.5080%, Validation : Loss - 0.3057, Accuracy - 92.8870%, Time: 16.2626s\n",
            "Epoch-34 learning rate: 0.00172186884\n",
            "Epoch: 36/100\n",
            "Epoch : 036, Training: Loss - 0.0160, Accuracy - 99.5080%, Validation : Loss - 0.3638, Accuracy - 93.3054%, Time: 16.3339s\n",
            "Epoch-35 learning rate: 0.001549681956\n",
            "Epoch: 37/100\n",
            "Epoch : 037, Training: Loss - 0.0092, Accuracy - 99.6310%, Validation : Loss - 0.3527, Accuracy - 92.4686%, Time: 16.2489s\n",
            "Epoch-36 learning rate: 0.001549681956\n",
            "Epoch: 38/100\n",
            "Epoch : 038, Training: Loss - 0.0130, Accuracy - 99.6310%, Validation : Loss - 0.3420, Accuracy - 92.4686%, Time: 16.3950s\n",
            "Epoch-37 learning rate: 0.0013947137604\n",
            "Epoch: 39/100\n",
            "Epoch : 039, Training: Loss - 0.0101, Accuracy - 99.6310%, Validation : Loss - 0.4192, Accuracy - 90.7950%, Time: 16.2527s\n",
            "Epoch-38 learning rate: 0.0013947137604\n",
            "Epoch: 40/100\n",
            "Epoch : 040, Training: Loss - 0.0230, Accuracy - 99.2620%, Validation : Loss - 0.3819, Accuracy - 92.0502%, Time: 16.2648s\n",
            "Epoch-39 learning rate: 0.0012552423843600002\n",
            "Epoch: 41/100\n",
            "Epoch : 041, Training: Loss - 0.0227, Accuracy - 99.1390%, Validation : Loss - 0.3507, Accuracy - 93.7238%, Time: 16.2774s\n",
            "Epoch-40 learning rate: 0.0012552423843600002\n",
            "Epoch: 42/100\n",
            "Epoch : 042, Training: Loss - 0.0153, Accuracy - 99.6310%, Validation : Loss - 0.3499, Accuracy - 91.6318%, Time: 16.3899s\n",
            "Epoch-41 learning rate: 0.0011297181459240001\n",
            "Epoch: 43/100\n",
            "Epoch : 043, Training: Loss - 0.0104, Accuracy - 99.8770%, Validation : Loss - 0.3541, Accuracy - 93.3054%, Time: 16.2583s\n",
            "Epoch-42 learning rate: 0.0011297181459240001\n",
            "Epoch: 44/100\n",
            "Epoch : 044, Training: Loss - 0.0061, Accuracy - 99.8770%, Validation : Loss - 0.3639, Accuracy - 93.7238%, Time: 16.3191s\n",
            "Epoch-43 learning rate: 0.0010167463313316002\n",
            "Epoch: 45/100\n",
            "Epoch : 045, Training: Loss - 0.0069, Accuracy - 99.8770%, Validation : Loss - 0.3813, Accuracy - 93.7238%, Time: 16.3004s\n",
            "Epoch-44 learning rate: 0.0010167463313316002\n",
            "Epoch: 46/100\n",
            "Epoch : 046, Training: Loss - 0.0231, Accuracy - 99.2620%, Validation : Loss - 0.4847, Accuracy - 92.4686%, Time: 16.3680s\n",
            "Epoch-45 learning rate: 0.0009150716981984402\n",
            "Epoch: 47/100\n",
            "Epoch : 047, Training: Loss - 0.0114, Accuracy - 99.7540%, Validation : Loss - 0.4130, Accuracy - 92.4686%, Time: 16.1493s\n",
            "Epoch-46 learning rate: 0.0009150716981984402\n",
            "Epoch: 48/100\n",
            "Epoch : 048, Training: Loss - 0.0343, Accuracy - 98.5240%, Validation : Loss - 0.2686, Accuracy - 93.7238%, Time: 16.2718s\n",
            "Epoch-47 learning rate: 0.0009150716981984402\n",
            "Epoch: 49/100\n",
            "Epoch : 049, Training: Loss - 0.0105, Accuracy - 99.7540%, Validation : Loss - 0.2610, Accuracy - 93.7238%, Time: 16.1799s\n",
            "Epoch-48 learning rate: 0.0009150716981984402\n",
            "Epoch: 50/100\n",
            "Epoch : 050, Training: Loss - 0.0115, Accuracy - 99.6310%, Validation : Loss - 0.2759, Accuracy - 93.7238%, Time: 16.1887s\n",
            "Epoch-49 learning rate: 0.0009150716981984402\n",
            "Epoch: 51/100\n",
            "Epoch : 051, Training: Loss - 0.0115, Accuracy - 99.6310%, Validation : Loss - 0.2904, Accuracy - 94.1423%, Time: 16.2401s\n",
            "Epoch-50 learning rate: 0.0008235645283785962\n",
            "Epoch: 52/100\n",
            "Epoch : 052, Training: Loss - 0.0042, Accuracy - 100.0000%, Validation : Loss - 0.2958, Accuracy - 93.7238%, Time: 16.1855s\n",
            "Epoch-51 learning rate: 0.0008235645283785962\n",
            "Epoch: 53/100\n",
            "Epoch : 053, Training: Loss - 0.0101, Accuracy - 99.6310%, Validation : Loss - 0.2964, Accuracy - 93.7238%, Time: 16.1340s\n",
            "Epoch-52 learning rate: 0.0007412080755407367\n",
            "Epoch: 54/100\n",
            "Epoch : 054, Training: Loss - 0.0032, Accuracy - 100.0000%, Validation : Loss - 0.3147, Accuracy - 94.5607%, Time: 16.2595s\n",
            "Epoch-53 learning rate: 0.0007412080755407367\n",
            "Epoch: 55/100\n",
            "Epoch : 055, Training: Loss - 0.0055, Accuracy - 100.0000%, Validation : Loss - 0.3349, Accuracy - 93.7238%, Time: 16.0870s\n",
            "Epoch-54 learning rate: 0.000667087267986663\n",
            "Epoch: 56/100\n",
            "Epoch : 056, Training: Loss - 0.0035, Accuracy - 99.8770%, Validation : Loss - 0.3194, Accuracy - 92.8870%, Time: 16.1867s\n",
            "Epoch-55 learning rate: 0.000667087267986663\n",
            "Epoch: 57/100\n",
            "Epoch : 057, Training: Loss - 0.0092, Accuracy - 99.6310%, Validation : Loss - 0.2877, Accuracy - 94.5607%, Time: 16.2541s\n",
            "Epoch-56 learning rate: 0.0006003785411879968\n",
            "Epoch: 58/100\n",
            "Epoch : 058, Training: Loss - 0.0064, Accuracy - 99.8770%, Validation : Loss - 0.3452, Accuracy - 94.1423%, Time: 16.1342s\n",
            "Epoch-57 learning rate: 0.0006003785411879968\n",
            "Epoch: 59/100\n",
            "Epoch : 059, Training: Loss - 0.0067, Accuracy - 99.7540%, Validation : Loss - 0.2899, Accuracy - 94.5607%, Time: 16.2834s\n",
            "Epoch-58 learning rate: 0.0005403406870691972\n",
            "Epoch: 60/100\n",
            "Epoch : 060, Training: Loss - 0.0026, Accuracy - 100.0000%, Validation : Loss - 0.3132, Accuracy - 92.4686%, Time: 16.3052s\n",
            "Epoch-59 learning rate: 0.0005403406870691972\n",
            "Epoch: 61/100\n",
            "Epoch : 061, Training: Loss - 0.0052, Accuracy - 99.8770%, Validation : Loss - 0.3277, Accuracy - 94.5607%, Time: 16.3917s\n",
            "Epoch-60 learning rate: 0.00048630661836227744\n",
            "Epoch: 62/100\n",
            "Epoch : 062, Training: Loss - 0.0086, Accuracy - 99.7540%, Validation : Loss - 0.3353, Accuracy - 94.9791%, Time: 16.3554s\n",
            "Epoch-61 learning rate: 0.00048630661836227744\n",
            "Epoch: 63/100\n",
            "Epoch : 063, Training: Loss - 0.0097, Accuracy - 99.8770%, Validation : Loss - 0.3161, Accuracy - 94.9791%, Time: 16.5174s\n",
            "Epoch-62 learning rate: 0.0004376759565260497\n",
            "Epoch: 64/100\n",
            "Epoch : 064, Training: Loss - 0.0037, Accuracy - 100.0000%, Validation : Loss - 0.3492, Accuracy - 94.5607%, Time: 16.5595s\n",
            "Epoch-63 learning rate: 0.0004376759565260497\n",
            "Epoch: 65/100\n",
            "Epoch : 065, Training: Loss - 0.0032, Accuracy - 99.8770%, Validation : Loss - 0.3374, Accuracy - 94.9791%, Time: 16.5801s\n",
            "Epoch-64 learning rate: 0.00039390836087344473\n",
            "Epoch: 66/100\n",
            "Epoch : 066, Training: Loss - 0.0136, Accuracy - 99.2620%, Validation : Loss - 0.3378, Accuracy - 94.1423%, Time: 16.7370s\n",
            "Epoch-65 learning rate: 0.00039390836087344473\n",
            "Epoch: 67/100\n",
            "Epoch : 067, Training: Loss - 0.0092, Accuracy - 99.5080%, Validation : Loss - 0.3332, Accuracy - 95.3975%, Time: 16.2710s\n",
            "Epoch-66 learning rate: 0.00035451752478610026\n",
            "Epoch: 68/100\n",
            "Epoch : 068, Training: Loss - 0.0051, Accuracy - 99.8770%, Validation : Loss - 0.3427, Accuracy - 94.9791%, Time: 16.3080s\n",
            "Epoch-67 learning rate: 0.00035451752478610026\n",
            "Epoch: 69/100\n",
            "Epoch : 069, Training: Loss - 0.0027, Accuracy - 99.8770%, Validation : Loss - 0.3201, Accuracy - 94.5607%, Time: 16.3620s\n",
            "Epoch-68 learning rate: 0.00031906577230749025\n",
            "Epoch: 70/100\n",
            "Epoch : 070, Training: Loss - 0.0218, Accuracy - 99.3850%, Validation : Loss - 0.3092, Accuracy - 94.5607%, Time: 16.2411s\n",
            "Epoch-69 learning rate: 0.00031906577230749025\n",
            "Epoch: 71/100\n",
            "Epoch : 071, Training: Loss - 0.0044, Accuracy - 99.8770%, Validation : Loss - 0.3687, Accuracy - 93.7238%, Time: 16.2161s\n",
            "Epoch-70 learning rate: 0.0002871591950767412\n",
            "Epoch: 72/100\n",
            "Epoch : 072, Training: Loss - 0.0045, Accuracy - 99.8770%, Validation : Loss - 0.3818, Accuracy - 93.3054%, Time: 16.3441s\n",
            "Epoch-71 learning rate: 0.0002871591950767412\n",
            "Epoch: 73/100\n",
            "Epoch : 073, Training: Loss - 0.0081, Accuracy - 99.6310%, Validation : Loss - 0.3347, Accuracy - 93.7238%, Time: 16.3679s\n",
            "Epoch-72 learning rate: 0.0002584432755690671\n",
            "Epoch: 74/100\n",
            "Epoch : 074, Training: Loss - 0.0019, Accuracy - 100.0000%, Validation : Loss - 0.3429, Accuracy - 94.1423%, Time: 16.2549s\n",
            "Epoch-73 learning rate: 0.0002584432755690671\n",
            "Epoch: 75/100\n",
            "Epoch : 075, Training: Loss - 0.0014, Accuracy - 100.0000%, Validation : Loss - 0.3411, Accuracy - 94.5607%, Time: 16.2603s\n",
            "Epoch-74 learning rate: 0.0002325989480121604\n",
            "Epoch: 76/100\n",
            "Epoch : 076, Training: Loss - 0.0030, Accuracy - 99.8770%, Validation : Loss - 0.3324, Accuracy - 94.5607%, Time: 16.3801s\n",
            "Epoch-75 learning rate: 0.0002325989480121604\n",
            "Epoch: 77/100\n",
            "Epoch : 077, Training: Loss - 0.0119, Accuracy - 99.7540%, Validation : Loss - 0.2857, Accuracy - 95.3975%, Time: 16.3636s\n",
            "Epoch-76 learning rate: 0.00020933905321094437\n",
            "Epoch: 78/100\n",
            "Epoch : 078, Training: Loss - 0.0063, Accuracy - 99.8770%, Validation : Loss - 0.3117, Accuracy - 94.9791%, Time: 16.3086s\n",
            "Epoch-77 learning rate: 0.00020933905321094437\n",
            "Epoch: 79/100\n",
            "Epoch : 079, Training: Loss - 0.0072, Accuracy - 99.7540%, Validation : Loss - 0.3183, Accuracy - 93.3054%, Time: 16.2446s\n",
            "Epoch-78 learning rate: 0.00018840514788984994\n",
            "Epoch: 80/100\n",
            "Epoch : 080, Training: Loss - 0.0145, Accuracy - 99.2620%, Validation : Loss - 0.4001, Accuracy - 93.7238%, Time: 16.2602s\n",
            "Epoch-79 learning rate: 0.00018840514788984994\n",
            "Epoch: 81/100\n",
            "Epoch : 081, Training: Loss - 0.0103, Accuracy - 99.7540%, Validation : Loss - 0.3196, Accuracy - 94.5607%, Time: 16.2499s\n",
            "Epoch-80 learning rate: 0.00016956463310086495\n",
            "Epoch: 82/100\n",
            "Epoch : 082, Training: Loss - 0.0024, Accuracy - 100.0000%, Validation : Loss - 0.2982, Accuracy - 94.9791%, Time: 16.1661s\n",
            "Epoch-81 learning rate: 0.00016956463310086495\n",
            "Epoch: 83/100\n",
            "Epoch : 083, Training: Loss - 0.0061, Accuracy - 99.8770%, Validation : Loss - 0.2943, Accuracy - 95.3975%, Time: 16.3339s\n",
            "Epoch-82 learning rate: 0.00015260816979077846\n",
            "Epoch: 84/100\n",
            "Epoch : 084, Training: Loss - 0.0019, Accuracy - 99.8770%, Validation : Loss - 0.2793, Accuracy - 94.1423%, Time: 16.2335s\n",
            "Epoch-83 learning rate: 0.00015260816979077846\n",
            "Epoch: 85/100\n",
            "Epoch : 085, Training: Loss - 0.0031, Accuracy - 99.8770%, Validation : Loss - 0.3174, Accuracy - 94.9791%, Time: 16.2713s\n",
            "Epoch-84 learning rate: 0.0001373473528117006\n",
            "Epoch: 86/100\n",
            "Epoch : 086, Training: Loss - 0.0115, Accuracy - 99.6310%, Validation : Loss - 0.3174, Accuracy - 94.5607%, Time: 16.2304s\n",
            "Epoch-85 learning rate: 0.0001373473528117006\n",
            "Epoch: 87/100\n",
            "Epoch : 087, Training: Loss - 0.0045, Accuracy - 99.8770%, Validation : Loss - 0.3082, Accuracy - 93.3054%, Time: 16.3306s\n",
            "Epoch-86 learning rate: 0.00012361261753053056\n",
            "Epoch: 88/100\n",
            "Epoch : 088, Training: Loss - 0.0016, Accuracy - 100.0000%, Validation : Loss - 0.3137, Accuracy - 93.3054%, Time: 16.1982s\n",
            "Epoch-87 learning rate: 0.00012361261753053056\n",
            "Epoch: 89/100\n",
            "Epoch : 089, Training: Loss - 0.0065, Accuracy - 99.7540%, Validation : Loss - 0.3219, Accuracy - 94.5607%, Time: 16.2266s\n",
            "Epoch-88 learning rate: 0.0001112513557774775\n",
            "Epoch: 90/100\n",
            "Epoch : 090, Training: Loss - 0.0032, Accuracy - 100.0000%, Validation : Loss - 0.3474, Accuracy - 94.5607%, Time: 16.1688s\n",
            "Epoch-89 learning rate: 0.0001112513557774775\n",
            "Epoch: 91/100\n",
            "Epoch : 091, Training: Loss - 0.0049, Accuracy - 99.8770%, Validation : Loss - 0.3537, Accuracy - 94.5607%, Time: 16.3206s\n",
            "Epoch-90 learning rate: 0.00010012622019972976\n",
            "Epoch: 92/100\n",
            "Epoch : 092, Training: Loss - 0.0055, Accuracy - 99.7540%, Validation : Loss - 0.3607, Accuracy - 93.7238%, Time: 16.3231s\n",
            "Epoch-91 learning rate: 0.00010012622019972976\n",
            "Epoch: 93/100\n",
            "Epoch : 093, Training: Loss - 0.0016, Accuracy - 100.0000%, Validation : Loss - 0.3720, Accuracy - 94.5607%, Time: 16.2095s\n",
            "Epoch-92 learning rate: 9.011359817975678e-05\n",
            "Epoch: 94/100\n",
            "Epoch : 094, Training: Loss - 0.0101, Accuracy - 99.5080%, Validation : Loss - 0.3848, Accuracy - 94.5607%, Time: 16.2705s\n",
            "Epoch-93 learning rate: 9.011359817975678e-05\n",
            "Epoch: 95/100\n",
            "Epoch : 095, Training: Loss - 0.0036, Accuracy - 99.8770%, Validation : Loss - 0.3953, Accuracy - 94.1423%, Time: 16.3817s\n",
            "Epoch-94 learning rate: 8.11022383617811e-05\n",
            "Epoch: 96/100\n",
            "Epoch : 096, Training: Loss - 0.0046, Accuracy - 99.8770%, Validation : Loss - 0.3713, Accuracy - 93.7238%, Time: 16.1084s\n",
            "Epoch-95 learning rate: 8.11022383617811e-05\n",
            "Epoch: 97/100\n",
            "Epoch : 097, Training: Loss - 0.0040, Accuracy - 99.8770%, Validation : Loss - 0.3258, Accuracy - 93.7238%, Time: 16.2269s\n",
            "Epoch-96 learning rate: 7.299201452560299e-05\n",
            "Epoch: 98/100\n",
            "Epoch : 098, Training: Loss - 0.0040, Accuracy - 99.8770%, Validation : Loss - 0.3662, Accuracy - 93.3054%, Time: 16.2898s\n",
            "Epoch-97 learning rate: 7.299201452560299e-05\n",
            "Epoch: 99/100\n",
            "Epoch : 099, Training: Loss - 0.0054, Accuracy - 99.7540%, Validation : Loss - 0.3527, Accuracy - 94.1423%, Time: 16.2427s\n",
            "Epoch-98 learning rate: 6.56928130730427e-05\n",
            "Epoch: 100/100\n",
            "Epoch : 100, Training: Loss - 0.0067, Accuracy - 99.7540%, Validation : Loss - 0.3705, Accuracy - 94.5607%, Time: 16.1652s\n",
            "Epoch-99 learning rate: 6.56928130730427e-05\n"
          ],
          "name": "stdout"
        }
      ]
    },
    {
      "cell_type": "code",
      "metadata": {
        "id": "HigTVpI3JjHv",
        "colab": {
          "base_uri": "https://localhost:8080/"
        },
        "outputId": "2927483c-e700-4457-e1be-79e3b117ebce"
      },
      "source": [
        "print(\"Thoi gian training: \",end-start)"
      ],
      "execution_count": null,
      "outputs": [
        {
          "output_type": "stream",
          "text": [
            "Thoi gian training:  1634.8942470550537\n"
          ],
          "name": "stdout"
        }
      ]
    },
    {
      "cell_type": "code",
      "metadata": {
        "id": "ODgSE9IXX09u",
        "colab": {
          "base_uri": "https://localhost:8080/"
        },
        "outputId": "deb96fe6-5d2f-4909-e3a3-f0ccbf8b955e"
      },
      "source": [
        "#save model\n",
        "import time\n",
        "from datetime import date\n",
        "today = date.today()\n",
        "d1 = today.strftime(\"%d%m%Y\")\n",
        "print(\"d1 =\", d1)\n",
        "torch.save(trained_model, '/content/drive/My Drive/DetectBrainTumor/model/pytorch/model_adas_mobilenet_v3_'+str(d1)+'.pt')"
      ],
      "execution_count": null,
      "outputs": [
        {
          "output_type": "stream",
          "text": [
            "d1 = 07072021\n"
          ],
          "name": "stdout"
        }
      ]
    },
    {
      "cell_type": "code",
      "metadata": {
        "id": "pdsNnsHaX2fa"
      },
      "source": [
        "import pickle\n",
        "with open('/content/drive/My Drive/DetectBrainTumor/result/pytorch/history_adas_mobilenet_v3.pickle', 'wb') as f:\n",
        "    pickle.dump(history, f)\n",
        "\n",
        "# with open('/content/drive/My Drive/DetectBrainTumor/result/pytorch/time_inceptionresnetv2.pickle', 'wb') as f:\n",
        "#     pickle.dump(arr_time, f)"
      ],
      "execution_count": null,
      "outputs": []
    },
    {
      "cell_type": "code",
      "metadata": {
        "id": "uKg5tSsGdxRW"
      },
      "source": [
        "loss_train = []\n",
        "loss_val = []\n",
        "acc_train = []\n",
        "acc_val = []\n",
        "\n",
        "for i in range(len(history)):\n",
        "  loss_train.append(history[i][0])\n",
        "  loss_val.append(history[i][1])\n",
        "  acc_train.append(history[i][2])\n",
        "  acc_val.append(history[i][3])"
      ],
      "execution_count": null,
      "outputs": []
    },
    {
      "cell_type": "code",
      "metadata": {
        "id": "pB0-ZXLqI5fZ",
        "colab": {
          "base_uri": "https://localhost:8080/",
          "height": 53
        },
        "outputId": "e34333be-eee5-42b7-bea0-ee42cbed028e"
      },
      "source": [
        "# summarize history for accuracy\n",
        "fig,a =  plt.subplots(1, 2, figsize=(16,7))\n",
        "a[0].plot(acc_train)\n",
        "a[0].plot(acc_val)\n",
        "a[0].set_title('model accuracy')\n",
        "a[0].set_ylabel('accuracy')\n",
        "a[0].set_xlabel('epoch')\n",
        "a[0].legend(['train', 'val'], loc='upper left')\n",
        "# summarize history for loss for epoch\n",
        "# plt.figure(figsize=(10,10))\n",
        "a[1].plot(loss_train)\n",
        "a[1].plot(loss_val)\n",
        "a[1].set_title('model loss')\n",
        "a[1].set_ylabel('loss')\n",
        "a[1].set_xlabel('epoch')\n",
        "a[1].legend(['train', 'val'], loc='upper left')\n",
        "plt.show()"
      ],
      "execution_count": null,
      "outputs": [
        {
          "output_type": "display_data",
          "data": {
            "image/png": "[encoded data removed]",
            "text/plain": [
              "<Figure size 1152x504 with 2 Axes>"
            ]
          },
          "metadata": {
            "tags": [],
            "needs_background": "light"
          }
        }
      ]
    }
  ]
}