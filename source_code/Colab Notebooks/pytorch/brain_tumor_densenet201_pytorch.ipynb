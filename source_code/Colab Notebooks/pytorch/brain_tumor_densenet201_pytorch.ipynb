{
  "nbformat": 4,
  "nbformat_minor": 0,
  "metadata": {
    "accelerator": "GPU",
    "colab": {
      "name": "brain_tumor_densenet201_pytorch.ipynb",
      "provenance": [],
      "collapsed_sections": []
    },
    "kernelspec": {
      "display_name": "Python 3",
      "name": "python3"
    },
    "language_info": {
      "name": "python"
    }
  },
  "cells": [
    {
      "cell_type": "code",
      "metadata": {
        "colab": {
          "base_uri": "https://localhost:8080/"
        },
        "id": "al_XWgRp3EzB",
        "outputId": "e3517d4f-6351-4a5b-9dc4-bccc0025b6df"
      },
      "source": [
        "from google.colab import drive\n",
        "drive.mount('/content/drive')"
      ],
      "execution_count": 1,
      "outputs": [
        {
          "output_type": "stream",
          "text": [
            "Drive already mounted at /content/drive; to attempt to forcibly remount, call drive.mount(\"/content/drive\", force_remount=True).\n"
          ],
          "name": "stdout"
        }
      ]
    },
    {
      "cell_type": "code",
      "metadata": {
        "colab": {
          "base_uri": "https://localhost:8080/"
        },
        "id": "GPMeqQO6AP2D",
        "outputId": "18415ff0-fbe4-40de-b556-0c441b614b2e"
      },
      "source": [
        "%cd /content/drive/My Drive/Adas/src\n",
        "from adas import Adas"
      ],
      "execution_count": 2,
      "outputs": [
        {
          "output_type": "stream",
          "text": [
            "/content/drive/My Drive/Adas/src\n"
          ],
          "name": "stdout"
        }
      ]
    },
    {
      "cell_type": "code",
      "metadata": {
        "id": "jrQMAMh7ARMZ"
      },
      "source": [
        "import matplotlib.pyplot as plt\n",
        "from torchvision import datasets, models, transforms\n",
        "import helper\n",
        "import torch.nn as nn\n",
        "import torch.nn.functional as F\n",
        "import torch.optim as optim\n",
        "\n",
        "from torchvision import datasets\n",
        "from torchvision import transforms\n",
        "import matplotlib.pyplot as plt\n",
        "import torch, torchvision\n",
        "from torch.utils.data import DataLoader\n",
        "import time\n",
        "from torchsummary import summary\n",
        "import numpy as np\n",
        "import os\n",
        "\n",
        "from PIL import Image"
      ],
      "execution_count": 3,
      "outputs": []
    },
    {
      "cell_type": "code",
      "metadata": {
        "id": "B_IymEbSAWFo"
      },
      "source": [
        "IMAGE_SIZE = 256\n",
        "batch_size = 16\n",
        "\n",
        "DATADIR_TRAIN = \"/content/drive/My Drive/DetectBrainTumor/data_15062021/T2_Train/\"\n",
        "DATADIR_VAL = \"/content/drive/My Drive/DetectBrainTumor/data_15062021/T2_Val/\"\n"
      ],
      "execution_count": 4,
      "outputs": []
    },
    {
      "cell_type": "code",
      "metadata": {
        "id": "_dG28e-KICv6"
      },
      "source": [
        "# Applying Transforms to the Data\n",
        "train_transform = transforms.Compose([\n",
        "        transforms.RandomResizedCrop(size=256, scale=(0.8, 1.0)),\n",
        "        transforms.RandomRotation(degrees=15),\n",
        "        transforms.RandomHorizontalFlip(),\n",
        "        transforms.CenterCrop(size=224),\n",
        "        transforms.ToTensor(),\n",
        "        transforms.Normalize([0.485, 0.456, 0.406],\n",
        "                             [0.229, 0.224, 0.225])\n",
        "    ])\n",
        "\n",
        "test_transform = transforms.Compose([\n",
        "        transforms.Resize(size=256),\n",
        "        transforms.CenterCrop(size=224),\n",
        "        transforms.ToTensor(),\n",
        "        transforms.Normalize([0.485, 0.456, 0.406],\n",
        "                             [0.229, 0.224, 0.225])\n",
        "    ])"
      ],
      "execution_count": 5,
      "outputs": []
    },
    {
      "cell_type": "code",
      "metadata": {
        "id": "8JuOKAOLAi0X"
      },
      "source": [
        "train_data = datasets.ImageFolder(DATADIR_TRAIN, transform=train_transform)                                       \n",
        "val_data = datasets.ImageFolder(DATADIR_VAL, transform=test_transform)\n",
        "\n",
        "#Data Loading\n",
        "train_loader = torch.utils.data.DataLoader(train_data, batch_size=batch_size, shuffle=True)\n",
        "val_loader = torch.utils.data.DataLoader(val_data, batch_size=batch_size, shuffle=True)"
      ],
      "execution_count": 6,
      "outputs": []
    },
    {
      "cell_type": "code",
      "metadata": {
        "id": "aOZ-WlKeJUnb"
      },
      "source": [
        "classes = ('YES', 'NO')"
      ],
      "execution_count": 7,
      "outputs": []
    },
    {
      "cell_type": "code",
      "metadata": {
        "id": "kTT7H1l_NvJr"
      },
      "source": [
        "train_data_size = len(train_data)\n",
        "test_data_size = len(val_data)"
      ],
      "execution_count": 8,
      "outputs": []
    },
    {
      "cell_type": "code",
      "metadata": {
        "id": "JP2vIpVTXMPE"
      },
      "source": [
        "device = torch.device(\"cuda:0\" if torch.cuda.is_available() else \"cpu\")"
      ],
      "execution_count": 9,
      "outputs": []
    },
    {
      "cell_type": "code",
      "metadata": {
        "id": "CJAOJSrCDEdY"
      },
      "source": [
        "# Load pretrained DenseNet201 Model\n",
        "model_class = models.densenet201(pretrained=True)\n",
        "\n",
        "# Freeze model parameters\n",
        "# for param in model_class.parameters():\n",
        "#     param.requires_grad = False"
      ],
      "execution_count": 10,
      "outputs": []
    },
    {
      "cell_type": "code",
      "metadata": {
        "id": "qWHwvjeWOVSJ"
      },
      "source": [
        "# Freeze layers 1-6 in total 10 layers of DenseNet201\n",
        "# ct = 0\n",
        "# for child in model_class.children():\n",
        "#   ct += 1\n",
        "#   if ct < 7:\n",
        "#       for param in child.parameters():\n",
        "#           param.requires_grad = False"
      ],
      "execution_count": 11,
      "outputs": []
    },
    {
      "cell_type": "code",
      "metadata": {
        "id": "nE_07JDiOW8w"
      },
      "source": [
        "# Change the final layer of DenseNet201 Model for Transfer Learning\n",
        "classifier_input = model_class.classifier.in_features\n",
        "\n",
        "model_class.classifier = nn.Sequential(\n",
        "    nn.Linear(classifier_input, 128),\n",
        "    nn.ReLU(),\n",
        "    nn.Dropout(0.3),\n",
        "    nn.Flatten(),\n",
        "    nn.Dropout(0.5),\n",
        "    nn.Linear(128, 2), # Since 100 possible outputs\n",
        "    nn.LogSoftmax(dim=1) # For using NLLLoss()\n",
        ")\n",
        "\n",
        "# Convert model to be used on GPU\n",
        "model_class = model_class.to(device)"
      ],
      "execution_count": 12,
      "outputs": []
    },
    {
      "cell_type": "code",
      "metadata": {
        "id": "Jx6C95OqFFT1"
      },
      "source": [
        "def train_and_validate(model, scheduler, loss_criterion, optimizer, epochs):\n",
        "    '''\n",
        "    Function to train and validate\n",
        "    Parameters\n",
        "        :param model: Model to train and validate\n",
        "        :param loss_criterion: Loss Criterion to minimize\n",
        "        :param optimizer: Optimizer for computing gradients\n",
        "        :param epochs: Number of epochs (default=25)\n",
        "  \n",
        "    Returns\n",
        "        model: Trained Model with best validation accuracy\n",
        "        history: (dict object): Having training loss, accuracy and validation loss, accuracy\n",
        "    '''\n",
        "    \n",
        "    start = time.time()\n",
        "    history = []\n",
        "    best_loss = 100000.0\n",
        "    best_epoch = None\n",
        "    flag = 0\n",
        "\n",
        "    for epoch in range(epochs):\n",
        "        epoch_start = time.time()\n",
        "        print(\"Epoch: {}/{}\".format(epoch+1, epochs))\n",
        "        \n",
        "        # Set to training mode\n",
        "        model.train()\n",
        "        \n",
        "        # Loss and Accuracy within the epoch\n",
        "        train_loss = 0.0\n",
        "        train_acc = 0.0\n",
        "        \n",
        "        valid_loss = 0.0\n",
        "        valid_acc = 0.0\n",
        "        \n",
        "        for i, (inputs, labels) in enumerate(train_loader):\n",
        "\n",
        "            inputs = inputs.to(device)\n",
        "            labels = labels.to(device)\n",
        "            \n",
        "            # Clean existing gradients\n",
        "            optimizer.zero_grad()\n",
        "            \n",
        "            # Forward pass - compute outputs on input data using the model\n",
        "            outputs = model(inputs)\n",
        "            \n",
        "            # Compute loss\n",
        "            loss = loss_criterion(outputs, labels)\n",
        "            \n",
        "            # Backpropagate the gradients\n",
        "            loss.backward()\n",
        "            \n",
        "            # Update the parameters\n",
        "            optimizer.step()\n",
        "            \n",
        "            \n",
        "            # Compute the total loss for the batch and add it to train_loss\n",
        "            train_loss += loss.item() * inputs.size(0)\n",
        "            \n",
        "            # Compute the accuracy\n",
        "            ret, predictions = torch.max(outputs.data, 1)\n",
        "            correct_counts = predictions.eq(labels.data.view_as(predictions))\n",
        "            \n",
        "            # Convert correct_counts to float and then compute the mean\n",
        "            acc = torch.mean(correct_counts.type(torch.FloatTensor))\n",
        "            \n",
        "            # Compute total accuracy in the whole batch and add to train_acc\n",
        "            train_acc += acc.item() * inputs.size(0)\n",
        "            \n",
        "            #print(\"Batch number: {:03d}, Training: Loss: {:.4f}, Accuracy: {:.4f}\".format(i, loss.item(), acc.item()))\n",
        "\n",
        "        \n",
        "        # Validation - No gradient tracking needed\n",
        "        with torch.no_grad():\n",
        "\n",
        "            # Set to evaluation mode\n",
        "            model.eval()\n",
        "\n",
        "            # Validation loop\n",
        "            for j, (inputs, labels) in enumerate(val_loader):\n",
        "                inputs = inputs.to(device)\n",
        "                labels = labels.to(device)\n",
        "\n",
        "                # Forward pass - compute outputs on input data using the model\n",
        "                outputs = model(inputs)\n",
        "\n",
        "                # Compute loss\n",
        "                loss = loss_criterion(outputs, labels)\n",
        "\n",
        "                # Compute the total loss for the batch and add it to valid_loss\n",
        "                valid_loss += loss.item() * inputs.size(0)\n",
        "\n",
        "                # Calculate validation accuracy\n",
        "                ret, predictions = torch.max(outputs.data, 1)\n",
        "                correct_counts = predictions.eq(labels.data.view_as(predictions))\n",
        "\n",
        "                # Convert correct_counts to float and then compute the mean\n",
        "                acc = torch.mean(correct_counts.type(torch.FloatTensor))\n",
        "\n",
        "                # Compute total accuracy in the whole batch and add to valid_acc\n",
        "                valid_acc += acc.item() * inputs.size(0)\n",
        "                # if not j%100:\n",
        "                #   print(\"Validation Batch number: {:03d}, Validation: Loss: {:.4f}, Accuracy: {:.4f}\".format(j, loss.item(), acc.item()))\n",
        "        if valid_loss < best_loss:\n",
        "            best_loss = valid_loss\n",
        "            best_epoch = epoch\n",
        "\n",
        "        # Find average training loss and training accuracy\n",
        "        avg_train_loss = train_loss/train_data_size \n",
        "        avg_train_acc = train_acc/train_data_size\n",
        "\n",
        "        # Find average training loss and training accuracy\n",
        "        avg_valid_loss = valid_loss/test_data_size \n",
        "        avg_valid_acc = valid_acc/test_data_size\n",
        "\n",
        "        history.append([avg_train_loss, avg_valid_loss, avg_train_acc, avg_valid_acc])\n",
        "                \n",
        "        epoch_end = time.time()\n",
        "    \n",
        "        print(\"Epoch : {:03d}, Training: Loss - {:.4f}, Accuracy - {:.4f}%, Validation : Loss - {:.4f}, Accuracy - {:.4f}%, Time: {:.4f}s\".format(epoch+1, avg_train_loss, avg_train_acc*100, avg_valid_loss, avg_valid_acc*100, epoch_end-epoch_start))\n",
        "\n",
        "        #reduce lr\n",
        "        \n",
        "        if avg_valid_acc*100 > 88:\n",
        "          flag = 1\n",
        "\n",
        "        if flag == 1:\n",
        "          scheduler.step(avg_valid_loss)\n",
        "        \n",
        "        print('Epoch-{0} learning rate: {1}'.format(epoch, optimizer.param_groups[0]['lr']))\n",
        "\n",
        "        # Save if the model has best accuracy till now\n",
        "        # torch.save(model, 'model_'+str(epoch)+'.pt')\n",
        "        # optimizer.epoch_step(epoch)       \n",
        "    return model, history, best_epoch"
      ],
      "execution_count": 13,
      "outputs": []
    },
    {
      "cell_type": "code",
      "metadata": {
        "id": "l9DyPd-dtyys"
      },
      "source": [
        "# Define Optimizer and Loss Function\n",
        "# loss_func = nn.NLLLoss()\n",
        "loss_func = nn.CrossEntropyLoss()\n",
        "optimizer = optim.Adam(params=list(model_class.parameters()), lr=3e-6)"
      ],
      "execution_count": 14,
      "outputs": []
    },
    {
      "cell_type": "code",
      "metadata": {
        "id": "BR6dTBifOhoW",
        "colab": {
          "base_uri": "https://localhost:8080/"
        },
        "outputId": "d0d2f143-3c44-4973-b242-d147b34ecbb7"
      },
      "source": [
        "num_epochs = 100\n",
        "\n",
        "start = time.time()\n",
        "\n",
        "# trained_model, history, best_epoch = train_and_validate(model_class, loss_func, optimizer, num_epochs)\n",
        "\n",
        "# scheduler = optim.lr_scheduler.MultiStepLR(optimizer, milestones=[20,35], gamma=0.1)\n",
        "# scheduler = optim.lr_scheduler.StepLR(optimizer, step_size=2, gamma=torch.exp(-0.1))\n",
        "\n",
        "# lambda1 = lambda epoch: torch.exp(-1) ** epoch\n",
        "# scheduler = torch.optim.lr_scheduler.LambdaLR(optimizer, lr_lambda=lambda1)\n",
        "\n",
        "scheduler = torch.optim.lr_scheduler.ReduceLROnPlateau(optimizer, mode='min', factor= 0.9, patience=3, threshold=0.0001, threshold_mode='abs')\n",
        "\n",
        "trained_model, history, best_epoch = train_and_validate(model_class, scheduler, loss_func, optimizer, num_epochs)\n",
        "\n",
        "end = time.time()\n",
        "# torch.save(history, 'history.pt')"
      ],
      "execution_count": 15,
      "outputs": [
        {
          "output_type": "stream",
          "text": [
            "Epoch: 1/100\n"
          ],
          "name": "stdout"
        },
        {
          "output_type": "stream",
          "text": [
            "/usr/local/lib/python3.7/dist-packages/torch/nn/functional.py:718: UserWarning: Named tensors and all their associated APIs are an experimental feature and subject to change. Please do not use them for anything important until they are released as stable. (Triggered internally at  /pytorch/c10/core/TensorImpl.h:1156.)\n",
            "  return torch.max_pool2d(input, kernel_size, stride, padding, dilation, ceil_mode)\n"
          ],
          "name": "stderr"
        },
        {
          "output_type": "stream",
          "text": [
            "Epoch : 001, Training: Loss - 0.6991, Accuracy - 53.1365%, Validation : Loss - 0.6916, Accuracy - 51.4644%, Time: 24.9453s\n",
            "Epoch-0 learning rate: 3e-06\n",
            "Epoch: 2/100\n",
            "Epoch : 002, Training: Loss - 0.6711, Accuracy - 58.4256%, Validation : Loss - 0.6738, Accuracy - 61.9247%, Time: 24.6926s\n",
            "Epoch-1 learning rate: 3e-06\n",
            "Epoch: 3/100\n",
            "Epoch : 003, Training: Loss - 0.6613, Accuracy - 61.7466%, Validation : Loss - 0.6663, Accuracy - 61.9247%, Time: 24.7676s\n",
            "Epoch-2 learning rate: 3e-06\n",
            "Epoch: 4/100\n",
            "Epoch : 004, Training: Loss - 0.6543, Accuracy - 61.8696%, Validation : Loss - 0.6569, Accuracy - 62.7615%, Time: 24.7481s\n",
            "Epoch-3 learning rate: 3e-06\n",
            "Epoch: 5/100\n",
            "Epoch : 005, Training: Loss - 0.6339, Accuracy - 68.5117%, Validation : Loss - 0.6496, Accuracy - 63.1799%, Time: 24.8233s\n",
            "Epoch-4 learning rate: 3e-06\n",
            "Epoch: 6/100\n",
            "Epoch : 006, Training: Loss - 0.6228, Accuracy - 67.6507%, Validation : Loss - 0.6406, Accuracy - 64.4351%, Time: 24.9090s\n",
            "Epoch-5 learning rate: 3e-06\n",
            "Epoch: 7/100\n",
            "Epoch : 007, Training: Loss - 0.6030, Accuracy - 71.9557%, Validation : Loss - 0.6303, Accuracy - 64.8536%, Time: 24.9111s\n",
            "Epoch-6 learning rate: 3e-06\n",
            "Epoch: 8/100\n",
            "Epoch : 008, Training: Loss - 0.5795, Accuracy - 73.9237%, Validation : Loss - 0.6176, Accuracy - 65.6904%, Time: 24.7259s\n",
            "Epoch-7 learning rate: 3e-06\n",
            "Epoch: 9/100\n",
            "Epoch : 009, Training: Loss - 0.5589, Accuracy - 75.8918%, Validation : Loss - 0.6061, Accuracy - 66.1088%, Time: 24.7783s\n",
            "Epoch-8 learning rate: 3e-06\n",
            "Epoch: 10/100\n",
            "Epoch : 010, Training: Loss - 0.5203, Accuracy - 81.4268%, Validation : Loss - 0.5915, Accuracy - 68.2008%, Time: 24.8246s\n",
            "Epoch-9 learning rate: 3e-06\n",
            "Epoch: 11/100\n",
            "Epoch : 011, Training: Loss - 0.5086, Accuracy - 82.9028%, Validation : Loss - 0.5761, Accuracy - 70.7113%, Time: 24.7000s\n",
            "Epoch-10 learning rate: 3e-06\n",
            "Epoch: 12/100\n",
            "Epoch : 012, Training: Loss - 0.4828, Accuracy - 82.4108%, Validation : Loss - 0.5554, Accuracy - 70.2929%, Time: 24.9009s\n",
            "Epoch-11 learning rate: 3e-06\n",
            "Epoch: 13/100\n",
            "Epoch : 013, Training: Loss - 0.4536, Accuracy - 84.8708%, Validation : Loss - 0.5458, Accuracy - 71.9665%, Time: 24.7026s\n",
            "Epoch-12 learning rate: 3e-06\n",
            "Epoch: 14/100\n",
            "Epoch : 014, Training: Loss - 0.4290, Accuracy - 85.9779%, Validation : Loss - 0.5231, Accuracy - 72.8033%, Time: 24.7212s\n",
            "Epoch-13 learning rate: 3e-06\n",
            "Epoch: 15/100\n",
            "Epoch : 015, Training: Loss - 0.3987, Accuracy - 88.5609%, Validation : Loss - 0.5059, Accuracy - 73.6402%, Time: 24.6567s\n",
            "Epoch-14 learning rate: 3e-06\n",
            "Epoch: 16/100\n",
            "Epoch : 016, Training: Loss - 0.3824, Accuracy - 87.9459%, Validation : Loss - 0.4795, Accuracy - 75.7322%, Time: 24.7253s\n",
            "Epoch-15 learning rate: 3e-06\n",
            "Epoch: 17/100\n",
            "Epoch : 017, Training: Loss - 0.3626, Accuracy - 88.5609%, Validation : Loss - 0.4641, Accuracy - 76.9874%, Time: 24.6712s\n",
            "Epoch-16 learning rate: 3e-06\n",
            "Epoch: 18/100\n",
            "Epoch : 018, Training: Loss - 0.3439, Accuracy - 89.5449%, Validation : Loss - 0.4529, Accuracy - 78.2427%, Time: 24.6429s\n",
            "Epoch-17 learning rate: 3e-06\n",
            "Epoch: 19/100\n",
            "Epoch : 019, Training: Loss - 0.3112, Accuracy - 92.3739%, Validation : Loss - 0.4426, Accuracy - 79.0795%, Time: 24.6884s\n",
            "Epoch-18 learning rate: 3e-06\n",
            "Epoch: 20/100\n",
            "Epoch : 020, Training: Loss - 0.3047, Accuracy - 91.1439%, Validation : Loss - 0.4253, Accuracy - 80.7531%, Time: 24.6273s\n",
            "Epoch-19 learning rate: 3e-06\n",
            "Epoch: 21/100\n",
            "Epoch : 021, Training: Loss - 0.2772, Accuracy - 92.2509%, Validation : Loss - 0.4041, Accuracy - 82.4268%, Time: 24.6374s\n",
            "Epoch-20 learning rate: 3e-06\n",
            "Epoch: 22/100\n",
            "Epoch : 022, Training: Loss - 0.2844, Accuracy - 91.6359%, Validation : Loss - 0.3843, Accuracy - 82.8452%, Time: 24.7146s\n",
            "Epoch-21 learning rate: 3e-06\n",
            "Epoch: 23/100\n",
            "Epoch : 023, Training: Loss - 0.2607, Accuracy - 92.8659%, Validation : Loss - 0.3752, Accuracy - 83.2636%, Time: 24.6186s\n",
            "Epoch-22 learning rate: 3e-06\n",
            "Epoch: 24/100\n",
            "Epoch : 024, Training: Loss - 0.2456, Accuracy - 93.7269%, Validation : Loss - 0.3727, Accuracy - 84.1004%, Time: 24.7943s\n",
            "Epoch-23 learning rate: 3e-06\n",
            "Epoch: 25/100\n",
            "Epoch : 025, Training: Loss - 0.2282, Accuracy - 93.8499%, Validation : Loss - 0.3505, Accuracy - 84.1004%, Time: 24.6260s\n",
            "Epoch-24 learning rate: 3e-06\n",
            "Epoch: 26/100\n",
            "Epoch : 026, Training: Loss - 0.2061, Accuracy - 94.4649%, Validation : Loss - 0.3431, Accuracy - 84.9372%, Time: 24.6609s\n",
            "Epoch-25 learning rate: 3e-06\n",
            "Epoch: 27/100\n",
            "Epoch : 027, Training: Loss - 0.2209, Accuracy - 93.4809%, Validation : Loss - 0.3325, Accuracy - 85.7741%, Time: 24.6729s\n",
            "Epoch-26 learning rate: 3e-06\n",
            "Epoch: 28/100\n",
            "Epoch : 028, Training: Loss - 0.2069, Accuracy - 93.7269%, Validation : Loss - 0.3283, Accuracy - 85.7741%, Time: 24.5607s\n",
            "Epoch-27 learning rate: 3e-06\n",
            "Epoch: 29/100\n",
            "Epoch : 029, Training: Loss - 0.1729, Accuracy - 95.3260%, Validation : Loss - 0.3086, Accuracy - 86.6109%, Time: 24.6015s\n",
            "Epoch-28 learning rate: 3e-06\n",
            "Epoch: 30/100\n",
            "Epoch : 030, Training: Loss - 0.1805, Accuracy - 95.8180%, Validation : Loss - 0.3093, Accuracy - 85.7741%, Time: 24.4962s\n",
            "Epoch-29 learning rate: 3e-06\n",
            "Epoch: 31/100\n",
            "Epoch : 031, Training: Loss - 0.1570, Accuracy - 96.0640%, Validation : Loss - 0.3005, Accuracy - 85.3556%, Time: 24.4176s\n",
            "Epoch-30 learning rate: 3e-06\n",
            "Epoch: 32/100\n",
            "Epoch : 032, Training: Loss - 0.1635, Accuracy - 95.9410%, Validation : Loss - 0.2903, Accuracy - 86.6109%, Time: 24.5134s\n",
            "Epoch-31 learning rate: 3e-06\n",
            "Epoch: 33/100\n",
            "Epoch : 033, Training: Loss - 0.1708, Accuracy - 95.5720%, Validation : Loss - 0.2844, Accuracy - 87.4477%, Time: 24.5408s\n",
            "Epoch-32 learning rate: 3e-06\n",
            "Epoch: 34/100\n",
            "Epoch : 034, Training: Loss - 0.1379, Accuracy - 96.8020%, Validation : Loss - 0.2813, Accuracy - 87.0293%, Time: 24.4362s\n",
            "Epoch-33 learning rate: 3e-06\n",
            "Epoch: 35/100\n",
            "Epoch : 035, Training: Loss - 0.1346, Accuracy - 96.6790%, Validation : Loss - 0.2716, Accuracy - 88.2845%, Time: 24.4462s\n",
            "Epoch-34 learning rate: 3e-06\n",
            "Epoch: 36/100\n",
            "Epoch : 036, Training: Loss - 0.1495, Accuracy - 95.5720%, Validation : Loss - 0.2690, Accuracy - 87.8661%, Time: 24.4696s\n",
            "Epoch-35 learning rate: 3e-06\n",
            "Epoch: 37/100\n",
            "Epoch : 037, Training: Loss - 0.1291, Accuracy - 96.9250%, Validation : Loss - 0.2614, Accuracy - 88.7029%, Time: 24.4379s\n",
            "Epoch-36 learning rate: 3e-06\n",
            "Epoch: 38/100\n",
            "Epoch : 038, Training: Loss - 0.1319, Accuracy - 96.1870%, Validation : Loss - 0.2601, Accuracy - 89.1213%, Time: 24.4168s\n",
            "Epoch-37 learning rate: 3e-06\n",
            "Epoch: 39/100\n",
            "Epoch : 039, Training: Loss - 0.1177, Accuracy - 97.4170%, Validation : Loss - 0.2491, Accuracy - 89.9582%, Time: 24.4654s\n",
            "Epoch-38 learning rate: 3e-06\n",
            "Epoch: 40/100\n",
            "Epoch : 040, Training: Loss - 0.1134, Accuracy - 97.5400%, Validation : Loss - 0.2400, Accuracy - 90.7950%, Time: 24.4027s\n",
            "Epoch-39 learning rate: 3e-06\n",
            "Epoch: 41/100\n",
            "Epoch : 041, Training: Loss - 0.0970, Accuracy - 98.4010%, Validation : Loss - 0.2399, Accuracy - 89.9582%, Time: 24.4275s\n",
            "Epoch-40 learning rate: 3e-06\n",
            "Epoch: 42/100\n",
            "Epoch : 042, Training: Loss - 0.1135, Accuracy - 96.9250%, Validation : Loss - 0.2325, Accuracy - 89.5397%, Time: 24.4314s\n",
            "Epoch-41 learning rate: 3e-06\n",
            "Epoch: 43/100\n",
            "Epoch : 043, Training: Loss - 0.1016, Accuracy - 97.2940%, Validation : Loss - 0.2417, Accuracy - 89.5397%, Time: 24.4570s\n",
            "Epoch-42 learning rate: 3e-06\n",
            "Epoch: 44/100\n",
            "Epoch : 044, Training: Loss - 0.0925, Accuracy - 98.1550%, Validation : Loss - 0.2331, Accuracy - 89.9582%, Time: 24.4128s\n",
            "Epoch-43 learning rate: 3e-06\n",
            "Epoch: 45/100\n",
            "Epoch : 045, Training: Loss - 0.0855, Accuracy - 98.1550%, Validation : Loss - 0.2336, Accuracy - 91.2134%, Time: 24.4214s\n",
            "Epoch-44 learning rate: 3e-06\n",
            "Epoch: 46/100\n",
            "Epoch : 046, Training: Loss - 0.0770, Accuracy - 98.7700%, Validation : Loss - 0.2339, Accuracy - 92.0502%, Time: 24.3957s\n",
            "Epoch-45 learning rate: 2.7e-06\n",
            "Epoch: 47/100\n",
            "Epoch : 047, Training: Loss - 0.0977, Accuracy - 97.6630%, Validation : Loss - 0.2246, Accuracy - 89.9582%, Time: 24.3950s\n",
            "Epoch-46 learning rate: 2.7e-06\n",
            "Epoch: 48/100\n",
            "Epoch : 048, Training: Loss - 0.0882, Accuracy - 97.7860%, Validation : Loss - 0.2278, Accuracy - 92.0502%, Time: 24.5280s\n",
            "Epoch-47 learning rate: 2.7e-06\n",
            "Epoch: 49/100\n",
            "Epoch : 049, Training: Loss - 0.0783, Accuracy - 98.7700%, Validation : Loss - 0.2238, Accuracy - 90.7950%, Time: 24.5013s\n",
            "Epoch-48 learning rate: 2.7e-06\n",
            "Epoch: 50/100\n",
            "Epoch : 050, Training: Loss - 0.0660, Accuracy - 99.0160%, Validation : Loss - 0.2188, Accuracy - 92.0502%, Time: 24.3529s\n",
            "Epoch-49 learning rate: 2.7e-06\n",
            "Epoch: 51/100\n",
            "Epoch : 051, Training: Loss - 0.0636, Accuracy - 98.8930%, Validation : Loss - 0.2175, Accuracy - 90.7950%, Time: 24.4085s\n",
            "Epoch-50 learning rate: 2.7e-06\n",
            "Epoch: 52/100\n",
            "Epoch : 052, Training: Loss - 0.0585, Accuracy - 99.1390%, Validation : Loss - 0.2141, Accuracy - 91.6318%, Time: 24.4425s\n",
            "Epoch-51 learning rate: 2.7e-06\n",
            "Epoch: 53/100\n",
            "Epoch : 053, Training: Loss - 0.0583, Accuracy - 98.8930%, Validation : Loss - 0.2236, Accuracy - 89.9582%, Time: 24.4227s\n",
            "Epoch-52 learning rate: 2.7e-06\n",
            "Epoch: 54/100\n",
            "Epoch : 054, Training: Loss - 0.0510, Accuracy - 99.1390%, Validation : Loss - 0.2147, Accuracy - 91.2134%, Time: 24.4063s\n",
            "Epoch-53 learning rate: 2.7e-06\n",
            "Epoch: 55/100\n",
            "Epoch : 055, Training: Loss - 0.0596, Accuracy - 99.0160%, Validation : Loss - 0.2109, Accuracy - 90.7950%, Time: 24.3789s\n",
            "Epoch-54 learning rate: 2.7e-06\n",
            "Epoch: 56/100\n",
            "Epoch : 056, Training: Loss - 0.0524, Accuracy - 98.8930%, Validation : Loss - 0.2104, Accuracy - 90.7950%, Time: 24.4190s\n",
            "Epoch-55 learning rate: 2.7e-06\n",
            "Epoch: 57/100\n",
            "Epoch : 057, Training: Loss - 0.0509, Accuracy - 99.0160%, Validation : Loss - 0.2129, Accuracy - 89.9582%, Time: 24.3999s\n",
            "Epoch-56 learning rate: 2.7e-06\n",
            "Epoch: 58/100\n",
            "Epoch : 058, Training: Loss - 0.0656, Accuracy - 98.1550%, Validation : Loss - 0.2117, Accuracy - 92.0502%, Time: 24.4046s\n",
            "Epoch-57 learning rate: 2.7e-06\n",
            "Epoch: 59/100\n",
            "Epoch : 059, Training: Loss - 0.0589, Accuracy - 98.2780%, Validation : Loss - 0.2022, Accuracy - 92.0502%, Time: 24.3941s\n",
            "Epoch-58 learning rate: 2.7e-06\n",
            "Epoch: 60/100\n",
            "Epoch : 060, Training: Loss - 0.0398, Accuracy - 99.5080%, Validation : Loss - 0.2028, Accuracy - 92.0502%, Time: 24.4164s\n",
            "Epoch-59 learning rate: 2.7e-06\n",
            "Epoch: 61/100\n",
            "Epoch : 061, Training: Loss - 0.0362, Accuracy - 99.3850%, Validation : Loss - 0.2061, Accuracy - 92.8870%, Time: 24.3933s\n",
            "Epoch-60 learning rate: 2.7e-06\n",
            "Epoch: 62/100\n",
            "Epoch : 062, Training: Loss - 0.0409, Accuracy - 99.2620%, Validation : Loss - 0.2071, Accuracy - 91.2134%, Time: 24.5323s\n",
            "Epoch-61 learning rate: 2.7e-06\n",
            "Epoch: 63/100\n",
            "Epoch : 063, Training: Loss - 0.0489, Accuracy - 99.1390%, Validation : Loss - 0.2044, Accuracy - 91.2134%, Time: 24.4640s\n",
            "Epoch-62 learning rate: 2.43e-06\n",
            "Epoch: 64/100\n",
            "Epoch : 064, Training: Loss - 0.0510, Accuracy - 98.8930%, Validation : Loss - 0.2077, Accuracy - 94.1423%, Time: 24.3802s\n",
            "Epoch-63 learning rate: 2.43e-06\n",
            "Epoch: 65/100\n",
            "Epoch : 065, Training: Loss - 0.0542, Accuracy - 98.4010%, Validation : Loss - 0.2140, Accuracy - 89.5397%, Time: 24.3687s\n",
            "Epoch-64 learning rate: 2.43e-06\n",
            "Epoch: 66/100\n",
            "Epoch : 066, Training: Loss - 0.0366, Accuracy - 99.5080%, Validation : Loss - 0.2182, Accuracy - 89.9582%, Time: 24.4700s\n",
            "Epoch-65 learning rate: 2.43e-06\n",
            "Epoch: 67/100\n",
            "Epoch : 067, Training: Loss - 0.0404, Accuracy - 99.3850%, Validation : Loss - 0.2072, Accuracy - 92.8870%, Time: 24.4433s\n",
            "Epoch-66 learning rate: 2.187e-06\n",
            "Epoch: 68/100\n",
            "Epoch : 068, Training: Loss - 0.0424, Accuracy - 99.1390%, Validation : Loss - 0.2153, Accuracy - 89.9582%, Time: 24.4624s\n",
            "Epoch-67 learning rate: 2.187e-06\n",
            "Epoch: 69/100\n",
            "Epoch : 069, Training: Loss - 0.0376, Accuracy - 99.1390%, Validation : Loss - 0.2065, Accuracy - 92.8870%, Time: 24.3458s\n",
            "Epoch-68 learning rate: 2.187e-06\n",
            "Epoch: 70/100\n",
            "Epoch : 070, Training: Loss - 0.0457, Accuracy - 98.8930%, Validation : Loss - 0.2048, Accuracy - 92.4686%, Time: 24.5000s\n",
            "Epoch-69 learning rate: 2.187e-06\n",
            "Epoch: 71/100\n",
            "Epoch : 071, Training: Loss - 0.0341, Accuracy - 99.5080%, Validation : Loss - 0.2083, Accuracy - 92.8870%, Time: 24.4576s\n",
            "Epoch-70 learning rate: 1.9683e-06\n",
            "Epoch: 72/100\n",
            "Epoch : 072, Training: Loss - 0.0283, Accuracy - 99.6310%, Validation : Loss - 0.2095, Accuracy - 89.5397%, Time: 24.4679s\n",
            "Epoch-71 learning rate: 1.9683e-06\n",
            "Epoch: 73/100\n",
            "Epoch : 073, Training: Loss - 0.0331, Accuracy - 99.5080%, Validation : Loss - 0.2062, Accuracy - 94.1423%, Time: 24.3706s\n",
            "Epoch-72 learning rate: 1.9683e-06\n",
            "Epoch: 74/100\n",
            "Epoch : 074, Training: Loss - 0.0306, Accuracy - 99.5080%, Validation : Loss - 0.2078, Accuracy - 90.3766%, Time: 24.3648s\n",
            "Epoch-73 learning rate: 1.9683e-06\n",
            "Epoch: 75/100\n",
            "Epoch : 075, Training: Loss - 0.0379, Accuracy - 99.2620%, Validation : Loss - 0.2033, Accuracy - 90.3766%, Time: 24.6215s\n",
            "Epoch-74 learning rate: 1.77147e-06\n",
            "Epoch: 76/100\n",
            "Epoch : 076, Training: Loss - 0.0328, Accuracy - 99.3850%, Validation : Loss - 0.2135, Accuracy - 90.3766%, Time: 24.8786s\n",
            "Epoch-75 learning rate: 1.77147e-06\n",
            "Epoch: 77/100\n",
            "Epoch : 077, Training: Loss - 0.0309, Accuracy - 99.6310%, Validation : Loss - 0.2086, Accuracy - 91.2134%, Time: 24.7496s\n",
            "Epoch-76 learning rate: 1.77147e-06\n",
            "Epoch: 78/100\n",
            "Epoch : 078, Training: Loss - 0.0296, Accuracy - 99.5080%, Validation : Loss - 0.2040, Accuracy - 92.4686%, Time: 24.6482s\n",
            "Epoch-77 learning rate: 1.77147e-06\n",
            "Epoch: 79/100\n",
            "Epoch : 079, Training: Loss - 0.0368, Accuracy - 99.0160%, Validation : Loss - 0.2094, Accuracy - 92.0502%, Time: 24.6179s\n",
            "Epoch-78 learning rate: 1.594323e-06\n",
            "Epoch: 80/100\n",
            "Epoch : 080, Training: Loss - 0.0353, Accuracy - 99.5080%, Validation : Loss - 0.2095, Accuracy - 92.0502%, Time: 24.5701s\n",
            "Epoch-79 learning rate: 1.594323e-06\n",
            "Epoch: 81/100\n",
            "Epoch : 081, Training: Loss - 0.0256, Accuracy - 99.5080%, Validation : Loss - 0.2097, Accuracy - 92.8870%, Time: 24.5328s\n",
            "Epoch-80 learning rate: 1.594323e-06\n",
            "Epoch: 82/100\n",
            "Epoch : 082, Training: Loss - 0.0343, Accuracy - 99.3850%, Validation : Loss - 0.2122, Accuracy - 92.8870%, Time: 24.5850s\n",
            "Epoch-81 learning rate: 1.594323e-06\n",
            "Epoch: 83/100\n",
            "Epoch : 083, Training: Loss - 0.0339, Accuracy - 99.3850%, Validation : Loss - 0.2102, Accuracy - 92.0502%, Time: 24.5236s\n",
            "Epoch-82 learning rate: 1.4348907e-06\n",
            "Epoch: 84/100\n",
            "Epoch : 084, Training: Loss - 0.0293, Accuracy - 99.6310%, Validation : Loss - 0.2121, Accuracy - 91.6318%, Time: 24.5277s\n",
            "Epoch-83 learning rate: 1.4348907e-06\n",
            "Epoch: 85/100\n",
            "Epoch : 085, Training: Loss - 0.0223, Accuracy - 99.6310%, Validation : Loss - 0.2067, Accuracy - 92.0502%, Time: 24.5281s\n",
            "Epoch-84 learning rate: 1.4348907e-06\n",
            "Epoch: 86/100\n",
            "Epoch : 086, Training: Loss - 0.0217, Accuracy - 99.7540%, Validation : Loss - 0.2090, Accuracy - 92.0502%, Time: 24.5029s\n",
            "Epoch-85 learning rate: 1.4348907e-06\n",
            "Epoch: 87/100\n",
            "Epoch : 087, Training: Loss - 0.0296, Accuracy - 99.3850%, Validation : Loss - 0.2136, Accuracy - 93.7238%, Time: 24.5314s\n",
            "Epoch-86 learning rate: 1.29140163e-06\n",
            "Epoch: 88/100\n",
            "Epoch : 088, Training: Loss - 0.0361, Accuracy - 98.8930%, Validation : Loss - 0.2096, Accuracy - 92.4686%, Time: 24.5009s\n",
            "Epoch-87 learning rate: 1.29140163e-06\n",
            "Epoch: 89/100\n",
            "Epoch : 089, Training: Loss - 0.0276, Accuracy - 99.3850%, Validation : Loss - 0.2189, Accuracy - 90.7950%, Time: 24.4242s\n",
            "Epoch-88 learning rate: 1.29140163e-06\n",
            "Epoch: 90/100\n",
            "Epoch : 090, Training: Loss - 0.0340, Accuracy - 99.2620%, Validation : Loss - 0.2100, Accuracy - 92.0502%, Time: 24.4881s\n",
            "Epoch-89 learning rate: 1.29140163e-06\n",
            "Epoch: 91/100\n",
            "Epoch : 091, Training: Loss - 0.0307, Accuracy - 99.3850%, Validation : Loss - 0.2120, Accuracy - 92.0502%, Time: 24.5231s\n",
            "Epoch-90 learning rate: 1.162261467e-06\n",
            "Epoch: 92/100\n",
            "Epoch : 092, Training: Loss - 0.0224, Accuracy - 99.5080%, Validation : Loss - 0.2112, Accuracy - 91.6318%, Time: 24.5667s\n",
            "Epoch-91 learning rate: 1.162261467e-06\n",
            "Epoch: 93/100\n",
            "Epoch : 093, Training: Loss - 0.0230, Accuracy - 99.3850%, Validation : Loss - 0.2138, Accuracy - 91.6318%, Time: 24.5265s\n",
            "Epoch-92 learning rate: 1.162261467e-06\n",
            "Epoch: 94/100\n",
            "Epoch : 094, Training: Loss - 0.0259, Accuracy - 99.5080%, Validation : Loss - 0.2116, Accuracy - 92.0502%, Time: 24.5093s\n",
            "Epoch-93 learning rate: 1.162261467e-06\n",
            "Epoch: 95/100\n",
            "Epoch : 095, Training: Loss - 0.0241, Accuracy - 99.5080%, Validation : Loss - 0.2067, Accuracy - 91.6318%, Time: 24.5680s\n",
            "Epoch-94 learning rate: 1.0460353203e-06\n",
            "Epoch: 96/100\n",
            "Epoch : 096, Training: Loss - 0.0207, Accuracy - 99.5080%, Validation : Loss - 0.2122, Accuracy - 92.4686%, Time: 24.5336s\n",
            "Epoch-95 learning rate: 1.0460353203e-06\n",
            "Epoch: 97/100\n",
            "Epoch : 097, Training: Loss - 0.0155, Accuracy - 99.8770%, Validation : Loss - 0.2199, Accuracy - 90.7950%, Time: 24.4926s\n",
            "Epoch-96 learning rate: 1.0460353203e-06\n",
            "Epoch: 98/100\n",
            "Epoch : 098, Training: Loss - 0.0387, Accuracy - 99.1390%, Validation : Loss - 0.2162, Accuracy - 92.8870%, Time: 24.4947s\n",
            "Epoch-97 learning rate: 1.0460353203e-06\n",
            "Epoch: 99/100\n",
            "Epoch : 099, Training: Loss - 0.0251, Accuracy - 99.7540%, Validation : Loss - 0.2080, Accuracy - 93.7238%, Time: 24.6160s\n",
            "Epoch-98 learning rate: 9.4143178827e-07\n",
            "Epoch: 100/100\n",
            "Epoch : 100, Training: Loss - 0.0259, Accuracy - 99.3850%, Validation : Loss - 0.2099, Accuracy - 93.7238%, Time: 24.5303s\n",
            "Epoch-99 learning rate: 9.4143178827e-07\n"
          ],
          "name": "stdout"
        }
      ]
    },
    {
      "cell_type": "code",
      "metadata": {
        "id": "HigTVpI3JjHv",
        "colab": {
          "base_uri": "https://localhost:8080/"
        },
        "outputId": "a596c64c-6c27-4615-d4aa-22b7e17fe0bb"
      },
      "source": [
        "print(\"Thoi gian training: \",end-start)"
      ],
      "execution_count": 16,
      "outputs": [
        {
          "output_type": "stream",
          "text": [
            "Thoi gian training:  2455.149657726288\n"
          ],
          "name": "stdout"
        }
      ]
    },
    {
      "cell_type": "code",
      "metadata": {
        "id": "j4Br59veWAkU",
        "colab": {
          "base_uri": "https://localhost:8080/"
        },
        "outputId": "34949a3a-c644-41ce-efc3-c53d97d70ee1"
      },
      "source": [
        "#save model\n",
        "import time\n",
        "from datetime import date\n",
        "today = date.today()\n",
        "d1 = today.strftime(\"%d%m%Y\")\n",
        "print(\"d1 =\", d1)\n",
        "torch.save(trained_model, '/content/drive/My Drive/DetectBrainTumor/model/pytorch/model_denseNet201_'+str(d1)+'.pt')"
      ],
      "execution_count": 17,
      "outputs": [
        {
          "output_type": "stream",
          "text": [
            "d1 = 27062021\n"
          ],
          "name": "stdout"
        }
      ]
    },
    {
      "cell_type": "code",
      "metadata": {
        "id": "nVVgUij9WCGA"
      },
      "source": [
        "import pickle\n",
        "with open('/content/drive/My Drive/DetectBrainTumor/result/pytorch/history_denseNet201.pickle', 'wb') as f:\n",
        "    pickle.dump(history, f)\n",
        "\n",
        "# with open('/content/drive/My Drive/DetectBrainTumor/result/pytorch/time_denseNet201.pickle', 'wb') as f:\n",
        "#     pickle.dump(arr_time, f)"
      ],
      "execution_count": 18,
      "outputs": []
    },
    {
      "cell_type": "code",
      "metadata": {
        "id": "vHLlLgl5iqEp"
      },
      "source": [
        "loss_train = []\n",
        "loss_val = []\n",
        "acc_train = []\n",
        "acc_val = []\n",
        "\n",
        "for i in range(len(history)):\n",
        "  loss_train.append(history[i][0])\n",
        "  loss_val.append(history[i][1])\n",
        "  acc_train.append(history[i][2])\n",
        "  acc_val.append(history[i][3])"
      ],
      "execution_count": 19,
      "outputs": []
    },
    {
      "cell_type": "code",
      "metadata": {
        "id": "pB0-ZXLqI5fZ",
        "colab": {
          "base_uri": "https://localhost:8080/",
          "height": 457
        },
        "outputId": "9b3285c2-347b-4dda-9671-6113ac115aaa"
      },
      "source": [
        "# summarize history for accuracy\n",
        "\n",
        "fig,a =  plt.subplots(1, 2, figsize=(16,7))\n",
        "a[0].plot(acc_train)\n",
        "a[0].plot(acc_val)\n",
        "a[0].set_title('model accuracy')\n",
        "a[0].set_ylabel('accuracy')\n",
        "a[0].set_xlabel('epoch')\n",
        "a[0].legend(['train', 'val'], loc='upper left')\n",
        "# summarize history for loss for epoch\n",
        "# plt.figure(figsize=(10,10))\n",
        "a[1].plot(loss_train)\n",
        "a[1].plot(loss_val)\n",
        "a[1].set_title('model loss')\n",
        "a[1].set_ylabel('loss')\n",
        "a[1].set_xlabel('epoch')\n",
        "a[1].legend(['train', 'val'], loc='upper left')\n",
        "plt.show()"
      ],
      "execution_count": 20,
      "outputs": [
        {
          "output_type": "display_data",
          "data": {
            "image/png": "[encoded data removed]",
            "text/plain": [
              "<Figure size 1152x504 with 2 Axes>"
            ]
          },
          "metadata": {
            "tags": [],
            "needs_background": "light"
          }
        }
      ]
    },
    {
      "cell_type": "code",
      "metadata": {
        "id": "YUHEFsAtvtp4"
      },
      "source": [
        "# # Specify a path\n",
        "# dir_model = '/content/drive/My Drive/DetectBrainTumor/model/pytorch/densenet201_adam.pt'\n",
        "# # Save\n",
        "# torch.save(trained_model, dir_model)"
      ],
      "execution_count": 21,
      "outputs": []
    },
    {
      "cell_type": "code",
      "metadata": {
        "id": "Nlwc2LYwxxIr"
      },
      "source": [
        "# from PIL import Image\n",
        "# from pathlib import Path\n",
        "\n",
        "# # Load\n",
        "# model_densenet = torch.load(dir_model)\n",
        "# model_densenet.eval()\n",
        "\n",
        "# test_transform = transforms.Compose([\n",
        "#         transforms.Resize(size=256),\n",
        "#         transforms.CenterCrop(size=224),\n",
        "#         transforms.ToTensor(),\n",
        "#         transforms.Normalize([0.485, 0.456, 0.406],\n",
        "#                              [0.229, 0.224, 0.225])\n",
        "#     ])\n",
        "\n",
        "\n",
        "# path = \"/content/drive/My Drive/DetectBrainTumor/data_05052021/\"\n",
        "# path = \"/content/drive/My Drive/DetectBrainTumor/data_24062021/\"\n",
        "\n",
        "# test_data = datasets.ImageFolder(path, transform=test_transform)  \n",
        "\n",
        "# test_loader = torch.utils.data.DataLoader(test_data, batch_size=16, shuffle=False)\n",
        "\n",
        "# # image = Image.open(Path('/content/drive/My Drive/DetectBrainTumor/data_05052021/NO/IMG-0001-00012.jpg'))\n",
        "# # image = Image.open('/content/drive/My Drive/DetectBrainTumor/data_05052021/NO/IMG-0001-00012.jpg')\n",
        "# # input = test_transform(image)\n",
        "# # input = input.unsquueeze(0)\n",
        "\n",
        "# with torch.no_grad():\n",
        "#     correct = 0\n",
        "#     total = 0\n",
        "#     for images, labels in test_loader:\n",
        "#         images = images.to(device)\n",
        "#         labels = labels.to(device)\n",
        "#         outputs = model_densenet(images)\n",
        "#         _, predicted = torch.max(outputs.data, 1)\n",
        "#         # print(outputs)\n",
        "#         total += labels.size(0)\n",
        "#         correct += (predicted == labels).sum().item()\n",
        "          \n",
        "#     print('Test Accuracy of the model: {} %'.format(100 * correct / total))"
      ],
      "execution_count": 22,
      "outputs": []
    }
  ]
}