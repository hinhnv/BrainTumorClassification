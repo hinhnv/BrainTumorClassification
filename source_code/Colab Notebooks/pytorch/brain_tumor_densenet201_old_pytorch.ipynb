{
  "nbformat": 4,
  "nbformat_minor": 0,
  "metadata": {
    "accelerator": "GPU",
    "colab": {
      "name": "brain_tumor_densenet201_old_pytorch.ipynb",
      "provenance": [],
      "collapsed_sections": []
    },
    "kernelspec": {
      "display_name": "Python 3",
      "name": "python3"
    },
    "language_info": {
      "name": "python"
    },
    "widgets": {
      "application/vnd.jupyter.widget-state+json": {
        "7128c0914e7640abadcda9f749d04e66": {
          "model_module": "@jupyter-widgets/controls",
          "model_name": "HBoxModel",
          "state": {
            "_view_name": "HBoxView",
            "_dom_classes": [],
            "_model_name": "HBoxModel",
            "_view_module": "@jupyter-widgets/controls",
            "_model_module_version": "1.5.0",
            "_view_count": null,
            "_view_module_version": "1.5.0",
            "box_style": "",
            "layout": "IPY_MODEL_fe7cd3fb3fa041418ab36655a2c6fa83",
            "_model_module": "@jupyter-widgets/controls",
            "children": [
              "IPY_MODEL_5da12472145f4af5b5b294df4b61cec2",
              "IPY_MODEL_bfc5991d4744420ea59909e2c7c1b207"
            ]
          }
        },
        "fe7cd3fb3fa041418ab36655a2c6fa83": {
          "model_module": "@jupyter-widgets/base",
          "model_name": "LayoutModel",
          "state": {
            "_view_name": "LayoutView",
            "grid_template_rows": null,
            "right": null,
            "justify_content": null,
            "_view_module": "@jupyter-widgets/base",
            "overflow": null,
            "_model_module_version": "1.2.0",
            "_view_count": null,
            "flex_flow": null,
            "width": null,
            "min_width": null,
            "border": null,
            "align_items": null,
            "bottom": null,
            "_model_module": "@jupyter-widgets/base",
            "top": null,
            "grid_column": null,
            "overflow_y": null,
            "overflow_x": null,
            "grid_auto_flow": null,
            "grid_area": null,
            "grid_template_columns": null,
            "flex": null,
            "_model_name": "LayoutModel",
            "justify_items": null,
            "grid_row": null,
            "max_height": null,
            "align_content": null,
            "visibility": null,
            "align_self": null,
            "height": null,
            "min_height": null,
            "padding": null,
            "grid_auto_rows": null,
            "grid_gap": null,
            "max_width": null,
            "order": null,
            "_view_module_version": "1.2.0",
            "grid_template_areas": null,
            "object_position": null,
            "object_fit": null,
            "grid_auto_columns": null,
            "margin": null,
            "display": null,
            "left": null
          }
        },
        "5da12472145f4af5b5b294df4b61cec2": {
          "model_module": "@jupyter-widgets/controls",
          "model_name": "FloatProgressModel",
          "state": {
            "_view_name": "ProgressView",
            "style": "IPY_MODEL_b40f9b6eab1649dd80d9db8ccc2146a6",
            "_dom_classes": [],
            "description": "100%",
            "_model_name": "FloatProgressModel",
            "bar_style": "success",
            "max": 81131730,
            "_view_module": "@jupyter-widgets/controls",
            "_model_module_version": "1.5.0",
            "value": 81131730,
            "_view_count": null,
            "_view_module_version": "1.5.0",
            "orientation": "horizontal",
            "min": 0,
            "description_tooltip": null,
            "_model_module": "@jupyter-widgets/controls",
            "layout": "IPY_MODEL_56ce944f4b8344ecac2fe1ec745e8a70"
          }
        },
        "bfc5991d4744420ea59909e2c7c1b207": {
          "model_module": "@jupyter-widgets/controls",
          "model_name": "HTMLModel",
          "state": {
            "_view_name": "HTMLView",
            "style": "IPY_MODEL_fcc6d9ae94364285b36dee7b6433295b",
            "_dom_classes": [],
            "description": "",
            "_model_name": "HTMLModel",
            "placeholder": "​",
            "_view_module": "@jupyter-widgets/controls",
            "_model_module_version": "1.5.0",
            "value": " 77.4M/77.4M [00:00&lt;00:00, 150MB/s]",
            "_view_count": null,
            "_view_module_version": "1.5.0",
            "description_tooltip": null,
            "_model_module": "@jupyter-widgets/controls",
            "layout": "IPY_MODEL_c5675ab0b918464ba490072f90ff3b67"
          }
        },
        "b40f9b6eab1649dd80d9db8ccc2146a6": {
          "model_module": "@jupyter-widgets/controls",
          "model_name": "ProgressStyleModel",
          "state": {
            "_view_name": "StyleView",
            "_model_name": "ProgressStyleModel",
            "description_width": "initial",
            "_view_module": "@jupyter-widgets/base",
            "_model_module_version": "1.5.0",
            "_view_count": null,
            "_view_module_version": "1.2.0",
            "bar_color": null,
            "_model_module": "@jupyter-widgets/controls"
          }
        },
        "56ce944f4b8344ecac2fe1ec745e8a70": {
          "model_module": "@jupyter-widgets/base",
          "model_name": "LayoutModel",
          "state": {
            "_view_name": "LayoutView",
            "grid_template_rows": null,
            "right": null,
            "justify_content": null,
            "_view_module": "@jupyter-widgets/base",
            "overflow": null,
            "_model_module_version": "1.2.0",
            "_view_count": null,
            "flex_flow": null,
            "width": null,
            "min_width": null,
            "border": null,
            "align_items": null,
            "bottom": null,
            "_model_module": "@jupyter-widgets/base",
            "top": null,
            "grid_column": null,
            "overflow_y": null,
            "overflow_x": null,
            "grid_auto_flow": null,
            "grid_area": null,
            "grid_template_columns": null,
            "flex": null,
            "_model_name": "LayoutModel",
            "justify_items": null,
            "grid_row": null,
            "max_height": null,
            "align_content": null,
            "visibility": null,
            "align_self": null,
            "height": null,
            "min_height": null,
            "padding": null,
            "grid_auto_rows": null,
            "grid_gap": null,
            "max_width": null,
            "order": null,
            "_view_module_version": "1.2.0",
            "grid_template_areas": null,
            "object_position": null,
            "object_fit": null,
            "grid_auto_columns": null,
            "margin": null,
            "display": null,
            "left": null
          }
        },
        "fcc6d9ae94364285b36dee7b6433295b": {
          "model_module": "@jupyter-widgets/controls",
          "model_name": "DescriptionStyleModel",
          "state": {
            "_view_name": "StyleView",
            "_model_name": "DescriptionStyleModel",
            "description_width": "",
            "_view_module": "@jupyter-widgets/base",
            "_model_module_version": "1.5.0",
            "_view_count": null,
            "_view_module_version": "1.2.0",
            "_model_module": "@jupyter-widgets/controls"
          }
        },
        "c5675ab0b918464ba490072f90ff3b67": {
          "model_module": "@jupyter-widgets/base",
          "model_name": "LayoutModel",
          "state": {
            "_view_name": "LayoutView",
            "grid_template_rows": null,
            "right": null,
            "justify_content": null,
            "_view_module": "@jupyter-widgets/base",
            "overflow": null,
            "_model_module_version": "1.2.0",
            "_view_count": null,
            "flex_flow": null,
            "width": null,
            "min_width": null,
            "border": null,
            "align_items": null,
            "bottom": null,
            "_model_module": "@jupyter-widgets/base",
            "top": null,
            "grid_column": null,
            "overflow_y": null,
            "overflow_x": null,
            "grid_auto_flow": null,
            "grid_area": null,
            "grid_template_columns": null,
            "flex": null,
            "_model_name": "LayoutModel",
            "justify_items": null,
            "grid_row": null,
            "max_height": null,
            "align_content": null,
            "visibility": null,
            "align_self": null,
            "height": null,
            "min_height": null,
            "padding": null,
            "grid_auto_rows": null,
            "grid_gap": null,
            "max_width": null,
            "order": null,
            "_view_module_version": "1.2.0",
            "grid_template_areas": null,
            "object_position": null,
            "object_fit": null,
            "grid_auto_columns": null,
            "margin": null,
            "display": null,
            "left": null
          }
        }
      }
    }
  },
  "cells": [
    {
      "cell_type": "code",
      "metadata": {
        "colab": {
          "base_uri": "https://localhost:8080/"
        },
        "id": "al_XWgRp3EzB",
        "outputId": "2e6c9d6b-1677-46b3-b7df-8acfdd7a139a"
      },
      "source": [
        "from google.colab import drive\n",
        "drive.mount('/content/drive')"
      ],
      "execution_count": 1,
      "outputs": [
        {
          "output_type": "stream",
          "text": [
            "Mounted at /content/drive\n"
          ],
          "name": "stdout"
        }
      ]
    },
    {
      "cell_type": "code",
      "metadata": {
        "colab": {
          "base_uri": "https://localhost:8080/"
        },
        "id": "GPMeqQO6AP2D",
        "outputId": "68c4b4ee-e79f-4484-9a0f-0de84eacf44f"
      },
      "source": [
        "%cd /content/drive/My Drive/Adas/src\n",
        "from adas import Adas"
      ],
      "execution_count": 2,
      "outputs": [
        {
          "output_type": "stream",
          "text": [
            "/content/drive/My Drive/Adas/src\n"
          ],
          "name": "stdout"
        }
      ]
    },
    {
      "cell_type": "code",
      "metadata": {
        "id": "jrQMAMh7ARMZ"
      },
      "source": [
        "import matplotlib.pyplot as plt\n",
        "from torchvision import datasets, models, transforms\n",
        "import helper\n",
        "import torch.nn as nn\n",
        "import torch.nn.functional as F\n",
        "import torch.optim as optim\n",
        "\n",
        "from torchvision import datasets\n",
        "from torchvision import transforms\n",
        "import matplotlib.pyplot as plt\n",
        "import torch, torchvision\n",
        "from torch.utils.data import DataLoader\n",
        "import time\n",
        "from torchsummary import summary\n",
        "import numpy as np\n",
        "import os\n",
        "\n",
        "from PIL import Image"
      ],
      "execution_count": 3,
      "outputs": []
    },
    {
      "cell_type": "code",
      "metadata": {
        "id": "B_IymEbSAWFo"
      },
      "source": [
        "IMAGE_SIZE = 256\n",
        "batch_size = 16\n",
        "\n",
        "# DATADIR_TRAIN = \"/content/drive/My Drive/DetectBrainTumor/data_15062021/T2_Train/\"\n",
        "# DATADIR_VAL = \"/content/drive/My Drive/DetectBrainTumor/data_15062021/T2_Val/\"\n",
        "\n",
        "DATADIR_TRAIN = \"/content/drive/My Drive/DetectBrainTumor/data_1_19052021/T2_Train/\"\n",
        "DATADIR_VAL = \"/content/drive/My Drive/DetectBrainTumor/data_1_19052021/T2_Val/\""
      ],
      "execution_count": 4,
      "outputs": []
    },
    {
      "cell_type": "code",
      "metadata": {
        "id": "_dG28e-KICv6"
      },
      "source": [
        "# Applying Transforms to the Data\n",
        "train_transform = transforms.Compose([\n",
        "        transforms.RandomResizedCrop(size=256, scale=(0.8, 1.0)),\n",
        "        transforms.RandomRotation(degrees=15),\n",
        "        transforms.RandomHorizontalFlip(),\n",
        "        transforms.CenterCrop(size=224),\n",
        "        transforms.ToTensor(),\n",
        "        transforms.Normalize([0.485, 0.456, 0.406],\n",
        "                             [0.229, 0.224, 0.225])\n",
        "    ])\n",
        "\n",
        "test_transform = transforms.Compose([\n",
        "        transforms.Resize(size=256),\n",
        "        transforms.CenterCrop(size=224),\n",
        "        transforms.ToTensor(),\n",
        "        transforms.Normalize([0.485, 0.456, 0.406],\n",
        "                             [0.229, 0.224, 0.225])\n",
        "    ])"
      ],
      "execution_count": 5,
      "outputs": []
    },
    {
      "cell_type": "code",
      "metadata": {
        "id": "8JuOKAOLAi0X"
      },
      "source": [
        "train_data = datasets.ImageFolder(DATADIR_TRAIN, transform=train_transform)                                       \n",
        "val_data = datasets.ImageFolder(DATADIR_VAL, transform=test_transform)\n",
        "\n",
        "#Data Loading\n",
        "train_loader = torch.utils.data.DataLoader(train_data, batch_size=batch_size, shuffle=True)\n",
        "val_loader = torch.utils.data.DataLoader(val_data, batch_size=batch_size, shuffle=True)"
      ],
      "execution_count": 6,
      "outputs": []
    },
    {
      "cell_type": "code",
      "metadata": {
        "id": "aOZ-WlKeJUnb"
      },
      "source": [
        "classes = ('YES', 'NO')"
      ],
      "execution_count": 7,
      "outputs": []
    },
    {
      "cell_type": "code",
      "metadata": {
        "id": "kTT7H1l_NvJr"
      },
      "source": [
        "train_data_size = len(train_data)\n",
        "test_data_size = len(val_data)"
      ],
      "execution_count": 8,
      "outputs": []
    },
    {
      "cell_type": "code",
      "metadata": {
        "id": "JP2vIpVTXMPE"
      },
      "source": [
        "device = torch.device(\"cuda:0\" if torch.cuda.is_available() else \"cpu\")"
      ],
      "execution_count": 9,
      "outputs": []
    },
    {
      "cell_type": "code",
      "metadata": {
        "id": "CJAOJSrCDEdY",
        "colab": {
          "base_uri": "https://localhost:8080/",
          "height": 84,
          "referenced_widgets": [
            "7128c0914e7640abadcda9f749d04e66",
            "fe7cd3fb3fa041418ab36655a2c6fa83",
            "5da12472145f4af5b5b294df4b61cec2",
            "bfc5991d4744420ea59909e2c7c1b207",
            "b40f9b6eab1649dd80d9db8ccc2146a6",
            "56ce944f4b8344ecac2fe1ec745e8a70",
            "fcc6d9ae94364285b36dee7b6433295b",
            "c5675ab0b918464ba490072f90ff3b67"
          ]
        },
        "outputId": "60beec7a-37c6-47a2-89c7-daf4a39c96fd"
      },
      "source": [
        "# Load pretrained DenseNet201 Model\n",
        "model_class = models.densenet201(pretrained=True)\n",
        "\n",
        "# Freeze model parameters\n",
        "# for param in model_class.parameters():\n",
        "#     param.requires_grad = False"
      ],
      "execution_count": 10,
      "outputs": [
        {
          "output_type": "stream",
          "text": [
            "Downloading: \"https://download.pytorch.org/models/densenet201-c1103571.pth\" to /root/.cache/torch/hub/checkpoints/densenet201-c1103571.pth\n"
          ],
          "name": "stderr"
        },
        {
          "output_type": "display_data",
          "data": {
            "application/vnd.jupyter.widget-view+json": {
              "model_id": "7128c0914e7640abadcda9f749d04e66",
              "version_minor": 0,
              "version_major": 2
            },
            "text/plain": [
              "HBox(children=(FloatProgress(value=0.0, max=81131730.0), HTML(value='')))"
            ]
          },
          "metadata": {
            "tags": []
          }
        },
        {
          "output_type": "stream",
          "text": [
            "\n"
          ],
          "name": "stdout"
        }
      ]
    },
    {
      "cell_type": "code",
      "metadata": {
        "id": "qWHwvjeWOVSJ"
      },
      "source": [
        "# Freeze layers 1-6 in total 10 layers of DenseNet201\n",
        "# ct = 0\n",
        "# for child in model_class.children():\n",
        "#   ct += 1\n",
        "#   if ct < 7:\n",
        "#       for param in child.parameters():\n",
        "#           param.requires_grad = False"
      ],
      "execution_count": 11,
      "outputs": []
    },
    {
      "cell_type": "code",
      "metadata": {
        "id": "nE_07JDiOW8w"
      },
      "source": [
        "# Change the final layer of DenseNet201 Model for Transfer Learning\n",
        "classifier_input = model_class.classifier.in_features\n",
        "\n",
        "model_class.classifier = nn.Sequential(\n",
        "    nn.Linear(classifier_input, 128),\n",
        "    nn.ReLU(),\n",
        "    nn.Dropout(0.3),\n",
        "    nn.Flatten(),\n",
        "    nn.Dropout(0.5),\n",
        "    nn.Linear(128, 2), # Since 100 possible outputs\n",
        "    nn.LogSoftmax(dim=1) # For using NLLLoss()\n",
        ")\n",
        "\n",
        "# Convert model to be used on GPU\n",
        "model_class = model_class.to(device)"
      ],
      "execution_count": 12,
      "outputs": []
    },
    {
      "cell_type": "code",
      "metadata": {
        "id": "Jx6C95OqFFT1"
      },
      "source": [
        "def train_and_validate(model, scheduler, loss_criterion, optimizer, epochs):\n",
        "    '''\n",
        "    Function to train and validate\n",
        "    Parameters\n",
        "        :param model: Model to train and validate\n",
        "        :param loss_criterion: Loss Criterion to minimize\n",
        "        :param optimizer: Optimizer for computing gradients\n",
        "        :param epochs: Number of epochs (default=25)\n",
        "  \n",
        "    Returns\n",
        "        model: Trained Model with best validation accuracy\n",
        "        history: (dict object): Having training loss, accuracy and validation loss, accuracy\n",
        "    '''\n",
        "    \n",
        "    start = time.time()\n",
        "    history = []\n",
        "    best_loss = 100000.0\n",
        "    best_epoch = None\n",
        "    flag = 0\n",
        "\n",
        "    for epoch in range(epochs):\n",
        "        epoch_start = time.time()\n",
        "        print(\"Epoch: {}/{}\".format(epoch+1, epochs))\n",
        "        \n",
        "        # Set to training mode\n",
        "        model.train()\n",
        "        \n",
        "        # Loss and Accuracy within the epoch\n",
        "        train_loss = 0.0\n",
        "        train_acc = 0.0\n",
        "        \n",
        "        valid_loss = 0.0\n",
        "        valid_acc = 0.0\n",
        "        \n",
        "        for i, (inputs, labels) in enumerate(train_loader):\n",
        "\n",
        "            inputs = inputs.to(device)\n",
        "            labels = labels.to(device)\n",
        "            \n",
        "            # Clean existing gradients\n",
        "            optimizer.zero_grad()\n",
        "            \n",
        "            # Forward pass - compute outputs on input data using the model\n",
        "            outputs = model(inputs)\n",
        "            \n",
        "            # Compute loss\n",
        "            loss = loss_criterion(outputs, labels)\n",
        "            \n",
        "            # Backpropagate the gradients\n",
        "            loss.backward()\n",
        "            \n",
        "            # Update the parameters\n",
        "            optimizer.step()\n",
        "            \n",
        "            \n",
        "            # Compute the total loss for the batch and add it to train_loss\n",
        "            train_loss += loss.item() * inputs.size(0)\n",
        "            \n",
        "            # Compute the accuracy\n",
        "            ret, predictions = torch.max(outputs.data, 1)\n",
        "            correct_counts = predictions.eq(labels.data.view_as(predictions))\n",
        "            \n",
        "            # Convert correct_counts to float and then compute the mean\n",
        "            acc = torch.mean(correct_counts.type(torch.FloatTensor))\n",
        "            \n",
        "            # Compute total accuracy in the whole batch and add to train_acc\n",
        "            train_acc += acc.item() * inputs.size(0)\n",
        "            \n",
        "            #print(\"Batch number: {:03d}, Training: Loss: {:.4f}, Accuracy: {:.4f}\".format(i, loss.item(), acc.item()))\n",
        "\n",
        "        \n",
        "        # Validation - No gradient tracking needed\n",
        "        with torch.no_grad():\n",
        "\n",
        "            # Set to evaluation mode\n",
        "            model.eval()\n",
        "\n",
        "            # Validation loop\n",
        "            for j, (inputs, labels) in enumerate(val_loader):\n",
        "                inputs = inputs.to(device)\n",
        "                labels = labels.to(device)\n",
        "\n",
        "                # Forward pass - compute outputs on input data using the model\n",
        "                outputs = model(inputs)\n",
        "\n",
        "                # Compute loss\n",
        "                loss = loss_criterion(outputs, labels)\n",
        "\n",
        "                # Compute the total loss for the batch and add it to valid_loss\n",
        "                valid_loss += loss.item() * inputs.size(0)\n",
        "\n",
        "                # Calculate validation accuracy\n",
        "                ret, predictions = torch.max(outputs.data, 1)\n",
        "                correct_counts = predictions.eq(labels.data.view_as(predictions))\n",
        "\n",
        "                # Convert correct_counts to float and then compute the mean\n",
        "                acc = torch.mean(correct_counts.type(torch.FloatTensor))\n",
        "\n",
        "                # Compute total accuracy in the whole batch and add to valid_acc\n",
        "                valid_acc += acc.item() * inputs.size(0)\n",
        "                # if not j%100:\n",
        "                #   print(\"Validation Batch number: {:03d}, Validation: Loss: {:.4f}, Accuracy: {:.4f}\".format(j, loss.item(), acc.item()))\n",
        "        if valid_loss < best_loss:\n",
        "            best_loss = valid_loss\n",
        "            best_epoch = epoch\n",
        "\n",
        "        # Find average training loss and training accuracy\n",
        "        avg_train_loss = train_loss/train_data_size \n",
        "        avg_train_acc = train_acc/train_data_size\n",
        "\n",
        "        # Find average training loss and training accuracy\n",
        "        avg_valid_loss = valid_loss/test_data_size \n",
        "        avg_valid_acc = valid_acc/test_data_size\n",
        "\n",
        "        history.append([avg_train_loss, avg_valid_loss, avg_train_acc, avg_valid_acc])\n",
        "                \n",
        "        epoch_end = time.time()\n",
        "    \n",
        "        print(\"Epoch : {:03d}, Training: Loss - {:.4f}, Accuracy - {:.4f}%, Validation : Loss - {:.4f}, Accuracy - {:.4f}%, Time: {:.4f}s\".format(epoch+1, avg_train_loss, avg_train_acc*100, avg_valid_loss, avg_valid_acc*100, epoch_end-epoch_start))\n",
        "\n",
        "        #reduce lr\n",
        "        \n",
        "        if avg_valid_acc*100 > 88:\n",
        "          flag = 1\n",
        "        \n",
        "        # print(flag)\n",
        "\n",
        "        if flag == 1:\n",
        "          scheduler.step(avg_valid_loss)\n",
        "        \n",
        "        print('Epoch-{0} learning rate: {1}'.format(epoch, optimizer.param_groups[0]['lr']))\n",
        "\n",
        "        # Save if the model has best accuracy till now\n",
        "        # torch.save(model, 'model_'+str(epoch)+'.pt')\n",
        "        # optimizer.epoch_step(epoch)       \n",
        "    return model, history, best_epoch"
      ],
      "execution_count": 13,
      "outputs": []
    },
    {
      "cell_type": "code",
      "metadata": {
        "id": "l9DyPd-dtyys"
      },
      "source": [
        "# Define Optimizer and Loss Function\n",
        "# loss_func = nn.NLLLoss()\n",
        "loss_func = nn.CrossEntropyLoss()\n",
        "optimizer = optim.Adam(params=list(model_class.parameters()), lr=3e-6)"
      ],
      "execution_count": 14,
      "outputs": []
    },
    {
      "cell_type": "code",
      "metadata": {
        "id": "BR6dTBifOhoW",
        "colab": {
          "base_uri": "https://localhost:8080/"
        },
        "outputId": "dba5dc9b-9353-490c-8f4e-1bd1a32c4a35"
      },
      "source": [
        "num_epochs = 100\n",
        "\n",
        "start = time.time()\n",
        "\n",
        "# trained_model, history, best_epoch = train_and_validate(model_class, loss_func, optimizer, num_epochs)\n",
        "\n",
        "# scheduler = optim.lr_scheduler.MultiStepLR(optimizer, milestones=[20,35], gamma=0.1)\n",
        "# scheduler = optim.lr_scheduler.StepLR(optimizer, step_size=2, gamma=torch.exp(-0.1))\n",
        "\n",
        "# lambda1 = lambda epoch: torch.exp(-1) ** epoch\n",
        "# scheduler = torch.optim.lr_scheduler.LambdaLR(optimizer, lr_lambda=lambda1)\n",
        "\n",
        "scheduler = torch.optim.lr_scheduler.ReduceLROnPlateau(optimizer, mode='min', factor= 0.9, patience=3, threshold=0.0001, threshold_mode='abs')\n",
        "\n",
        "trained_model, history, best_epoch = train_and_validate(model_class, scheduler, loss_func, optimizer, num_epochs)\n",
        "\n",
        "end = time.time()\n",
        "# torch.save(history, 'history.pt')"
      ],
      "execution_count": 15,
      "outputs": [
        {
          "output_type": "stream",
          "text": [
            "Epoch: 1/100\n"
          ],
          "name": "stdout"
        },
        {
          "output_type": "stream",
          "text": [
            "/usr/local/lib/python3.7/dist-packages/torch/nn/functional.py:718: UserWarning: Named tensors and all their associated APIs are an experimental feature and subject to change. Please do not use them for anything important until they are released as stable. (Triggered internally at  /pytorch/c10/core/TensorImpl.h:1156.)\n",
            "  return torch.max_pool2d(input, kernel_size, stride, padding, dilation, ceil_mode)\n"
          ],
          "name": "stderr"
        },
        {
          "output_type": "stream",
          "text": [
            "Epoch : 001, Training: Loss - 0.6971, Accuracy - 52.3985%, Validation : Loss - 0.6904, Accuracy - 52.3013%, Time: 330.2425s\n",
            "Epoch-0 learning rate: 3e-06\n",
            "Epoch: 2/100\n",
            "Epoch : 002, Training: Loss - 0.6778, Accuracy - 55.9656%, Validation : Loss - 0.6886, Accuracy - 56.9038%, Time: 29.1739s\n",
            "Epoch-1 learning rate: 3e-06\n",
            "Epoch: 3/100\n",
            "Epoch : 003, Training: Loss - 0.6644, Accuracy - 61.7466%, Validation : Loss - 0.6802, Accuracy - 60.6695%, Time: 28.9420s\n",
            "Epoch-2 learning rate: 3e-06\n",
            "Epoch: 4/100\n",
            "Epoch : 004, Training: Loss - 0.6457, Accuracy - 65.5597%, Validation : Loss - 0.6812, Accuracy - 58.9958%, Time: 28.7453s\n",
            "Epoch-3 learning rate: 3e-06\n",
            "Epoch: 5/100\n",
            "Epoch : 005, Training: Loss - 0.6304, Accuracy - 71.2177%, Validation : Loss - 0.6761, Accuracy - 58.5774%, Time: 28.9737s\n",
            "Epoch-4 learning rate: 3e-06\n",
            "Epoch: 6/100\n",
            "Epoch : 006, Training: Loss - 0.6029, Accuracy - 73.3087%, Validation : Loss - 0.6715, Accuracy - 56.9038%, Time: 28.9519s\n",
            "Epoch-5 learning rate: 3e-06\n",
            "Epoch: 7/100\n",
            "Epoch : 007, Training: Loss - 0.5853, Accuracy - 76.8758%, Validation : Loss - 0.6635, Accuracy - 58.1590%, Time: 28.8910s\n",
            "Epoch-6 learning rate: 3e-06\n",
            "Epoch: 8/100\n",
            "Epoch : 008, Training: Loss - 0.5641, Accuracy - 78.5978%, Validation : Loss - 0.6505, Accuracy - 58.9958%, Time: 28.9149s\n",
            "Epoch-7 learning rate: 3e-06\n",
            "Epoch: 9/100\n",
            "Epoch : 009, Training: Loss - 0.5389, Accuracy - 81.0578%, Validation : Loss - 0.6334, Accuracy - 60.2510%, Time: 28.8882s\n",
            "Epoch-8 learning rate: 3e-06\n",
            "Epoch: 10/100\n",
            "Epoch : 010, Training: Loss - 0.5158, Accuracy - 82.6568%, Validation : Loss - 0.6187, Accuracy - 63.1799%, Time: 28.8652s\n",
            "Epoch-9 learning rate: 3e-06\n",
            "Epoch: 11/100\n",
            "Epoch : 011, Training: Loss - 0.4891, Accuracy - 84.6248%, Validation : Loss - 0.5956, Accuracy - 65.6904%, Time: 28.8231s\n",
            "Epoch-10 learning rate: 3e-06\n",
            "Epoch: 12/100\n",
            "Epoch : 012, Training: Loss - 0.4575, Accuracy - 86.4699%, Validation : Loss - 0.5722, Accuracy - 68.6192%, Time: 28.8428s\n",
            "Epoch-11 learning rate: 3e-06\n",
            "Epoch: 13/100\n",
            "Epoch : 013, Training: Loss - 0.4348, Accuracy - 86.3469%, Validation : Loss - 0.5438, Accuracy - 72.3849%, Time: 28.7359s\n",
            "Epoch-12 learning rate: 3e-06\n",
            "Epoch: 14/100\n",
            "Epoch : 014, Training: Loss - 0.4165, Accuracy - 87.0849%, Validation : Loss - 0.5231, Accuracy - 74.8954%, Time: 28.6647s\n",
            "Epoch-13 learning rate: 3e-06\n",
            "Epoch: 15/100\n",
            "Epoch : 015, Training: Loss - 0.3645, Accuracy - 90.4059%, Validation : Loss - 0.5027, Accuracy - 78.2427%, Time: 28.6093s\n",
            "Epoch-14 learning rate: 3e-06\n",
            "Epoch: 16/100\n",
            "Epoch : 016, Training: Loss - 0.3554, Accuracy - 90.4059%, Validation : Loss - 0.4724, Accuracy - 81.1715%, Time: 28.7634s\n",
            "Epoch-15 learning rate: 3e-06\n",
            "Epoch: 17/100\n",
            "Epoch : 017, Training: Loss - 0.3141, Accuracy - 91.5129%, Validation : Loss - 0.4618, Accuracy - 82.8452%, Time: 28.6601s\n",
            "Epoch-16 learning rate: 3e-06\n",
            "Epoch: 18/100\n",
            "Epoch : 018, Training: Loss - 0.3052, Accuracy - 90.6519%, Validation : Loss - 0.4458, Accuracy - 80.7531%, Time: 28.6400s\n",
            "Epoch-17 learning rate: 3e-06\n",
            "Epoch: 19/100\n",
            "Epoch : 019, Training: Loss - 0.2997, Accuracy - 91.8819%, Validation : Loss - 0.4235, Accuracy - 84.1004%, Time: 28.7339s\n",
            "Epoch-18 learning rate: 3e-06\n",
            "Epoch: 20/100\n",
            "Epoch : 020, Training: Loss - 0.2790, Accuracy - 91.5129%, Validation : Loss - 0.4096, Accuracy - 84.5188%, Time: 28.6532s\n",
            "Epoch-19 learning rate: 3e-06\n",
            "Epoch: 21/100\n",
            "Epoch : 021, Training: Loss - 0.2639, Accuracy - 91.8819%, Validation : Loss - 0.4103, Accuracy - 82.8452%, Time: 28.6678s\n",
            "Epoch-20 learning rate: 3e-06\n",
            "Epoch: 22/100\n",
            "Epoch : 022, Training: Loss - 0.2592, Accuracy - 92.4969%, Validation : Loss - 0.3860, Accuracy - 85.7741%, Time: 28.7134s\n",
            "Epoch-21 learning rate: 3e-06\n",
            "Epoch: 23/100\n",
            "Epoch : 023, Training: Loss - 0.2258, Accuracy - 93.9729%, Validation : Loss - 0.3902, Accuracy - 85.3556%, Time: 28.6512s\n",
            "Epoch-22 learning rate: 3e-06\n",
            "Epoch: 24/100\n",
            "Epoch : 024, Training: Loss - 0.2238, Accuracy - 94.2189%, Validation : Loss - 0.3879, Accuracy - 85.3556%, Time: 28.6510s\n",
            "Epoch-23 learning rate: 3e-06\n",
            "Epoch: 25/100\n",
            "Epoch : 025, Training: Loss - 0.2122, Accuracy - 93.8499%, Validation : Loss - 0.3715, Accuracy - 85.3556%, Time: 28.6818s\n",
            "Epoch-24 learning rate: 3e-06\n",
            "Epoch: 26/100\n",
            "Epoch : 026, Training: Loss - 0.2004, Accuracy - 95.0800%, Validation : Loss - 0.3668, Accuracy - 86.1925%, Time: 28.6482s\n",
            "Epoch-25 learning rate: 3e-06\n",
            "Epoch: 27/100\n",
            "Epoch : 027, Training: Loss - 0.1984, Accuracy - 94.2189%, Validation : Loss - 0.3536, Accuracy - 86.6109%, Time: 28.6465s\n",
            "Epoch-26 learning rate: 3e-06\n",
            "Epoch: 28/100\n",
            "Epoch : 028, Training: Loss - 0.1812, Accuracy - 95.0800%, Validation : Loss - 0.3632, Accuracy - 87.8661%, Time: 28.6299s\n",
            "Epoch-27 learning rate: 3e-06\n",
            "Epoch: 29/100\n",
            "Epoch : 029, Training: Loss - 0.1637, Accuracy - 95.5720%, Validation : Loss - 0.3649, Accuracy - 86.1925%, Time: 28.5963s\n",
            "Epoch-28 learning rate: 3e-06\n",
            "Epoch: 30/100\n",
            "Epoch : 030, Training: Loss - 0.1616, Accuracy - 95.9410%, Validation : Loss - 0.3274, Accuracy - 89.1213%, Time: 28.6554s\n",
            "Epoch-29 learning rate: 3e-06\n",
            "Epoch: 31/100\n",
            "Epoch : 031, Training: Loss - 0.1362, Accuracy - 97.1710%, Validation : Loss - 0.3165, Accuracy - 89.1213%, Time: 28.5503s\n",
            "Epoch-30 learning rate: 3e-06\n",
            "Epoch: 32/100\n",
            "Epoch : 032, Training: Loss - 0.1544, Accuracy - 95.9410%, Validation : Loss - 0.3189, Accuracy - 88.7029%, Time: 28.6787s\n",
            "Epoch-31 learning rate: 3e-06\n",
            "Epoch: 33/100\n",
            "Epoch : 033, Training: Loss - 0.1307, Accuracy - 96.5560%, Validation : Loss - 0.3247, Accuracy - 87.4477%, Time: 28.6826s\n",
            "Epoch-32 learning rate: 3e-06\n",
            "Epoch: 34/100\n",
            "Epoch : 034, Training: Loss - 0.1103, Accuracy - 97.5400%, Validation : Loss - 0.3112, Accuracy - 88.7029%, Time: 28.6737s\n",
            "Epoch-33 learning rate: 3e-06\n",
            "Epoch: 35/100\n",
            "Epoch : 035, Training: Loss - 0.1201, Accuracy - 96.9250%, Validation : Loss - 0.3110, Accuracy - 89.5397%, Time: 28.6216s\n",
            "Epoch-34 learning rate: 3e-06\n",
            "Epoch: 36/100\n",
            "Epoch : 036, Training: Loss - 0.1177, Accuracy - 97.2940%, Validation : Loss - 0.3121, Accuracy - 88.2845%, Time: 28.7224s\n",
            "Epoch-35 learning rate: 3e-06\n",
            "Epoch: 37/100\n",
            "Epoch : 037, Training: Loss - 0.1231, Accuracy - 96.6790%, Validation : Loss - 0.3061, Accuracy - 89.9582%, Time: 28.6062s\n",
            "Epoch-36 learning rate: 3e-06\n",
            "Epoch: 38/100\n",
            "Epoch : 038, Training: Loss - 0.1000, Accuracy - 97.5400%, Validation : Loss - 0.3150, Accuracy - 87.4477%, Time: 28.5883s\n",
            "Epoch-37 learning rate: 3e-06\n",
            "Epoch: 39/100\n",
            "Epoch : 039, Training: Loss - 0.0942, Accuracy - 97.6630%, Validation : Loss - 0.3067, Accuracy - 87.8661%, Time: 28.6923s\n",
            "Epoch-38 learning rate: 3e-06\n",
            "Epoch: 40/100\n",
            "Epoch : 040, Training: Loss - 0.0901, Accuracy - 98.2780%, Validation : Loss - 0.2935, Accuracy - 88.7029%, Time: 28.6123s\n",
            "Epoch-39 learning rate: 3e-06\n",
            "Epoch: 41/100\n",
            "Epoch : 041, Training: Loss - 0.0870, Accuracy - 98.1550%, Validation : Loss - 0.2946, Accuracy - 88.7029%, Time: 28.5600s\n",
            "Epoch-40 learning rate: 3e-06\n",
            "Epoch: 42/100\n",
            "Epoch : 042, Training: Loss - 0.0793, Accuracy - 98.4010%, Validation : Loss - 0.2931, Accuracy - 88.2845%, Time: 28.6849s\n",
            "Epoch-41 learning rate: 3e-06\n",
            "Epoch: 43/100\n",
            "Epoch : 043, Training: Loss - 0.1081, Accuracy - 96.8020%, Validation : Loss - 0.2882, Accuracy - 90.3766%, Time: 28.6380s\n",
            "Epoch-42 learning rate: 3e-06\n",
            "Epoch: 44/100\n",
            "Epoch : 044, Training: Loss - 0.0768, Accuracy - 98.4010%, Validation : Loss - 0.2908, Accuracy - 90.7950%, Time: 28.6426s\n",
            "Epoch-43 learning rate: 3e-06\n",
            "Epoch: 45/100\n",
            "Epoch : 045, Training: Loss - 0.0727, Accuracy - 98.7700%, Validation : Loss - 0.3122, Accuracy - 87.8661%, Time: 28.5815s\n",
            "Epoch-44 learning rate: 3e-06\n",
            "Epoch: 46/100\n",
            "Epoch : 046, Training: Loss - 0.0732, Accuracy - 98.5240%, Validation : Loss - 0.2773, Accuracy - 89.1213%, Time: 28.5539s\n",
            "Epoch-45 learning rate: 3e-06\n",
            "Epoch: 47/100\n",
            "Epoch : 047, Training: Loss - 0.0518, Accuracy - 99.3850%, Validation : Loss - 0.2814, Accuracy - 89.5397%, Time: 28.5906s\n",
            "Epoch-46 learning rate: 3e-06\n",
            "Epoch: 48/100\n",
            "Epoch : 048, Training: Loss - 0.0651, Accuracy - 98.2780%, Validation : Loss - 0.2675, Accuracy - 90.3766%, Time: 28.5868s\n",
            "Epoch-47 learning rate: 3e-06\n",
            "Epoch: 49/100\n",
            "Epoch : 049, Training: Loss - 0.0950, Accuracy - 98.0320%, Validation : Loss - 0.3065, Accuracy - 88.2845%, Time: 28.5653s\n",
            "Epoch-48 learning rate: 3e-06\n",
            "Epoch: 50/100\n",
            "Epoch : 050, Training: Loss - 0.0573, Accuracy - 98.7700%, Validation : Loss - 0.2985, Accuracy - 89.5397%, Time: 28.6662s\n",
            "Epoch-49 learning rate: 3e-06\n",
            "Epoch: 51/100\n",
            "Epoch : 051, Training: Loss - 0.0625, Accuracy - 98.6470%, Validation : Loss - 0.2786, Accuracy - 90.7950%, Time: 28.6052s\n",
            "Epoch-50 learning rate: 3e-06\n",
            "Epoch: 52/100\n",
            "Epoch : 052, Training: Loss - 0.0527, Accuracy - 99.2620%, Validation : Loss - 0.2552, Accuracy - 90.3766%, Time: 28.5649s\n",
            "Epoch-51 learning rate: 3e-06\n",
            "Epoch: 53/100\n",
            "Epoch : 053, Training: Loss - 0.0465, Accuracy - 99.1390%, Validation : Loss - 0.2658, Accuracy - 89.9582%, Time: 28.6626s\n",
            "Epoch-52 learning rate: 3e-06\n",
            "Epoch: 54/100\n",
            "Epoch : 054, Training: Loss - 0.0436, Accuracy - 99.5080%, Validation : Loss - 0.2938, Accuracy - 89.9582%, Time: 28.5723s\n",
            "Epoch-53 learning rate: 3e-06\n",
            "Epoch: 55/100\n",
            "Epoch : 055, Training: Loss - 0.0534, Accuracy - 99.2620%, Validation : Loss - 0.2621, Accuracy - 90.3766%, Time: 28.5999s\n",
            "Epoch-54 learning rate: 3e-06\n",
            "Epoch: 56/100\n",
            "Epoch : 056, Training: Loss - 0.0436, Accuracy - 99.3850%, Validation : Loss - 0.2747, Accuracy - 89.9582%, Time: 28.6084s\n",
            "Epoch-55 learning rate: 2.7e-06\n",
            "Epoch: 57/100\n",
            "Epoch : 057, Training: Loss - 0.0571, Accuracy - 98.8930%, Validation : Loss - 0.2621, Accuracy - 89.9582%, Time: 28.5436s\n",
            "Epoch-56 learning rate: 2.7e-06\n",
            "Epoch: 58/100\n",
            "Epoch : 058, Training: Loss - 0.0431, Accuracy - 99.0160%, Validation : Loss - 0.2612, Accuracy - 90.7950%, Time: 28.5394s\n",
            "Epoch-57 learning rate: 2.7e-06\n",
            "Epoch: 59/100\n",
            "Epoch : 059, Training: Loss - 0.0342, Accuracy - 99.6310%, Validation : Loss - 0.2724, Accuracy - 90.7950%, Time: 28.5779s\n",
            "Epoch-58 learning rate: 2.7e-06\n",
            "Epoch: 60/100\n",
            "Epoch : 060, Training: Loss - 0.0337, Accuracy - 99.6310%, Validation : Loss - 0.2627, Accuracy - 91.2134%, Time: 28.5443s\n",
            "Epoch-59 learning rate: 2.43e-06\n",
            "Epoch: 61/100\n",
            "Epoch : 061, Training: Loss - 0.0392, Accuracy - 99.2620%, Validation : Loss - 0.2976, Accuracy - 91.2134%, Time: 28.5018s\n",
            "Epoch-60 learning rate: 2.43e-06\n",
            "Epoch: 62/100\n",
            "Epoch : 062, Training: Loss - 0.0477, Accuracy - 99.0160%, Validation : Loss - 0.2874, Accuracy - 91.6318%, Time: 28.6528s\n",
            "Epoch-61 learning rate: 2.43e-06\n",
            "Epoch: 63/100\n",
            "Epoch : 063, Training: Loss - 0.0349, Accuracy - 99.3850%, Validation : Loss - 0.2657, Accuracy - 89.9582%, Time: 28.5631s\n",
            "Epoch-62 learning rate: 2.43e-06\n",
            "Epoch: 64/100\n",
            "Epoch : 064, Training: Loss - 0.0358, Accuracy - 99.2620%, Validation : Loss - 0.2790, Accuracy - 90.7950%, Time: 28.6260s\n",
            "Epoch-63 learning rate: 2.187e-06\n",
            "Epoch: 65/100\n",
            "Epoch : 065, Training: Loss - 0.0430, Accuracy - 99.5080%, Validation : Loss - 0.2799, Accuracy - 91.2134%, Time: 28.6023s\n",
            "Epoch-64 learning rate: 2.187e-06\n",
            "Epoch: 66/100\n",
            "Epoch : 066, Training: Loss - 0.0329, Accuracy - 99.2620%, Validation : Loss - 0.2693, Accuracy - 91.2134%, Time: 28.5300s\n",
            "Epoch-65 learning rate: 2.187e-06\n",
            "Epoch: 67/100\n",
            "Epoch : 067, Training: Loss - 0.0303, Accuracy - 99.7540%, Validation : Loss - 0.2781, Accuracy - 91.6318%, Time: 28.5925s\n",
            "Epoch-66 learning rate: 2.187e-06\n",
            "Epoch: 68/100\n",
            "Epoch : 068, Training: Loss - 0.0260, Accuracy - 99.5080%, Validation : Loss - 0.2817, Accuracy - 91.2134%, Time: 28.5291s\n",
            "Epoch-67 learning rate: 1.9683e-06\n",
            "Epoch: 69/100\n",
            "Epoch : 069, Training: Loss - 0.0257, Accuracy - 99.6310%, Validation : Loss - 0.2734, Accuracy - 91.2134%, Time: 28.5693s\n",
            "Epoch-68 learning rate: 1.9683e-06\n",
            "Epoch: 70/100\n",
            "Epoch : 070, Training: Loss - 0.0259, Accuracy - 99.7540%, Validation : Loss - 0.2708, Accuracy - 90.7950%, Time: 28.5502s\n",
            "Epoch-69 learning rate: 1.9683e-06\n",
            "Epoch: 71/100\n",
            "Epoch : 071, Training: Loss - 0.0324, Accuracy - 99.6310%, Validation : Loss - 0.2611, Accuracy - 89.9582%, Time: 28.5553s\n",
            "Epoch-70 learning rate: 1.9683e-06\n",
            "Epoch: 72/100\n",
            "Epoch : 072, Training: Loss - 0.0228, Accuracy - 99.6310%, Validation : Loss - 0.2776, Accuracy - 91.2134%, Time: 28.5568s\n",
            "Epoch-71 learning rate: 1.77147e-06\n",
            "Epoch: 73/100\n",
            "Epoch : 073, Training: Loss - 0.0305, Accuracy - 99.2620%, Validation : Loss - 0.2689, Accuracy - 91.2134%, Time: 28.6102s\n",
            "Epoch-72 learning rate: 1.77147e-06\n",
            "Epoch: 74/100\n",
            "Epoch : 074, Training: Loss - 0.0276, Accuracy - 99.6310%, Validation : Loss - 0.2855, Accuracy - 90.7950%, Time: 28.5129s\n",
            "Epoch-73 learning rate: 1.77147e-06\n",
            "Epoch: 75/100\n",
            "Epoch : 075, Training: Loss - 0.0311, Accuracy - 99.6310%, Validation : Loss - 0.2769, Accuracy - 91.2134%, Time: 28.5997s\n",
            "Epoch-74 learning rate: 1.77147e-06\n",
            "Epoch: 76/100\n",
            "Epoch : 076, Training: Loss - 0.0255, Accuracy - 99.7540%, Validation : Loss - 0.2732, Accuracy - 91.6318%, Time: 28.5994s\n",
            "Epoch-75 learning rate: 1.594323e-06\n",
            "Epoch: 77/100\n",
            "Epoch : 077, Training: Loss - 0.0250, Accuracy - 99.3850%, Validation : Loss - 0.2636, Accuracy - 90.3766%, Time: 28.5168s\n",
            "Epoch-76 learning rate: 1.594323e-06\n",
            "Epoch: 78/100\n",
            "Epoch : 078, Training: Loss - 0.0178, Accuracy - 99.8770%, Validation : Loss - 0.2700, Accuracy - 91.2134%, Time: 28.5935s\n",
            "Epoch-77 learning rate: 1.594323e-06\n",
            "Epoch: 79/100\n",
            "Epoch : 079, Training: Loss - 0.0180, Accuracy - 99.7540%, Validation : Loss - 0.2783, Accuracy - 90.7950%, Time: 28.5688s\n",
            "Epoch-78 learning rate: 1.594323e-06\n",
            "Epoch: 80/100\n",
            "Epoch : 080, Training: Loss - 0.0167, Accuracy - 99.8770%, Validation : Loss - 0.2812, Accuracy - 91.2134%, Time: 28.5856s\n",
            "Epoch-79 learning rate: 1.4348907e-06\n",
            "Epoch: 81/100\n",
            "Epoch : 081, Training: Loss - 0.0175, Accuracy - 99.7540%, Validation : Loss - 0.2733, Accuracy - 90.7950%, Time: 28.5746s\n",
            "Epoch-80 learning rate: 1.4348907e-06\n",
            "Epoch: 82/100\n",
            "Epoch : 082, Training: Loss - 0.0224, Accuracy - 99.6310%, Validation : Loss - 0.2907, Accuracy - 90.7950%, Time: 28.5342s\n",
            "Epoch-81 learning rate: 1.4348907e-06\n",
            "Epoch: 83/100\n",
            "Epoch : 083, Training: Loss - 0.0248, Accuracy - 99.5080%, Validation : Loss - 0.2826, Accuracy - 91.2134%, Time: 28.5062s\n",
            "Epoch-82 learning rate: 1.4348907e-06\n",
            "Epoch: 84/100\n",
            "Epoch : 084, Training: Loss - 0.0224, Accuracy - 99.6310%, Validation : Loss - 0.2870, Accuracy - 90.7950%, Time: 28.5925s\n",
            "Epoch-83 learning rate: 1.29140163e-06\n",
            "Epoch: 85/100\n",
            "Epoch : 085, Training: Loss - 0.0237, Accuracy - 99.7540%, Validation : Loss - 0.2857, Accuracy - 90.7950%, Time: 28.5753s\n",
            "Epoch-84 learning rate: 1.29140163e-06\n",
            "Epoch: 86/100\n",
            "Epoch : 086, Training: Loss - 0.0149, Accuracy - 99.8770%, Validation : Loss - 0.3060, Accuracy - 91.2134%, Time: 28.6106s\n",
            "Epoch-85 learning rate: 1.29140163e-06\n",
            "Epoch: 87/100\n",
            "Epoch : 087, Training: Loss - 0.0221, Accuracy - 99.7540%, Validation : Loss - 0.3005, Accuracy - 91.2134%, Time: 28.6062s\n",
            "Epoch-86 learning rate: 1.29140163e-06\n",
            "Epoch: 88/100\n",
            "Epoch : 088, Training: Loss - 0.0221, Accuracy - 99.6310%, Validation : Loss - 0.2919, Accuracy - 90.3766%, Time: 28.5464s\n",
            "Epoch-87 learning rate: 1.162261467e-06\n",
            "Epoch: 89/100\n",
            "Epoch : 089, Training: Loss - 0.0185, Accuracy - 99.7540%, Validation : Loss - 0.3234, Accuracy - 91.2134%, Time: 28.5515s\n",
            "Epoch-88 learning rate: 1.162261467e-06\n",
            "Epoch: 90/100\n",
            "Epoch : 090, Training: Loss - 0.0156, Accuracy - 99.8770%, Validation : Loss - 0.2970, Accuracy - 90.7950%, Time: 28.5693s\n",
            "Epoch-89 learning rate: 1.162261467e-06\n",
            "Epoch: 91/100\n",
            "Epoch : 091, Training: Loss - 0.0180, Accuracy - 99.6310%, Validation : Loss - 0.2920, Accuracy - 90.3766%, Time: 28.5606s\n",
            "Epoch-90 learning rate: 1.162261467e-06\n",
            "Epoch: 92/100\n",
            "Epoch : 092, Training: Loss - 0.0154, Accuracy - 99.7540%, Validation : Loss - 0.3154, Accuracy - 91.2134%, Time: 28.5369s\n",
            "Epoch-91 learning rate: 1.0460353203e-06\n",
            "Epoch: 93/100\n",
            "Epoch : 093, Training: Loss - 0.0134, Accuracy - 99.8770%, Validation : Loss - 0.3038, Accuracy - 90.3766%, Time: 28.6431s\n",
            "Epoch-92 learning rate: 1.0460353203e-06\n",
            "Epoch: 94/100\n",
            "Epoch : 094, Training: Loss - 0.0159, Accuracy - 99.7540%, Validation : Loss - 0.2966, Accuracy - 90.7950%, Time: 28.5282s\n",
            "Epoch-93 learning rate: 1.0460353203e-06\n",
            "Epoch: 95/100\n",
            "Epoch : 095, Training: Loss - 0.0150, Accuracy - 99.7540%, Validation : Loss - 0.3025, Accuracy - 90.7950%, Time: 28.5832s\n",
            "Epoch-94 learning rate: 1.0460353203e-06\n",
            "Epoch: 96/100\n",
            "Epoch : 096, Training: Loss - 0.0218, Accuracy - 99.5080%, Validation : Loss - 0.3078, Accuracy - 91.2134%, Time: 28.5435s\n",
            "Epoch-95 learning rate: 9.4143178827e-07\n",
            "Epoch: 97/100\n",
            "Epoch : 097, Training: Loss - 0.0143, Accuracy - 99.7540%, Validation : Loss - 0.3084, Accuracy - 91.2134%, Time: 28.7999s\n",
            "Epoch-96 learning rate: 9.4143178827e-07\n",
            "Epoch: 98/100\n",
            "Epoch : 098, Training: Loss - 0.0151, Accuracy - 99.7540%, Validation : Loss - 0.2985, Accuracy - 91.2134%, Time: 28.8027s\n",
            "Epoch-97 learning rate: 9.4143178827e-07\n",
            "Epoch: 99/100\n",
            "Epoch : 099, Training: Loss - 0.0162, Accuracy - 99.7540%, Validation : Loss - 0.3025, Accuracy - 91.2134%, Time: 28.8064s\n",
            "Epoch-98 learning rate: 9.4143178827e-07\n",
            "Epoch: 100/100\n",
            "Epoch : 100, Training: Loss - 0.0156, Accuracy - 99.7540%, Validation : Loss - 0.3146, Accuracy - 91.2134%, Time: 28.4733s\n",
            "Epoch-99 learning rate: 8.47288609443e-07\n"
          ],
          "name": "stdout"
        }
      ]
    },
    {
      "cell_type": "code",
      "metadata": {
        "id": "HigTVpI3JjHv",
        "colab": {
          "base_uri": "https://localhost:8080/"
        },
        "outputId": "4e130c04-a095-42b3-b7f2-107631772ec4"
      },
      "source": [
        "print(\"Thoi gian training: \",end-start)"
      ],
      "execution_count": 16,
      "outputs": [
        {
          "output_type": "stream",
          "text": [
            "Thoi gian training:  3165.957531929016\n"
          ],
          "name": "stdout"
        }
      ]
    },
    {
      "cell_type": "code",
      "metadata": {
        "id": "j4Br59veWAkU",
        "colab": {
          "base_uri": "https://localhost:8080/"
        },
        "outputId": "1558b3e8-20d0-49d4-a1af-3a4798d46baa"
      },
      "source": [
        "#save model\n",
        "import time\n",
        "from datetime import date\n",
        "today = date.today()\n",
        "d1 = today.strftime(\"%d%m%Y\")\n",
        "print(\"d1 =\", d1)\n",
        "torch.save(trained_model, '/content/drive/My Drive/DetectBrainTumor/model/pytorch_data_old/model_denseNet201_'+str(d1)+'.pt')"
      ],
      "execution_count": 17,
      "outputs": [
        {
          "output_type": "stream",
          "text": [
            "d1 = 28062021\n"
          ],
          "name": "stdout"
        }
      ]
    },
    {
      "cell_type": "code",
      "metadata": {
        "id": "nVVgUij9WCGA"
      },
      "source": [
        "import pickle\n",
        "with open('/content/drive/My Drive/DetectBrainTumor/result/pytorch_data_old/history_denseNet201.pickle', 'wb') as f:\n",
        "    pickle.dump(history, f)\n",
        "\n",
        "# with open('/content/drive/My Drive/DetectBrainTumor/result/pytorch/time_denseNet201.pickle', 'wb') as f:\n",
        "#     pickle.dump(arr_time, f)"
      ],
      "execution_count": 18,
      "outputs": []
    },
    {
      "cell_type": "code",
      "metadata": {
        "id": "vHLlLgl5iqEp"
      },
      "source": [
        "loss_train = []\n",
        "loss_val = []\n",
        "acc_train = []\n",
        "acc_val = []\n",
        "\n",
        "for i in range(len(history)):\n",
        "  loss_train.append(history[i][0])\n",
        "  loss_val.append(history[i][1])\n",
        "  acc_train.append(history[i][2])\n",
        "  acc_val.append(history[i][3])"
      ],
      "execution_count": 19,
      "outputs": []
    },
    {
      "cell_type": "code",
      "metadata": {
        "id": "pB0-ZXLqI5fZ",
        "colab": {
          "base_uri": "https://localhost:8080/",
          "height": 457
        },
        "outputId": "3ff5f247-fbd8-4c28-a955-f538e326e473"
      },
      "source": [
        "# summarize history for accuracy\n",
        "\n",
        "fig,a =  plt.subplots(1, 2, figsize=(16,7))\n",
        "a[0].plot(acc_train)\n",
        "a[0].plot(acc_val)\n",
        "a[0].set_title('model accuracy')\n",
        "a[0].set_ylabel('accuracy')\n",
        "a[0].set_xlabel('epoch')\n",
        "a[0].legend(['train', 'val'], loc='upper left')\n",
        "# summarize history for loss for epoch\n",
        "# plt.figure(figsize=(10,10))\n",
        "a[1].plot(loss_train)\n",
        "a[1].plot(loss_val)\n",
        "a[1].set_title('model loss')\n",
        "a[1].set_ylabel('loss')\n",
        "a[1].set_xlabel('epoch')\n",
        "a[1].legend(['train', 'val'], loc='upper left')\n",
        "plt.show()"
      ],
      "execution_count": 20,
      "outputs": [
        {
          "output_type": "display_data",
          "data": {
            "image/png": "[encoded data removed]",
            "text/plain": [
              "<Figure size 1152x504 with 2 Axes>"
            ]
          },
          "metadata": {
            "tags": [],
            "needs_background": "light"
          }
        }
      ]
    },
    {
      "cell_type": "code",
      "metadata": {
        "id": "YUHEFsAtvtp4"
      },
      "source": [
        "# # Specify a path\n",
        "# dir_model = '/content/drive/My Drive/DetectBrainTumor/model/pytorch/densenet201_adam.pt'\n",
        "# # Save\n",
        "# torch.save(trained_model, dir_model)"
      ],
      "execution_count": 21,
      "outputs": []
    },
    {
      "cell_type": "code",
      "metadata": {
        "id": "Nlwc2LYwxxIr"
      },
      "source": [
        "# from PIL import Image\n",
        "# from pathlib import Path\n",
        "\n",
        "# # Load\n",
        "# model_densenet = torch.load(dir_model)\n",
        "# model_densenet.eval()\n",
        "\n",
        "# test_transform = transforms.Compose([\n",
        "#         transforms.Resize(size=256),\n",
        "#         transforms.CenterCrop(size=224),\n",
        "#         transforms.ToTensor(),\n",
        "#         transforms.Normalize([0.485, 0.456, 0.406],\n",
        "#                              [0.229, 0.224, 0.225])\n",
        "#     ])\n",
        "\n",
        "\n",
        "# path = \"/content/drive/My Drive/DetectBrainTumor/data_05052021/\"\n",
        "# path = \"/content/drive/My Drive/DetectBrainTumor/data_24062021/\"\n",
        "\n",
        "# test_data = datasets.ImageFolder(path, transform=test_transform)  \n",
        "\n",
        "# test_loader = torch.utils.data.DataLoader(test_data, batch_size=16, shuffle=False)\n",
        "\n",
        "# # image = Image.open(Path('/content/drive/My Drive/DetectBrainTumor/data_05052021/NO/IMG-0001-00012.jpg'))\n",
        "# # image = Image.open('/content/drive/My Drive/DetectBrainTumor/data_05052021/NO/IMG-0001-00012.jpg')\n",
        "# # input = test_transform(image)\n",
        "# # input = input.unsquueeze(0)\n",
        "\n",
        "# with torch.no_grad():\n",
        "#     correct = 0\n",
        "#     total = 0\n",
        "#     for images, labels in test_loader:\n",
        "#         images = images.to(device)\n",
        "#         labels = labels.to(device)\n",
        "#         outputs = model_densenet(images)\n",
        "#         _, predicted = torch.max(outputs.data, 1)\n",
        "#         # print(outputs)\n",
        "#         total += labels.size(0)\n",
        "#         correct += (predicted == labels).sum().item()\n",
        "          \n",
        "#     print('Test Accuracy of the model: {} %'.format(100 * correct / total))"
      ],
      "execution_count": 22,
      "outputs": []
    }
  ]
}