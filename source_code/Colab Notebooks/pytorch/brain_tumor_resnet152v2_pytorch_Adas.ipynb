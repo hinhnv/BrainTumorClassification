{
  "nbformat": 4,
  "nbformat_minor": 0,
  "metadata": {
    "accelerator": "GPU",
    "colab": {
      "name": "brain_tumor_resnet152v2_pytorch_Adas.ipynb",
      "provenance": [],
      "collapsed_sections": []
    },
    "kernelspec": {
      "display_name": "Python 3",
      "name": "python3"
    },
    "language_info": {
      "name": "python"
    },
    "widgets": {
      "application/vnd.jupyter.widget-state+json": {
        "22c08b6ca32046bca9bec525da9415a0": {
          "model_module": "@jupyter-widgets/controls",
          "model_name": "HBoxModel",
          "state": {
            "_view_name": "HBoxView",
            "_dom_classes": [],
            "_model_name": "HBoxModel",
            "_view_module": "@jupyter-widgets/controls",
            "_model_module_version": "1.5.0",
            "_view_count": null,
            "_view_module_version": "1.5.0",
            "box_style": "",
            "layout": "IPY_MODEL_05e8d93dc2484118ba8d4e80d2e33ed9",
            "_model_module": "@jupyter-widgets/controls",
            "children": [
              "IPY_MODEL_9320acb2f167436184a321bc777afdde",
              "IPY_MODEL_4d70058aa5e14cf59075a4e33cf09601"
            ]
          }
        },
        "05e8d93dc2484118ba8d4e80d2e33ed9": {
          "model_module": "@jupyter-widgets/base",
          "model_name": "LayoutModel",
          "state": {
            "_view_name": "LayoutView",
            "grid_template_rows": null,
            "right": null,
            "justify_content": null,
            "_view_module": "@jupyter-widgets/base",
            "overflow": null,
            "_model_module_version": "1.2.0",
            "_view_count": null,
            "flex_flow": null,
            "width": null,
            "min_width": null,
            "border": null,
            "align_items": null,
            "bottom": null,
            "_model_module": "@jupyter-widgets/base",
            "top": null,
            "grid_column": null,
            "overflow_y": null,
            "overflow_x": null,
            "grid_auto_flow": null,
            "grid_area": null,
            "grid_template_columns": null,
            "flex": null,
            "_model_name": "LayoutModel",
            "justify_items": null,
            "grid_row": null,
            "max_height": null,
            "align_content": null,
            "visibility": null,
            "align_self": null,
            "height": null,
            "min_height": null,
            "padding": null,
            "grid_auto_rows": null,
            "grid_gap": null,
            "max_width": null,
            "order": null,
            "_view_module_version": "1.2.0",
            "grid_template_areas": null,
            "object_position": null,
            "object_fit": null,
            "grid_auto_columns": null,
            "margin": null,
            "display": null,
            "left": null
          }
        },
        "9320acb2f167436184a321bc777afdde": {
          "model_module": "@jupyter-widgets/controls",
          "model_name": "FloatProgressModel",
          "state": {
            "_view_name": "ProgressView",
            "style": "IPY_MODEL_b7792ff7dd58456ba9c4cbd12abcbeae",
            "_dom_classes": [],
            "description": "100%",
            "_model_name": "FloatProgressModel",
            "bar_style": "success",
            "max": 241627721,
            "_view_module": "@jupyter-widgets/controls",
            "_model_module_version": "1.5.0",
            "value": 241627721,
            "_view_count": null,
            "_view_module_version": "1.5.0",
            "orientation": "horizontal",
            "min": 0,
            "description_tooltip": null,
            "_model_module": "@jupyter-widgets/controls",
            "layout": "IPY_MODEL_b0bc4b1b42d44879a2674316e04a559c"
          }
        },
        "4d70058aa5e14cf59075a4e33cf09601": {
          "model_module": "@jupyter-widgets/controls",
          "model_name": "HTMLModel",
          "state": {
            "_view_name": "HTMLView",
            "style": "IPY_MODEL_f8127dce20d444a393122abefbc0f9cb",
            "_dom_classes": [],
            "description": "",
            "_model_name": "HTMLModel",
            "placeholder": "​",
            "_view_module": "@jupyter-widgets/controls",
            "_model_module_version": "1.5.0",
            "value": " 230M/230M [00:03&lt;00:00, 64.2MB/s]",
            "_view_count": null,
            "_view_module_version": "1.5.0",
            "description_tooltip": null,
            "_model_module": "@jupyter-widgets/controls",
            "layout": "IPY_MODEL_0ad177291e474c9e820c5694f2fc61de"
          }
        },
        "b7792ff7dd58456ba9c4cbd12abcbeae": {
          "model_module": "@jupyter-widgets/controls",
          "model_name": "ProgressStyleModel",
          "state": {
            "_view_name": "StyleView",
            "_model_name": "ProgressStyleModel",
            "description_width": "initial",
            "_view_module": "@jupyter-widgets/base",
            "_model_module_version": "1.5.0",
            "_view_count": null,
            "_view_module_version": "1.2.0",
            "bar_color": null,
            "_model_module": "@jupyter-widgets/controls"
          }
        },
        "b0bc4b1b42d44879a2674316e04a559c": {
          "model_module": "@jupyter-widgets/base",
          "model_name": "LayoutModel",
          "state": {
            "_view_name": "LayoutView",
            "grid_template_rows": null,
            "right": null,
            "justify_content": null,
            "_view_module": "@jupyter-widgets/base",
            "overflow": null,
            "_model_module_version": "1.2.0",
            "_view_count": null,
            "flex_flow": null,
            "width": null,
            "min_width": null,
            "border": null,
            "align_items": null,
            "bottom": null,
            "_model_module": "@jupyter-widgets/base",
            "top": null,
            "grid_column": null,
            "overflow_y": null,
            "overflow_x": null,
            "grid_auto_flow": null,
            "grid_area": null,
            "grid_template_columns": null,
            "flex": null,
            "_model_name": "LayoutModel",
            "justify_items": null,
            "grid_row": null,
            "max_height": null,
            "align_content": null,
            "visibility": null,
            "align_self": null,
            "height": null,
            "min_height": null,
            "padding": null,
            "grid_auto_rows": null,
            "grid_gap": null,
            "max_width": null,
            "order": null,
            "_view_module_version": "1.2.0",
            "grid_template_areas": null,
            "object_position": null,
            "object_fit": null,
            "grid_auto_columns": null,
            "margin": null,
            "display": null,
            "left": null
          }
        },
        "f8127dce20d444a393122abefbc0f9cb": {
          "model_module": "@jupyter-widgets/controls",
          "model_name": "DescriptionStyleModel",
          "state": {
            "_view_name": "StyleView",
            "_model_name": "DescriptionStyleModel",
            "description_width": "",
            "_view_module": "@jupyter-widgets/base",
            "_model_module_version": "1.5.0",
            "_view_count": null,
            "_view_module_version": "1.2.0",
            "_model_module": "@jupyter-widgets/controls"
          }
        },
        "0ad177291e474c9e820c5694f2fc61de": {
          "model_module": "@jupyter-widgets/base",
          "model_name": "LayoutModel",
          "state": {
            "_view_name": "LayoutView",
            "grid_template_rows": null,
            "right": null,
            "justify_content": null,
            "_view_module": "@jupyter-widgets/base",
            "overflow": null,
            "_model_module_version": "1.2.0",
            "_view_count": null,
            "flex_flow": null,
            "width": null,
            "min_width": null,
            "border": null,
            "align_items": null,
            "bottom": null,
            "_model_module": "@jupyter-widgets/base",
            "top": null,
            "grid_column": null,
            "overflow_y": null,
            "overflow_x": null,
            "grid_auto_flow": null,
            "grid_area": null,
            "grid_template_columns": null,
            "flex": null,
            "_model_name": "LayoutModel",
            "justify_items": null,
            "grid_row": null,
            "max_height": null,
            "align_content": null,
            "visibility": null,
            "align_self": null,
            "height": null,
            "min_height": null,
            "padding": null,
            "grid_auto_rows": null,
            "grid_gap": null,
            "max_width": null,
            "order": null,
            "_view_module_version": "1.2.0",
            "grid_template_areas": null,
            "object_position": null,
            "object_fit": null,
            "grid_auto_columns": null,
            "margin": null,
            "display": null,
            "left": null
          }
        }
      }
    }
  },
  "cells": [
    {
      "cell_type": "code",
      "metadata": {
        "colab": {
          "base_uri": "https://localhost:8080/"
        },
        "id": "al_XWgRp3EzB",
        "outputId": "cc5ee516-4d61-4b5a-f633-50037db603ce"
      },
      "source": [
        "from google.colab import drive\n",
        "drive.mount('/content/drive')"
      ],
      "execution_count": 1,
      "outputs": [
        {
          "output_type": "stream",
          "text": [
            "Mounted at /content/drive\n"
          ],
          "name": "stdout"
        }
      ]
    },
    {
      "cell_type": "code",
      "metadata": {
        "colab": {
          "base_uri": "https://localhost:8080/"
        },
        "id": "GPMeqQO6AP2D",
        "outputId": "b578976d-30f1-4f71-a113-73c4c83feff7"
      },
      "source": [
        "%cd /content/drive/My Drive/Adas/src\n",
        "from adas import Adas"
      ],
      "execution_count": 2,
      "outputs": [
        {
          "output_type": "stream",
          "text": [
            "/content/drive/My Drive/Adas/src\n"
          ],
          "name": "stdout"
        }
      ]
    },
    {
      "cell_type": "code",
      "metadata": {
        "id": "jrQMAMh7ARMZ"
      },
      "source": [
        "import matplotlib.pyplot as plt\n",
        "from torchvision import datasets, models, transforms\n",
        "import helper\n",
        "import torch.nn as nn\n",
        "import torch.nn.functional as F\n",
        "import torch.optim as optim\n",
        "\n",
        "from torchvision import datasets\n",
        "from torchvision import transforms\n",
        "import matplotlib.pyplot as plt\n",
        "import torch, torchvision\n",
        "from torch.utils.data import DataLoader\n",
        "import time\n",
        "from torchsummary import summary\n",
        "import numpy as np\n",
        "import os\n",
        "\n",
        "from PIL import Image"
      ],
      "execution_count": 3,
      "outputs": []
    },
    {
      "cell_type": "code",
      "metadata": {
        "id": "B_IymEbSAWFo"
      },
      "source": [
        "IMAGE_SIZE = 256\n",
        "batch_size = 16\n",
        "\n",
        "DATADIR_TRAIN = \"/content/drive/My Drive/DetectBrainTumor/data_15062021/T2_Train/\"\n",
        "DATADIR_VAL = \"/content/drive/My Drive/DetectBrainTumor/data_15062021/T2_Val/\""
      ],
      "execution_count": 4,
      "outputs": []
    },
    {
      "cell_type": "code",
      "metadata": {
        "id": "_dG28e-KICv6"
      },
      "source": [
        "# Applying Transforms to the Data\n",
        "train_transform = transforms.Compose([\n",
        "        transforms.RandomResizedCrop(size=256, scale=(0.8, 1.0)),\n",
        "        transforms.RandomRotation(degrees=15),\n",
        "        transforms.RandomHorizontalFlip(),\n",
        "        transforms.CenterCrop(size=224),\n",
        "        transforms.ToTensor(),\n",
        "        transforms.Normalize([0.485, 0.456, 0.406],\n",
        "                             [0.229, 0.224, 0.225])\n",
        "    ])\n",
        "\n",
        "test_transform = transforms.Compose([\n",
        "        transforms.Resize(size=256),\n",
        "        transforms.CenterCrop(size=224),\n",
        "        transforms.ToTensor(),\n",
        "        transforms.Normalize([0.485, 0.456, 0.406],\n",
        "                             [0.229, 0.224, 0.225])\n",
        "    ])"
      ],
      "execution_count": 5,
      "outputs": []
    },
    {
      "cell_type": "code",
      "metadata": {
        "id": "8JuOKAOLAi0X"
      },
      "source": [
        "train_data = datasets.ImageFolder(DATADIR_TRAIN, transform=train_transform)                                       \n",
        "val_data = datasets.ImageFolder(DATADIR_VAL, transform=test_transform)\n",
        "\n",
        "#Data Loading\n",
        "train_loader = torch.utils.data.DataLoader(train_data, batch_size=batch_size, shuffle=True)\n",
        "val_loader = torch.utils.data.DataLoader(val_data, batch_size=batch_size, shuffle=True)"
      ],
      "execution_count": 6,
      "outputs": []
    },
    {
      "cell_type": "code",
      "metadata": {
        "id": "aOZ-WlKeJUnb"
      },
      "source": [
        "classes = ('YES', 'NO')"
      ],
      "execution_count": 7,
      "outputs": []
    },
    {
      "cell_type": "code",
      "metadata": {
        "id": "kTT7H1l_NvJr"
      },
      "source": [
        "train_data_size = len(train_data)\n",
        "test_data_size = len(val_data)"
      ],
      "execution_count": 8,
      "outputs": []
    },
    {
      "cell_type": "code",
      "metadata": {
        "id": "PmgAbQbVJbqn"
      },
      "source": [
        "# import matplotlib.pyplot as plt\n",
        "# import numpy as np\n",
        "\n",
        "# # functions to show an image\n",
        "\n",
        "\n",
        "# def imshow(img):\n",
        "#     img = img / 2 + 0.5     # unnormalize\n",
        "#     npimg = img.numpy()\n",
        "#     plt.imshow(np.transpose(npimg, (1, 2, 0)))\n",
        "#     plt.show()\n",
        "\n",
        "\n",
        "# # get some random training images\n",
        "# dataiter = iter(train_loader)\n",
        "# images, labels = dataiter.next()\n",
        "\n",
        "# # show images\n",
        "# imshow(torchvision.utils.make_grid(images))\n",
        "# # print labels\n",
        "# print(' '.join('%5s' % classes[labels[j]] for j in range(2)))"
      ],
      "execution_count": 9,
      "outputs": []
    },
    {
      "cell_type": "code",
      "metadata": {
        "id": "JP2vIpVTXMPE"
      },
      "source": [
        "device = torch.device(\"cuda:0\" if torch.cuda.is_available() else \"cpu\")"
      ],
      "execution_count": 10,
      "outputs": []
    },
    {
      "cell_type": "code",
      "metadata": {
        "id": "CJAOJSrCDEdY",
        "colab": {
          "base_uri": "https://localhost:8080/",
          "height": 84,
          "referenced_widgets": [
            "22c08b6ca32046bca9bec525da9415a0",
            "05e8d93dc2484118ba8d4e80d2e33ed9",
            "9320acb2f167436184a321bc777afdde",
            "4d70058aa5e14cf59075a4e33cf09601",
            "b7792ff7dd58456ba9c4cbd12abcbeae",
            "b0bc4b1b42d44879a2674316e04a559c",
            "f8127dce20d444a393122abefbc0f9cb",
            "0ad177291e474c9e820c5694f2fc61de"
          ]
        },
        "outputId": "0c1076fb-bb11-4d53-858f-993293cb0aba"
      },
      "source": [
        "# Load pretrained ResNet50 Model\n",
        "model_class = models.resnet152(pretrained=True)"
      ],
      "execution_count": 11,
      "outputs": [
        {
          "output_type": "stream",
          "text": [
            "Downloading: \"https://download.pytorch.org/models/resnet152-394f9c45.pth\" to /root/.cache/torch/hub/checkpoints/resnet152-394f9c45.pth\n"
          ],
          "name": "stderr"
        },
        {
          "output_type": "display_data",
          "data": {
            "application/vnd.jupyter.widget-view+json": {
              "model_id": "22c08b6ca32046bca9bec525da9415a0",
              "version_minor": 0,
              "version_major": 2
            },
            "text/plain": [
              "HBox(children=(FloatProgress(value=0.0, max=241627721.0), HTML(value='')))"
            ]
          },
          "metadata": {
            "tags": []
          }
        },
        {
          "output_type": "stream",
          "text": [
            "\n"
          ],
          "name": "stdout"
        }
      ]
    },
    {
      "cell_type": "code",
      "metadata": {
        "id": "qWHwvjeWOVSJ"
      },
      "source": [
        "# Freeze model parameters\n",
        "# for param in model_class.parameters():\n",
        "#     param.requires_grad = False"
      ],
      "execution_count": 12,
      "outputs": []
    },
    {
      "cell_type": "code",
      "metadata": {
        "id": "yKCG2en0o-71"
      },
      "source": [
        "# fc_inputs = model_class.fc.in_features\n",
        "# fc_inputs"
      ],
      "execution_count": 13,
      "outputs": []
    },
    {
      "cell_type": "code",
      "metadata": {
        "id": "nE_07JDiOW8w"
      },
      "source": [
        "# Change the final layer of ResNet50 Model for Transfer Learning\n",
        "fc_inputs = model_class.fc.in_features\n",
        "\n",
        "model_class.fc = nn.Sequential(\n",
        "    nn.Linear(fc_inputs, 128),\n",
        "    nn.ReLU(),\n",
        "    nn.Dropout(0.3),\n",
        "    nn.Flatten(),\n",
        "    nn.Dropout(0.5),\n",
        "    nn.Linear(128, 2), # Since 100 possible outputs\n",
        "    nn.LogSoftmax(dim=1) # For using NLLLoss()\n",
        ")\n",
        "\n",
        "# Convert model to be used on GPU\n",
        "model_class = model_class.to(device)"
      ],
      "execution_count": 14,
      "outputs": []
    },
    {
      "cell_type": "code",
      "metadata": {
        "id": "921-fqC4Ocep"
      },
      "source": [
        "def train_and_validate(model, scheduler, loss_criterion, optimizer, epochs):\n",
        "    '''\n",
        "    Function to train and validate\n",
        "    Parameters\n",
        "        :param model: Model to train and validate\n",
        "        :param loss_criterion: Loss Criterion to minimize\n",
        "        :param optimizer: Optimizer for computing gradients\n",
        "        :param epochs: Number of epochs (default=25)\n",
        "  \n",
        "    Returns\n",
        "        model: Trained Model with best validation accuracy\n",
        "        history: (dict object): Having training loss, accuracy and validation loss, accuracy\n",
        "    '''\n",
        "    \n",
        "    start = time.time()\n",
        "    history = []\n",
        "    best_loss = 100000.0\n",
        "    best_epoch = None\n",
        "    flag = 0\n",
        "\n",
        "    for epoch in range(epochs):\n",
        "        epoch_start = time.time()\n",
        "        print(\"Epoch: {}/{}\".format(epoch+1, epochs))\n",
        "        \n",
        "        # Set to training mode\n",
        "        model.train()\n",
        "        \n",
        "        # Loss and Accuracy within the epoch\n",
        "        train_loss = 0.0\n",
        "        train_acc = 0.0\n",
        "        \n",
        "        valid_loss = 0.0\n",
        "        valid_acc = 0.0\n",
        "        \n",
        "        for i, (inputs, labels) in enumerate(train_loader):\n",
        "\n",
        "            inputs = inputs.to(device)\n",
        "            labels = labels.to(device)\n",
        "            \n",
        "            # Clean existing gradients\n",
        "            optimizer.zero_grad()\n",
        "            \n",
        "            # Forward pass - compute outputs on input data using the model\n",
        "            outputs = model(inputs)\n",
        "            \n",
        "            # Compute loss\n",
        "            loss = loss_criterion(outputs, labels)\n",
        "            \n",
        "            # Backpropagate the gradients\n",
        "            loss.backward()\n",
        "            \n",
        "            # Update the parameters\n",
        "            optimizer.step()\n",
        "            \n",
        "            \n",
        "            # Compute the total loss for the batch and add it to train_loss\n",
        "            train_loss += loss.item() * inputs.size(0)\n",
        "            \n",
        "            # Compute the accuracy\n",
        "            ret, predictions = torch.max(outputs.data, 1)\n",
        "            correct_counts = predictions.eq(labels.data.view_as(predictions))\n",
        "            \n",
        "            # Convert correct_counts to float and then compute the mean\n",
        "            acc = torch.mean(correct_counts.type(torch.FloatTensor))\n",
        "            \n",
        "            # Compute total accuracy in the whole batch and add to train_acc\n",
        "            train_acc += acc.item() * inputs.size(0)\n",
        "            \n",
        "            #print(\"Batch number: {:03d}, Training: Loss: {:.4f}, Accuracy: {:.4f}\".format(i, loss.item(), acc.item()))\n",
        "\n",
        "        \n",
        "        # Validation - No gradient tracking needed\n",
        "        with torch.no_grad():\n",
        "\n",
        "            # Set to evaluation mode\n",
        "            model.eval()\n",
        "\n",
        "            # Validation loop\n",
        "            for j, (inputs, labels) in enumerate(val_loader):\n",
        "                inputs = inputs.to(device)\n",
        "                labels = labels.to(device)\n",
        "\n",
        "                # Forward pass - compute outputs on input data using the model\n",
        "                outputs = model(inputs)\n",
        "\n",
        "                # Compute loss\n",
        "                loss = loss_criterion(outputs, labels)\n",
        "\n",
        "                # Compute the total loss for the batch and add it to valid_loss\n",
        "                valid_loss += loss.item() * inputs.size(0)\n",
        "\n",
        "                # Calculate validation accuracy\n",
        "                ret, predictions = torch.max(outputs.data, 1)\n",
        "                correct_counts = predictions.eq(labels.data.view_as(predictions))\n",
        "\n",
        "                # Convert correct_counts to float and then compute the mean\n",
        "                acc = torch.mean(correct_counts.type(torch.FloatTensor))\n",
        "\n",
        "                # Compute total accuracy in the whole batch and add to valid_acc\n",
        "                valid_acc += acc.item() * inputs.size(0)\n",
        "                # if not j%100:\n",
        "                #   print(\"Validation Batch number: {:03d}, Validation: Loss: {:.4f}, Accuracy: {:.4f}\".format(j, loss.item(), acc.item()))\n",
        "        if valid_loss < best_loss:\n",
        "            best_loss = valid_loss\n",
        "            best_epoch = epoch\n",
        "\n",
        "        # Find average training loss and training accuracy\n",
        "        avg_train_loss = train_loss/train_data_size \n",
        "        avg_train_acc = train_acc/train_data_size\n",
        "\n",
        "        # Find average training loss and training accuracy\n",
        "        avg_valid_loss = valid_loss/test_data_size \n",
        "        avg_valid_acc = valid_acc/test_data_size\n",
        "\n",
        "        history.append([avg_train_loss, avg_valid_loss, avg_train_acc, avg_valid_acc])\n",
        "                \n",
        "        epoch_end = time.time()\n",
        "    \n",
        "        print(\"Epoch : {:03d}, Training: Loss - {:.4f}, Accuracy - {:.4f}%, Validation : Loss - {:.4f}, Accuracy - {:.4f}%, Time: {:.4f}s\".format(epoch+1, avg_train_loss, avg_train_acc*100, avg_valid_loss, avg_valid_acc*100, epoch_end-epoch_start))\n",
        "\n",
        "        #reduce lr\n",
        "        \n",
        "        if avg_valid_acc*100 > 90:\n",
        "          flag = 1\n",
        "\n",
        "        if flag == 1:\n",
        "          scheduler.step(avg_valid_loss)\n",
        "        \n",
        "        print('Epoch-{0} learning rate: {1}'.format(epoch, optimizer.param_groups[0]['lr']))\n",
        "\n",
        "        # Save if the model has best accuracy till now\n",
        "        # torch.save(model, 'model_'+str(epoch)+'.pt')\n",
        "        # optimizer.epoch_step(epoch)       \n",
        "    return model, history, best_epoch"
      ],
      "execution_count": 15,
      "outputs": []
    },
    {
      "cell_type": "code",
      "metadata": {
        "id": "Jx6C95OqFFT1",
        "colab": {
          "base_uri": "https://localhost:8080/"
        },
        "outputId": "7361e288-5434-4fc1-8197-d94694d7b070"
      },
      "source": [
        "# Define Optimizer and Loss Function\n",
        "loss_func = nn.NLLLoss()\n",
        "optimizer = Adas(params=list(model_class.parameters()), lr=5.5e-3, beta = 0.95)"
      ],
      "execution_count": 16,
      "outputs": [
        {
          "output_type": "stream",
          "text": [
            "155\n"
          ],
          "name": "stdout"
        }
      ]
    },
    {
      "cell_type": "code",
      "metadata": {
        "colab": {
          "base_uri": "https://localhost:8080/"
        },
        "id": "BR6dTBifOhoW",
        "outputId": "4a58fbf6-1eda-4036-f1ea-4d8c4a4b9930"
      },
      "source": [
        "num_epochs = 100\n",
        "\n",
        "start = time.time()\n",
        "\n",
        "# trained_model, history, best_epoch = train_and_validate(model_class, loss_func, optimizer, num_epochs)\n",
        "\n",
        "# scheduler = optim.lr_scheduler.MultiStepLR(optimizer, milestones=[20,35], gamma=0.1)\n",
        "# scheduler = optim.lr_scheduler.StepLR(optimizer, step_size=2, gamma=torch.exp(-0.1))\n",
        "\n",
        "# lambda1 = lambda epoch: torch.exp(-1) ** epoch\n",
        "# scheduler = torch.optim.lr_scheduler.LambdaLR(optimizer, lr_lambda=lambda1)\n",
        "\n",
        "scheduler = torch.optim.lr_scheduler.ReduceLROnPlateau(optimizer, mode='min', factor= 0.9, patience=1, threshold=0.0001, threshold_mode='abs')\n",
        "\n",
        "trained_model, history, best_epoch = train_and_validate(model_class, scheduler, loss_func, optimizer, num_epochs)\n",
        "\n",
        "end = time.time()\n",
        "# torch.save(history, 'history.pt')"
      ],
      "execution_count": 17,
      "outputs": [
        {
          "output_type": "stream",
          "text": [
            "Epoch: 1/100\n"
          ],
          "name": "stdout"
        },
        {
          "output_type": "stream",
          "text": [
            "/usr/local/lib/python3.7/dist-packages/torch/nn/functional.py:718: UserWarning: Named tensors and all their associated APIs are an experimental feature and subject to change. Please do not use them for anything important until they are released as stable. (Triggered internally at  /pytorch/c10/core/TensorImpl.h:1156.)\n",
            "  return torch.max_pool2d(input, kernel_size, stride, padding, dilation, ceil_mode)\n"
          ],
          "name": "stderr"
        },
        {
          "output_type": "stream",
          "text": [
            "Epoch : 001, Training: Loss - 0.6597, Accuracy - 60.0246%, Validation : Loss - 0.6367, Accuracy - 68.2008%, Time: 216.9725s\n",
            "Epoch-0 learning rate: 0.0055\n",
            "Epoch: 2/100\n",
            "Epoch : 002, Training: Loss - 0.5244, Accuracy - 78.9668%, Validation : Loss - 0.4922, Accuracy - 76.1506%, Time: 30.7513s\n",
            "Epoch-1 learning rate: 0.0055\n",
            "Epoch: 3/100\n",
            "Epoch : 003, Training: Loss - 0.3570, Accuracy - 88.3149%, Validation : Loss - 0.4025, Accuracy - 80.3347%, Time: 30.4945s\n",
            "Epoch-2 learning rate: 0.0055\n",
            "Epoch: 4/100\n",
            "Epoch : 004, Training: Loss - 0.2528, Accuracy - 91.3899%, Validation : Loss - 0.3614, Accuracy - 83.2636%, Time: 29.8074s\n",
            "Epoch-3 learning rate: 0.0055\n",
            "Epoch: 5/100\n",
            "Epoch : 005, Training: Loss - 0.2090, Accuracy - 93.1119%, Validation : Loss - 0.3344, Accuracy - 84.9372%, Time: 29.9976s\n",
            "Epoch-4 learning rate: 0.0055\n",
            "Epoch: 6/100\n",
            "Epoch : 006, Training: Loss - 0.1930, Accuracy - 93.2349%, Validation : Loss - 0.2946, Accuracy - 85.7741%, Time: 29.5040s\n",
            "Epoch-5 learning rate: 0.0055\n",
            "Epoch: 7/100\n",
            "Epoch : 007, Training: Loss - 0.1409, Accuracy - 94.9569%, Validation : Loss - 0.2753, Accuracy - 86.6109%, Time: 29.9505s\n",
            "Epoch-6 learning rate: 0.0055\n",
            "Epoch: 8/100\n",
            "Epoch : 008, Training: Loss - 0.1447, Accuracy - 95.5720%, Validation : Loss - 0.2832, Accuracy - 87.4477%, Time: 29.9050s\n",
            "Epoch-7 learning rate: 0.0055\n",
            "Epoch: 9/100\n",
            "Epoch : 009, Training: Loss - 0.1177, Accuracy - 96.6790%, Validation : Loss - 0.2782, Accuracy - 88.2845%, Time: 29.6689s\n",
            "Epoch-8 learning rate: 0.0055\n",
            "Epoch: 10/100\n",
            "Epoch : 010, Training: Loss - 0.0916, Accuracy - 96.4330%, Validation : Loss - 0.2574, Accuracy - 87.8661%, Time: 29.5569s\n",
            "Epoch-9 learning rate: 0.0055\n",
            "Epoch: 11/100\n",
            "Epoch : 011, Training: Loss - 0.0691, Accuracy - 98.0320%, Validation : Loss - 0.2564, Accuracy - 88.7029%, Time: 30.0462s\n",
            "Epoch-10 learning rate: 0.0055\n",
            "Epoch: 12/100\n",
            "Epoch : 012, Training: Loss - 0.0726, Accuracy - 97.9090%, Validation : Loss - 0.2702, Accuracy - 89.1213%, Time: 30.6614s\n",
            "Epoch-11 learning rate: 0.0055\n",
            "Epoch: 13/100\n",
            "Epoch : 013, Training: Loss - 0.0763, Accuracy - 97.6630%, Validation : Loss - 0.2930, Accuracy - 88.7029%, Time: 29.6666s\n",
            "Epoch-12 learning rate: 0.0055\n",
            "Epoch: 14/100\n",
            "Epoch : 014, Training: Loss - 0.0324, Accuracy - 99.2620%, Validation : Loss - 0.2881, Accuracy - 89.5397%, Time: 29.3734s\n",
            "Epoch-13 learning rate: 0.0055\n",
            "Epoch: 15/100\n",
            "Epoch : 015, Training: Loss - 0.0452, Accuracy - 98.6470%, Validation : Loss - 0.3121, Accuracy - 86.6109%, Time: 29.4512s\n",
            "Epoch-14 learning rate: 0.0055\n",
            "Epoch: 16/100\n",
            "Epoch : 016, Training: Loss - 0.0584, Accuracy - 98.2780%, Validation : Loss - 0.3375, Accuracy - 88.7029%, Time: 29.4165s\n",
            "Epoch-15 learning rate: 0.0055\n",
            "Epoch: 17/100\n",
            "Epoch : 017, Training: Loss - 0.0515, Accuracy - 98.2780%, Validation : Loss - 0.2889, Accuracy - 88.7029%, Time: 29.3279s\n",
            "Epoch-16 learning rate: 0.0055\n",
            "Epoch: 18/100\n",
            "Epoch : 018, Training: Loss - 0.0461, Accuracy - 98.6470%, Validation : Loss - 0.3060, Accuracy - 87.0293%, Time: 29.4447s\n",
            "Epoch-17 learning rate: 0.0055\n",
            "Epoch: 19/100\n",
            "Epoch : 019, Training: Loss - 0.0349, Accuracy - 98.8930%, Validation : Loss - 0.2898, Accuracy - 88.2845%, Time: 29.4265s\n",
            "Epoch-18 learning rate: 0.0055\n",
            "Epoch: 20/100\n",
            "Epoch : 020, Training: Loss - 0.0283, Accuracy - 99.3850%, Validation : Loss - 0.2667, Accuracy - 90.7950%, Time: 29.2988s\n",
            "Epoch-19 learning rate: 0.0055\n",
            "Epoch: 21/100\n",
            "Epoch : 021, Training: Loss - 0.0323, Accuracy - 99.0160%, Validation : Loss - 0.3057, Accuracy - 89.5397%, Time: 29.8844s\n",
            "Epoch-20 learning rate: 0.0055\n",
            "Epoch: 22/100\n",
            "Epoch : 022, Training: Loss - 0.0347, Accuracy - 98.7700%, Validation : Loss - 0.2734, Accuracy - 92.0502%, Time: 30.8548s\n",
            "Epoch-21 learning rate: 0.0049499999999999995\n",
            "Epoch: 23/100\n",
            "Epoch : 023, Training: Loss - 0.0552, Accuracy - 98.6470%, Validation : Loss - 0.3128, Accuracy - 89.5397%, Time: 30.3647s\n",
            "Epoch-22 learning rate: 0.0049499999999999995\n",
            "Epoch: 24/100\n",
            "Epoch : 024, Training: Loss - 0.0154, Accuracy - 99.7540%, Validation : Loss - 0.2697, Accuracy - 90.3766%, Time: 29.9410s\n",
            "Epoch-23 learning rate: 0.004455\n",
            "Epoch: 25/100\n",
            "Epoch : 025, Training: Loss - 0.0372, Accuracy - 99.1390%, Validation : Loss - 0.2736, Accuracy - 90.3766%, Time: 29.7667s\n",
            "Epoch-24 learning rate: 0.004455\n",
            "Epoch: 26/100\n",
            "Epoch : 026, Training: Loss - 0.0095, Accuracy - 99.8770%, Validation : Loss - 0.2900, Accuracy - 91.2134%, Time: 29.7325s\n",
            "Epoch-25 learning rate: 0.0040095\n",
            "Epoch: 27/100\n",
            "Epoch : 027, Training: Loss - 0.0199, Accuracy - 99.7540%, Validation : Loss - 0.3092, Accuracy - 92.0502%, Time: 29.6637s\n",
            "Epoch-26 learning rate: 0.0040095\n",
            "Epoch: 28/100\n",
            "Epoch : 028, Training: Loss - 0.0133, Accuracy - 99.6310%, Validation : Loss - 0.3328, Accuracy - 91.2134%, Time: 29.9121s\n",
            "Epoch-27 learning rate: 0.0036085500000000003\n",
            "Epoch: 29/100\n",
            "Epoch : 029, Training: Loss - 0.0110, Accuracy - 99.5080%, Validation : Loss - 0.2705, Accuracy - 91.6318%, Time: 29.6805s\n",
            "Epoch-28 learning rate: 0.0036085500000000003\n",
            "Epoch: 30/100\n",
            "Epoch : 030, Training: Loss - 0.0246, Accuracy - 99.5080%, Validation : Loss - 0.2543, Accuracy - 92.4686%, Time: 29.4672s\n",
            "Epoch-29 learning rate: 0.0036085500000000003\n",
            "Epoch: 31/100\n",
            "Epoch : 031, Training: Loss - 0.0176, Accuracy - 99.5080%, Validation : Loss - 0.2655, Accuracy - 93.3054%, Time: 29.7089s\n",
            "Epoch-30 learning rate: 0.0036085500000000003\n",
            "Epoch: 32/100\n",
            "Epoch : 032, Training: Loss - 0.0067, Accuracy - 100.0000%, Validation : Loss - 0.2735, Accuracy - 92.8870%, Time: 30.5570s\n",
            "Epoch-31 learning rate: 0.0032476950000000005\n",
            "Epoch: 33/100\n",
            "Epoch : 033, Training: Loss - 0.0125, Accuracy - 99.8770%, Validation : Loss - 0.2561, Accuracy - 93.7238%, Time: 29.8232s\n",
            "Epoch-32 learning rate: 0.0032476950000000005\n",
            "Epoch: 34/100\n",
            "Epoch : 034, Training: Loss - 0.0071, Accuracy - 100.0000%, Validation : Loss - 0.2565, Accuracy - 93.3054%, Time: 29.4639s\n",
            "Epoch-33 learning rate: 0.0029229255000000004\n",
            "Epoch: 35/100\n",
            "Epoch : 035, Training: Loss - 0.0251, Accuracy - 99.2620%, Validation : Loss - 0.2565, Accuracy - 94.9791%, Time: 29.2755s\n",
            "Epoch-34 learning rate: 0.0029229255000000004\n",
            "Epoch: 36/100\n",
            "Epoch : 036, Training: Loss - 0.0104, Accuracy - 99.6310%, Validation : Loss - 0.2768, Accuracy - 93.7238%, Time: 29.3480s\n",
            "Epoch-35 learning rate: 0.0026306329500000005\n",
            "Epoch: 37/100\n",
            "Epoch : 037, Training: Loss - 0.0105, Accuracy - 99.5080%, Validation : Loss - 0.3070, Accuracy - 93.3054%, Time: 29.3018s\n",
            "Epoch-36 learning rate: 0.0026306329500000005\n",
            "Epoch: 38/100\n",
            "Epoch : 038, Training: Loss - 0.0038, Accuracy - 100.0000%, Validation : Loss - 0.3213, Accuracy - 92.8870%, Time: 29.2327s\n",
            "Epoch-37 learning rate: 0.0023675696550000003\n",
            "Epoch: 39/100\n",
            "Epoch : 039, Training: Loss - 0.0209, Accuracy - 99.3850%, Validation : Loss - 0.3409, Accuracy - 92.4686%, Time: 29.3136s\n",
            "Epoch-38 learning rate: 0.0023675696550000003\n",
            "Epoch: 40/100\n",
            "Epoch : 040, Training: Loss - 0.0081, Accuracy - 99.7540%, Validation : Loss - 0.3143, Accuracy - 93.7238%, Time: 29.3157s\n",
            "Epoch-39 learning rate: 0.0021308126895000002\n",
            "Epoch: 41/100\n",
            "Epoch : 041, Training: Loss - 0.0058, Accuracy - 99.8770%, Validation : Loss - 0.2825, Accuracy - 93.7238%, Time: 29.4285s\n",
            "Epoch-40 learning rate: 0.0021308126895000002\n",
            "Epoch: 42/100\n",
            "Epoch : 042, Training: Loss - 0.0189, Accuracy - 99.5080%, Validation : Loss - 0.3246, Accuracy - 92.0502%, Time: 29.4680s\n",
            "Epoch-41 learning rate: 0.0019177314205500002\n",
            "Epoch: 43/100\n",
            "Epoch : 043, Training: Loss - 0.0077, Accuracy - 99.7540%, Validation : Loss - 0.3036, Accuracy - 91.6318%, Time: 29.9254s\n",
            "Epoch-42 learning rate: 0.0019177314205500002\n",
            "Epoch: 44/100\n",
            "Epoch : 044, Training: Loss - 0.0036, Accuracy - 100.0000%, Validation : Loss - 0.3067, Accuracy - 92.8870%, Time: 29.9847s\n",
            "Epoch-43 learning rate: 0.0017259582784950002\n",
            "Epoch: 45/100\n",
            "Epoch : 045, Training: Loss - 0.0059, Accuracy - 99.7540%, Validation : Loss - 0.3134, Accuracy - 92.8870%, Time: 29.8651s\n",
            "Epoch-44 learning rate: 0.0017259582784950002\n",
            "Epoch: 46/100\n",
            "Epoch : 046, Training: Loss - 0.0024, Accuracy - 100.0000%, Validation : Loss - 0.3109, Accuracy - 93.7238%, Time: 29.6944s\n",
            "Epoch-45 learning rate: 0.0015533624506455003\n",
            "Epoch: 47/100\n",
            "Epoch : 047, Training: Loss - 0.0026, Accuracy - 100.0000%, Validation : Loss - 0.3032, Accuracy - 92.8870%, Time: 29.8110s\n",
            "Epoch-46 learning rate: 0.0015533624506455003\n",
            "Epoch: 48/100\n",
            "Epoch : 048, Training: Loss - 0.0062, Accuracy - 99.7540%, Validation : Loss - 0.2934, Accuracy - 93.7238%, Time: 30.1182s\n",
            "Epoch-47 learning rate: 0.0013980262055809502\n",
            "Epoch: 49/100\n",
            "Epoch : 049, Training: Loss - 0.0040, Accuracy - 99.8770%, Validation : Loss - 0.3500, Accuracy - 92.4686%, Time: 29.7146s\n",
            "Epoch-48 learning rate: 0.0013980262055809502\n",
            "Epoch: 50/100\n",
            "Epoch : 050, Training: Loss - 0.0016, Accuracy - 100.0000%, Validation : Loss - 0.3549, Accuracy - 92.4686%, Time: 30.1406s\n",
            "Epoch-49 learning rate: 0.0012582235850228552\n",
            "Epoch: 51/100\n",
            "Epoch : 051, Training: Loss - 0.0025, Accuracy - 100.0000%, Validation : Loss - 0.3235, Accuracy - 94.5607%, Time: 30.5207s\n",
            "Epoch-50 learning rate: 0.0012582235850228552\n",
            "Epoch: 52/100\n",
            "Epoch : 052, Training: Loss - 0.0078, Accuracy - 99.8770%, Validation : Loss - 0.3823, Accuracy - 92.4686%, Time: 30.4111s\n",
            "Epoch-51 learning rate: 0.0011324012265205698\n",
            "Epoch: 53/100\n",
            "Epoch : 053, Training: Loss - 0.0183, Accuracy - 99.3850%, Validation : Loss - 0.3332, Accuracy - 91.6318%, Time: 30.0440s\n",
            "Epoch-52 learning rate: 0.0011324012265205698\n",
            "Epoch: 54/100\n",
            "Epoch : 054, Training: Loss - 0.0091, Accuracy - 99.8770%, Validation : Loss - 0.3199, Accuracy - 93.3054%, Time: 29.4314s\n",
            "Epoch-53 learning rate: 0.0010191611038685127\n",
            "Epoch: 55/100\n",
            "Epoch : 055, Training: Loss - 0.0018, Accuracy - 100.0000%, Validation : Loss - 0.3186, Accuracy - 94.1423%, Time: 29.5474s\n",
            "Epoch-54 learning rate: 0.0010191611038685127\n",
            "Epoch: 56/100\n",
            "Epoch : 056, Training: Loss - 0.0050, Accuracy - 99.8770%, Validation : Loss - 0.3432, Accuracy - 94.5607%, Time: 29.2416s\n",
            "Epoch-55 learning rate: 0.0009172449934816615\n",
            "Epoch: 57/100\n",
            "Epoch : 057, Training: Loss - 0.0021, Accuracy - 100.0000%, Validation : Loss - 0.3331, Accuracy - 94.1423%, Time: 30.5916s\n",
            "Epoch-56 learning rate: 0.0009172449934816615\n",
            "Epoch: 58/100\n",
            "Epoch : 058, Training: Loss - 0.0032, Accuracy - 100.0000%, Validation : Loss - 0.3297, Accuracy - 94.5607%, Time: 29.5472s\n",
            "Epoch-57 learning rate: 0.0008255204941334953\n",
            "Epoch: 59/100\n",
            "Epoch : 059, Training: Loss - 0.0018, Accuracy - 100.0000%, Validation : Loss - 0.3383, Accuracy - 94.5607%, Time: 29.2772s\n",
            "Epoch-58 learning rate: 0.0008255204941334953\n",
            "Epoch: 60/100\n",
            "Epoch : 060, Training: Loss - 0.0013, Accuracy - 100.0000%, Validation : Loss - 0.3293, Accuracy - 94.5607%, Time: 29.2374s\n",
            "Epoch-59 learning rate: 0.0007429684447201458\n",
            "Epoch: 61/100\n",
            "Epoch : 061, Training: Loss - 0.0022, Accuracy - 100.0000%, Validation : Loss - 0.3393, Accuracy - 93.7238%, Time: 29.2137s\n",
            "Epoch-60 learning rate: 0.0007429684447201458\n",
            "Epoch: 62/100\n",
            "Epoch : 062, Training: Loss - 0.0064, Accuracy - 99.7540%, Validation : Loss - 0.3658, Accuracy - 93.7238%, Time: 30.3077s\n",
            "Epoch-61 learning rate: 0.0006686716002481313\n",
            "Epoch: 63/100\n",
            "Epoch : 063, Training: Loss - 0.0016, Accuracy - 100.0000%, Validation : Loss - 0.3386, Accuracy - 94.1423%, Time: 29.9508s\n",
            "Epoch-62 learning rate: 0.0006686716002481313\n",
            "Epoch: 64/100\n",
            "Epoch : 064, Training: Loss - 0.0034, Accuracy - 99.8770%, Validation : Loss - 0.3446, Accuracy - 93.7238%, Time: 29.9130s\n",
            "Epoch-63 learning rate: 0.0006018044402233181\n",
            "Epoch: 65/100\n",
            "Epoch : 065, Training: Loss - 0.0011, Accuracy - 100.0000%, Validation : Loss - 0.3503, Accuracy - 94.1423%, Time: 29.7105s\n",
            "Epoch-64 learning rate: 0.0006018044402233181\n",
            "Epoch: 66/100\n",
            "Epoch : 066, Training: Loss - 0.0011, Accuracy - 100.0000%, Validation : Loss - 0.3232, Accuracy - 94.5607%, Time: 29.6611s\n",
            "Epoch-65 learning rate: 0.0005416239962009864\n",
            "Epoch: 67/100\n",
            "Epoch : 067, Training: Loss - 0.0126, Accuracy - 99.5080%, Validation : Loss - 0.2933, Accuracy - 93.7238%, Time: 29.3448s\n",
            "Epoch-66 learning rate: 0.0005416239962009864\n",
            "Epoch: 68/100\n",
            "Epoch : 068, Training: Loss - 0.0137, Accuracy - 99.8770%, Validation : Loss - 0.3749, Accuracy - 90.3766%, Time: 29.7512s\n",
            "Epoch-67 learning rate: 0.00048746159658088773\n",
            "Epoch: 69/100\n",
            "Epoch : 069, Training: Loss - 0.0066, Accuracy - 99.8770%, Validation : Loss - 0.3435, Accuracy - 94.1423%, Time: 30.0125s\n",
            "Epoch-68 learning rate: 0.00048746159658088773\n",
            "Epoch: 70/100\n",
            "Epoch : 070, Training: Loss - 0.0060, Accuracy - 99.7540%, Validation : Loss - 0.3699, Accuracy - 92.8870%, Time: 29.8060s\n",
            "Epoch-69 learning rate: 0.00043871543692279894\n",
            "Epoch: 71/100\n",
            "Epoch : 071, Training: Loss - 0.0152, Accuracy - 99.7540%, Validation : Loss - 0.3944, Accuracy - 91.2134%, Time: 29.7195s\n",
            "Epoch-70 learning rate: 0.00043871543692279894\n",
            "Epoch: 72/100\n",
            "Epoch : 072, Training: Loss - 0.0106, Accuracy - 99.6310%, Validation : Loss - 0.3756, Accuracy - 92.0502%, Time: 30.6573s\n",
            "Epoch-71 learning rate: 0.00039484389323051904\n",
            "Epoch: 73/100\n",
            "Epoch : 073, Training: Loss - 0.0026, Accuracy - 100.0000%, Validation : Loss - 0.3897, Accuracy - 92.0502%, Time: 30.2990s\n",
            "Epoch-72 learning rate: 0.00039484389323051904\n",
            "Epoch: 74/100\n",
            "Epoch : 074, Training: Loss - 0.0021, Accuracy - 100.0000%, Validation : Loss - 0.3716, Accuracy - 92.0502%, Time: 29.5940s\n",
            "Epoch-73 learning rate: 0.00035535950390746716\n",
            "Epoch: 75/100\n",
            "Epoch : 075, Training: Loss - 0.0024, Accuracy - 100.0000%, Validation : Loss - 0.3813, Accuracy - 92.0502%, Time: 29.2793s\n",
            "Epoch-74 learning rate: 0.00035535950390746716\n",
            "Epoch: 76/100\n",
            "Epoch : 076, Training: Loss - 0.0020, Accuracy - 100.0000%, Validation : Loss - 0.3683, Accuracy - 92.8870%, Time: 29.3130s\n",
            "Epoch-75 learning rate: 0.00031982355351672047\n",
            "Epoch: 77/100\n",
            "Epoch : 077, Training: Loss - 0.0019, Accuracy - 100.0000%, Validation : Loss - 0.3701, Accuracy - 92.0502%, Time: 29.3993s\n",
            "Epoch-76 learning rate: 0.00031982355351672047\n",
            "Epoch: 78/100\n",
            "Epoch : 078, Training: Loss - 0.0018, Accuracy - 100.0000%, Validation : Loss - 0.3929, Accuracy - 92.4686%, Time: 29.4675s\n",
            "Epoch-77 learning rate: 0.00028784119816504844\n",
            "Epoch: 79/100\n",
            "Epoch : 079, Training: Loss - 0.0069, Accuracy - 99.7540%, Validation : Loss - 0.4012, Accuracy - 92.4686%, Time: 29.3844s\n",
            "Epoch-78 learning rate: 0.00028784119816504844\n",
            "Epoch: 80/100\n",
            "Epoch : 080, Training: Loss - 0.0030, Accuracy - 100.0000%, Validation : Loss - 0.3893, Accuracy - 92.8870%, Time: 29.3328s\n",
            "Epoch-79 learning rate: 0.0002590570783485436\n",
            "Epoch: 81/100\n",
            "Epoch : 081, Training: Loss - 0.0019, Accuracy - 100.0000%, Validation : Loss - 0.3732, Accuracy - 92.4686%, Time: 29.3826s\n",
            "Epoch-80 learning rate: 0.0002590570783485436\n",
            "Epoch: 82/100\n",
            "Epoch : 082, Training: Loss - 0.0149, Accuracy - 99.8770%, Validation : Loss - 0.3400, Accuracy - 91.6318%, Time: 30.3671s\n",
            "Epoch-81 learning rate: 0.00023315137051368927\n",
            "Epoch: 83/100\n",
            "Epoch : 083, Training: Loss - 0.0017, Accuracy - 100.0000%, Validation : Loss - 0.3498, Accuracy - 90.7950%, Time: 30.6599s\n",
            "Epoch-82 learning rate: 0.00023315137051368927\n",
            "Epoch: 84/100\n",
            "Epoch : 084, Training: Loss - 0.0012, Accuracy - 100.0000%, Validation : Loss - 0.3467, Accuracy - 91.6318%, Time: 29.9936s\n",
            "Epoch-83 learning rate: 0.00020983623346232036\n",
            "Epoch: 85/100\n",
            "Epoch : 085, Training: Loss - 0.0019, Accuracy - 100.0000%, Validation : Loss - 0.4067, Accuracy - 92.4686%, Time: 29.8881s\n",
            "Epoch-84 learning rate: 0.00020983623346232036\n",
            "Epoch: 86/100\n",
            "Epoch : 086, Training: Loss - 0.0015, Accuracy - 100.0000%, Validation : Loss - 0.3869, Accuracy - 92.4686%, Time: 29.6475s\n",
            "Epoch-85 learning rate: 0.00018885261011608833\n",
            "Epoch: 87/100\n",
            "Epoch : 087, Training: Loss - 0.0013, Accuracy - 100.0000%, Validation : Loss - 0.3886, Accuracy - 92.4686%, Time: 29.5221s\n",
            "Epoch-86 learning rate: 0.00018885261011608833\n",
            "Epoch: 88/100\n",
            "Epoch : 088, Training: Loss - 0.0011, Accuracy - 100.0000%, Validation : Loss - 0.3793, Accuracy - 93.3054%, Time: 29.8940s\n",
            "Epoch-87 learning rate: 0.00016996734910447952\n",
            "Epoch: 89/100\n",
            "Epoch : 089, Training: Loss - 0.0054, Accuracy - 99.7540%, Validation : Loss - 0.4194, Accuracy - 90.7950%, Time: 29.8126s\n",
            "Epoch-88 learning rate: 0.00016996734910447952\n",
            "Epoch: 90/100\n",
            "Epoch : 090, Training: Loss - 0.0010, Accuracy - 100.0000%, Validation : Loss - 0.3690, Accuracy - 93.7238%, Time: 29.6895s\n",
            "Epoch-89 learning rate: 0.00015297061419403157\n",
            "Epoch: 91/100\n",
            "Epoch : 091, Training: Loss - 0.0014, Accuracy - 100.0000%, Validation : Loss - 0.4094, Accuracy - 94.1423%, Time: 29.3949s\n",
            "Epoch-90 learning rate: 0.00015297061419403157\n",
            "Epoch: 92/100\n",
            "Epoch : 092, Training: Loss - 0.0009, Accuracy - 100.0000%, Validation : Loss - 0.3791, Accuracy - 92.8870%, Time: 30.3037s\n",
            "Epoch-91 learning rate: 0.00013767355277462842\n",
            "Epoch: 93/100\n",
            "Epoch : 093, Training: Loss - 0.0018, Accuracy - 99.8770%, Validation : Loss - 0.3952, Accuracy - 92.4686%, Time: 30.2245s\n",
            "Epoch-92 learning rate: 0.00013767355277462842\n",
            "Epoch: 94/100\n",
            "Epoch : 094, Training: Loss - 0.0009, Accuracy - 100.0000%, Validation : Loss - 0.4020, Accuracy - 92.4686%, Time: 29.3681s\n",
            "Epoch-93 learning rate: 0.00012390619749716558\n",
            "Epoch: 95/100\n",
            "Epoch : 095, Training: Loss - 0.0018, Accuracy - 99.8770%, Validation : Loss - 0.3892, Accuracy - 92.0502%, Time: 29.3960s\n",
            "Epoch-94 learning rate: 0.00012390619749716558\n",
            "Epoch: 96/100\n",
            "Epoch : 096, Training: Loss - 0.0009, Accuracy - 100.0000%, Validation : Loss - 0.3734, Accuracy - 93.3054%, Time: 29.2036s\n",
            "Epoch-95 learning rate: 0.00011151557774744902\n",
            "Epoch: 97/100\n",
            "Epoch : 097, Training: Loss - 0.0059, Accuracy - 99.6310%, Validation : Loss - 0.5230, Accuracy - 88.7029%, Time: 29.3516s\n",
            "Epoch-96 learning rate: 0.00011151557774744902\n",
            "Epoch: 98/100\n",
            "Epoch : 098, Training: Loss - 0.0028, Accuracy - 99.8770%, Validation : Loss - 0.4104, Accuracy - 92.4686%, Time: 29.3817s\n",
            "Epoch-97 learning rate: 0.00010036401997270412\n",
            "Epoch: 99/100\n",
            "Epoch : 099, Training: Loss - 0.0073, Accuracy - 99.7540%, Validation : Loss - 0.4181, Accuracy - 91.6318%, Time: 29.5280s\n",
            "Epoch-98 learning rate: 0.00010036401997270412\n",
            "Epoch: 100/100\n",
            "Epoch : 100, Training: Loss - 0.0031, Accuracy - 99.8770%, Validation : Loss - 0.3483, Accuracy - 93.7238%, Time: 29.4126s\n",
            "Epoch-99 learning rate: 9.03276179754337e-05\n"
          ],
          "name": "stdout"
        }
      ]
    },
    {
      "cell_type": "code",
      "metadata": {
        "id": "HigTVpI3JjHv",
        "colab": {
          "base_uri": "https://localhost:8080/"
        },
        "outputId": "54acc718-db74-496e-e0bc-b6a453c29266"
      },
      "source": [
        "print(\"Thoi gian training: \",end-start)"
      ],
      "execution_count": 18,
      "outputs": [
        {
          "output_type": "stream",
          "text": [
            "Thoi gian training:  3161.8986258506775\n"
          ],
          "name": "stdout"
        }
      ]
    },
    {
      "cell_type": "code",
      "metadata": {
        "id": "ODgSE9IXX09u",
        "colab": {
          "base_uri": "https://localhost:8080/"
        },
        "outputId": "79d59a5b-b48d-4f3e-d19c-e424440cf2ee"
      },
      "source": [
        "#save model\n",
        "import time\n",
        "from datetime import date\n",
        "today = date.today()\n",
        "d1 = today.strftime(\"%d%m%Y\")\n",
        "print(\"d1 =\", d1)\n",
        "torch.save(trained_model, '/content/drive/My Drive/DetectBrainTumor/model/pytorch/model_adas_resnet152_'+str(d1)+'.pt')"
      ],
      "execution_count": 19,
      "outputs": [
        {
          "output_type": "stream",
          "text": [
            "d1 = 30062021\n"
          ],
          "name": "stdout"
        }
      ]
    },
    {
      "cell_type": "code",
      "metadata": {
        "id": "pdsNnsHaX2fa"
      },
      "source": [
        "import pickle\n",
        "with open('/content/drive/My Drive/DetectBrainTumor/result/pytorch/history_adas_resnet152v2.pickle', 'wb') as f:\n",
        "    pickle.dump(history, f)\n",
        "\n",
        "# with open('/content/drive/My Drive/DetectBrainTumor/result/pytorch/time_resnet152.pickle', 'wb') as f:\n",
        "#     pickle.dump(arr_time, f)"
      ],
      "execution_count": 20,
      "outputs": []
    },
    {
      "cell_type": "code",
      "metadata": {
        "id": "uKg5tSsGdxRW"
      },
      "source": [
        "loss_train = []\n",
        "loss_val = []\n",
        "acc_train = []\n",
        "acc_val = []\n",
        "\n",
        "for i in range(len(history)):\n",
        "  loss_train.append(history[i][0])\n",
        "  loss_val.append(history[i][1])\n",
        "  acc_train.append(history[i][2])\n",
        "  acc_val.append(history[i][3])"
      ],
      "execution_count": 21,
      "outputs": []
    },
    {
      "cell_type": "code",
      "metadata": {
        "id": "pB0-ZXLqI5fZ",
        "colab": {
          "base_uri": "https://localhost:8080/",
          "height": 457
        },
        "outputId": "d8796a80-5a6d-44e8-c38c-3bbbb40668f4"
      },
      "source": [
        "# summarize history for accuracy\n",
        "fig,a =  plt.subplots(1, 2, figsize=(16,7))\n",
        "a[0].plot(acc_train)\n",
        "a[0].plot(acc_val)\n",
        "a[0].set_title('model accuracy')\n",
        "a[0].set_ylabel('accuracy')\n",
        "a[0].set_xlabel('epoch')\n",
        "a[0].legend(['train', 'val'], loc='upper left')\n",
        "# summarize history for loss for epoch\n",
        "# plt.figure(figsize=(10,10))\n",
        "a[1].plot(loss_train)\n",
        "a[1].plot(loss_val)\n",
        "a[1].set_title('model loss')\n",
        "a[1].set_ylabel('loss')\n",
        "a[1].set_xlabel('epoch')\n",
        "a[1].legend(['train', 'val'], loc='upper left')\n",
        "plt.show()"
      ],
      "execution_count": 22,
      "outputs": [
        {
          "output_type": "display_data",
          "data": {
            "image/png": "[encoded data removed]",
            "text/plain": [
              "<Figure size 1152x504 with 2 Axes>"
            ]
          },
          "metadata": {
            "tags": [],
            "needs_background": "light"
          }
        }
      ]
    },
    {
      "cell_type": "code",
      "metadata": {
        "id": "v8YDr-LbNmSc",
        "colab": {
          "base_uri": "https://localhost:8080/"
        },
        "outputId": "bd5f8192-2e6d-42b1-880d-9073e1a9adcf"
      },
      "source": [
        "print(\"Thoi gian training: \",end-start)"
      ],
      "execution_count": 23,
      "outputs": [
        {
          "output_type": "stream",
          "text": [
            "Thoi gian training:  3161.8986258506775\n"
          ],
          "name": "stdout"
        }
      ]
    },
    {
      "cell_type": "code",
      "metadata": {
        "id": "Sr1nUb8ENm1y",
        "colab": {
          "base_uri": "https://localhost:8080/"
        },
        "outputId": "33e5ad1e-8297-4ccd-adc1-8c5a9baeb994"
      },
      "source": [
        "#save model\n",
        "import time\n",
        "from datetime import date\n",
        "today = date.today()\n",
        "d1 = today.strftime(\"%d%m%Y\")\n",
        "print(\"d1 =\", d1)\n",
        "torch.save(trained_model, '/content/drive/My Drive/DetectBrainTumor/model/pytorch/model_adas_resnet152_'+str(d1)+'.pt')"
      ],
      "execution_count": 24,
      "outputs": [
        {
          "output_type": "stream",
          "text": [
            "d1 = 30062021\n"
          ],
          "name": "stdout"
        }
      ]
    },
    {
      "cell_type": "code",
      "metadata": {
        "id": "d1oorRAHNq-K"
      },
      "source": [
        "import pickle\n",
        "with open('/content/drive/My Drive/DetectBrainTumor/result/pytorch/history_adas_resnet152v2.pickle', 'wb') as f:\n",
        "    pickle.dump(history, f)\n",
        "\n",
        "# with open('/content/drive/My Drive/DetectBrainTumor/result/pytorch/time_resnet152.pickle', 'wb') as f:\n",
        "#     pickle.dump(arr_time, f)"
      ],
      "execution_count": 25,
      "outputs": []
    }
  ]
}