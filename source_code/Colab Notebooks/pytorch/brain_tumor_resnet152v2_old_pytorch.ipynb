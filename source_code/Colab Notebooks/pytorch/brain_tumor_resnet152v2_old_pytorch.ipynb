{
  "nbformat": 4,
  "nbformat_minor": 0,
  "metadata": {
    "accelerator": "GPU",
    "colab": {
      "name": "brain_tumor_resnet152v2_old_pytorch.ipynb",
      "provenance": [],
      "collapsed_sections": []
    },
    "kernelspec": {
      "display_name": "Python 3",
      "name": "python3"
    },
    "language_info": {
      "name": "python"
    },
    "widgets": {
      "application/vnd.jupyter.widget-state+json": {
        "f4fca7a7a68a46f6bb4c66c982b76143": {
          "model_module": "@jupyter-widgets/controls",
          "model_name": "HBoxModel",
          "state": {
            "_view_name": "HBoxView",
            "_dom_classes": [],
            "_model_name": "HBoxModel",
            "_view_module": "@jupyter-widgets/controls",
            "_model_module_version": "1.5.0",
            "_view_count": null,
            "_view_module_version": "1.5.0",
            "box_style": "",
            "layout": "IPY_MODEL_f56f927389804638855f1ec4c2d85a4e",
            "_model_module": "@jupyter-widgets/controls",
            "children": [
              "IPY_MODEL_5a662e72612c41258d18382f0680ba0d",
              "IPY_MODEL_ee4297f12af24b8db4917059a536ef5b"
            ]
          }
        },
        "f56f927389804638855f1ec4c2d85a4e": {
          "model_module": "@jupyter-widgets/base",
          "model_name": "LayoutModel",
          "state": {
            "_view_name": "LayoutView",
            "grid_template_rows": null,
            "right": null,
            "justify_content": null,
            "_view_module": "@jupyter-widgets/base",
            "overflow": null,
            "_model_module_version": "1.2.0",
            "_view_count": null,
            "flex_flow": null,
            "width": null,
            "min_width": null,
            "border": null,
            "align_items": null,
            "bottom": null,
            "_model_module": "@jupyter-widgets/base",
            "top": null,
            "grid_column": null,
            "overflow_y": null,
            "overflow_x": null,
            "grid_auto_flow": null,
            "grid_area": null,
            "grid_template_columns": null,
            "flex": null,
            "_model_name": "LayoutModel",
            "justify_items": null,
            "grid_row": null,
            "max_height": null,
            "align_content": null,
            "visibility": null,
            "align_self": null,
            "height": null,
            "min_height": null,
            "padding": null,
            "grid_auto_rows": null,
            "grid_gap": null,
            "max_width": null,
            "order": null,
            "_view_module_version": "1.2.0",
            "grid_template_areas": null,
            "object_position": null,
            "object_fit": null,
            "grid_auto_columns": null,
            "margin": null,
            "display": null,
            "left": null
          }
        },
        "5a662e72612c41258d18382f0680ba0d": {
          "model_module": "@jupyter-widgets/controls",
          "model_name": "FloatProgressModel",
          "state": {
            "_view_name": "ProgressView",
            "style": "IPY_MODEL_2d8cbb22efd14867a6b4d7d275e1f5e2",
            "_dom_classes": [],
            "description": "100%",
            "_model_name": "FloatProgressModel",
            "bar_style": "success",
            "max": 241627721,
            "_view_module": "@jupyter-widgets/controls",
            "_model_module_version": "1.5.0",
            "value": 241627721,
            "_view_count": null,
            "_view_module_version": "1.5.0",
            "orientation": "horizontal",
            "min": 0,
            "description_tooltip": null,
            "_model_module": "@jupyter-widgets/controls",
            "layout": "IPY_MODEL_80b2dd1c88c24535b774eba8eef8ed34"
          }
        },
        "ee4297f12af24b8db4917059a536ef5b": {
          "model_module": "@jupyter-widgets/controls",
          "model_name": "HTMLModel",
          "state": {
            "_view_name": "HTMLView",
            "style": "IPY_MODEL_d486df6639d84c8b8e67e91e7255d0c1",
            "_dom_classes": [],
            "description": "",
            "_model_name": "HTMLModel",
            "placeholder": "​",
            "_view_module": "@jupyter-widgets/controls",
            "_model_module_version": "1.5.0",
            "value": " 230M/230M [00:03&lt;00:00, 66.1MB/s]",
            "_view_count": null,
            "_view_module_version": "1.5.0",
            "description_tooltip": null,
            "_model_module": "@jupyter-widgets/controls",
            "layout": "IPY_MODEL_cebbfc18c87740ddb1190e9d48ab3482"
          }
        },
        "2d8cbb22efd14867a6b4d7d275e1f5e2": {
          "model_module": "@jupyter-widgets/controls",
          "model_name": "ProgressStyleModel",
          "state": {
            "_view_name": "StyleView",
            "_model_name": "ProgressStyleModel",
            "description_width": "initial",
            "_view_module": "@jupyter-widgets/base",
            "_model_module_version": "1.5.0",
            "_view_count": null,
            "_view_module_version": "1.2.0",
            "bar_color": null,
            "_model_module": "@jupyter-widgets/controls"
          }
        },
        "80b2dd1c88c24535b774eba8eef8ed34": {
          "model_module": "@jupyter-widgets/base",
          "model_name": "LayoutModel",
          "state": {
            "_view_name": "LayoutView",
            "grid_template_rows": null,
            "right": null,
            "justify_content": null,
            "_view_module": "@jupyter-widgets/base",
            "overflow": null,
            "_model_module_version": "1.2.0",
            "_view_count": null,
            "flex_flow": null,
            "width": null,
            "min_width": null,
            "border": null,
            "align_items": null,
            "bottom": null,
            "_model_module": "@jupyter-widgets/base",
            "top": null,
            "grid_column": null,
            "overflow_y": null,
            "overflow_x": null,
            "grid_auto_flow": null,
            "grid_area": null,
            "grid_template_columns": null,
            "flex": null,
            "_model_name": "LayoutModel",
            "justify_items": null,
            "grid_row": null,
            "max_height": null,
            "align_content": null,
            "visibility": null,
            "align_self": null,
            "height": null,
            "min_height": null,
            "padding": null,
            "grid_auto_rows": null,
            "grid_gap": null,
            "max_width": null,
            "order": null,
            "_view_module_version": "1.2.0",
            "grid_template_areas": null,
            "object_position": null,
            "object_fit": null,
            "grid_auto_columns": null,
            "margin": null,
            "display": null,
            "left": null
          }
        },
        "d486df6639d84c8b8e67e91e7255d0c1": {
          "model_module": "@jupyter-widgets/controls",
          "model_name": "DescriptionStyleModel",
          "state": {
            "_view_name": "StyleView",
            "_model_name": "DescriptionStyleModel",
            "description_width": "",
            "_view_module": "@jupyter-widgets/base",
            "_model_module_version": "1.5.0",
            "_view_count": null,
            "_view_module_version": "1.2.0",
            "_model_module": "@jupyter-widgets/controls"
          }
        },
        "cebbfc18c87740ddb1190e9d48ab3482": {
          "model_module": "@jupyter-widgets/base",
          "model_name": "LayoutModel",
          "state": {
            "_view_name": "LayoutView",
            "grid_template_rows": null,
            "right": null,
            "justify_content": null,
            "_view_module": "@jupyter-widgets/base",
            "overflow": null,
            "_model_module_version": "1.2.0",
            "_view_count": null,
            "flex_flow": null,
            "width": null,
            "min_width": null,
            "border": null,
            "align_items": null,
            "bottom": null,
            "_model_module": "@jupyter-widgets/base",
            "top": null,
            "grid_column": null,
            "overflow_y": null,
            "overflow_x": null,
            "grid_auto_flow": null,
            "grid_area": null,
            "grid_template_columns": null,
            "flex": null,
            "_model_name": "LayoutModel",
            "justify_items": null,
            "grid_row": null,
            "max_height": null,
            "align_content": null,
            "visibility": null,
            "align_self": null,
            "height": null,
            "min_height": null,
            "padding": null,
            "grid_auto_rows": null,
            "grid_gap": null,
            "max_width": null,
            "order": null,
            "_view_module_version": "1.2.0",
            "grid_template_areas": null,
            "object_position": null,
            "object_fit": null,
            "grid_auto_columns": null,
            "margin": null,
            "display": null,
            "left": null
          }
        }
      }
    }
  },
  "cells": [
    {
      "cell_type": "code",
      "metadata": {
        "colab": {
          "base_uri": "https://localhost:8080/"
        },
        "id": "al_XWgRp3EzB",
        "outputId": "f9d4c8a2-f6a2-4680-c8cc-da5562495ba7"
      },
      "source": [
        "from google.colab import drive\n",
        "drive.mount('/content/drive')"
      ],
      "execution_count": 1,
      "outputs": [
        {
          "output_type": "stream",
          "text": [
            "Mounted at /content/drive\n"
          ],
          "name": "stdout"
        }
      ]
    },
    {
      "cell_type": "code",
      "metadata": {
        "colab": {
          "base_uri": "https://localhost:8080/"
        },
        "id": "GPMeqQO6AP2D",
        "outputId": "4b2dfede-a9a9-44d5-ca4f-6102fe9ddc26"
      },
      "source": [
        "%cd /content/drive/My Drive/Adas/src\n",
        "from adas import Adas"
      ],
      "execution_count": 2,
      "outputs": [
        {
          "output_type": "stream",
          "text": [
            "/content/drive/My Drive/Adas/src\n"
          ],
          "name": "stdout"
        }
      ]
    },
    {
      "cell_type": "code",
      "metadata": {
        "id": "jrQMAMh7ARMZ"
      },
      "source": [
        "import matplotlib.pyplot as plt\n",
        "from torchvision import datasets, models, transforms\n",
        "import helper\n",
        "import torch.nn as nn\n",
        "import torch.nn.functional as F\n",
        "import torch.optim as optim\n",
        "\n",
        "from torchvision import datasets\n",
        "from torchvision import transforms\n",
        "import matplotlib.pyplot as plt\n",
        "import torch, torchvision\n",
        "from torch.utils.data import DataLoader\n",
        "import time\n",
        "from torchsummary import summary\n",
        "import numpy as np\n",
        "import os\n",
        "\n",
        "from PIL import Image"
      ],
      "execution_count": 3,
      "outputs": []
    },
    {
      "cell_type": "code",
      "metadata": {
        "id": "B_IymEbSAWFo"
      },
      "source": [
        "IMAGE_SIZE = 256\n",
        "batch_size = 16\n",
        "\n",
        "DATADIR = \"/content/drive/My Drive/DetectBrainTumor/data_1_19052021/T2_Train/\"\n",
        "DATADIR_VAL = \"/content/drive/My Drive/DetectBrainTumor/data_1_19052021/T2_Val/\""
      ],
      "execution_count": 4,
      "outputs": []
    },
    {
      "cell_type": "code",
      "metadata": {
        "id": "_dG28e-KICv6"
      },
      "source": [
        "# Applying Transforms to the Data\n",
        "train_transform = transforms.Compose([\n",
        "        transforms.RandomResizedCrop(size=256, scale=(0.8, 1.0)),\n",
        "        transforms.RandomRotation(degrees=15),\n",
        "        transforms.RandomHorizontalFlip(),\n",
        "        transforms.CenterCrop(size=224),\n",
        "        transforms.ToTensor(),\n",
        "        transforms.Normalize([0.485, 0.456, 0.406],\n",
        "                             [0.229, 0.224, 0.225])\n",
        "    ])\n",
        "\n",
        "test_transform = transforms.Compose([\n",
        "        transforms.Resize(size=256),\n",
        "        transforms.CenterCrop(size=224),\n",
        "        transforms.ToTensor(),\n",
        "        transforms.Normalize([0.485, 0.456, 0.406],\n",
        "                             [0.229, 0.224, 0.225])\n",
        "    ])"
      ],
      "execution_count": 5,
      "outputs": []
    },
    {
      "cell_type": "code",
      "metadata": {
        "id": "8JuOKAOLAi0X"
      },
      "source": [
        "train_data = datasets.ImageFolder(DATADIR, transform=train_transform)                                       \n",
        "val_data = datasets.ImageFolder(DATADIR_VAL, transform=test_transform)\n",
        "\n",
        "#Data Loading\n",
        "train_loader = torch.utils.data.DataLoader(train_data, batch_size=batch_size, shuffle=True)\n",
        "val_loader = torch.utils.data.DataLoader(val_data, batch_size=batch_size, shuffle=True)"
      ],
      "execution_count": 6,
      "outputs": []
    },
    {
      "cell_type": "code",
      "metadata": {
        "id": "aOZ-WlKeJUnb"
      },
      "source": [
        "classes = ('YES', 'NO')"
      ],
      "execution_count": 7,
      "outputs": []
    },
    {
      "cell_type": "code",
      "metadata": {
        "id": "kTT7H1l_NvJr"
      },
      "source": [
        "train_data_size = len(train_data)\n",
        "test_data_size = len(val_data)"
      ],
      "execution_count": 8,
      "outputs": []
    },
    {
      "cell_type": "code",
      "metadata": {
        "id": "PmgAbQbVJbqn"
      },
      "source": [
        "# import matplotlib.pyplot as plt\n",
        "# import numpy as np\n",
        "\n",
        "# # functions to show an image\n",
        "\n",
        "\n",
        "# def imshow(img):\n",
        "#     img = img / 2 + 0.5     # unnormalize\n",
        "#     npimg = img.numpy()\n",
        "#     plt.imshow(np.transpose(npimg, (1, 2, 0)))\n",
        "#     plt.show()\n",
        "\n",
        "\n",
        "# # get some random training images\n",
        "# dataiter = iter(train_loader)\n",
        "# images, labels = dataiter.next()\n",
        "\n",
        "# # show images\n",
        "# imshow(torchvision.utils.make_grid(images))\n",
        "# # print labels\n",
        "# print(' '.join('%5s' % classes[labels[j]] for j in range(2)))"
      ],
      "execution_count": 9,
      "outputs": []
    },
    {
      "cell_type": "code",
      "metadata": {
        "id": "JP2vIpVTXMPE"
      },
      "source": [
        "device = torch.device(\"cuda:0\" if torch.cuda.is_available() else \"cpu\")"
      ],
      "execution_count": 10,
      "outputs": []
    },
    {
      "cell_type": "code",
      "metadata": {
        "id": "CJAOJSrCDEdY",
        "colab": {
          "base_uri": "https://localhost:8080/",
          "height": 84,
          "referenced_widgets": [
            "f4fca7a7a68a46f6bb4c66c982b76143",
            "f56f927389804638855f1ec4c2d85a4e",
            "5a662e72612c41258d18382f0680ba0d",
            "ee4297f12af24b8db4917059a536ef5b",
            "2d8cbb22efd14867a6b4d7d275e1f5e2",
            "80b2dd1c88c24535b774eba8eef8ed34",
            "d486df6639d84c8b8e67e91e7255d0c1",
            "cebbfc18c87740ddb1190e9d48ab3482"
          ]
        },
        "outputId": "b6566262-c9ca-4ed4-8e7f-21cb0b21aa2a"
      },
      "source": [
        "# Load pretrained ResNet50 Model\n",
        "model_class = models.resnet152(pretrained=True)"
      ],
      "execution_count": 11,
      "outputs": [
        {
          "output_type": "stream",
          "text": [
            "Downloading: \"https://download.pytorch.org/models/resnet152-394f9c45.pth\" to /root/.cache/torch/hub/checkpoints/resnet152-394f9c45.pth\n"
          ],
          "name": "stderr"
        },
        {
          "output_type": "display_data",
          "data": {
            "application/vnd.jupyter.widget-view+json": {
              "model_id": "f4fca7a7a68a46f6bb4c66c982b76143",
              "version_minor": 0,
              "version_major": 2
            },
            "text/plain": [
              "HBox(children=(FloatProgress(value=0.0, max=241627721.0), HTML(value='')))"
            ]
          },
          "metadata": {
            "tags": []
          }
        },
        {
          "output_type": "stream",
          "text": [
            "\n"
          ],
          "name": "stdout"
        }
      ]
    },
    {
      "cell_type": "code",
      "metadata": {
        "id": "qWHwvjeWOVSJ"
      },
      "source": [
        "# Freeze model parameters\n",
        "# for param in model_class.parameters():\n",
        "#     param.requires_grad = False"
      ],
      "execution_count": 12,
      "outputs": []
    },
    {
      "cell_type": "code",
      "metadata": {
        "id": "yKCG2en0o-71"
      },
      "source": [
        "# fc_inputs = model_class.fc.in_features\n",
        "# fc_inputs"
      ],
      "execution_count": 13,
      "outputs": []
    },
    {
      "cell_type": "code",
      "metadata": {
        "id": "nE_07JDiOW8w"
      },
      "source": [
        "# Change the final layer of ResNet50 Model for Transfer Learning\n",
        "fc_inputs = model_class.fc.in_features\n",
        "\n",
        "model_class.fc = nn.Sequential(\n",
        "    nn.Linear(fc_inputs, 128),\n",
        "    nn.ReLU(),\n",
        "    nn.Dropout(0.3),\n",
        "    nn.Flatten(),\n",
        "    nn.Dropout(0.5),\n",
        "    nn.Linear(128, 2), # Since 100 possible outputs\n",
        "    nn.LogSoftmax(dim=1) # For using NLLLoss()\n",
        ")\n",
        "\n",
        "# Convert model to be used on GPU\n",
        "model_class = model_class.to(device)"
      ],
      "execution_count": 14,
      "outputs": []
    },
    {
      "cell_type": "code",
      "metadata": {
        "id": "921-fqC4Ocep"
      },
      "source": [
        "# Define Optimizer and Loss Function\n",
        "loss_func = nn.NLLLoss()"
      ],
      "execution_count": 15,
      "outputs": []
    },
    {
      "cell_type": "code",
      "metadata": {
        "id": "Jx6C95OqFFT1"
      },
      "source": [
        "def train_and_validate(model, scheduler, loss_criterion, optimizer, epochs):\n",
        "    '''\n",
        "    Function to train and validate\n",
        "    Parameters\n",
        "        :param model: Model to train and validate\n",
        "        :param loss_criterion: Loss Criterion to minimize\n",
        "        :param optimizer: Optimizer for computing gradients\n",
        "        :param epochs: Number of epochs (default=25)\n",
        "  \n",
        "    Returns\n",
        "        model: Trained Model with best validation accuracy\n",
        "        history: (dict object): Having training loss, accuracy and validation loss, accuracy\n",
        "    '''\n",
        "    \n",
        "    start = time.time()\n",
        "    history = []\n",
        "    best_loss = 100000.0\n",
        "    best_epoch = None\n",
        "    flag = 0\n",
        "\n",
        "    for epoch in range(epochs):\n",
        "        epoch_start = time.time()\n",
        "        print(\"Epoch: {}/{}\".format(epoch+1, epochs))\n",
        "        \n",
        "        # Set to training mode\n",
        "        model.train()\n",
        "        \n",
        "        # Loss and Accuracy within the epoch\n",
        "        train_loss = 0.0\n",
        "        train_acc = 0.0\n",
        "        \n",
        "        valid_loss = 0.0\n",
        "        valid_acc = 0.0\n",
        "        \n",
        "        for i, (inputs, labels) in enumerate(train_loader):\n",
        "\n",
        "            inputs = inputs.to(device)\n",
        "            labels = labels.to(device)\n",
        "            \n",
        "            # Clean existing gradients\n",
        "            optimizer.zero_grad()\n",
        "            \n",
        "            # Forward pass - compute outputs on input data using the model\n",
        "            outputs = model(inputs)\n",
        "            \n",
        "            # Compute loss\n",
        "            loss = loss_criterion(outputs, labels)\n",
        "            \n",
        "            # Backpropagate the gradients\n",
        "            loss.backward()\n",
        "            \n",
        "            # Update the parameters\n",
        "            optimizer.step()\n",
        "            \n",
        "            \n",
        "            # Compute the total loss for the batch and add it to train_loss\n",
        "            train_loss += loss.item() * inputs.size(0)\n",
        "            \n",
        "            # Compute the accuracy\n",
        "            ret, predictions = torch.max(outputs.data, 1)\n",
        "            correct_counts = predictions.eq(labels.data.view_as(predictions))\n",
        "            \n",
        "            # Convert correct_counts to float and then compute the mean\n",
        "            acc = torch.mean(correct_counts.type(torch.FloatTensor))\n",
        "            \n",
        "            # Compute total accuracy in the whole batch and add to train_acc\n",
        "            train_acc += acc.item() * inputs.size(0)\n",
        "            \n",
        "            #print(\"Batch number: {:03d}, Training: Loss: {:.4f}, Accuracy: {:.4f}\".format(i, loss.item(), acc.item()))\n",
        "\n",
        "        \n",
        "        # Validation - No gradient tracking needed\n",
        "        with torch.no_grad():\n",
        "\n",
        "            # Set to evaluation mode\n",
        "            model.eval()\n",
        "\n",
        "            # Validation loop\n",
        "            for j, (inputs, labels) in enumerate(val_loader):\n",
        "                inputs = inputs.to(device)\n",
        "                labels = labels.to(device)\n",
        "\n",
        "                # Forward pass - compute outputs on input data using the model\n",
        "                outputs = model(inputs)\n",
        "\n",
        "                # Compute loss\n",
        "                loss = loss_criterion(outputs, labels)\n",
        "\n",
        "                # Compute the total loss for the batch and add it to valid_loss\n",
        "                valid_loss += loss.item() * inputs.size(0)\n",
        "\n",
        "                # Calculate validation accuracy\n",
        "                ret, predictions = torch.max(outputs.data, 1)\n",
        "                correct_counts = predictions.eq(labels.data.view_as(predictions))\n",
        "\n",
        "                # Convert correct_counts to float and then compute the mean\n",
        "                acc = torch.mean(correct_counts.type(torch.FloatTensor))\n",
        "\n",
        "                # Compute total accuracy in the whole batch and add to valid_acc\n",
        "                valid_acc += acc.item() * inputs.size(0)\n",
        "                # if not j%100:\n",
        "                #   print(\"Validation Batch number: {:03d}, Validation: Loss: {:.4f}, Accuracy: {:.4f}\".format(j, loss.item(), acc.item()))\n",
        "        if valid_loss < best_loss:\n",
        "            best_loss = valid_loss\n",
        "            best_epoch = epoch\n",
        "\n",
        "        # Find average training loss and training accuracy\n",
        "        avg_train_loss = train_loss/train_data_size \n",
        "        avg_train_acc = train_acc/train_data_size\n",
        "\n",
        "        # Find average training loss and training accuracy\n",
        "        avg_valid_loss = valid_loss/test_data_size \n",
        "        avg_valid_acc = valid_acc/test_data_size\n",
        "\n",
        "        history.append([avg_train_loss, avg_valid_loss, avg_train_acc, avg_valid_acc])\n",
        "                \n",
        "        epoch_end = time.time()\n",
        "    \n",
        "        print(\"Epoch : {:03d}, Training: Loss - {:.4f}, Accuracy - {:.4f}%, Validation : Loss - {:.4f}, Accuracy - {:.4f}%, Time: {:.4f}s\".format(epoch+1, avg_train_loss, avg_train_acc*100, avg_valid_loss, avg_valid_acc*100, epoch_end-epoch_start))\n",
        "\n",
        "        #reduce lr\n",
        "        \n",
        "        if avg_valid_acc*100 > 90.5:\n",
        "          flag = 1\n",
        "\n",
        "        if flag == 1:\n",
        "          scheduler.step(avg_valid_loss)\n",
        "        \n",
        "        print('Epoch-{0} learning rate: {1}'.format(epoch, optimizer.param_groups[0]['lr']))\n",
        "\n",
        "        # Save if the model has best accuracy till now\n",
        "        # torch.save(model, 'model_'+str(epoch)+'.pt')\n",
        "        # optimizer.epoch_step(epoch)       \n",
        "    return model, history, best_epoch"
      ],
      "execution_count": 16,
      "outputs": []
    },
    {
      "cell_type": "code",
      "metadata": {
        "id": "NdL1zoPFKyZJ"
      },
      "source": [
        "# Define Optimizer and Loss Function\n",
        "# loss_func = nn.NLLLoss()\n",
        "loss_func = nn.CrossEntropyLoss()\n",
        "optimizer = optim.Adam(params=list(model_class.parameters()), lr=3e-6)"
      ],
      "execution_count": 17,
      "outputs": []
    },
    {
      "cell_type": "code",
      "metadata": {
        "colab": {
          "base_uri": "https://localhost:8080/"
        },
        "id": "BR6dTBifOhoW",
        "outputId": "94e41285-bdb7-4606-dc4a-3ee59313ca7c"
      },
      "source": [
        "num_epochs = 100\n",
        "\n",
        "start = time.time()\n",
        "\n",
        "# trained_model, history, best_epoch = train_and_validate(model_class, loss_func, optimizer, num_epochs)\n",
        "\n",
        "# scheduler = optim.lr_scheduler.MultiStepLR(optimizer, milestones=[20,35], gamma=0.1)\n",
        "# scheduler = optim.lr_scheduler.StepLR(optimizer, step_size=2, gamma=torch.exp(-0.1))\n",
        "\n",
        "# lambda1 = lambda epoch: torch.exp(-1) ** epoch\n",
        "# scheduler = torch.optim.lr_scheduler.LambdaLR(optimizer, lr_lambda=lambda1)\n",
        "\n",
        "scheduler = torch.optim.lr_scheduler.ReduceLROnPlateau(optimizer, mode='min', factor= 0.9, patience=3, threshold=0.0001, threshold_mode='abs')\n",
        "\n",
        "trained_model, history, best_epoch = train_and_validate(model_class, scheduler, loss_func, optimizer, num_epochs)\n",
        "\n",
        "end = time.time()\n",
        "# torch.save(history, 'history.pt')"
      ],
      "execution_count": 18,
      "outputs": [
        {
          "output_type": "stream",
          "text": [
            "Epoch: 1/100\n"
          ],
          "name": "stdout"
        },
        {
          "output_type": "stream",
          "text": [
            "/usr/local/lib/python3.7/dist-packages/torch/nn/functional.py:718: UserWarning: Named tensors and all their associated APIs are an experimental feature and subject to change. Please do not use them for anything important until they are released as stable. (Triggered internally at  /pytorch/c10/core/TensorImpl.h:1156.)\n",
            "  return torch.max_pool2d(input, kernel_size, stride, padding, dilation, ceil_mode)\n"
          ],
          "name": "stderr"
        },
        {
          "output_type": "stream",
          "text": [
            "Epoch : 001, Training: Loss - 0.7010, Accuracy - 51.5375%, Validation : Loss - 0.6889, Accuracy - 55.2301%, Time: 392.9291s\n",
            "Epoch-0 learning rate: 3e-06\n",
            "Epoch: 2/100\n",
            "Epoch : 002, Training: Loss - 0.6664, Accuracy - 59.9016%, Validation : Loss - 0.6695, Accuracy - 64.8536%, Time: 33.3649s\n",
            "Epoch-1 learning rate: 3e-06\n",
            "Epoch: 3/100\n",
            "Epoch : 003, Training: Loss - 0.6413, Accuracy - 68.8807%, Validation : Loss - 0.6470, Accuracy - 66.9456%, Time: 33.0336s\n",
            "Epoch-2 learning rate: 3e-06\n",
            "Epoch: 4/100\n",
            "Epoch : 004, Training: Loss - 0.6097, Accuracy - 72.0787%, Validation : Loss - 0.6258, Accuracy - 63.5983%, Time: 32.7194s\n",
            "Epoch-3 learning rate: 3e-06\n",
            "Epoch: 5/100\n",
            "Epoch : 005, Training: Loss - 0.5474, Accuracy - 81.1808%, Validation : Loss - 0.5916, Accuracy - 63.5983%, Time: 32.7073s\n",
            "Epoch-4 learning rate: 3e-06\n",
            "Epoch: 6/100\n",
            "Epoch : 006, Training: Loss - 0.4969, Accuracy - 83.2718%, Validation : Loss - 0.5488, Accuracy - 70.7113%, Time: 33.1594s\n",
            "Epoch-5 learning rate: 3e-06\n",
            "Epoch: 7/100\n",
            "Epoch : 007, Training: Loss - 0.4452, Accuracy - 85.2399%, Validation : Loss - 0.5086, Accuracy - 74.4770%, Time: 33.0137s\n",
            "Epoch-6 learning rate: 3e-06\n",
            "Epoch: 8/100\n",
            "Epoch : 008, Training: Loss - 0.3874, Accuracy - 88.8069%, Validation : Loss - 0.4704, Accuracy - 81.1715%, Time: 32.8488s\n",
            "Epoch-7 learning rate: 3e-06\n",
            "Epoch: 9/100\n",
            "Epoch : 009, Training: Loss - 0.3395, Accuracy - 89.9139%, Validation : Loss - 0.4408, Accuracy - 81.5900%, Time: 33.0369s\n",
            "Epoch-8 learning rate: 3e-06\n",
            "Epoch: 10/100\n",
            "Epoch : 010, Training: Loss - 0.3060, Accuracy - 89.7909%, Validation : Loss - 0.4184, Accuracy - 84.5188%, Time: 33.0057s\n",
            "Epoch-9 learning rate: 3e-06\n",
            "Epoch: 11/100\n",
            "Epoch : 011, Training: Loss - 0.2647, Accuracy - 92.7429%, Validation : Loss - 0.3944, Accuracy - 82.8452%, Time: 32.8463s\n",
            "Epoch-10 learning rate: 3e-06\n",
            "Epoch: 12/100\n",
            "Epoch : 012, Training: Loss - 0.2360, Accuracy - 93.7269%, Validation : Loss - 0.3757, Accuracy - 85.7741%, Time: 32.9172s\n",
            "Epoch-11 learning rate: 3e-06\n",
            "Epoch: 13/100\n",
            "Epoch : 013, Training: Loss - 0.2226, Accuracy - 93.1119%, Validation : Loss - 0.3788, Accuracy - 84.9372%, Time: 33.1248s\n",
            "Epoch-12 learning rate: 3e-06\n",
            "Epoch: 14/100\n",
            "Epoch : 014, Training: Loss - 0.2012, Accuracy - 94.8339%, Validation : Loss - 0.3832, Accuracy - 84.5188%, Time: 33.4278s\n",
            "Epoch-13 learning rate: 3e-06\n",
            "Epoch: 15/100\n",
            "Epoch : 015, Training: Loss - 0.1926, Accuracy - 93.9729%, Validation : Loss - 0.3642, Accuracy - 84.9372%, Time: 32.9915s\n",
            "Epoch-14 learning rate: 3e-06\n",
            "Epoch: 16/100\n",
            "Epoch : 016, Training: Loss - 0.1667, Accuracy - 95.0800%, Validation : Loss - 0.3577, Accuracy - 86.1925%, Time: 32.8405s\n",
            "Epoch-15 learning rate: 3e-06\n",
            "Epoch: 17/100\n",
            "Epoch : 017, Training: Loss - 0.1642, Accuracy - 95.3260%, Validation : Loss - 0.3497, Accuracy - 86.1925%, Time: 32.8012s\n",
            "Epoch-16 learning rate: 3e-06\n",
            "Epoch: 18/100\n",
            "Epoch : 018, Training: Loss - 0.1248, Accuracy - 96.9250%, Validation : Loss - 0.3501, Accuracy - 86.1925%, Time: 32.8259s\n",
            "Epoch-17 learning rate: 3e-06\n",
            "Epoch: 19/100\n",
            "Epoch : 019, Training: Loss - 0.1342, Accuracy - 96.1870%, Validation : Loss - 0.3422, Accuracy - 86.1925%, Time: 33.0991s\n",
            "Epoch-18 learning rate: 3e-06\n",
            "Epoch: 20/100\n",
            "Epoch : 020, Training: Loss - 0.1259, Accuracy - 96.6790%, Validation : Loss - 0.3266, Accuracy - 87.0293%, Time: 32.9525s\n",
            "Epoch-19 learning rate: 3e-06\n",
            "Epoch: 21/100\n",
            "Epoch : 021, Training: Loss - 0.1092, Accuracy - 97.4170%, Validation : Loss - 0.3164, Accuracy - 88.2845%, Time: 32.9377s\n",
            "Epoch-20 learning rate: 3e-06\n",
            "Epoch: 22/100\n",
            "Epoch : 022, Training: Loss - 0.0933, Accuracy - 98.1550%, Validation : Loss - 0.3198, Accuracy - 87.4477%, Time: 32.8318s\n",
            "Epoch-21 learning rate: 3e-06\n",
            "Epoch: 23/100\n",
            "Epoch : 023, Training: Loss - 0.1046, Accuracy - 97.2940%, Validation : Loss - 0.3385, Accuracy - 87.8661%, Time: 33.0449s\n",
            "Epoch-22 learning rate: 3e-06\n",
            "Epoch: 24/100\n",
            "Epoch : 024, Training: Loss - 0.0854, Accuracy - 98.1550%, Validation : Loss - 0.3177, Accuracy - 89.1213%, Time: 32.9637s\n",
            "Epoch-23 learning rate: 3e-06\n",
            "Epoch: 25/100\n",
            "Epoch : 025, Training: Loss - 0.0897, Accuracy - 97.7860%, Validation : Loss - 0.3164, Accuracy - 87.0293%, Time: 32.9852s\n",
            "Epoch-24 learning rate: 3e-06\n",
            "Epoch: 26/100\n",
            "Epoch : 026, Training: Loss - 0.0829, Accuracy - 98.0320%, Validation : Loss - 0.3474, Accuracy - 86.1925%, Time: 32.7252s\n",
            "Epoch-25 learning rate: 3e-06\n",
            "Epoch: 27/100\n",
            "Epoch : 027, Training: Loss - 0.0662, Accuracy - 98.7700%, Validation : Loss - 0.3600, Accuracy - 87.0293%, Time: 32.6435s\n",
            "Epoch-26 learning rate: 3e-06\n",
            "Epoch: 28/100\n",
            "Epoch : 028, Training: Loss - 0.0550, Accuracy - 98.8930%, Validation : Loss - 0.3630, Accuracy - 86.6109%, Time: 32.6978s\n",
            "Epoch-27 learning rate: 3e-06\n",
            "Epoch: 29/100\n",
            "Epoch : 029, Training: Loss - 0.0755, Accuracy - 98.5240%, Validation : Loss - 0.3341, Accuracy - 87.4477%, Time: 32.5029s\n",
            "Epoch-28 learning rate: 3e-06\n",
            "Epoch: 30/100\n",
            "Epoch : 030, Training: Loss - 0.0674, Accuracy - 98.4010%, Validation : Loss - 0.3093, Accuracy - 88.2845%, Time: 32.4062s\n",
            "Epoch-29 learning rate: 3e-06\n",
            "Epoch: 31/100\n",
            "Epoch : 031, Training: Loss - 0.0532, Accuracy - 99.1390%, Validation : Loss - 0.3572, Accuracy - 87.0293%, Time: 32.6484s\n",
            "Epoch-30 learning rate: 3e-06\n",
            "Epoch: 32/100\n",
            "Epoch : 032, Training: Loss - 0.0427, Accuracy - 99.1390%, Validation : Loss - 0.3369, Accuracy - 87.4477%, Time: 32.9781s\n",
            "Epoch-31 learning rate: 3e-06\n",
            "Epoch: 33/100\n",
            "Epoch : 033, Training: Loss - 0.0472, Accuracy - 99.0160%, Validation : Loss - 0.3480, Accuracy - 87.4477%, Time: 32.6254s\n",
            "Epoch-32 learning rate: 3e-06\n",
            "Epoch: 34/100\n",
            "Epoch : 034, Training: Loss - 0.0364, Accuracy - 99.6310%, Validation : Loss - 0.3425, Accuracy - 87.4477%, Time: 32.7375s\n",
            "Epoch-33 learning rate: 3e-06\n",
            "Epoch: 35/100\n",
            "Epoch : 035, Training: Loss - 0.0461, Accuracy - 98.6470%, Validation : Loss - 0.3312, Accuracy - 87.4477%, Time: 32.8275s\n",
            "Epoch-34 learning rate: 3e-06\n",
            "Epoch: 36/100\n",
            "Epoch : 036, Training: Loss - 0.0373, Accuracy - 99.6310%, Validation : Loss - 0.3450, Accuracy - 87.8661%, Time: 32.6725s\n",
            "Epoch-35 learning rate: 3e-06\n",
            "Epoch: 37/100\n",
            "Epoch : 037, Training: Loss - 0.0509, Accuracy - 98.4010%, Validation : Loss - 0.3332, Accuracy - 89.5397%, Time: 32.7245s\n",
            "Epoch-36 learning rate: 3e-06\n",
            "Epoch: 38/100\n",
            "Epoch : 038, Training: Loss - 0.0301, Accuracy - 99.6310%, Validation : Loss - 0.3401, Accuracy - 88.7029%, Time: 32.8332s\n",
            "Epoch-37 learning rate: 3e-06\n",
            "Epoch: 39/100\n",
            "Epoch : 039, Training: Loss - 0.0370, Accuracy - 99.3850%, Validation : Loss - 0.3778, Accuracy - 87.4477%, Time: 32.7277s\n",
            "Epoch-38 learning rate: 3e-06\n",
            "Epoch: 40/100\n",
            "Epoch : 040, Training: Loss - 0.0264, Accuracy - 99.2620%, Validation : Loss - 0.3323, Accuracy - 89.1213%, Time: 32.7007s\n",
            "Epoch-39 learning rate: 3e-06\n",
            "Epoch: 41/100\n",
            "Epoch : 041, Training: Loss - 0.0360, Accuracy - 99.1390%, Validation : Loss - 0.3140, Accuracy - 90.3766%, Time: 32.6377s\n",
            "Epoch-40 learning rate: 3e-06\n",
            "Epoch: 42/100\n",
            "Epoch : 042, Training: Loss - 0.0336, Accuracy - 99.3850%, Validation : Loss - 0.3503, Accuracy - 87.8661%, Time: 32.7792s\n",
            "Epoch-41 learning rate: 3e-06\n",
            "Epoch: 43/100\n",
            "Epoch : 043, Training: Loss - 0.0302, Accuracy - 99.6310%, Validation : Loss - 0.4049, Accuracy - 86.1925%, Time: 32.6260s\n",
            "Epoch-42 learning rate: 3e-06\n",
            "Epoch: 44/100\n",
            "Epoch : 044, Training: Loss - 0.0144, Accuracy - 100.0000%, Validation : Loss - 0.3877, Accuracy - 87.4477%, Time: 32.6525s\n",
            "Epoch-43 learning rate: 3e-06\n",
            "Epoch: 45/100\n",
            "Epoch : 045, Training: Loss - 0.0234, Accuracy - 99.5080%, Validation : Loss - 0.4401, Accuracy - 86.1925%, Time: 32.7269s\n",
            "Epoch-44 learning rate: 3e-06\n",
            "Epoch: 46/100\n",
            "Epoch : 046, Training: Loss - 0.0254, Accuracy - 99.3850%, Validation : Loss - 0.3990, Accuracy - 87.4477%, Time: 32.6646s\n",
            "Epoch-45 learning rate: 3e-06\n",
            "Epoch: 47/100\n",
            "Epoch : 047, Training: Loss - 0.0201, Accuracy - 99.6310%, Validation : Loss - 0.3910, Accuracy - 89.9582%, Time: 32.8089s\n",
            "Epoch-46 learning rate: 3e-06\n",
            "Epoch: 48/100\n",
            "Epoch : 048, Training: Loss - 0.0218, Accuracy - 99.3850%, Validation : Loss - 0.3911, Accuracy - 88.2845%, Time: 32.7272s\n",
            "Epoch-47 learning rate: 3e-06\n",
            "Epoch: 49/100\n",
            "Epoch : 049, Training: Loss - 0.0139, Accuracy - 100.0000%, Validation : Loss - 0.3749, Accuracy - 88.2845%, Time: 32.7238s\n",
            "Epoch-48 learning rate: 3e-06\n",
            "Epoch: 50/100\n",
            "Epoch : 050, Training: Loss - 0.0219, Accuracy - 99.3850%, Validation : Loss - 0.3750, Accuracy - 88.7029%, Time: 32.6980s\n",
            "Epoch-49 learning rate: 3e-06\n",
            "Epoch: 51/100\n",
            "Epoch : 051, Training: Loss - 0.0143, Accuracy - 99.8770%, Validation : Loss - 0.3641, Accuracy - 89.9582%, Time: 32.7306s\n",
            "Epoch-50 learning rate: 3e-06\n",
            "Epoch: 52/100\n",
            "Epoch : 052, Training: Loss - 0.0187, Accuracy - 99.6310%, Validation : Loss - 0.4377, Accuracy - 87.0293%, Time: 32.6860s\n",
            "Epoch-51 learning rate: 3e-06\n",
            "Epoch: 53/100\n",
            "Epoch : 053, Training: Loss - 0.0198, Accuracy - 99.6310%, Validation : Loss - 0.3885, Accuracy - 90.3766%, Time: 32.7279s\n",
            "Epoch-52 learning rate: 3e-06\n",
            "Epoch: 54/100\n",
            "Epoch : 054, Training: Loss - 0.0226, Accuracy - 99.2620%, Validation : Loss - 0.4800, Accuracy - 84.9372%, Time: 32.7016s\n",
            "Epoch-53 learning rate: 3e-06\n",
            "Epoch: 55/100\n",
            "Epoch : 055, Training: Loss - 0.0271, Accuracy - 99.1390%, Validation : Loss - 0.3911, Accuracy - 88.2845%, Time: 32.9762s\n",
            "Epoch-54 learning rate: 3e-06\n",
            "Epoch: 56/100\n",
            "Epoch : 056, Training: Loss - 0.0258, Accuracy - 99.5080%, Validation : Loss - 0.3935, Accuracy - 88.2845%, Time: 32.9470s\n",
            "Epoch-55 learning rate: 3e-06\n",
            "Epoch: 57/100\n",
            "Epoch : 057, Training: Loss - 0.0211, Accuracy - 99.6310%, Validation : Loss - 0.4133, Accuracy - 87.0293%, Time: 32.9474s\n",
            "Epoch-56 learning rate: 3e-06\n",
            "Epoch: 58/100\n",
            "Epoch : 058, Training: Loss - 0.0167, Accuracy - 99.6310%, Validation : Loss - 0.4117, Accuracy - 87.0293%, Time: 32.8707s\n",
            "Epoch-57 learning rate: 3e-06\n",
            "Epoch: 59/100\n",
            "Epoch : 059, Training: Loss - 0.0124, Accuracy - 99.8770%, Validation : Loss - 0.4150, Accuracy - 87.0293%, Time: 32.6638s\n",
            "Epoch-58 learning rate: 3e-06\n",
            "Epoch: 60/100\n",
            "Epoch : 060, Training: Loss - 0.0136, Accuracy - 99.8770%, Validation : Loss - 0.4200, Accuracy - 87.0293%, Time: 32.7420s\n",
            "Epoch-59 learning rate: 3e-06\n",
            "Epoch: 61/100\n",
            "Epoch : 061, Training: Loss - 0.0102, Accuracy - 100.0000%, Validation : Loss - 0.3876, Accuracy - 87.8661%, Time: 32.6805s\n",
            "Epoch-60 learning rate: 3e-06\n",
            "Epoch: 62/100\n",
            "Epoch : 062, Training: Loss - 0.0136, Accuracy - 99.7540%, Validation : Loss - 0.4400, Accuracy - 86.1925%, Time: 32.6818s\n",
            "Epoch-61 learning rate: 3e-06\n",
            "Epoch: 63/100\n",
            "Epoch : 063, Training: Loss - 0.0152, Accuracy - 99.6310%, Validation : Loss - 0.3971, Accuracy - 88.2845%, Time: 32.6515s\n",
            "Epoch-62 learning rate: 3e-06\n",
            "Epoch: 64/100\n",
            "Epoch : 064, Training: Loss - 0.0126, Accuracy - 99.7540%, Validation : Loss - 0.4020, Accuracy - 88.2845%, Time: 32.6957s\n",
            "Epoch-63 learning rate: 3e-06\n",
            "Epoch: 65/100\n",
            "Epoch : 065, Training: Loss - 0.0150, Accuracy - 99.8770%, Validation : Loss - 0.3412, Accuracy - 90.3766%, Time: 32.6709s\n",
            "Epoch-64 learning rate: 3e-06\n",
            "Epoch: 66/100\n",
            "Epoch : 066, Training: Loss - 0.0108, Accuracy - 99.8770%, Validation : Loss - 0.3591, Accuracy - 89.9582%, Time: 32.7354s\n",
            "Epoch-65 learning rate: 3e-06\n",
            "Epoch: 67/100\n",
            "Epoch : 067, Training: Loss - 0.0128, Accuracy - 99.8770%, Validation : Loss - 0.3758, Accuracy - 89.1213%, Time: 32.7135s\n",
            "Epoch-66 learning rate: 3e-06\n",
            "Epoch: 68/100\n",
            "Epoch : 068, Training: Loss - 0.0187, Accuracy - 99.7540%, Validation : Loss - 0.3920, Accuracy - 89.1213%, Time: 32.6679s\n",
            "Epoch-67 learning rate: 3e-06\n",
            "Epoch: 69/100\n",
            "Epoch : 069, Training: Loss - 0.0100, Accuracy - 99.8770%, Validation : Loss - 0.4494, Accuracy - 85.3556%, Time: 32.6829s\n",
            "Epoch-68 learning rate: 3e-06\n",
            "Epoch: 70/100\n",
            "Epoch : 070, Training: Loss - 0.0144, Accuracy - 99.7540%, Validation : Loss - 0.4109, Accuracy - 87.0293%, Time: 32.7274s\n",
            "Epoch-69 learning rate: 3e-06\n",
            "Epoch: 71/100\n",
            "Epoch : 071, Training: Loss - 0.0073, Accuracy - 100.0000%, Validation : Loss - 0.4259, Accuracy - 87.0293%, Time: 32.6544s\n",
            "Epoch-70 learning rate: 3e-06\n",
            "Epoch: 72/100\n",
            "Epoch : 072, Training: Loss - 0.0088, Accuracy - 100.0000%, Validation : Loss - 0.4137, Accuracy - 86.6109%, Time: 32.6527s\n",
            "Epoch-71 learning rate: 3e-06\n",
            "Epoch: 73/100\n",
            "Epoch : 073, Training: Loss - 0.0084, Accuracy - 99.8770%, Validation : Loss - 0.4245, Accuracy - 86.1925%, Time: 32.7125s\n",
            "Epoch-72 learning rate: 3e-06\n",
            "Epoch: 74/100\n",
            "Epoch : 074, Training: Loss - 0.0091, Accuracy - 99.8770%, Validation : Loss - 0.4337, Accuracy - 87.0293%, Time: 32.6335s\n",
            "Epoch-73 learning rate: 3e-06\n",
            "Epoch: 75/100\n",
            "Epoch : 075, Training: Loss - 0.0060, Accuracy - 100.0000%, Validation : Loss - 0.4207, Accuracy - 87.8661%, Time: 32.6768s\n",
            "Epoch-74 learning rate: 3e-06\n",
            "Epoch: 76/100\n",
            "Epoch : 076, Training: Loss - 0.0057, Accuracy - 100.0000%, Validation : Loss - 0.4468, Accuracy - 87.0293%, Time: 32.7026s\n",
            "Epoch-75 learning rate: 3e-06\n",
            "Epoch: 77/100\n",
            "Epoch : 077, Training: Loss - 0.0052, Accuracy - 100.0000%, Validation : Loss - 0.4476, Accuracy - 86.6109%, Time: 32.6796s\n",
            "Epoch-76 learning rate: 3e-06\n",
            "Epoch: 78/100\n",
            "Epoch : 078, Training: Loss - 0.0075, Accuracy - 99.8770%, Validation : Loss - 0.4719, Accuracy - 87.0293%, Time: 32.6722s\n",
            "Epoch-77 learning rate: 3e-06\n",
            "Epoch: 79/100\n",
            "Epoch : 079, Training: Loss - 0.0152, Accuracy - 99.7540%, Validation : Loss - 0.4380, Accuracy - 89.5397%, Time: 32.6343s\n",
            "Epoch-78 learning rate: 3e-06\n",
            "Epoch: 80/100\n",
            "Epoch : 080, Training: Loss - 0.0065, Accuracy - 99.8770%, Validation : Loss - 0.4536, Accuracy - 86.6109%, Time: 32.7302s\n",
            "Epoch-79 learning rate: 3e-06\n",
            "Epoch: 81/100\n",
            "Epoch : 081, Training: Loss - 0.0064, Accuracy - 100.0000%, Validation : Loss - 0.5008, Accuracy - 85.7741%, Time: 32.7465s\n",
            "Epoch-80 learning rate: 3e-06\n",
            "Epoch: 82/100\n",
            "Epoch : 082, Training: Loss - 0.0081, Accuracy - 99.8770%, Validation : Loss - 0.4323, Accuracy - 87.4477%, Time: 33.0560s\n",
            "Epoch-81 learning rate: 3e-06\n",
            "Epoch: 83/100\n",
            "Epoch : 083, Training: Loss - 0.0091, Accuracy - 99.7540%, Validation : Loss - 0.4962, Accuracy - 85.3556%, Time: 32.8456s\n",
            "Epoch-82 learning rate: 3e-06\n",
            "Epoch: 84/100\n",
            "Epoch : 084, Training: Loss - 0.0192, Accuracy - 99.6310%, Validation : Loss - 0.4151, Accuracy - 87.0293%, Time: 32.7528s\n",
            "Epoch-83 learning rate: 3e-06\n",
            "Epoch: 85/100\n",
            "Epoch : 085, Training: Loss - 0.0111, Accuracy - 99.8770%, Validation : Loss - 0.3770, Accuracy - 90.3766%, Time: 32.8060s\n",
            "Epoch-84 learning rate: 3e-06\n",
            "Epoch: 86/100\n",
            "Epoch : 086, Training: Loss - 0.0064, Accuracy - 100.0000%, Validation : Loss - 0.4167, Accuracy - 90.7950%, Time: 32.8212s\n",
            "Epoch-85 learning rate: 3e-06\n",
            "Epoch: 87/100\n",
            "Epoch : 087, Training: Loss - 0.0054, Accuracy - 100.0000%, Validation : Loss - 0.4252, Accuracy - 90.7950%, Time: 32.7689s\n",
            "Epoch-86 learning rate: 3e-06\n",
            "Epoch: 88/100\n",
            "Epoch : 088, Training: Loss - 0.0047, Accuracy - 100.0000%, Validation : Loss - 0.4173, Accuracy - 88.7029%, Time: 32.7597s\n",
            "Epoch-87 learning rate: 3e-06\n",
            "Epoch: 89/100\n",
            "Epoch : 089, Training: Loss - 0.0137, Accuracy - 99.7540%, Validation : Loss - 0.3635, Accuracy - 88.7029%, Time: 32.8058s\n",
            "Epoch-88 learning rate: 3e-06\n",
            "Epoch: 90/100\n",
            "Epoch : 090, Training: Loss - 0.0060, Accuracy - 100.0000%, Validation : Loss - 0.3854, Accuracy - 91.2134%, Time: 32.7172s\n",
            "Epoch-89 learning rate: 3e-06\n",
            "Epoch: 91/100\n",
            "Epoch : 091, Training: Loss - 0.0052, Accuracy - 100.0000%, Validation : Loss - 0.3626, Accuracy - 92.8870%, Time: 32.8200s\n",
            "Epoch-90 learning rate: 3e-06\n",
            "Epoch: 92/100\n",
            "Epoch : 092, Training: Loss - 0.0089, Accuracy - 99.7540%, Validation : Loss - 0.4422, Accuracy - 88.7029%, Time: 32.7537s\n",
            "Epoch-91 learning rate: 3e-06\n",
            "Epoch: 93/100\n",
            "Epoch : 093, Training: Loss - 0.0043, Accuracy - 100.0000%, Validation : Loss - 0.4504, Accuracy - 90.7950%, Time: 32.8117s\n",
            "Epoch-92 learning rate: 3e-06\n",
            "Epoch: 94/100\n",
            "Epoch : 094, Training: Loss - 0.0071, Accuracy - 99.7540%, Validation : Loss - 0.3915, Accuracy - 89.5397%, Time: 32.7738s\n",
            "Epoch-93 learning rate: 3e-06\n",
            "Epoch: 95/100\n",
            "Epoch : 095, Training: Loss - 0.0117, Accuracy - 99.8770%, Validation : Loss - 0.3844, Accuracy - 89.5397%, Time: 32.8262s\n",
            "Epoch-94 learning rate: 2.7e-06\n",
            "Epoch: 96/100\n",
            "Epoch : 096, Training: Loss - 0.0034, Accuracy - 100.0000%, Validation : Loss - 0.4025, Accuracy - 89.9582%, Time: 32.7115s\n",
            "Epoch-95 learning rate: 2.7e-06\n",
            "Epoch: 97/100\n",
            "Epoch : 097, Training: Loss - 0.0084, Accuracy - 99.8770%, Validation : Loss - 0.4093, Accuracy - 92.0502%, Time: 32.7552s\n",
            "Epoch-96 learning rate: 2.7e-06\n",
            "Epoch: 98/100\n",
            "Epoch : 098, Training: Loss - 0.0058, Accuracy - 99.8770%, Validation : Loss - 0.3604, Accuracy - 89.1213%, Time: 32.7391s\n",
            "Epoch-97 learning rate: 2.7e-06\n",
            "Epoch: 99/100\n",
            "Epoch : 099, Training: Loss - 0.0035, Accuracy - 100.0000%, Validation : Loss - 0.3881, Accuracy - 89.5397%, Time: 32.7468s\n",
            "Epoch-98 learning rate: 2.7e-06\n",
            "Epoch: 100/100\n",
            "Epoch : 100, Training: Loss - 0.0030, Accuracy - 100.0000%, Validation : Loss - 0.3740, Accuracy - 89.5397%, Time: 32.7450s\n",
            "Epoch-99 learning rate: 2.7e-06\n"
          ],
          "name": "stdout"
        }
      ]
    },
    {
      "cell_type": "code",
      "metadata": {
        "colab": {
          "base_uri": "https://localhost:8080/"
        },
        "id": "HigTVpI3JjHv",
        "outputId": "a1f86499-2f37-43b0-b1c5-4ae4c785e595"
      },
      "source": [
        "print(\"Thoi gian training: \",end-start)"
      ],
      "execution_count": 19,
      "outputs": [
        {
          "output_type": "stream",
          "text": [
            "Thoi gian training:  3639.3414146900177\n"
          ],
          "name": "stdout"
        }
      ]
    },
    {
      "cell_type": "code",
      "metadata": {
        "colab": {
          "base_uri": "https://localhost:8080/"
        },
        "id": "6Y_oTM6XLAKO",
        "outputId": "b9a5b14a-f48d-4f81-96da-6922f1c31198"
      },
      "source": [
        "#save model\n",
        "import time\n",
        "from datetime import date\n",
        "today = date.today()\n",
        "d1 = today.strftime(\"%d%m%Y\")\n",
        "print(\"d1 =\", d1)\n",
        "torch.save(trained_model, '/content/drive/My Drive/DetectBrainTumor/model/pytorch_data_old/model_resnet152_'+str(d1)+'.pt')"
      ],
      "execution_count": 20,
      "outputs": [
        {
          "output_type": "stream",
          "text": [
            "d1 = 28062021\n"
          ],
          "name": "stdout"
        }
      ]
    },
    {
      "cell_type": "code",
      "metadata": {
        "id": "mQIS7KrCLB2-"
      },
      "source": [
        "import pickle\n",
        "with open('/content/drive/My Drive/DetectBrainTumor/result/pytorch_data_old/history_resnet150v2.pickle', 'wb') as f:\n",
        "    pickle.dump(history, f)\n",
        "\n",
        "# with open('/content/drive/My Drive/DetectBrainTumor/result/pytorch/time_resnet152.pickle', 'wb') as f:\n",
        "#     pickle.dump(arr_time, f)"
      ],
      "execution_count": 21,
      "outputs": []
    },
    {
      "cell_type": "code",
      "metadata": {
        "id": "uKg5tSsGdxRW"
      },
      "source": [
        "loss_train = []\n",
        "loss_val = []\n",
        "acc_train = []\n",
        "acc_val = []\n",
        "\n",
        "for i in range(len(history)):\n",
        "  loss_train.append(history[i][0])\n",
        "  loss_val.append(history[i][1])\n",
        "  acc_train.append(history[i][2])\n",
        "  acc_val.append(history[i][3])"
      ],
      "execution_count": 22,
      "outputs": []
    },
    {
      "cell_type": "code",
      "metadata": {
        "colab": {
          "base_uri": "https://localhost:8080/",
          "height": 457
        },
        "id": "pB0-ZXLqI5fZ",
        "outputId": "ebe44200-e546-4367-8346-1007ac28fa73"
      },
      "source": [
        "# summarize history for accuracy\n",
        "fig,a =  plt.subplots(1, 2, figsize=(16,7))\n",
        "a[0].plot(acc_train)\n",
        "a[0].plot(acc_val)\n",
        "a[0].set_title('model accuracy')\n",
        "a[0].set_ylabel('accuracy')\n",
        "a[0].set_xlabel('epoch')\n",
        "a[0].legend(['train', 'val'], loc='upper left')\n",
        "# summarize history for loss for epoch\n",
        "# plt.figure(figsize=(10,10))\n",
        "a[1].plot(loss_train)\n",
        "a[1].plot(loss_val)\n",
        "a[1].set_title('model loss')\n",
        "a[1].set_ylabel('loss')\n",
        "a[1].set_xlabel('epoch')\n",
        "a[1].legend(['train', 'val'], loc='upper left')\n",
        "plt.show()"
      ],
      "execution_count": 23,
      "outputs": [
        {
          "output_type": "display_data",
          "data": {
            "image/png": "[encoded data removed]",
            "text/plain": [
              "<Figure size 1152x504 with 2 Axes>"
            ]
          },
          "metadata": {
            "tags": [],
            "needs_background": "light"
          }
        }
      ]
    }
  ]
}