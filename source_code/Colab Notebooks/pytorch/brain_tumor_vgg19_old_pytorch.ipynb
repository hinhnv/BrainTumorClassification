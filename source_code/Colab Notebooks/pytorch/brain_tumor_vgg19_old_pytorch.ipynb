{
  "nbformat": 4,
  "nbformat_minor": 0,
  "metadata": {
    "accelerator": "GPU",
    "colab": {
      "name": "brain_tumor_vgg19_old_pytorch.ipynb",
      "provenance": [],
      "collapsed_sections": []
    },
    "kernelspec": {
      "display_name": "Python 3",
      "name": "python3"
    },
    "language_info": {
      "name": "python"
    },
    "widgets": {
      "application/vnd.jupyter.widget-state+json": {
        "d4778fa21f9645669bc3299ddb44e60e": {
          "model_module": "@jupyter-widgets/controls",
          "model_name": "HBoxModel",
          "state": {
            "_view_name": "HBoxView",
            "_dom_classes": [],
            "_model_name": "HBoxModel",
            "_view_module": "@jupyter-widgets/controls",
            "_model_module_version": "1.5.0",
            "_view_count": null,
            "_view_module_version": "1.5.0",
            "box_style": "",
            "layout": "IPY_MODEL_b013e04bf3264ceca5f487ffd5cba878",
            "_model_module": "@jupyter-widgets/controls",
            "children": [
              "IPY_MODEL_64bca65ffddc4c46a00b914cba702e92",
              "IPY_MODEL_059f6c0e6f724b2c82b0c6db061d8b9e"
            ]
          }
        },
        "b013e04bf3264ceca5f487ffd5cba878": {
          "model_module": "@jupyter-widgets/base",
          "model_name": "LayoutModel",
          "state": {
            "_view_name": "LayoutView",
            "grid_template_rows": null,
            "right": null,
            "justify_content": null,
            "_view_module": "@jupyter-widgets/base",
            "overflow": null,
            "_model_module_version": "1.2.0",
            "_view_count": null,
            "flex_flow": null,
            "width": null,
            "min_width": null,
            "border": null,
            "align_items": null,
            "bottom": null,
            "_model_module": "@jupyter-widgets/base",
            "top": null,
            "grid_column": null,
            "overflow_y": null,
            "overflow_x": null,
            "grid_auto_flow": null,
            "grid_area": null,
            "grid_template_columns": null,
            "flex": null,
            "_model_name": "LayoutModel",
            "justify_items": null,
            "grid_row": null,
            "max_height": null,
            "align_content": null,
            "visibility": null,
            "align_self": null,
            "height": null,
            "min_height": null,
            "padding": null,
            "grid_auto_rows": null,
            "grid_gap": null,
            "max_width": null,
            "order": null,
            "_view_module_version": "1.2.0",
            "grid_template_areas": null,
            "object_position": null,
            "object_fit": null,
            "grid_auto_columns": null,
            "margin": null,
            "display": null,
            "left": null
          }
        },
        "64bca65ffddc4c46a00b914cba702e92": {
          "model_module": "@jupyter-widgets/controls",
          "model_name": "FloatProgressModel",
          "state": {
            "_view_name": "ProgressView",
            "style": "IPY_MODEL_48d46bdbb966475891054d96529b265f",
            "_dom_classes": [],
            "description": "100%",
            "_model_name": "FloatProgressModel",
            "bar_style": "success",
            "max": 574769405,
            "_view_module": "@jupyter-widgets/controls",
            "_model_module_version": "1.5.0",
            "value": 574769405,
            "_view_count": null,
            "_view_module_version": "1.5.0",
            "orientation": "horizontal",
            "min": 0,
            "description_tooltip": null,
            "_model_module": "@jupyter-widgets/controls",
            "layout": "IPY_MODEL_eb8b001a062d4084b780f18f509a3b60"
          }
        },
        "059f6c0e6f724b2c82b0c6db061d8b9e": {
          "model_module": "@jupyter-widgets/controls",
          "model_name": "HTMLModel",
          "state": {
            "_view_name": "HTMLView",
            "style": "IPY_MODEL_f39581c9619843be88a3c2b65adcc09a",
            "_dom_classes": [],
            "description": "",
            "_model_name": "HTMLModel",
            "placeholder": "​",
            "_view_module": "@jupyter-widgets/controls",
            "_model_module_version": "1.5.0",
            "value": " 548M/548M [00:17&lt;00:00, 33.7MB/s]",
            "_view_count": null,
            "_view_module_version": "1.5.0",
            "description_tooltip": null,
            "_model_module": "@jupyter-widgets/controls",
            "layout": "IPY_MODEL_fa0a8fb5860d467ba1a32c71817c3862"
          }
        },
        "48d46bdbb966475891054d96529b265f": {
          "model_module": "@jupyter-widgets/controls",
          "model_name": "ProgressStyleModel",
          "state": {
            "_view_name": "StyleView",
            "_model_name": "ProgressStyleModel",
            "description_width": "initial",
            "_view_module": "@jupyter-widgets/base",
            "_model_module_version": "1.5.0",
            "_view_count": null,
            "_view_module_version": "1.2.0",
            "bar_color": null,
            "_model_module": "@jupyter-widgets/controls"
          }
        },
        "eb8b001a062d4084b780f18f509a3b60": {
          "model_module": "@jupyter-widgets/base",
          "model_name": "LayoutModel",
          "state": {
            "_view_name": "LayoutView",
            "grid_template_rows": null,
            "right": null,
            "justify_content": null,
            "_view_module": "@jupyter-widgets/base",
            "overflow": null,
            "_model_module_version": "1.2.0",
            "_view_count": null,
            "flex_flow": null,
            "width": null,
            "min_width": null,
            "border": null,
            "align_items": null,
            "bottom": null,
            "_model_module": "@jupyter-widgets/base",
            "top": null,
            "grid_column": null,
            "overflow_y": null,
            "overflow_x": null,
            "grid_auto_flow": null,
            "grid_area": null,
            "grid_template_columns": null,
            "flex": null,
            "_model_name": "LayoutModel",
            "justify_items": null,
            "grid_row": null,
            "max_height": null,
            "align_content": null,
            "visibility": null,
            "align_self": null,
            "height": null,
            "min_height": null,
            "padding": null,
            "grid_auto_rows": null,
            "grid_gap": null,
            "max_width": null,
            "order": null,
            "_view_module_version": "1.2.0",
            "grid_template_areas": null,
            "object_position": null,
            "object_fit": null,
            "grid_auto_columns": null,
            "margin": null,
            "display": null,
            "left": null
          }
        },
        "f39581c9619843be88a3c2b65adcc09a": {
          "model_module": "@jupyter-widgets/controls",
          "model_name": "DescriptionStyleModel",
          "state": {
            "_view_name": "StyleView",
            "_model_name": "DescriptionStyleModel",
            "description_width": "",
            "_view_module": "@jupyter-widgets/base",
            "_model_module_version": "1.5.0",
            "_view_count": null,
            "_view_module_version": "1.2.0",
            "_model_module": "@jupyter-widgets/controls"
          }
        },
        "fa0a8fb5860d467ba1a32c71817c3862": {
          "model_module": "@jupyter-widgets/base",
          "model_name": "LayoutModel",
          "state": {
            "_view_name": "LayoutView",
            "grid_template_rows": null,
            "right": null,
            "justify_content": null,
            "_view_module": "@jupyter-widgets/base",
            "overflow": null,
            "_model_module_version": "1.2.0",
            "_view_count": null,
            "flex_flow": null,
            "width": null,
            "min_width": null,
            "border": null,
            "align_items": null,
            "bottom": null,
            "_model_module": "@jupyter-widgets/base",
            "top": null,
            "grid_column": null,
            "overflow_y": null,
            "overflow_x": null,
            "grid_auto_flow": null,
            "grid_area": null,
            "grid_template_columns": null,
            "flex": null,
            "_model_name": "LayoutModel",
            "justify_items": null,
            "grid_row": null,
            "max_height": null,
            "align_content": null,
            "visibility": null,
            "align_self": null,
            "height": null,
            "min_height": null,
            "padding": null,
            "grid_auto_rows": null,
            "grid_gap": null,
            "max_width": null,
            "order": null,
            "_view_module_version": "1.2.0",
            "grid_template_areas": null,
            "object_position": null,
            "object_fit": null,
            "grid_auto_columns": null,
            "margin": null,
            "display": null,
            "left": null
          }
        }
      }
    }
  },
  "cells": [
    {
      "cell_type": "code",
      "metadata": {
        "colab": {
          "base_uri": "https://localhost:8080/"
        },
        "id": "al_XWgRp3EzB",
        "outputId": "68f2c93c-534b-40fb-ec8d-380bd6484aaf"
      },
      "source": [
        "from google.colab import drive\n",
        "drive.mount('/content/drive')"
      ],
      "execution_count": null,
      "outputs": [
        {
          "output_type": "stream",
          "text": [
            "Mounted at /content/drive\n"
          ],
          "name": "stdout"
        }
      ]
    },
    {
      "cell_type": "code",
      "metadata": {
        "colab": {
          "base_uri": "https://localhost:8080/"
        },
        "id": "GPMeqQO6AP2D",
        "outputId": "971422e0-fa36-407e-b3ec-26f6d416ddf9"
      },
      "source": [
        "%cd /content/drive/My Drive/Adas/src\n",
        "from adas import Adas"
      ],
      "execution_count": null,
      "outputs": [
        {
          "output_type": "stream",
          "text": [
            "/content/drive/My Drive/Adas/src\n"
          ],
          "name": "stdout"
        }
      ]
    },
    {
      "cell_type": "code",
      "metadata": {
        "id": "jrQMAMh7ARMZ"
      },
      "source": [
        "import matplotlib.pyplot as plt\n",
        "from torchvision import datasets, models, transforms\n",
        "import helper\n",
        "import torch.nn as nn\n",
        "import torch.nn.functional as F\n",
        "import torch.optim as optim\n",
        "\n",
        "from torchvision import datasets\n",
        "from torchvision import transforms\n",
        "import matplotlib.pyplot as plt\n",
        "import torch, torchvision\n",
        "from torch.utils.data import DataLoader\n",
        "import time\n",
        "from torchsummary import summary\n",
        "import numpy as np\n",
        "import os\n",
        "\n",
        "from PIL import Image"
      ],
      "execution_count": null,
      "outputs": []
    },
    {
      "cell_type": "code",
      "metadata": {
        "id": "B_IymEbSAWFo"
      },
      "source": [
        "IMAGE_SIZE = 256\n",
        "batch_size = 16\n",
        "\n",
        "DATADIR_TRAIN = \"/content/drive/My Drive/DetectBrainTumor/data_1_19052021/T2_Train/\"\n",
        "DATADIR_VAL = \"/content/drive/My Drive/DetectBrainTumor/data_1_19052021/T2_Val/\""
      ],
      "execution_count": null,
      "outputs": []
    },
    {
      "cell_type": "code",
      "metadata": {
        "id": "_dG28e-KICv6"
      },
      "source": [
        "# Applying Transforms to the Data\n",
        "train_transform = transforms.Compose([\n",
        "        transforms.RandomResizedCrop(size=256, scale=(0.8, 1.0)),\n",
        "        transforms.RandomRotation(degrees=15),\n",
        "        transforms.RandomHorizontalFlip(),\n",
        "        transforms.CenterCrop(size=224),\n",
        "        transforms.ToTensor(),\n",
        "        transforms.Normalize([0.485, 0.456, 0.406],\n",
        "                             [0.229, 0.224, 0.225])\n",
        "    ])\n",
        "\n",
        "test_transform = transforms.Compose([\n",
        "        transforms.Resize(size=256),\n",
        "        transforms.CenterCrop(size=224),\n",
        "        transforms.ToTensor(),\n",
        "        transforms.Normalize([0.485, 0.456, 0.406],\n",
        "                             [0.229, 0.224, 0.225])\n",
        "    ])"
      ],
      "execution_count": null,
      "outputs": []
    },
    {
      "cell_type": "code",
      "metadata": {
        "id": "8JuOKAOLAi0X"
      },
      "source": [
        "train_data = datasets.ImageFolder(DATADIR_TRAIN, transform=train_transform)                                       \n",
        "val_data = datasets.ImageFolder(DATADIR_VAL, transform=test_transform)\n",
        "\n",
        "#Data Loading\n",
        "train_loader = torch.utils.data.DataLoader(train_data, batch_size=batch_size, shuffle=True)\n",
        "val_loader = torch.utils.data.DataLoader(val_data, batch_size=batch_size, shuffle=True)"
      ],
      "execution_count": null,
      "outputs": []
    },
    {
      "cell_type": "code",
      "metadata": {
        "id": "aOZ-WlKeJUnb"
      },
      "source": [
        "classes = ('YES', 'NO')"
      ],
      "execution_count": null,
      "outputs": []
    },
    {
      "cell_type": "code",
      "metadata": {
        "id": "kTT7H1l_NvJr"
      },
      "source": [
        "train_data_size = len(train_data)\n",
        "test_data_size = len(val_data)"
      ],
      "execution_count": null,
      "outputs": []
    },
    {
      "cell_type": "code",
      "metadata": {
        "id": "JP2vIpVTXMPE"
      },
      "source": [
        "device = torch.device(\"cuda:0\" if torch.cuda.is_available() else \"cpu\")"
      ],
      "execution_count": null,
      "outputs": []
    },
    {
      "cell_type": "code",
      "metadata": {
        "id": "CJAOJSrCDEdY",
        "colab": {
          "base_uri": "https://localhost:8080/",
          "height": 84,
          "referenced_widgets": [
            "d4778fa21f9645669bc3299ddb44e60e",
            "b013e04bf3264ceca5f487ffd5cba878",
            "64bca65ffddc4c46a00b914cba702e92",
            "059f6c0e6f724b2c82b0c6db061d8b9e",
            "48d46bdbb966475891054d96529b265f",
            "eb8b001a062d4084b780f18f509a3b60",
            "f39581c9619843be88a3c2b65adcc09a",
            "fa0a8fb5860d467ba1a32c71817c3862"
          ]
        },
        "outputId": "8ba28993-5a36-48ca-d967-4912be4998ba"
      },
      "source": [
        "# Load pretrained VGG19 Model\n",
        "model_class = models.vgg19_bn(pretrained=True)"
      ],
      "execution_count": null,
      "outputs": [
        {
          "output_type": "stream",
          "text": [
            "Downloading: \"https://download.pytorch.org/models/vgg19_bn-c79401a0.pth\" to /root/.cache/torch/hub/checkpoints/vgg19_bn-c79401a0.pth\n"
          ],
          "name": "stderr"
        },
        {
          "output_type": "display_data",
          "data": {
            "application/vnd.jupyter.widget-view+json": {
              "model_id": "d4778fa21f9645669bc3299ddb44e60e",
              "version_minor": 0,
              "version_major": 2
            },
            "text/plain": [
              "HBox(children=(FloatProgress(value=0.0, max=574769405.0), HTML(value='')))"
            ]
          },
          "metadata": {
            "tags": []
          }
        },
        {
          "output_type": "stream",
          "text": [
            "\n"
          ],
          "name": "stdout"
        }
      ]
    },
    {
      "cell_type": "code",
      "metadata": {
        "colab": {
          "base_uri": "https://localhost:8080/"
        },
        "id": "ECGlW63prA1j",
        "outputId": "f5adc8fd-9426-43f7-acad-bb8c0069fda5"
      },
      "source": [
        "model_class"
      ],
      "execution_count": null,
      "outputs": [
        {
          "output_type": "execute_result",
          "data": {
            "text/plain": [
              "VGG(\n",
              "  (features): Sequential(\n",
              "    (0): Conv2d(3, 64, kernel_size=(3, 3), stride=(1, 1), padding=(1, 1))\n",
              "    (1): BatchNorm2d(64, eps=1e-05, momentum=0.1, affine=True, track_running_stats=True)\n",
              "    (2): ReLU(inplace=True)\n",
              "    (3): Conv2d(64, 64, kernel_size=(3, 3), stride=(1, 1), padding=(1, 1))\n",
              "    (4): BatchNorm2d(64, eps=1e-05, momentum=0.1, affine=True, track_running_stats=True)\n",
              "    (5): ReLU(inplace=True)\n",
              "    (6): MaxPool2d(kernel_size=2, stride=2, padding=0, dilation=1, ceil_mode=False)\n",
              "    (7): Conv2d(64, 128, kernel_size=(3, 3), stride=(1, 1), padding=(1, 1))\n",
              "    (8): BatchNorm2d(128, eps=1e-05, momentum=0.1, affine=True, track_running_stats=True)\n",
              "    (9): ReLU(inplace=True)\n",
              "    (10): Conv2d(128, 128, kernel_size=(3, 3), stride=(1, 1), padding=(1, 1))\n",
              "    (11): BatchNorm2d(128, eps=1e-05, momentum=0.1, affine=True, track_running_stats=True)\n",
              "    (12): ReLU(inplace=True)\n",
              "    (13): MaxPool2d(kernel_size=2, stride=2, padding=0, dilation=1, ceil_mode=False)\n",
              "    (14): Conv2d(128, 256, kernel_size=(3, 3), stride=(1, 1), padding=(1, 1))\n",
              "    (15): BatchNorm2d(256, eps=1e-05, momentum=0.1, affine=True, track_running_stats=True)\n",
              "    (16): ReLU(inplace=True)\n",
              "    (17): Conv2d(256, 256, kernel_size=(3, 3), stride=(1, 1), padding=(1, 1))\n",
              "    (18): BatchNorm2d(256, eps=1e-05, momentum=0.1, affine=True, track_running_stats=True)\n",
              "    (19): ReLU(inplace=True)\n",
              "    (20): Conv2d(256, 256, kernel_size=(3, 3), stride=(1, 1), padding=(1, 1))\n",
              "    (21): BatchNorm2d(256, eps=1e-05, momentum=0.1, affine=True, track_running_stats=True)\n",
              "    (22): ReLU(inplace=True)\n",
              "    (23): Conv2d(256, 256, kernel_size=(3, 3), stride=(1, 1), padding=(1, 1))\n",
              "    (24): BatchNorm2d(256, eps=1e-05, momentum=0.1, affine=True, track_running_stats=True)\n",
              "    (25): ReLU(inplace=True)\n",
              "    (26): MaxPool2d(kernel_size=2, stride=2, padding=0, dilation=1, ceil_mode=False)\n",
              "    (27): Conv2d(256, 512, kernel_size=(3, 3), stride=(1, 1), padding=(1, 1))\n",
              "    (28): BatchNorm2d(512, eps=1e-05, momentum=0.1, affine=True, track_running_stats=True)\n",
              "    (29): ReLU(inplace=True)\n",
              "    (30): Conv2d(512, 512, kernel_size=(3, 3), stride=(1, 1), padding=(1, 1))\n",
              "    (31): BatchNorm2d(512, eps=1e-05, momentum=0.1, affine=True, track_running_stats=True)\n",
              "    (32): ReLU(inplace=True)\n",
              "    (33): Conv2d(512, 512, kernel_size=(3, 3), stride=(1, 1), padding=(1, 1))\n",
              "    (34): BatchNorm2d(512, eps=1e-05, momentum=0.1, affine=True, track_running_stats=True)\n",
              "    (35): ReLU(inplace=True)\n",
              "    (36): Conv2d(512, 512, kernel_size=(3, 3), stride=(1, 1), padding=(1, 1))\n",
              "    (37): BatchNorm2d(512, eps=1e-05, momentum=0.1, affine=True, track_running_stats=True)\n",
              "    (38): ReLU(inplace=True)\n",
              "    (39): MaxPool2d(kernel_size=2, stride=2, padding=0, dilation=1, ceil_mode=False)\n",
              "    (40): Conv2d(512, 512, kernel_size=(3, 3), stride=(1, 1), padding=(1, 1))\n",
              "    (41): BatchNorm2d(512, eps=1e-05, momentum=0.1, affine=True, track_running_stats=True)\n",
              "    (42): ReLU(inplace=True)\n",
              "    (43): Conv2d(512, 512, kernel_size=(3, 3), stride=(1, 1), padding=(1, 1))\n",
              "    (44): BatchNorm2d(512, eps=1e-05, momentum=0.1, affine=True, track_running_stats=True)\n",
              "    (45): ReLU(inplace=True)\n",
              "    (46): Conv2d(512, 512, kernel_size=(3, 3), stride=(1, 1), padding=(1, 1))\n",
              "    (47): BatchNorm2d(512, eps=1e-05, momentum=0.1, affine=True, track_running_stats=True)\n",
              "    (48): ReLU(inplace=True)\n",
              "    (49): Conv2d(512, 512, kernel_size=(3, 3), stride=(1, 1), padding=(1, 1))\n",
              "    (50): BatchNorm2d(512, eps=1e-05, momentum=0.1, affine=True, track_running_stats=True)\n",
              "    (51): ReLU(inplace=True)\n",
              "    (52): MaxPool2d(kernel_size=2, stride=2, padding=0, dilation=1, ceil_mode=False)\n",
              "  )\n",
              "  (avgpool): AdaptiveAvgPool2d(output_size=(7, 7))\n",
              "  (classifier): Sequential(\n",
              "    (0): Linear(in_features=25088, out_features=4096, bias=True)\n",
              "    (1): ReLU(inplace=True)\n",
              "    (2): Dropout(p=0.5, inplace=False)\n",
              "    (3): Linear(in_features=4096, out_features=4096, bias=True)\n",
              "    (4): ReLU(inplace=True)\n",
              "    (5): Dropout(p=0.5, inplace=False)\n",
              "    (6): Linear(in_features=4096, out_features=1000, bias=True)\n",
              "  )\n",
              ")"
            ]
          },
          "metadata": {
            "tags": []
          },
          "execution_count": 11
        }
      ]
    },
    {
      "cell_type": "code",
      "metadata": {
        "id": "nE_07JDiOW8w"
      },
      "source": [
        "# Change the final layer of VGG19 Model for Transfer Learning\n",
        "# classifier_input = model_class.classifier\n",
        "\n",
        "model_class.classifier = nn.Sequential(\n",
        "    nn.Linear(25088, 4096),\n",
        "    nn.ReLU(),\n",
        "    nn.Dropout(0.3),\n",
        "    nn.Linear(4096, 128),\n",
        "    nn.Flatten(),\n",
        "    nn.Dropout(0.5),\n",
        "    nn.Linear(128, 2), # Since 2 possible outputs\n",
        "    nn.LogSoftmax(dim=1)\n",
        ")\n",
        "\n",
        "# Convert model to be used on GPU\n",
        "model_class = model_class.to(device)"
      ],
      "execution_count": null,
      "outputs": []
    },
    {
      "cell_type": "code",
      "metadata": {
        "colab": {
          "base_uri": "https://localhost:8080/"
        },
        "id": "65pam2SIs4tR",
        "outputId": "06616d60-cbed-4a94-d96c-f25eb70ae819"
      },
      "source": [
        "model_class"
      ],
      "execution_count": null,
      "outputs": [
        {
          "output_type": "execute_result",
          "data": {
            "text/plain": [
              "VGG(\n",
              "  (features): Sequential(\n",
              "    (0): Conv2d(3, 64, kernel_size=(3, 3), stride=(1, 1), padding=(1, 1))\n",
              "    (1): BatchNorm2d(64, eps=1e-05, momentum=0.1, affine=True, track_running_stats=True)\n",
              "    (2): ReLU(inplace=True)\n",
              "    (3): Conv2d(64, 64, kernel_size=(3, 3), stride=(1, 1), padding=(1, 1))\n",
              "    (4): BatchNorm2d(64, eps=1e-05, momentum=0.1, affine=True, track_running_stats=True)\n",
              "    (5): ReLU(inplace=True)\n",
              "    (6): MaxPool2d(kernel_size=2, stride=2, padding=0, dilation=1, ceil_mode=False)\n",
              "    (7): Conv2d(64, 128, kernel_size=(3, 3), stride=(1, 1), padding=(1, 1))\n",
              "    (8): BatchNorm2d(128, eps=1e-05, momentum=0.1, affine=True, track_running_stats=True)\n",
              "    (9): ReLU(inplace=True)\n",
              "    (10): Conv2d(128, 128, kernel_size=(3, 3), stride=(1, 1), padding=(1, 1))\n",
              "    (11): BatchNorm2d(128, eps=1e-05, momentum=0.1, affine=True, track_running_stats=True)\n",
              "    (12): ReLU(inplace=True)\n",
              "    (13): MaxPool2d(kernel_size=2, stride=2, padding=0, dilation=1, ceil_mode=False)\n",
              "    (14): Conv2d(128, 256, kernel_size=(3, 3), stride=(1, 1), padding=(1, 1))\n",
              "    (15): BatchNorm2d(256, eps=1e-05, momentum=0.1, affine=True, track_running_stats=True)\n",
              "    (16): ReLU(inplace=True)\n",
              "    (17): Conv2d(256, 256, kernel_size=(3, 3), stride=(1, 1), padding=(1, 1))\n",
              "    (18): BatchNorm2d(256, eps=1e-05, momentum=0.1, affine=True, track_running_stats=True)\n",
              "    (19): ReLU(inplace=True)\n",
              "    (20): Conv2d(256, 256, kernel_size=(3, 3), stride=(1, 1), padding=(1, 1))\n",
              "    (21): BatchNorm2d(256, eps=1e-05, momentum=0.1, affine=True, track_running_stats=True)\n",
              "    (22): ReLU(inplace=True)\n",
              "    (23): Conv2d(256, 256, kernel_size=(3, 3), stride=(1, 1), padding=(1, 1))\n",
              "    (24): BatchNorm2d(256, eps=1e-05, momentum=0.1, affine=True, track_running_stats=True)\n",
              "    (25): ReLU(inplace=True)\n",
              "    (26): MaxPool2d(kernel_size=2, stride=2, padding=0, dilation=1, ceil_mode=False)\n",
              "    (27): Conv2d(256, 512, kernel_size=(3, 3), stride=(1, 1), padding=(1, 1))\n",
              "    (28): BatchNorm2d(512, eps=1e-05, momentum=0.1, affine=True, track_running_stats=True)\n",
              "    (29): ReLU(inplace=True)\n",
              "    (30): Conv2d(512, 512, kernel_size=(3, 3), stride=(1, 1), padding=(1, 1))\n",
              "    (31): BatchNorm2d(512, eps=1e-05, momentum=0.1, affine=True, track_running_stats=True)\n",
              "    (32): ReLU(inplace=True)\n",
              "    (33): Conv2d(512, 512, kernel_size=(3, 3), stride=(1, 1), padding=(1, 1))\n",
              "    (34): BatchNorm2d(512, eps=1e-05, momentum=0.1, affine=True, track_running_stats=True)\n",
              "    (35): ReLU(inplace=True)\n",
              "    (36): Conv2d(512, 512, kernel_size=(3, 3), stride=(1, 1), padding=(1, 1))\n",
              "    (37): BatchNorm2d(512, eps=1e-05, momentum=0.1, affine=True, track_running_stats=True)\n",
              "    (38): ReLU(inplace=True)\n",
              "    (39): MaxPool2d(kernel_size=2, stride=2, padding=0, dilation=1, ceil_mode=False)\n",
              "    (40): Conv2d(512, 512, kernel_size=(3, 3), stride=(1, 1), padding=(1, 1))\n",
              "    (41): BatchNorm2d(512, eps=1e-05, momentum=0.1, affine=True, track_running_stats=True)\n",
              "    (42): ReLU(inplace=True)\n",
              "    (43): Conv2d(512, 512, kernel_size=(3, 3), stride=(1, 1), padding=(1, 1))\n",
              "    (44): BatchNorm2d(512, eps=1e-05, momentum=0.1, affine=True, track_running_stats=True)\n",
              "    (45): ReLU(inplace=True)\n",
              "    (46): Conv2d(512, 512, kernel_size=(3, 3), stride=(1, 1), padding=(1, 1))\n",
              "    (47): BatchNorm2d(512, eps=1e-05, momentum=0.1, affine=True, track_running_stats=True)\n",
              "    (48): ReLU(inplace=True)\n",
              "    (49): Conv2d(512, 512, kernel_size=(3, 3), stride=(1, 1), padding=(1, 1))\n",
              "    (50): BatchNorm2d(512, eps=1e-05, momentum=0.1, affine=True, track_running_stats=True)\n",
              "    (51): ReLU(inplace=True)\n",
              "    (52): MaxPool2d(kernel_size=2, stride=2, padding=0, dilation=1, ceil_mode=False)\n",
              "  )\n",
              "  (avgpool): AdaptiveAvgPool2d(output_size=(7, 7))\n",
              "  (classifier): Sequential(\n",
              "    (0): Linear(in_features=25088, out_features=4096, bias=True)\n",
              "    (1): ReLU()\n",
              "    (2): Dropout(p=0.3, inplace=False)\n",
              "    (3): Linear(in_features=4096, out_features=128, bias=True)\n",
              "    (4): Flatten(start_dim=1, end_dim=-1)\n",
              "    (5): Dropout(p=0.5, inplace=False)\n",
              "    (6): Linear(in_features=128, out_features=2, bias=True)\n",
              "    (7): LogSoftmax(dim=1)\n",
              "  )\n",
              ")"
            ]
          },
          "metadata": {
            "tags": []
          },
          "execution_count": 13
        }
      ]
    },
    {
      "cell_type": "code",
      "metadata": {
        "id": "Jx6C95OqFFT1"
      },
      "source": [
        "def train_and_validate(model, scheduler, loss_criterion, optimizer, epochs):\n",
        "    '''\n",
        "    Function to train and validate\n",
        "    Parameters\n",
        "        :param model: Model to train and validate\n",
        "        :param loss_criterion: Loss Criterion to minimize\n",
        "        :param optimizer: Optimizer for computing gradients\n",
        "        :param epochs: Number of epochs (default=25)\n",
        "  \n",
        "    Returns\n",
        "        model: Trained Model with best validation accuracy\n",
        "        history: (dict object): Having training loss, accuracy and validation loss, accuracy\n",
        "    '''\n",
        "    \n",
        "    start = time.time()\n",
        "    history = []\n",
        "    best_loss = 100000.0\n",
        "    best_epoch = None\n",
        "    flag = 0\n",
        "\n",
        "    for epoch in range(epochs):\n",
        "        epoch_start = time.time()\n",
        "        print(\"Epoch: {}/{}\".format(epoch+1, epochs))\n",
        "        \n",
        "        # Set to training mode\n",
        "        model.train()\n",
        "        \n",
        "        # Loss and Accuracy within the epoch\n",
        "        train_loss = 0.0\n",
        "        train_acc = 0.0\n",
        "        \n",
        "        valid_loss = 0.0\n",
        "        valid_acc = 0.0\n",
        "        \n",
        "        for i, (inputs, labels) in enumerate(train_loader):\n",
        "\n",
        "            inputs = inputs.to(device)\n",
        "            labels = labels.to(device)\n",
        "            \n",
        "            # Clean existing gradients\n",
        "            optimizer.zero_grad()\n",
        "            \n",
        "            # Forward pass - compute outputs on input data using the model\n",
        "            outputs = model(inputs)\n",
        "            \n",
        "            # Compute loss\n",
        "            loss = loss_criterion(outputs, labels)\n",
        "            \n",
        "            # Backpropagate the gradients\n",
        "            loss.backward()\n",
        "            \n",
        "            # Update the parameters\n",
        "            optimizer.step()\n",
        "            \n",
        "            \n",
        "            # Compute the total loss for the batch and add it to train_loss\n",
        "            train_loss += loss.item() * inputs.size(0)\n",
        "            \n",
        "            # Compute the accuracy\n",
        "            ret, predictions = torch.max(outputs.data, 1)\n",
        "            correct_counts = predictions.eq(labels.data.view_as(predictions))\n",
        "            \n",
        "            # Convert correct_counts to float and then compute the mean\n",
        "            acc = torch.mean(correct_counts.type(torch.FloatTensor))\n",
        "            \n",
        "            # Compute total accuracy in the whole batch and add to train_acc\n",
        "            train_acc += acc.item() * inputs.size(0)\n",
        "            \n",
        "            #print(\"Batch number: {:03d}, Training: Loss: {:.4f}, Accuracy: {:.4f}\".format(i, loss.item(), acc.item()))\n",
        "\n",
        "        \n",
        "        # Validation - No gradient tracking needed\n",
        "        with torch.no_grad():\n",
        "\n",
        "            # Set to evaluation mode\n",
        "            model.eval()\n",
        "\n",
        "            # Validation loop\n",
        "            for j, (inputs, labels) in enumerate(val_loader):\n",
        "                inputs = inputs.to(device)\n",
        "                labels = labels.to(device)\n",
        "\n",
        "                # Forward pass - compute outputs on input data using the model\n",
        "                outputs = model(inputs)\n",
        "\n",
        "                # Compute loss\n",
        "                loss = loss_criterion(outputs, labels)\n",
        "\n",
        "                # Compute the total loss for the batch and add it to valid_loss\n",
        "                valid_loss += loss.item() * inputs.size(0)\n",
        "\n",
        "                # Calculate validation accuracy\n",
        "                ret, predictions = torch.max(outputs.data, 1)\n",
        "                correct_counts = predictions.eq(labels.data.view_as(predictions))\n",
        "\n",
        "                # Convert correct_counts to float and then compute the mean\n",
        "                acc = torch.mean(correct_counts.type(torch.FloatTensor))\n",
        "\n",
        "                # Compute total accuracy in the whole batch and add to valid_acc\n",
        "                valid_acc += acc.item() * inputs.size(0)\n",
        "                # if not j%100:\n",
        "                #   print(\"Validation Batch number: {:03d}, Validation: Loss: {:.4f}, Accuracy: {:.4f}\".format(j, loss.item(), acc.item()))\n",
        "        if valid_loss < best_loss:\n",
        "            best_loss = valid_loss\n",
        "            best_epoch = epoch\n",
        "\n",
        "        # Find average training loss and training accuracy\n",
        "        avg_train_loss = train_loss/train_data_size \n",
        "        avg_train_acc = train_acc/train_data_size\n",
        "\n",
        "        # Find average training loss and training accuracy\n",
        "        avg_valid_loss = valid_loss/test_data_size \n",
        "        avg_valid_acc = valid_acc/test_data_size\n",
        "\n",
        "        history.append([avg_train_loss, avg_valid_loss, avg_train_acc, avg_valid_acc])\n",
        "                \n",
        "        epoch_end = time.time()\n",
        "    \n",
        "        print(\"Epoch : {:03d}, Training: Loss - {:.4f}, Accuracy - {:.4f}%, Validation : Loss - {:.4f}, Accuracy - {:.4f}%, Time: {:.4f}s\".format(epoch+1, avg_train_loss, avg_train_acc*100, avg_valid_loss, avg_valid_acc*100, epoch_end-epoch_start))\n",
        "\n",
        "        #reduce lr\n",
        "        \n",
        "        if avg_valid_acc*100 > 88:\n",
        "          flag = 1\n",
        "\n",
        "        if flag == 1:\n",
        "          scheduler.step(avg_valid_loss)\n",
        "        \n",
        "        print('Epoch-{0} learning rate: {1}'.format(epoch, optimizer.param_groups[0]['lr']))\n",
        "\n",
        "        # Save if the model has best accuracy till now\n",
        "        # torch.save(model, 'model_'+str(epoch)+'.pt')\n",
        "        # optimizer.epoch_step(epoch)       \n",
        "    return model, history, best_epoch"
      ],
      "execution_count": null,
      "outputs": []
    },
    {
      "cell_type": "code",
      "metadata": {
        "id": "l9DyPd-dtyys"
      },
      "source": [
        "# Define Optimizer and Loss Function\n",
        "# loss_func = nn.NLLLoss()\n",
        "loss_func = nn.CrossEntropyLoss()\n",
        "optimizer = optim.Adam(params=list(model_class.parameters()), lr=3e-6)"
      ],
      "execution_count": null,
      "outputs": []
    },
    {
      "cell_type": "code",
      "metadata": {
        "id": "BR6dTBifOhoW",
        "colab": {
          "base_uri": "https://localhost:8080/"
        },
        "outputId": "f671a3f1-a479-4fa8-8809-e572b0a0425b"
      },
      "source": [
        "num_epochs = 100\n",
        "\n",
        "start = time.time()\n",
        "\n",
        "# trained_model, history, best_epoch = train_and_validate(model_class, loss_func, optimizer, num_epochs)\n",
        "\n",
        "# scheduler = optim.lr_scheduler.MultiStepLR(optimizer, milestones=[20,35], gamma=0.1)\n",
        "# scheduler = optim.lr_scheduler.StepLR(optimizer, step_size=2, gamma=torch.exp(-0.1))\n",
        "\n",
        "# lambda1 = lambda epoch: torch.exp(-1) ** epoch\n",
        "# scheduler = torch.optim.lr_scheduler.LambdaLR(optimizer, lr_lambda=lambda1)\n",
        "\n",
        "scheduler = torch.optim.lr_scheduler.ReduceLROnPlateau(optimizer, mode='min', factor= 0.85, patience=2, threshold=0.0001, threshold_mode='abs')\n",
        "\n",
        "trained_model, history, best_epoch = train_and_validate(model_class, scheduler, loss_func, optimizer, num_epochs)\n",
        "\n",
        "end = time.time()\n",
        "# torch.save(history, 'history.pt')"
      ],
      "execution_count": null,
      "outputs": [
        {
          "output_type": "stream",
          "text": [
            "Epoch: 1/100\n"
          ],
          "name": "stdout"
        },
        {
          "output_type": "stream",
          "text": [
            "/usr/local/lib/python3.7/dist-packages/torch/nn/functional.py:718: UserWarning: Named tensors and all their associated APIs are an experimental feature and subject to change. Please do not use them for anything important until they are released as stable. (Triggered internally at  /pytorch/c10/core/TensorImpl.h:1156.)\n",
            "  return torch.max_pool2d(input, kernel_size, stride, padding, dilation, ceil_mode)\n"
          ],
          "name": "stderr"
        },
        {
          "output_type": "stream",
          "text": [
            "Epoch : 001, Training: Loss - 0.6738, Accuracy - 61.8696%, Validation : Loss - 0.6826, Accuracy - 50.2092%, Time: 198.7330s\n",
            "Epoch-0 learning rate: 3e-06\n",
            "Epoch: 2/100\n",
            "Epoch : 002, Training: Loss - 0.6038, Accuracy - 73.8007%, Validation : Loss - 0.6627, Accuracy - 55.2301%, Time: 28.8466s\n",
            "Epoch-1 learning rate: 3e-06\n",
            "Epoch: 3/100\n",
            "Epoch : 003, Training: Loss - 0.5093, Accuracy - 80.8118%, Validation : Loss - 0.6320, Accuracy - 58.5774%, Time: 29.0047s\n",
            "Epoch-2 learning rate: 3e-06\n",
            "Epoch: 4/100\n",
            "Epoch : 004, Training: Loss - 0.4231, Accuracy - 82.7798%, Validation : Loss - 0.5657, Accuracy - 64.0167%, Time: 29.0999s\n",
            "Epoch-3 learning rate: 3e-06\n",
            "Epoch: 5/100\n",
            "Epoch : 005, Training: Loss - 0.3299, Accuracy - 88.4379%, Validation : Loss - 0.4921, Accuracy - 69.0377%, Time: 29.2000s\n",
            "Epoch-4 learning rate: 3e-06\n",
            "Epoch: 6/100\n",
            "Epoch : 006, Training: Loss - 0.2977, Accuracy - 89.6679%, Validation : Loss - 0.4531, Accuracy - 73.2218%, Time: 29.4685s\n",
            "Epoch-5 learning rate: 3e-06\n",
            "Epoch: 7/100\n",
            "Epoch : 007, Training: Loss - 0.2502, Accuracy - 91.8819%, Validation : Loss - 0.4225, Accuracy - 76.9874%, Time: 29.6568s\n",
            "Epoch-6 learning rate: 3e-06\n",
            "Epoch: 8/100\n",
            "Epoch : 008, Training: Loss - 0.1953, Accuracy - 93.4809%, Validation : Loss - 0.3872, Accuracy - 78.6611%, Time: 29.9113s\n",
            "Epoch-7 learning rate: 3e-06\n",
            "Epoch: 9/100\n",
            "Epoch : 009, Training: Loss - 0.1817, Accuracy - 93.4809%, Validation : Loss - 0.3740, Accuracy - 82.0084%, Time: 30.0549s\n",
            "Epoch-8 learning rate: 3e-06\n",
            "Epoch: 10/100\n",
            "Epoch : 010, Training: Loss - 0.1677, Accuracy - 94.3419%, Validation : Loss - 0.3601, Accuracy - 82.8452%, Time: 30.0726s\n",
            "Epoch-9 learning rate: 3e-06\n",
            "Epoch: 11/100\n",
            "Epoch : 011, Training: Loss - 0.1394, Accuracy - 94.5879%, Validation : Loss - 0.3925, Accuracy - 80.7531%, Time: 30.2120s\n",
            "Epoch-10 learning rate: 3e-06\n",
            "Epoch: 12/100\n",
            "Epoch : 012, Training: Loss - 0.1459, Accuracy - 95.2030%, Validation : Loss - 0.3752, Accuracy - 83.6820%, Time: 30.3033s\n",
            "Epoch-11 learning rate: 3e-06\n",
            "Epoch: 13/100\n",
            "Epoch : 013, Training: Loss - 0.1380, Accuracy - 94.9569%, Validation : Loss - 0.3737, Accuracy - 84.9372%, Time: 30.0558s\n",
            "Epoch-12 learning rate: 3e-06\n",
            "Epoch: 14/100\n",
            "Epoch : 014, Training: Loss - 0.1092, Accuracy - 96.6790%, Validation : Loss - 0.3484, Accuracy - 86.6109%, Time: 30.1293s\n",
            "Epoch-13 learning rate: 3e-06\n",
            "Epoch: 15/100\n",
            "Epoch : 015, Training: Loss - 0.1095, Accuracy - 96.1870%, Validation : Loss - 0.3464, Accuracy - 84.5188%, Time: 30.0655s\n",
            "Epoch-14 learning rate: 3e-06\n",
            "Epoch: 16/100\n",
            "Epoch : 016, Training: Loss - 0.0996, Accuracy - 96.3100%, Validation : Loss - 0.3474, Accuracy - 86.6109%, Time: 30.0317s\n",
            "Epoch-15 learning rate: 3e-06\n",
            "Epoch: 17/100\n",
            "Epoch : 017, Training: Loss - 0.0847, Accuracy - 97.5400%, Validation : Loss - 0.3528, Accuracy - 84.9372%, Time: 29.9615s\n",
            "Epoch-16 learning rate: 3e-06\n",
            "Epoch: 18/100\n",
            "Epoch : 018, Training: Loss - 0.0784, Accuracy - 97.4170%, Validation : Loss - 0.3571, Accuracy - 85.3556%, Time: 29.9621s\n",
            "Epoch-17 learning rate: 3e-06\n",
            "Epoch: 19/100\n",
            "Epoch : 019, Training: Loss - 0.0708, Accuracy - 97.4170%, Validation : Loss - 0.3635, Accuracy - 85.3556%, Time: 30.0455s\n",
            "Epoch-18 learning rate: 3e-06\n",
            "Epoch: 20/100\n",
            "Epoch : 020, Training: Loss - 0.0660, Accuracy - 97.7860%, Validation : Loss - 0.3513, Accuracy - 84.5188%, Time: 30.0266s\n",
            "Epoch-19 learning rate: 3e-06\n",
            "Epoch: 21/100\n",
            "Epoch : 021, Training: Loss - 0.0531, Accuracy - 98.5240%, Validation : Loss - 0.3289, Accuracy - 87.0293%, Time: 29.9905s\n",
            "Epoch-20 learning rate: 3e-06\n",
            "Epoch: 22/100\n",
            "Epoch : 022, Training: Loss - 0.0429, Accuracy - 99.1390%, Validation : Loss - 0.3433, Accuracy - 87.0293%, Time: 29.9266s\n",
            "Epoch-21 learning rate: 3e-06\n",
            "Epoch: 23/100\n",
            "Epoch : 023, Training: Loss - 0.0647, Accuracy - 98.0320%, Validation : Loss - 0.3471, Accuracy - 88.2845%, Time: 30.0617s\n",
            "Epoch-22 learning rate: 3e-06\n",
            "Epoch: 24/100\n",
            "Epoch : 024, Training: Loss - 0.0532, Accuracy - 98.1550%, Validation : Loss - 0.3392, Accuracy - 88.7029%, Time: 30.0069s\n",
            "Epoch-23 learning rate: 3e-06\n",
            "Epoch: 25/100\n",
            "Epoch : 025, Training: Loss - 0.0332, Accuracy - 99.0160%, Validation : Loss - 0.3478, Accuracy - 88.2845%, Time: 29.9716s\n",
            "Epoch-24 learning rate: 3e-06\n",
            "Epoch: 26/100\n",
            "Epoch : 026, Training: Loss - 0.0437, Accuracy - 98.8930%, Validation : Loss - 0.3342, Accuracy - 89.5397%, Time: 29.9914s\n",
            "Epoch-25 learning rate: 3e-06\n",
            "Epoch: 27/100\n",
            "Epoch : 027, Training: Loss - 0.0285, Accuracy - 99.3850%, Validation : Loss - 0.3196, Accuracy - 87.8661%, Time: 29.8468s\n",
            "Epoch-26 learning rate: 3e-06\n",
            "Epoch: 28/100\n",
            "Epoch : 028, Training: Loss - 0.0287, Accuracy - 99.5080%, Validation : Loss - 0.3255, Accuracy - 87.0293%, Time: 29.9692s\n",
            "Epoch-27 learning rate: 3e-06\n",
            "Epoch: 29/100\n",
            "Epoch : 029, Training: Loss - 0.0278, Accuracy - 98.8930%, Validation : Loss - 0.3622, Accuracy - 88.7029%, Time: 29.9600s\n",
            "Epoch-28 learning rate: 3e-06\n",
            "Epoch: 30/100\n",
            "Epoch : 030, Training: Loss - 0.0371, Accuracy - 98.0320%, Validation : Loss - 0.3839, Accuracy - 86.6109%, Time: 29.8307s\n",
            "Epoch-29 learning rate: 2.55e-06\n",
            "Epoch: 31/100\n",
            "Epoch : 031, Training: Loss - 0.0193, Accuracy - 99.5080%, Validation : Loss - 0.3809, Accuracy - 84.5188%, Time: 30.0272s\n",
            "Epoch-30 learning rate: 2.55e-06\n",
            "Epoch: 32/100\n",
            "Epoch : 032, Training: Loss - 0.0250, Accuracy - 99.6310%, Validation : Loss - 0.3733, Accuracy - 87.8661%, Time: 29.8784s\n",
            "Epoch-31 learning rate: 2.55e-06\n",
            "Epoch: 33/100\n",
            "Epoch : 033, Training: Loss - 0.0247, Accuracy - 99.1390%, Validation : Loss - 0.3577, Accuracy - 85.7741%, Time: 29.9508s\n",
            "Epoch-32 learning rate: 2.1675e-06\n",
            "Epoch: 34/100\n",
            "Epoch : 034, Training: Loss - 0.0215, Accuracy - 99.3850%, Validation : Loss - 0.3766, Accuracy - 89.5397%, Time: 30.0136s\n",
            "Epoch-33 learning rate: 2.1675e-06\n",
            "Epoch: 35/100\n",
            "Epoch : 035, Training: Loss - 0.0200, Accuracy - 99.3850%, Validation : Loss - 0.3718, Accuracy - 88.2845%, Time: 29.9766s\n",
            "Epoch-34 learning rate: 2.1675e-06\n",
            "Epoch: 36/100\n",
            "Epoch : 036, Training: Loss - 0.0209, Accuracy - 99.5080%, Validation : Loss - 0.3608, Accuracy - 88.7029%, Time: 29.9406s\n",
            "Epoch-35 learning rate: 1.8423749999999999e-06\n",
            "Epoch: 37/100\n",
            "Epoch : 037, Training: Loss - 0.0148, Accuracy - 99.7540%, Validation : Loss - 0.3461, Accuracy - 88.7029%, Time: 30.0092s\n",
            "Epoch-36 learning rate: 1.8423749999999999e-06\n",
            "Epoch: 38/100\n",
            "Epoch : 038, Training: Loss - 0.0231, Accuracy - 99.2620%, Validation : Loss - 0.3642, Accuracy - 87.4477%, Time: 29.8434s\n",
            "Epoch-37 learning rate: 1.8423749999999999e-06\n",
            "Epoch: 39/100\n",
            "Epoch : 039, Training: Loss - 0.0164, Accuracy - 99.6310%, Validation : Loss - 0.3619, Accuracy - 88.7029%, Time: 29.9357s\n",
            "Epoch-38 learning rate: 1.56601875e-06\n",
            "Epoch: 40/100\n",
            "Epoch : 040, Training: Loss - 0.0156, Accuracy - 99.3850%, Validation : Loss - 0.3615, Accuracy - 88.7029%, Time: 29.9192s\n",
            "Epoch-39 learning rate: 1.56601875e-06\n",
            "Epoch: 41/100\n",
            "Epoch : 041, Training: Loss - 0.0148, Accuracy - 99.6310%, Validation : Loss - 0.3617, Accuracy - 88.7029%, Time: 29.9454s\n",
            "Epoch-40 learning rate: 1.56601875e-06\n",
            "Epoch: 42/100\n",
            "Epoch : 042, Training: Loss - 0.0164, Accuracy - 99.5080%, Validation : Loss - 0.3695, Accuracy - 88.2845%, Time: 29.8345s\n",
            "Epoch-41 learning rate: 1.3311159375e-06\n",
            "Epoch: 43/100\n",
            "Epoch : 043, Training: Loss - 0.0138, Accuracy - 99.6310%, Validation : Loss - 0.3828, Accuracy - 89.1213%, Time: 29.9955s\n",
            "Epoch-42 learning rate: 1.3311159375e-06\n",
            "Epoch: 44/100\n",
            "Epoch : 044, Training: Loss - 0.0126, Accuracy - 99.7540%, Validation : Loss - 0.3762, Accuracy - 88.7029%, Time: 29.9149s\n",
            "Epoch-43 learning rate: 1.3311159375e-06\n",
            "Epoch: 45/100\n",
            "Epoch : 045, Training: Loss - 0.0148, Accuracy - 99.5080%, Validation : Loss - 0.3934, Accuracy - 88.7029%, Time: 30.1527s\n",
            "Epoch-44 learning rate: 1.1314485468749999e-06\n",
            "Epoch: 46/100\n",
            "Epoch : 046, Training: Loss - 0.0107, Accuracy - 99.7540%, Validation : Loss - 0.3805, Accuracy - 89.1213%, Time: 29.8752s\n",
            "Epoch-45 learning rate: 1.1314485468749999e-06\n",
            "Epoch: 47/100\n",
            "Epoch : 047, Training: Loss - 0.0092, Accuracy - 99.8770%, Validation : Loss - 0.3872, Accuracy - 88.2845%, Time: 29.9239s\n",
            "Epoch-46 learning rate: 1.1314485468749999e-06\n",
            "Epoch: 48/100\n",
            "Epoch : 048, Training: Loss - 0.0105, Accuracy - 99.7540%, Validation : Loss - 0.3877, Accuracy - 88.7029%, Time: 29.8110s\n",
            "Epoch-47 learning rate: 9.617312648437498e-07\n",
            "Epoch: 49/100\n",
            "Epoch : 049, Training: Loss - 0.0116, Accuracy - 99.8770%, Validation : Loss - 0.3949, Accuracy - 89.1213%, Time: 29.9160s\n",
            "Epoch-48 learning rate: 9.617312648437498e-07\n",
            "Epoch: 50/100\n",
            "Epoch : 050, Training: Loss - 0.0099, Accuracy - 99.7540%, Validation : Loss - 0.3853, Accuracy - 89.1213%, Time: 30.0615s\n",
            "Epoch-49 learning rate: 9.617312648437498e-07\n",
            "Epoch: 51/100\n",
            "Epoch : 051, Training: Loss - 0.0142, Accuracy - 99.6310%, Validation : Loss - 0.3950, Accuracy - 88.7029%, Time: 29.9587s\n",
            "Epoch-50 learning rate: 8.174715751171873e-07\n",
            "Epoch: 52/100\n",
            "Epoch : 052, Training: Loss - 0.0118, Accuracy - 99.6310%, Validation : Loss - 0.3828, Accuracy - 88.2845%, Time: 29.9548s\n",
            "Epoch-51 learning rate: 8.174715751171873e-07\n",
            "Epoch: 53/100\n",
            "Epoch : 053, Training: Loss - 0.0141, Accuracy - 99.6310%, Validation : Loss - 0.3890, Accuracy - 88.2845%, Time: 30.0976s\n",
            "Epoch-52 learning rate: 8.174715751171873e-07\n",
            "Epoch: 54/100\n",
            "Epoch : 054, Training: Loss - 0.0092, Accuracy - 99.6310%, Validation : Loss - 0.3916, Accuracy - 89.1213%, Time: 30.2649s\n",
            "Epoch-53 learning rate: 6.948508388496093e-07\n",
            "Epoch: 55/100\n",
            "Epoch : 055, Training: Loss - 0.0055, Accuracy - 100.0000%, Validation : Loss - 0.4045, Accuracy - 88.2845%, Time: 30.4772s\n",
            "Epoch-54 learning rate: 6.948508388496093e-07\n",
            "Epoch: 56/100\n",
            "Epoch : 056, Training: Loss - 0.0060, Accuracy - 100.0000%, Validation : Loss - 0.3997, Accuracy - 88.2845%, Time: 29.9462s\n",
            "Epoch-55 learning rate: 6.948508388496093e-07\n",
            "Epoch: 57/100\n",
            "Epoch : 057, Training: Loss - 0.0156, Accuracy - 99.5080%, Validation : Loss - 0.4099, Accuracy - 89.1213%, Time: 29.9740s\n",
            "Epoch-56 learning rate: 5.906232130221678e-07\n",
            "Epoch: 58/100\n",
            "Epoch : 058, Training: Loss - 0.0093, Accuracy - 99.5080%, Validation : Loss - 0.4151, Accuracy - 88.2845%, Time: 29.9493s\n",
            "Epoch-57 learning rate: 5.906232130221678e-07\n",
            "Epoch: 59/100\n",
            "Epoch : 059, Training: Loss - 0.0118, Accuracy - 99.6310%, Validation : Loss - 0.4094, Accuracy - 89.1213%, Time: 30.0257s\n",
            "Epoch-58 learning rate: 5.906232130221678e-07\n",
            "Epoch: 60/100\n",
            "Epoch : 060, Training: Loss - 0.0165, Accuracy - 99.5080%, Validation : Loss - 0.3986, Accuracy - 88.2845%, Time: 29.9110s\n",
            "Epoch-59 learning rate: 5.020297310688427e-07\n",
            "Epoch: 61/100\n",
            "Epoch : 061, Training: Loss - 0.0107, Accuracy - 99.7540%, Validation : Loss - 0.3917, Accuracy - 88.2845%, Time: 29.9700s\n",
            "Epoch-60 learning rate: 5.020297310688427e-07\n",
            "Epoch: 62/100\n",
            "Epoch : 062, Training: Loss - 0.0070, Accuracy - 99.8770%, Validation : Loss - 0.3851, Accuracy - 89.1213%, Time: 29.8307s\n",
            "Epoch-61 learning rate: 5.020297310688427e-07\n",
            "Epoch: 63/100\n",
            "Epoch : 063, Training: Loss - 0.0097, Accuracy - 99.7540%, Validation : Loss - 0.3852, Accuracy - 89.1213%, Time: 30.0803s\n",
            "Epoch-62 learning rate: 4.2672527140851627e-07\n",
            "Epoch: 64/100\n",
            "Epoch : 064, Training: Loss - 0.0136, Accuracy - 99.6310%, Validation : Loss - 0.3957, Accuracy - 88.7029%, Time: 30.0329s\n",
            "Epoch-63 learning rate: 4.2672527140851627e-07\n",
            "Epoch: 65/100\n",
            "Epoch : 065, Training: Loss - 0.0091, Accuracy - 99.8770%, Validation : Loss - 0.3924, Accuracy - 88.2845%, Time: 29.9467s\n",
            "Epoch-64 learning rate: 4.2672527140851627e-07\n",
            "Epoch: 66/100\n",
            "Epoch : 066, Training: Loss - 0.0128, Accuracy - 99.7540%, Validation : Loss - 0.3962, Accuracy - 88.2845%, Time: 30.1004s\n",
            "Epoch-65 learning rate: 3.627164806972388e-07\n",
            "Epoch: 67/100\n",
            "Epoch : 067, Training: Loss - 0.0059, Accuracy - 100.0000%, Validation : Loss - 0.3943, Accuracy - 88.7029%, Time: 30.4961s\n",
            "Epoch-66 learning rate: 3.627164806972388e-07\n",
            "Epoch: 68/100\n",
            "Epoch : 068, Training: Loss - 0.0119, Accuracy - 99.6310%, Validation : Loss - 0.3929, Accuracy - 88.2845%, Time: 30.4092s\n",
            "Epoch-67 learning rate: 3.627164806972388e-07\n",
            "Epoch: 69/100\n",
            "Epoch : 069, Training: Loss - 0.0136, Accuracy - 99.6310%, Validation : Loss - 0.3920, Accuracy - 89.1213%, Time: 30.4432s\n",
            "Epoch-68 learning rate: 3.08309008592653e-07\n",
            "Epoch: 70/100\n",
            "Epoch : 070, Training: Loss - 0.0087, Accuracy - 99.8770%, Validation : Loss - 0.3858, Accuracy - 89.1213%, Time: 30.4702s\n",
            "Epoch-69 learning rate: 3.08309008592653e-07\n",
            "Epoch: 71/100\n",
            "Epoch : 071, Training: Loss - 0.0078, Accuracy - 99.8770%, Validation : Loss - 0.4057, Accuracy - 88.2845%, Time: 30.5019s\n",
            "Epoch-70 learning rate: 3.08309008592653e-07\n",
            "Epoch: 72/100\n",
            "Epoch : 072, Training: Loss - 0.0108, Accuracy - 99.6310%, Validation : Loss - 0.3907, Accuracy - 89.1213%, Time: 30.0084s\n",
            "Epoch-71 learning rate: 2.62062657303755e-07\n",
            "Epoch: 73/100\n",
            "Epoch : 073, Training: Loss - 0.0061, Accuracy - 99.8770%, Validation : Loss - 0.4018, Accuracy - 88.2845%, Time: 29.9607s\n",
            "Epoch-72 learning rate: 2.62062657303755e-07\n",
            "Epoch: 74/100\n",
            "Epoch : 074, Training: Loss - 0.0089, Accuracy - 99.8770%, Validation : Loss - 0.4017, Accuracy - 88.7029%, Time: 30.0800s\n",
            "Epoch-73 learning rate: 2.62062657303755e-07\n",
            "Epoch: 75/100\n",
            "Epoch : 075, Training: Loss - 0.0070, Accuracy - 99.7540%, Validation : Loss - 0.3900, Accuracy - 88.2845%, Time: 30.0398s\n",
            "Epoch-74 learning rate: 2.2275325870819177e-07\n",
            "Epoch: 76/100\n",
            "Epoch : 076, Training: Loss - 0.0056, Accuracy - 100.0000%, Validation : Loss - 0.3843, Accuracy - 89.1213%, Time: 30.0744s\n",
            "Epoch-75 learning rate: 2.2275325870819177e-07\n",
            "Epoch: 77/100\n",
            "Epoch : 077, Training: Loss - 0.0072, Accuracy - 99.7540%, Validation : Loss - 0.3903, Accuracy - 88.7029%, Time: 30.0204s\n",
            "Epoch-76 learning rate: 2.2275325870819177e-07\n",
            "Epoch: 78/100\n",
            "Epoch : 078, Training: Loss - 0.0077, Accuracy - 99.7540%, Validation : Loss - 0.3904, Accuracy - 88.7029%, Time: 29.9767s\n",
            "Epoch-77 learning rate: 1.89340269901963e-07\n",
            "Epoch: 79/100\n",
            "Epoch : 079, Training: Loss - 0.0040, Accuracy - 100.0000%, Validation : Loss - 0.3939, Accuracy - 88.7029%, Time: 30.1015s\n",
            "Epoch-78 learning rate: 1.89340269901963e-07\n",
            "Epoch: 80/100\n",
            "Epoch : 080, Training: Loss - 0.0088, Accuracy - 99.8770%, Validation : Loss - 0.3948, Accuracy - 88.7029%, Time: 29.9102s\n",
            "Epoch-79 learning rate: 1.89340269901963e-07\n",
            "Epoch: 81/100\n",
            "Epoch : 081, Training: Loss - 0.0049, Accuracy - 100.0000%, Validation : Loss - 0.3875, Accuracy - 89.1213%, Time: 30.0290s\n",
            "Epoch-80 learning rate: 1.6093922941666855e-07\n",
            "Epoch: 82/100\n",
            "Epoch : 082, Training: Loss - 0.0068, Accuracy - 99.8770%, Validation : Loss - 0.3946, Accuracy - 88.7029%, Time: 29.9720s\n",
            "Epoch-81 learning rate: 1.6093922941666855e-07\n",
            "Epoch: 83/100\n",
            "Epoch : 083, Training: Loss - 0.0073, Accuracy - 99.7540%, Validation : Loss - 0.3868, Accuracy - 88.7029%, Time: 29.9316s\n",
            "Epoch-82 learning rate: 1.6093922941666855e-07\n",
            "Epoch: 84/100\n",
            "Epoch : 084, Training: Loss - 0.0058, Accuracy - 100.0000%, Validation : Loss - 0.3790, Accuracy - 89.1213%, Time: 29.9008s\n",
            "Epoch-83 learning rate: 1.3679834500416826e-07\n",
            "Epoch: 85/100\n",
            "Epoch : 085, Training: Loss - 0.0091, Accuracy - 99.7540%, Validation : Loss - 0.3857, Accuracy - 88.7029%, Time: 29.9244s\n",
            "Epoch-84 learning rate: 1.3679834500416826e-07\n",
            "Epoch: 86/100\n",
            "Epoch : 086, Training: Loss - 0.0066, Accuracy - 99.8770%, Validation : Loss - 0.3863, Accuracy - 89.1213%, Time: 29.8828s\n",
            "Epoch-85 learning rate: 1.3679834500416826e-07\n",
            "Epoch: 87/100\n",
            "Epoch : 087, Training: Loss - 0.0065, Accuracy - 99.8770%, Validation : Loss - 0.3830, Accuracy - 88.7029%, Time: 29.9868s\n",
            "Epoch-86 learning rate: 1.1627859325354302e-07\n",
            "Epoch: 88/100\n",
            "Epoch : 088, Training: Loss - 0.0083, Accuracy - 99.8770%, Validation : Loss - 0.3955, Accuracy - 88.7029%, Time: 30.0213s\n",
            "Epoch-87 learning rate: 1.1627859325354302e-07\n",
            "Epoch: 89/100\n",
            "Epoch : 089, Training: Loss - 0.0066, Accuracy - 100.0000%, Validation : Loss - 0.3968, Accuracy - 88.2845%, Time: 29.8592s\n",
            "Epoch-88 learning rate: 1.1627859325354302e-07\n",
            "Epoch: 90/100\n",
            "Epoch : 090, Training: Loss - 0.0059, Accuracy - 99.8770%, Validation : Loss - 0.3879, Accuracy - 89.5397%, Time: 29.9713s\n",
            "Epoch-89 learning rate: 9.883680426551156e-08\n",
            "Epoch: 91/100\n",
            "Epoch : 091, Training: Loss - 0.0048, Accuracy - 100.0000%, Validation : Loss - 0.3871, Accuracy - 88.7029%, Time: 29.8699s\n",
            "Epoch-90 learning rate: 9.883680426551156e-08\n",
            "Epoch: 92/100\n",
            "Epoch : 092, Training: Loss - 0.0055, Accuracy - 100.0000%, Validation : Loss - 0.3850, Accuracy - 89.1213%, Time: 30.0310s\n",
            "Epoch-91 learning rate: 9.883680426551156e-08\n",
            "Epoch: 93/100\n",
            "Epoch : 093, Training: Loss - 0.0112, Accuracy - 99.6310%, Validation : Loss - 0.3924, Accuracy - 88.7029%, Time: 29.9064s\n",
            "Epoch-92 learning rate: 8.401128362568482e-08\n",
            "Epoch: 94/100\n",
            "Epoch : 094, Training: Loss - 0.0085, Accuracy - 99.7540%, Validation : Loss - 0.3911, Accuracy - 88.7029%, Time: 29.9612s\n",
            "Epoch-93 learning rate: 8.401128362568482e-08\n",
            "Epoch: 95/100\n",
            "Epoch : 095, Training: Loss - 0.0059, Accuracy - 99.8770%, Validation : Loss - 0.3887, Accuracy - 89.1213%, Time: 29.8987s\n",
            "Epoch-94 learning rate: 8.401128362568482e-08\n",
            "Epoch: 96/100\n",
            "Epoch : 096, Training: Loss - 0.0062, Accuracy - 99.8770%, Validation : Loss - 0.3814, Accuracy - 89.1213%, Time: 29.9424s\n",
            "Epoch-95 learning rate: 7.140959108183209e-08\n",
            "Epoch: 97/100\n",
            "Epoch : 097, Training: Loss - 0.0047, Accuracy - 100.0000%, Validation : Loss - 0.3950, Accuracy - 88.7029%, Time: 29.8941s\n",
            "Epoch-96 learning rate: 7.140959108183209e-08\n",
            "Epoch: 98/100\n",
            "Epoch : 098, Training: Loss - 0.0141, Accuracy - 99.3850%, Validation : Loss - 0.3914, Accuracy - 88.7029%, Time: 29.9832s\n",
            "Epoch-97 learning rate: 7.140959108183209e-08\n",
            "Epoch: 99/100\n",
            "Epoch : 099, Training: Loss - 0.0058, Accuracy - 100.0000%, Validation : Loss - 0.3838, Accuracy - 88.7029%, Time: 30.0648s\n",
            "Epoch-98 learning rate: 6.069815241955727e-08\n",
            "Epoch: 100/100\n",
            "Epoch : 100, Training: Loss - 0.0073, Accuracy - 99.8770%, Validation : Loss - 0.3829, Accuracy - 89.1213%, Time: 30.0559s\n",
            "Epoch-99 learning rate: 6.069815241955727e-08\n"
          ],
          "name": "stdout"
        }
      ]
    },
    {
      "cell_type": "code",
      "metadata": {
        "id": "HigTVpI3JjHv",
        "colab": {
          "base_uri": "https://localhost:8080/"
        },
        "outputId": "0fb65381-3c21-4b3b-a8cc-8d1f5461586b"
      },
      "source": [
        "print(\"Thoi gian training: \",end-start)"
      ],
      "execution_count": null,
      "outputs": [
        {
          "output_type": "stream",
          "text": [
            "Thoi gian training:  3165.4450392723083\n"
          ],
          "name": "stdout"
        }
      ]
    },
    {
      "cell_type": "code",
      "metadata": {
        "id": "j4Br59veWAkU",
        "colab": {
          "base_uri": "https://localhost:8080/"
        },
        "outputId": "eef15842-93a4-436f-9936-c5b9355dc289"
      },
      "source": [
        "#save model\n",
        "import time\n",
        "from datetime import date\n",
        "today = date.today()\n",
        "d1 = today.strftime(\"%d%m%Y\")\n",
        "print(\"d1 =\", d1)\n",
        "torch.save(trained_model, '/content/drive/My Drive/DetectBrainTumor/model/pytorch_data_old/model_vgg19_'+str(d1)+'.pt')"
      ],
      "execution_count": null,
      "outputs": [
        {
          "output_type": "stream",
          "text": [
            "d1 = 03072021\n"
          ],
          "name": "stdout"
        }
      ]
    },
    {
      "cell_type": "code",
      "metadata": {
        "id": "nVVgUij9WCGA"
      },
      "source": [
        "import pickle\n",
        "with open('/content/drive/My Drive/DetectBrainTumor/result/pytorch_data_old/history_vgg19.pickle', 'wb') as f:\n",
        "    pickle.dump(history, f)\n"
      ],
      "execution_count": null,
      "outputs": []
    },
    {
      "cell_type": "code",
      "metadata": {
        "id": "vHLlLgl5iqEp"
      },
      "source": [
        "loss_train = []\n",
        "loss_val = []\n",
        "acc_train = []\n",
        "acc_val = []\n",
        "\n",
        "for i in range(len(history)):\n",
        "  loss_train.append(history[i][0])\n",
        "  loss_val.append(history[i][1])\n",
        "  acc_train.append(history[i][2])\n",
        "  acc_val.append(history[i][3])"
      ],
      "execution_count": null,
      "outputs": []
    },
    {
      "cell_type": "code",
      "metadata": {
        "id": "pB0-ZXLqI5fZ",
        "colab": {
          "base_uri": "https://localhost:8080/"
        },
        "outputId": "70327c73-deab-4aba-8967-03a12d7600a7"
      },
      "source": [
        "# summarize history for accuracy\n",
        "\n",
        "fig,a =  plt.subplots(1, 2, figsize=(16,7))\n",
        "a[0].plot(acc_train)\n",
        "a[0].plot(acc_val)\n",
        "a[0].set_title('model accuracy')\n",
        "a[0].set_ylabel('accuracy')\n",
        "a[0].set_xlabel('epoch')\n",
        "a[0].legend(['train', 'val'], loc='upper left')\n",
        "# summarize history for loss for epoch\n",
        "# plt.figure(figsize=(10,10))\n",
        "a[1].plot(loss_train)\n",
        "a[1].plot(loss_val)\n",
        "a[1].set_title('model loss')\n",
        "a[1].set_ylabel('loss')\n",
        "a[1].set_xlabel('epoch')\n",
        "a[1].legend(['train', 'val'], loc='upper left')\n",
        "plt.show()"
      ],
      "execution_count": null,
      "outputs": [
        {
          "output_type": "display_data",
          "data": {
            "image/png": "[encoded data removed]",
            "text/plain": [
              "<Figure size 1152x504 with 2 Axes>"
            ]
          },
          "metadata": {
            "tags": [],
            "needs_background": "light"
          }
        }
      ]
    }
  ]
}