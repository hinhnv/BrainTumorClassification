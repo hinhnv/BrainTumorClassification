{
  "nbformat": 4,
  "nbformat_minor": 0,
  "metadata": {
    "accelerator": "GPU",
    "colab": {
      "name": "brain_tumor_vgg19_pytorch_adas.ipynb",
      "provenance": [],
      "collapsed_sections": []
    },
    "kernelspec": {
      "display_name": "Python 3",
      "name": "python3"
    },
    "language_info": {
      "name": "python"
    }
  },
  "cells": [
    {
      "cell_type": "code",
      "metadata": {
        "colab": {
          "base_uri": "https://localhost:8080/"
        },
        "id": "al_XWgRp3EzB",
        "outputId": "43c82138-e775-4d02-8645-88faec8328df"
      },
      "source": [
        "from google.colab import drive\n",
        "drive.mount('/content/drive')"
      ],
      "execution_count": 1,
      "outputs": [
        {
          "output_type": "stream",
          "text": [
            "Drive already mounted at /content/drive; to attempt to forcibly remount, call drive.mount(\"/content/drive\", force_remount=True).\n"
          ],
          "name": "stdout"
        }
      ]
    },
    {
      "cell_type": "code",
      "metadata": {
        "colab": {
          "base_uri": "https://localhost:8080/"
        },
        "id": "GPMeqQO6AP2D",
        "outputId": "6551b364-ee59-42cd-a3e2-647b6540bda3"
      },
      "source": [
        "%cd /content/drive/My Drive/Adas/src\n",
        "from adas import Adas"
      ],
      "execution_count": 2,
      "outputs": [
        {
          "output_type": "stream",
          "text": [
            "/content/drive/My Drive/Adas/src\n"
          ],
          "name": "stdout"
        }
      ]
    },
    {
      "cell_type": "code",
      "metadata": {
        "id": "jrQMAMh7ARMZ"
      },
      "source": [
        "import matplotlib.pyplot as plt\n",
        "from torchvision import datasets, models, transforms\n",
        "import helper\n",
        "import torch.nn as nn\n",
        "import torch.nn.functional as F\n",
        "import torch.optim as optim\n",
        "\n",
        "from torchvision import datasets\n",
        "from torchvision import transforms\n",
        "import matplotlib.pyplot as plt\n",
        "import torch, torchvision\n",
        "from torch.utils.data import DataLoader\n",
        "import time\n",
        "from torchsummary import summary\n",
        "import numpy as np\n",
        "import os\n",
        "\n",
        "from PIL import Image"
      ],
      "execution_count": 3,
      "outputs": []
    },
    {
      "cell_type": "code",
      "metadata": {
        "id": "B_IymEbSAWFo"
      },
      "source": [
        "IMAGE_SIZE = 256\n",
        "batch_size = 16\n",
        "\n",
        "DATADIR_TRAIN = \"/content/drive/My Drive/DetectBrainTumor/data_15062021/T2_Train/\"\n",
        "DATADIR_VAL = \"/content/drive/My Drive/DetectBrainTumor/data_15062021/T2_Val/\"\n"
      ],
      "execution_count": 4,
      "outputs": []
    },
    {
      "cell_type": "code",
      "metadata": {
        "id": "_dG28e-KICv6"
      },
      "source": [
        "# Applying Transforms to the Data\n",
        "train_transform = transforms.Compose([\n",
        "        transforms.RandomResizedCrop(size=256, scale=(0.8, 1.0)),\n",
        "        transforms.RandomRotation(degrees=15),\n",
        "        transforms.RandomHorizontalFlip(),\n",
        "        transforms.CenterCrop(size=224),\n",
        "        transforms.ToTensor(),\n",
        "        transforms.Normalize([0.485, 0.456, 0.406],\n",
        "                             [0.229, 0.224, 0.225])\n",
        "    ])\n",
        "\n",
        "test_transform = transforms.Compose([\n",
        "        transforms.Resize(size=256),\n",
        "        transforms.CenterCrop(size=224),\n",
        "        transforms.ToTensor(),\n",
        "        transforms.Normalize([0.485, 0.456, 0.406],\n",
        "                             [0.229, 0.224, 0.225])\n",
        "    ])"
      ],
      "execution_count": 5,
      "outputs": []
    },
    {
      "cell_type": "code",
      "metadata": {
        "id": "8JuOKAOLAi0X"
      },
      "source": [
        "train_data = datasets.ImageFolder(DATADIR_TRAIN, transform=train_transform)                                       \n",
        "val_data = datasets.ImageFolder(DATADIR_VAL, transform=test_transform)\n",
        "\n",
        "#Data Loading\n",
        "train_loader = torch.utils.data.DataLoader(train_data, batch_size=batch_size, shuffle=True)\n",
        "val_loader = torch.utils.data.DataLoader(val_data, batch_size=batch_size, shuffle=True)"
      ],
      "execution_count": 6,
      "outputs": []
    },
    {
      "cell_type": "code",
      "metadata": {
        "id": "aOZ-WlKeJUnb"
      },
      "source": [
        "classes = ('YES', 'NO')"
      ],
      "execution_count": 7,
      "outputs": []
    },
    {
      "cell_type": "code",
      "metadata": {
        "id": "kTT7H1l_NvJr"
      },
      "source": [
        "train_data_size = len(train_data)\n",
        "test_data_size = len(val_data)"
      ],
      "execution_count": 8,
      "outputs": []
    },
    {
      "cell_type": "code",
      "metadata": {
        "id": "JP2vIpVTXMPE"
      },
      "source": [
        "device = torch.device(\"cuda:0\" if torch.cuda.is_available() else \"cpu\")"
      ],
      "execution_count": 9,
      "outputs": []
    },
    {
      "cell_type": "code",
      "metadata": {
        "id": "CJAOJSrCDEdY"
      },
      "source": [
        "# Load pretrained VGG19 Model\n",
        "model_class = models.vgg19_bn(pretrained=True)"
      ],
      "execution_count": 10,
      "outputs": []
    },
    {
      "cell_type": "code",
      "metadata": {
        "id": "nE_07JDiOW8w"
      },
      "source": [
        "# Change the final layer of VGG19 Model for Transfer Learning\n",
        "# classifier_input = model_class.classifier\n",
        "\n",
        "model_class.classifier = nn.Sequential(\n",
        "    nn.Linear(25088, 4096),\n",
        "    nn.ReLU(),\n",
        "    nn.Dropout(0.3),\n",
        "    nn.Linear(4096, 128),\n",
        "    nn.Flatten(),\n",
        "    nn.Dropout(0.5),\n",
        "    nn.Linear(128, 2), # Since 2 possible outputs\n",
        "    nn.LogSoftmax(dim=1)\n",
        ")\n",
        "\n",
        "# Convert model to be used on GPU\n",
        "model_class = model_class.to(device)"
      ],
      "execution_count": 11,
      "outputs": []
    },
    {
      "cell_type": "code",
      "metadata": {
        "id": "Jx6C95OqFFT1"
      },
      "source": [
        "def train_and_validate(model, scheduler, loss_criterion, optimizer, epochs):\n",
        "    '''\n",
        "    Function to train and validate\n",
        "    Parameters\n",
        "        :param model: Model to train and validate\n",
        "        :param loss_criterion: Loss Criterion to minimize\n",
        "        :param optimizer: Optimizer for computing gradients\n",
        "        :param epochs: Number of epochs (default=25)\n",
        "  \n",
        "    Returns\n",
        "        model: Trained Model with best validation accuracy\n",
        "        history: (dict object): Having training loss, accuracy and validation loss, accuracy\n",
        "    '''\n",
        "    \n",
        "    start = time.time()\n",
        "    history = []\n",
        "    best_loss = 100000.0\n",
        "    best_epoch = None\n",
        "    flag = 0\n",
        "\n",
        "    for epoch in range(epochs):\n",
        "        epoch_start = time.time()\n",
        "        print(\"Epoch: {}/{}\".format(epoch+1, epochs))\n",
        "        \n",
        "        # Set to training mode\n",
        "        model.train()\n",
        "        \n",
        "        # Loss and Accuracy within the epoch\n",
        "        train_loss = 0.0\n",
        "        train_acc = 0.0\n",
        "        \n",
        "        valid_loss = 0.0\n",
        "        valid_acc = 0.0\n",
        "        \n",
        "        for i, (inputs, labels) in enumerate(train_loader):\n",
        "\n",
        "            inputs = inputs.to(device)\n",
        "            labels = labels.to(device)\n",
        "            \n",
        "            # Clean existing gradients\n",
        "            optimizer.zero_grad()\n",
        "            \n",
        "            # Forward pass - compute outputs on input data using the model\n",
        "            outputs = model(inputs)\n",
        "            \n",
        "            # Compute loss\n",
        "            loss = loss_criterion(outputs, labels)\n",
        "            \n",
        "            # Backpropagate the gradients\n",
        "            loss.backward()\n",
        "            \n",
        "            # Update the parameters\n",
        "            optimizer.step()\n",
        "            \n",
        "            \n",
        "            # Compute the total loss for the batch and add it to train_loss\n",
        "            train_loss += loss.item() * inputs.size(0)\n",
        "            \n",
        "            # Compute the accuracy\n",
        "            ret, predictions = torch.max(outputs.data, 1)\n",
        "            correct_counts = predictions.eq(labels.data.view_as(predictions))\n",
        "            \n",
        "            # Convert correct_counts to float and then compute the mean\n",
        "            acc = torch.mean(correct_counts.type(torch.FloatTensor))\n",
        "            \n",
        "            # Compute total accuracy in the whole batch and add to train_acc\n",
        "            train_acc += acc.item() * inputs.size(0)\n",
        "            \n",
        "            #print(\"Batch number: {:03d}, Training: Loss: {:.4f}, Accuracy: {:.4f}\".format(i, loss.item(), acc.item()))\n",
        "\n",
        "        \n",
        "        # Validation - No gradient tracking needed\n",
        "        with torch.no_grad():\n",
        "\n",
        "            # Set to evaluation mode\n",
        "            model.eval()\n",
        "\n",
        "            # Validation loop\n",
        "            for j, (inputs, labels) in enumerate(val_loader):\n",
        "                inputs = inputs.to(device)\n",
        "                labels = labels.to(device)\n",
        "\n",
        "                # Forward pass - compute outputs on input data using the model\n",
        "                outputs = model(inputs)\n",
        "\n",
        "                # Compute loss\n",
        "                loss = loss_criterion(outputs, labels)\n",
        "\n",
        "                # Compute the total loss for the batch and add it to valid_loss\n",
        "                valid_loss += loss.item() * inputs.size(0)\n",
        "\n",
        "                # Calculate validation accuracy\n",
        "                ret, predictions = torch.max(outputs.data, 1)\n",
        "                correct_counts = predictions.eq(labels.data.view_as(predictions))\n",
        "\n",
        "                # Convert correct_counts to float and then compute the mean\n",
        "                acc = torch.mean(correct_counts.type(torch.FloatTensor))\n",
        "\n",
        "                # Compute total accuracy in the whole batch and add to valid_acc\n",
        "                valid_acc += acc.item() * inputs.size(0)\n",
        "                # if not j%100:\n",
        "                #   print(\"Validation Batch number: {:03d}, Validation: Loss: {:.4f}, Accuracy: {:.4f}\".format(j, loss.item(), acc.item()))\n",
        "        if valid_loss < best_loss:\n",
        "            best_loss = valid_loss\n",
        "            best_epoch = epoch\n",
        "\n",
        "        # Find average training loss and training accuracy\n",
        "        avg_train_loss = train_loss/train_data_size \n",
        "        avg_train_acc = train_acc/train_data_size\n",
        "\n",
        "        # Find average training loss and training accuracy\n",
        "        avg_valid_loss = valid_loss/test_data_size \n",
        "        avg_valid_acc = valid_acc/test_data_size\n",
        "\n",
        "        history.append([avg_train_loss, avg_valid_loss, avg_train_acc, avg_valid_acc])\n",
        "                \n",
        "        epoch_end = time.time()\n",
        "    \n",
        "        print(\"Epoch : {:03d}, Training: Loss - {:.4f}, Accuracy - {:.4f}%, Validation : Loss - {:.4f}, Accuracy - {:.4f}%, Time: {:.4f}s\".format(epoch+1, avg_train_loss, avg_train_acc*100, avg_valid_loss, avg_valid_acc*100, epoch_end-epoch_start))\n",
        "\n",
        "        #reduce lr\n",
        "        \n",
        "        if avg_valid_acc*100 > 92:\n",
        "          flag = 1\n",
        "\n",
        "        if flag == 1:\n",
        "          scheduler.step(avg_valid_loss)\n",
        "        \n",
        "        print('Epoch-{0} learning rate: {1}'.format(epoch, optimizer.param_groups[0]['lr']))\n",
        "\n",
        "        # Save if the model has best accuracy till now\n",
        "        # torch.save(model, 'model_'+str(epoch)+'.pt')\n",
        "        # optimizer.epoch_step(epoch)       \n",
        "    return model, history, best_epoch"
      ],
      "execution_count": 12,
      "outputs": []
    },
    {
      "cell_type": "code",
      "metadata": {
        "id": "l9DyPd-dtyys",
        "colab": {
          "base_uri": "https://localhost:8080/"
        },
        "outputId": "26ac348b-40d4-42a6-f6d6-32ec2d6fae21"
      },
      "source": [
        "# Define Optimizer and Loss Function\n",
        "# loss_func = nn.NLLLoss()\n",
        "loss_func = nn.CrossEntropyLoss()\n",
        "optimizer = Adas(params=list(model_class.parameters()), lr=1e-2, beta = 0.95)"
      ],
      "execution_count": 13,
      "outputs": [
        {
          "output_type": "stream",
          "text": [
            "16\n"
          ],
          "name": "stdout"
        }
      ]
    },
    {
      "cell_type": "code",
      "metadata": {
        "id": "BR6dTBifOhoW",
        "colab": {
          "base_uri": "https://localhost:8080/"
        },
        "outputId": "381a43af-a5ec-4544-d053-21a4ce7d6254"
      },
      "source": [
        "num_epochs = 100\n",
        "\n",
        "start = time.time()\n",
        "\n",
        "# trained_model, history, best_epoch = train_and_validate(model_class, loss_func, optimizer, num_epochs)\n",
        "\n",
        "# scheduler = optim.lr_scheduler.MultiStepLR(optimizer, milestones=[20,35], gamma=0.1)\n",
        "# scheduler = optim.lr_scheduler.StepLR(optimizer, step_size=2, gamma=torch.exp(-0.1))\n",
        "\n",
        "# lambda1 = lambda epoch: torch.exp(-1) ** epoch\n",
        "# scheduler = torch.optim.lr_scheduler.LambdaLR(optimizer, lr_lambda=lambda1)\n",
        "\n",
        "scheduler = torch.optim.lr_scheduler.ReduceLROnPlateau(optimizer, mode='min', factor= 0.85, patience=1, threshold=0.0001, threshold_mode='abs')\n",
        "\n",
        "trained_model, history, best_epoch = train_and_validate(model_class, scheduler, loss_func, optimizer, num_epochs)\n",
        "\n",
        "end = time.time()\n",
        "# torch.save(history, 'history.pt')"
      ],
      "execution_count": 14,
      "outputs": [
        {
          "output_type": "stream",
          "text": [
            "Epoch: 1/100\n"
          ],
          "name": "stdout"
        },
        {
          "output_type": "stream",
          "text": [
            "/usr/local/lib/python3.7/dist-packages/torch/nn/functional.py:718: UserWarning: Named tensors and all their associated APIs are an experimental feature and subject to change. Please do not use them for anything important until they are released as stable. (Triggered internally at  /pytorch/c10/core/TensorImpl.h:1156.)\n",
            "  return torch.max_pool2d(input, kernel_size, stride, padding, dilation, ceil_mode)\n"
          ],
          "name": "stderr"
        },
        {
          "output_type": "stream",
          "text": [
            "Epoch : 001, Training: Loss - 0.6500, Accuracy - 62.7306%, Validation : Loss - 0.6433, Accuracy - 63.1799%, Time: 24.3968s\n",
            "Epoch-0 learning rate: 0.01\n",
            "Epoch: 2/100\n",
            "Epoch : 002, Training: Loss - 0.5005, Accuracy - 77.6138%, Validation : Loss - 0.5194, Accuracy - 71.9665%, Time: 24.4281s\n",
            "Epoch-1 learning rate: 0.01\n",
            "Epoch: 3/100\n",
            "Epoch : 003, Training: Loss - 0.2918, Accuracy - 88.4379%, Validation : Loss - 0.4855, Accuracy - 80.3347%, Time: 24.1611s\n",
            "Epoch-2 learning rate: 0.01\n",
            "Epoch: 4/100\n",
            "Epoch : 004, Training: Loss - 0.2015, Accuracy - 93.2349%, Validation : Loss - 0.3480, Accuracy - 84.5188%, Time: 24.2406s\n",
            "Epoch-3 learning rate: 0.01\n",
            "Epoch: 5/100\n",
            "Epoch : 005, Training: Loss - 0.1484, Accuracy - 94.4649%, Validation : Loss - 0.2958, Accuracy - 89.5397%, Time: 24.3877s\n",
            "Epoch-4 learning rate: 0.01\n",
            "Epoch: 6/100\n",
            "Epoch : 006, Training: Loss - 0.1145, Accuracy - 96.3100%, Validation : Loss - 0.3550, Accuracy - 86.1925%, Time: 24.4514s\n",
            "Epoch-5 learning rate: 0.01\n",
            "Epoch: 7/100\n",
            "Epoch : 007, Training: Loss - 0.0832, Accuracy - 96.9250%, Validation : Loss - 0.2739, Accuracy - 88.7029%, Time: 24.4626s\n",
            "Epoch-6 learning rate: 0.01\n",
            "Epoch: 8/100\n",
            "Epoch : 008, Training: Loss - 0.0987, Accuracy - 96.9250%, Validation : Loss - 0.2765, Accuracy - 89.5397%, Time: 24.4623s\n",
            "Epoch-7 learning rate: 0.01\n",
            "Epoch: 9/100\n",
            "Epoch : 009, Training: Loss - 0.0597, Accuracy - 97.9090%, Validation : Loss - 0.2784, Accuracy - 91.2134%, Time: 24.4492s\n",
            "Epoch-8 learning rate: 0.01\n",
            "Epoch: 10/100\n",
            "Epoch : 010, Training: Loss - 0.0662, Accuracy - 97.6630%, Validation : Loss - 0.3041, Accuracy - 89.9582%, Time: 24.5070s\n",
            "Epoch-9 learning rate: 0.01\n",
            "Epoch: 11/100\n",
            "Epoch : 011, Training: Loss - 0.0488, Accuracy - 98.2780%, Validation : Loss - 0.2971, Accuracy - 92.0502%, Time: 24.5329s\n",
            "Epoch-10 learning rate: 0.01\n",
            "Epoch: 12/100\n",
            "Epoch : 012, Training: Loss - 0.0385, Accuracy - 98.5240%, Validation : Loss - 0.2906, Accuracy - 89.9582%, Time: 24.4137s\n",
            "Epoch-11 learning rate: 0.01\n",
            "Epoch: 13/100\n",
            "Epoch : 013, Training: Loss - 0.0249, Accuracy - 99.1390%, Validation : Loss - 0.2835, Accuracy - 91.6318%, Time: 24.4078s\n",
            "Epoch-12 learning rate: 0.01\n",
            "Epoch: 14/100\n",
            "Epoch : 014, Training: Loss - 0.0334, Accuracy - 98.7700%, Validation : Loss - 0.3025, Accuracy - 92.0502%, Time: 24.4745s\n",
            "Epoch-13 learning rate: 0.01\n",
            "Epoch: 15/100\n",
            "Epoch : 015, Training: Loss - 0.0278, Accuracy - 99.1390%, Validation : Loss - 0.2893, Accuracy - 91.2134%, Time: 24.4563s\n",
            "Epoch-14 learning rate: 0.0085\n",
            "Epoch: 16/100\n",
            "Epoch : 016, Training: Loss - 0.0187, Accuracy - 99.1390%, Validation : Loss - 0.2873, Accuracy - 91.6318%, Time: 24.5033s\n",
            "Epoch-15 learning rate: 0.0085\n",
            "Epoch: 17/100\n",
            "Epoch : 017, Training: Loss - 0.0172, Accuracy - 99.2620%, Validation : Loss - 0.3232, Accuracy - 91.6318%, Time: 24.3544s\n",
            "Epoch-16 learning rate: 0.0072250000000000005\n",
            "Epoch: 18/100\n",
            "Epoch : 018, Training: Loss - 0.0280, Accuracy - 99.2620%, Validation : Loss - 0.3039, Accuracy - 92.0502%, Time: 24.4405s\n",
            "Epoch-17 learning rate: 0.0072250000000000005\n",
            "Epoch: 19/100\n",
            "Epoch : 019, Training: Loss - 0.0146, Accuracy - 99.6310%, Validation : Loss - 0.3408, Accuracy - 94.1423%, Time: 24.4705s\n",
            "Epoch-18 learning rate: 0.00614125\n",
            "Epoch: 20/100\n",
            "Epoch : 020, Training: Loss - 0.0113, Accuracy - 99.6310%, Validation : Loss - 0.3503, Accuracy - 92.4686%, Time: 24.5882s\n",
            "Epoch-19 learning rate: 0.00614125\n",
            "Epoch: 21/100\n",
            "Epoch : 021, Training: Loss - 0.0107, Accuracy - 99.6310%, Validation : Loss - 0.3193, Accuracy - 93.3054%, Time: 24.5878s\n",
            "Epoch-20 learning rate: 0.0052200625\n",
            "Epoch: 22/100\n",
            "Epoch : 022, Training: Loss - 0.0063, Accuracy - 99.8770%, Validation : Loss - 0.3765, Accuracy - 93.3054%, Time: 24.5987s\n",
            "Epoch-21 learning rate: 0.0052200625\n",
            "Epoch: 23/100\n",
            "Epoch : 023, Training: Loss - 0.0097, Accuracy - 99.6310%, Validation : Loss - 0.3473, Accuracy - 93.7238%, Time: 24.9918s\n",
            "Epoch-22 learning rate: 0.004437053125\n",
            "Epoch: 24/100\n",
            "Epoch : 024, Training: Loss - 0.0141, Accuracy - 99.7540%, Validation : Loss - 0.3558, Accuracy - 94.5607%, Time: 24.7641s\n",
            "Epoch-23 learning rate: 0.004437053125\n",
            "Epoch: 25/100\n",
            "Epoch : 025, Training: Loss - 0.0085, Accuracy - 99.8770%, Validation : Loss - 0.3342, Accuracy - 92.4686%, Time: 24.4945s\n",
            "Epoch-24 learning rate: 0.0037714951562499996\n",
            "Epoch: 26/100\n",
            "Epoch : 026, Training: Loss - 0.0253, Accuracy - 99.1390%, Validation : Loss - 0.3774, Accuracy - 91.2134%, Time: 24.4863s\n",
            "Epoch-25 learning rate: 0.0037714951562499996\n",
            "Epoch: 27/100\n",
            "Epoch : 027, Training: Loss - 0.0091, Accuracy - 99.6310%, Validation : Loss - 0.3847, Accuracy - 90.7950%, Time: 24.5123s\n",
            "Epoch-26 learning rate: 0.0032057708828124995\n",
            "Epoch: 28/100\n",
            "Epoch : 028, Training: Loss - 0.0209, Accuracy - 99.3850%, Validation : Loss - 0.3365, Accuracy - 90.3766%, Time: 24.5384s\n",
            "Epoch-27 learning rate: 0.0032057708828124995\n",
            "Epoch: 29/100\n",
            "Epoch : 029, Training: Loss - 0.0048, Accuracy - 100.0000%, Validation : Loss - 0.3477, Accuracy - 91.2134%, Time: 24.3837s\n",
            "Epoch-28 learning rate: 0.0027249052503906246\n",
            "Epoch: 30/100\n",
            "Epoch : 030, Training: Loss - 0.0077, Accuracy - 99.8770%, Validation : Loss - 0.3271, Accuracy - 91.2134%, Time: 24.3243s\n",
            "Epoch-29 learning rate: 0.0027249052503906246\n",
            "Epoch: 31/100\n",
            "Epoch : 031, Training: Loss - 0.0021, Accuracy - 100.0000%, Validation : Loss - 0.3490, Accuracy - 91.6318%, Time: 24.3741s\n",
            "Epoch-30 learning rate: 0.002316169462832031\n",
            "Epoch: 32/100\n",
            "Epoch : 032, Training: Loss - 0.0032, Accuracy - 99.8770%, Validation : Loss - 0.3679, Accuracy - 92.8870%, Time: 24.2794s\n",
            "Epoch-31 learning rate: 0.002316169462832031\n",
            "Epoch: 33/100\n",
            "Epoch : 033, Training: Loss - 0.0018, Accuracy - 100.0000%, Validation : Loss - 0.3704, Accuracy - 92.0502%, Time: 24.3579s\n",
            "Epoch-32 learning rate: 0.0019687440434072263\n",
            "Epoch: 34/100\n",
            "Epoch : 034, Training: Loss - 0.0018, Accuracy - 100.0000%, Validation : Loss - 0.3680, Accuracy - 92.4686%, Time: 24.3665s\n",
            "Epoch-33 learning rate: 0.0019687440434072263\n",
            "Epoch: 35/100\n",
            "Epoch : 035, Training: Loss - 0.0014, Accuracy - 100.0000%, Validation : Loss - 0.3787, Accuracy - 92.0502%, Time: 24.3472s\n",
            "Epoch-34 learning rate: 0.0016734324368961424\n",
            "Epoch: 36/100\n",
            "Epoch : 036, Training: Loss - 0.0066, Accuracy - 99.7540%, Validation : Loss - 0.3989, Accuracy - 91.2134%, Time: 24.3791s\n",
            "Epoch-35 learning rate: 0.0016734324368961424\n",
            "Epoch: 37/100\n",
            "Epoch : 037, Training: Loss - 0.0033, Accuracy - 99.8770%, Validation : Loss - 0.3901, Accuracy - 91.2134%, Time: 24.4889s\n",
            "Epoch-36 learning rate: 0.001422417571361721\n",
            "Epoch: 38/100\n",
            "Epoch : 038, Training: Loss - 0.0039, Accuracy - 100.0000%, Validation : Loss - 0.3452, Accuracy - 89.9582%, Time: 24.4434s\n",
            "Epoch-37 learning rate: 0.001422417571361721\n",
            "Epoch: 39/100\n",
            "Epoch : 039, Training: Loss - 0.0021, Accuracy - 100.0000%, Validation : Loss - 0.4002, Accuracy - 92.0502%, Time: 24.4620s\n",
            "Epoch-38 learning rate: 0.0012090549356574627\n",
            "Epoch: 40/100\n",
            "Epoch : 040, Training: Loss - 0.0294, Accuracy - 99.3850%, Validation : Loss - 0.2784, Accuracy - 93.7238%, Time: 24.3818s\n",
            "Epoch-39 learning rate: 0.0012090549356574627\n",
            "Epoch: 41/100\n",
            "Epoch : 041, Training: Loss - 0.0019, Accuracy - 100.0000%, Validation : Loss - 0.2816, Accuracy - 93.7238%, Time: 24.4373s\n",
            "Epoch-40 learning rate: 0.0012090549356574627\n",
            "Epoch: 42/100\n",
            "Epoch : 042, Training: Loss - 0.0116, Accuracy - 99.7540%, Validation : Loss - 0.3934, Accuracy - 92.4686%, Time: 24.4954s\n",
            "Epoch-41 learning rate: 0.0010276966953088433\n",
            "Epoch: 43/100\n",
            "Epoch : 043, Training: Loss - 0.0030, Accuracy - 99.8770%, Validation : Loss - 0.3346, Accuracy - 92.0502%, Time: 24.5035s\n",
            "Epoch-42 learning rate: 0.0010276966953088433\n",
            "Epoch: 44/100\n",
            "Epoch : 044, Training: Loss - 0.0057, Accuracy - 99.7540%, Validation : Loss - 0.4393, Accuracy - 91.6318%, Time: 24.4446s\n",
            "Epoch-43 learning rate: 0.0008735421910125168\n",
            "Epoch: 45/100\n",
            "Epoch : 045, Training: Loss - 0.0015, Accuracy - 100.0000%, Validation : Loss - 0.4517, Accuracy - 91.6318%, Time: 24.4917s\n",
            "Epoch-44 learning rate: 0.0008735421910125168\n",
            "Epoch: 46/100\n",
            "Epoch : 046, Training: Loss - 0.0015, Accuracy - 100.0000%, Validation : Loss - 0.4462, Accuracy - 92.8870%, Time: 24.4865s\n",
            "Epoch-45 learning rate: 0.0007425108623606393\n",
            "Epoch: 47/100\n",
            "Epoch : 047, Training: Loss - 0.0068, Accuracy - 99.7540%, Validation : Loss - 0.4614, Accuracy - 92.4686%, Time: 24.4789s\n",
            "Epoch-46 learning rate: 0.0007425108623606393\n",
            "Epoch: 48/100\n",
            "Epoch : 048, Training: Loss - 0.0008, Accuracy - 100.0000%, Validation : Loss - 0.4593, Accuracy - 92.0502%, Time: 24.5599s\n",
            "Epoch-47 learning rate: 0.0006311342330065434\n",
            "Epoch: 49/100\n",
            "Epoch : 049, Training: Loss - 0.0031, Accuracy - 99.8770%, Validation : Loss - 0.4713, Accuracy - 91.2134%, Time: 24.5657s\n",
            "Epoch-48 learning rate: 0.0006311342330065434\n",
            "Epoch: 50/100\n",
            "Epoch : 050, Training: Loss - 0.0030, Accuracy - 99.8770%, Validation : Loss - 0.4784, Accuracy - 91.2134%, Time: 24.5115s\n",
            "Epoch-49 learning rate: 0.0005364640980555619\n",
            "Epoch: 51/100\n",
            "Epoch : 051, Training: Loss - 0.0011, Accuracy - 100.0000%, Validation : Loss - 0.4571, Accuracy - 92.8870%, Time: 24.5178s\n",
            "Epoch-50 learning rate: 0.0005364640980555619\n",
            "Epoch: 52/100\n",
            "Epoch : 052, Training: Loss - 0.0103, Accuracy - 99.6310%, Validation : Loss - 0.4317, Accuracy - 92.4686%, Time: 24.5833s\n",
            "Epoch-51 learning rate: 0.00045599448334722757\n",
            "Epoch: 53/100\n",
            "Epoch : 053, Training: Loss - 0.0025, Accuracy - 100.0000%, Validation : Loss - 0.4266, Accuracy - 92.0502%, Time: 24.5953s\n",
            "Epoch-52 learning rate: 0.00045599448334722757\n",
            "Epoch: 54/100\n",
            "Epoch : 054, Training: Loss - 0.0038, Accuracy - 99.8770%, Validation : Loss - 0.4037, Accuracy - 92.0502%, Time: 24.5354s\n",
            "Epoch-53 learning rate: 0.0003875953108451434\n",
            "Epoch: 55/100\n",
            "Epoch : 055, Training: Loss - 0.0035, Accuracy - 100.0000%, Validation : Loss - 0.4229, Accuracy - 92.4686%, Time: 24.4996s\n",
            "Epoch-54 learning rate: 0.0003875953108451434\n",
            "Epoch: 56/100\n",
            "Epoch : 056, Training: Loss - 0.0005, Accuracy - 100.0000%, Validation : Loss - 0.4370, Accuracy - 92.8870%, Time: 24.5273s\n",
            "Epoch-55 learning rate: 0.0003294560142183719\n",
            "Epoch: 57/100\n",
            "Epoch : 057, Training: Loss - 0.0005, Accuracy - 100.0000%, Validation : Loss - 0.4513, Accuracy - 92.4686%, Time: 24.5434s\n",
            "Epoch-56 learning rate: 0.0003294560142183719\n",
            "Epoch: 58/100\n",
            "Epoch : 058, Training: Loss - 0.0037, Accuracy - 99.7540%, Validation : Loss - 0.3690, Accuracy - 92.4686%, Time: 24.5441s\n",
            "Epoch-57 learning rate: 0.00028003761208561615\n",
            "Epoch: 59/100\n",
            "Epoch : 059, Training: Loss - 0.0042, Accuracy - 99.8770%, Validation : Loss - 0.3893, Accuracy - 92.8870%, Time: 24.4354s\n",
            "Epoch-58 learning rate: 0.00028003761208561615\n",
            "Epoch: 60/100\n",
            "Epoch : 060, Training: Loss - 0.0020, Accuracy - 100.0000%, Validation : Loss - 0.3790, Accuracy - 92.8870%, Time: 24.4640s\n",
            "Epoch-59 learning rate: 0.00023803197027277373\n",
            "Epoch: 61/100\n",
            "Epoch : 061, Training: Loss - 0.0007, Accuracy - 100.0000%, Validation : Loss - 0.3921, Accuracy - 92.4686%, Time: 24.5823s\n",
            "Epoch-60 learning rate: 0.00023803197027277373\n",
            "Epoch: 62/100\n",
            "Epoch : 062, Training: Loss - 0.0035, Accuracy - 99.8770%, Validation : Loss - 0.4006, Accuracy - 93.7238%, Time: 24.5357s\n",
            "Epoch-61 learning rate: 0.00020232717473185767\n",
            "Epoch: 63/100\n",
            "Epoch : 063, Training: Loss - 0.0018, Accuracy - 99.8770%, Validation : Loss - 0.3841, Accuracy - 93.7238%, Time: 24.3666s\n",
            "Epoch-62 learning rate: 0.00020232717473185767\n",
            "Epoch: 64/100\n",
            "Epoch : 064, Training: Loss - 0.0019, Accuracy - 99.8770%, Validation : Loss - 0.4451, Accuracy - 91.6318%, Time: 24.3183s\n",
            "Epoch-63 learning rate: 0.00017197809852207902\n",
            "Epoch: 65/100\n",
            "Epoch : 065, Training: Loss - 0.0021, Accuracy - 99.8770%, Validation : Loss - 0.4019, Accuracy - 92.4686%, Time: 24.4059s\n",
            "Epoch-64 learning rate: 0.00017197809852207902\n",
            "Epoch: 66/100\n",
            "Epoch : 066, Training: Loss - 0.0003, Accuracy - 100.0000%, Validation : Loss - 0.4055, Accuracy - 92.8870%, Time: 24.4507s\n",
            "Epoch-65 learning rate: 0.00014618138374376715\n",
            "Epoch: 67/100\n",
            "Epoch : 067, Training: Loss - 0.0005, Accuracy - 100.0000%, Validation : Loss - 0.4179, Accuracy - 92.8870%, Time: 24.5650s\n",
            "Epoch-66 learning rate: 0.00014618138374376715\n",
            "Epoch: 68/100\n",
            "Epoch : 068, Training: Loss - 0.0004, Accuracy - 100.0000%, Validation : Loss - 0.4122, Accuracy - 92.4686%, Time: 24.5110s\n",
            "Epoch-67 learning rate: 0.00012425417618220207\n",
            "Epoch: 69/100\n",
            "Epoch : 069, Training: Loss - 0.0005, Accuracy - 100.0000%, Validation : Loss - 0.4146, Accuracy - 92.0502%, Time: 24.5798s\n",
            "Epoch-68 learning rate: 0.00012425417618220207\n",
            "Epoch: 70/100\n",
            "Epoch : 070, Training: Loss - 0.0003, Accuracy - 100.0000%, Validation : Loss - 0.4080, Accuracy - 92.8870%, Time: 24.5492s\n",
            "Epoch-69 learning rate: 0.00010561604975487176\n",
            "Epoch: 71/100\n",
            "Epoch : 071, Training: Loss - 0.0007, Accuracy - 100.0000%, Validation : Loss - 0.4281, Accuracy - 92.0502%, Time: 24.4960s\n",
            "Epoch-70 learning rate: 0.00010561604975487176\n",
            "Epoch: 72/100\n",
            "Epoch : 072, Training: Loss - 0.0013, Accuracy - 100.0000%, Validation : Loss - 0.4411, Accuracy - 92.8870%, Time: 24.5730s\n",
            "Epoch-71 learning rate: 8.9773642291641e-05\n",
            "Epoch: 73/100\n",
            "Epoch : 073, Training: Loss - 0.0005, Accuracy - 100.0000%, Validation : Loss - 0.4468, Accuracy - 92.8870%, Time: 24.5206s\n",
            "Epoch-72 learning rate: 8.9773642291641e-05\n",
            "Epoch: 74/100\n",
            "Epoch : 074, Training: Loss - 0.0003, Accuracy - 100.0000%, Validation : Loss - 0.4591, Accuracy - 92.4686%, Time: 24.5881s\n",
            "Epoch-73 learning rate: 7.630759594789485e-05\n",
            "Epoch: 75/100\n",
            "Epoch : 075, Training: Loss - 0.0002, Accuracy - 100.0000%, Validation : Loss - 0.4654, Accuracy - 92.0502%, Time: 24.4845s\n",
            "Epoch-74 learning rate: 7.630759594789485e-05\n",
            "Epoch: 76/100\n",
            "Epoch : 076, Training: Loss - 0.0051, Accuracy - 99.7540%, Validation : Loss - 0.4559, Accuracy - 91.6318%, Time: 24.4658s\n",
            "Epoch-75 learning rate: 6.486145655571062e-05\n",
            "Epoch: 77/100\n",
            "Epoch : 077, Training: Loss - 0.0022, Accuracy - 99.8770%, Validation : Loss - 0.4877, Accuracy - 92.4686%, Time: 24.4753s\n",
            "Epoch-76 learning rate: 6.486145655571062e-05\n",
            "Epoch: 78/100\n",
            "Epoch : 078, Training: Loss - 0.0010, Accuracy - 100.0000%, Validation : Loss - 0.4866, Accuracy - 90.3766%, Time: 24.5281s\n",
            "Epoch-77 learning rate: 5.5132238072354026e-05\n",
            "Epoch: 79/100\n",
            "Epoch : 079, Training: Loss - 0.0010, Accuracy - 100.0000%, Validation : Loss - 0.4670, Accuracy - 90.7950%, Time: 24.4551s\n",
            "Epoch-78 learning rate: 5.5132238072354026e-05\n",
            "Epoch: 80/100\n",
            "Epoch : 080, Training: Loss - 0.0007, Accuracy - 100.0000%, Validation : Loss - 0.5278, Accuracy - 89.9582%, Time: 24.4822s\n",
            "Epoch-79 learning rate: 4.686240236150092e-05\n",
            "Epoch: 81/100\n",
            "Epoch : 081, Training: Loss - 0.0014, Accuracy - 100.0000%, Validation : Loss - 0.4897, Accuracy - 90.3766%, Time: 24.5313s\n",
            "Epoch-80 learning rate: 4.686240236150092e-05\n",
            "Epoch: 82/100\n",
            "Epoch : 082, Training: Loss - 0.0005, Accuracy - 100.0000%, Validation : Loss - 0.4747, Accuracy - 90.7950%, Time: 24.5245s\n",
            "Epoch-81 learning rate: 3.983304200727578e-05\n",
            "Epoch: 83/100\n",
            "Epoch : 083, Training: Loss - 0.0007, Accuracy - 100.0000%, Validation : Loss - 0.4617, Accuracy - 91.6318%, Time: 24.5185s\n",
            "Epoch-82 learning rate: 3.983304200727578e-05\n",
            "Epoch: 84/100\n",
            "Epoch : 084, Training: Loss - 0.0004, Accuracy - 100.0000%, Validation : Loss - 0.4558, Accuracy - 92.0502%, Time: 24.5677s\n",
            "Epoch-83 learning rate: 3.385808570618441e-05\n",
            "Epoch: 85/100\n",
            "Epoch : 085, Training: Loss - 0.0003, Accuracy - 100.0000%, Validation : Loss - 0.4360, Accuracy - 91.6318%, Time: 24.4828s\n",
            "Epoch-84 learning rate: 3.385808570618441e-05\n",
            "Epoch: 86/100\n",
            "Epoch : 086, Training: Loss - 0.0005, Accuracy - 100.0000%, Validation : Loss - 0.4993, Accuracy - 91.6318%, Time: 24.5003s\n",
            "Epoch-85 learning rate: 2.877937285025675e-05\n",
            "Epoch: 87/100\n",
            "Epoch : 087, Training: Loss - 0.0002, Accuracy - 100.0000%, Validation : Loss - 0.5016, Accuracy - 91.2134%, Time: 24.5367s\n",
            "Epoch-86 learning rate: 2.877937285025675e-05\n",
            "Epoch: 88/100\n",
            "Epoch : 088, Training: Loss - 0.0002, Accuracy - 100.0000%, Validation : Loss - 0.4741, Accuracy - 90.7950%, Time: 24.4576s\n",
            "Epoch-87 learning rate: 2.4462466922718237e-05\n",
            "Epoch: 89/100\n",
            "Epoch : 089, Training: Loss - 0.0013, Accuracy - 100.0000%, Validation : Loss - 0.5440, Accuracy - 90.3766%, Time: 24.4556s\n",
            "Epoch-88 learning rate: 2.4462466922718237e-05\n",
            "Epoch: 90/100\n",
            "Epoch : 090, Training: Loss - 0.0012, Accuracy - 99.8770%, Validation : Loss - 0.4050, Accuracy - 92.0502%, Time: 24.5221s\n",
            "Epoch-89 learning rate: 2.07930968843105e-05\n",
            "Epoch: 91/100\n",
            "Epoch : 091, Training: Loss - 0.0005, Accuracy - 100.0000%, Validation : Loss - 0.4006, Accuracy - 92.0502%, Time: 24.4606s\n",
            "Epoch-90 learning rate: 2.07930968843105e-05\n",
            "Epoch: 92/100\n",
            "Epoch : 092, Training: Loss - 0.0002, Accuracy - 100.0000%, Validation : Loss - 0.3997, Accuracy - 92.0502%, Time: 24.4373s\n",
            "Epoch-91 learning rate: 1.7674132351663924e-05\n",
            "Epoch: 93/100\n",
            "Epoch : 093, Training: Loss - 0.0002, Accuracy - 100.0000%, Validation : Loss - 0.4043, Accuracy - 92.8870%, Time: 24.3394s\n",
            "Epoch-92 learning rate: 1.7674132351663924e-05\n",
            "Epoch: 94/100\n",
            "Epoch : 094, Training: Loss - 0.0002, Accuracy - 100.0000%, Validation : Loss - 0.4057, Accuracy - 92.4686%, Time: 24.3452s\n",
            "Epoch-93 learning rate: 1.5023012498914335e-05\n",
            "Epoch: 95/100\n",
            "Epoch : 095, Training: Loss - 0.0004, Accuracy - 100.0000%, Validation : Loss - 0.4654, Accuracy - 89.9582%, Time: 24.3636s\n",
            "Epoch-94 learning rate: 1.5023012498914335e-05\n",
            "Epoch: 96/100\n",
            "Epoch : 096, Training: Loss - 0.0003, Accuracy - 100.0000%, Validation : Loss - 0.4366, Accuracy - 92.4686%, Time: 24.4805s\n",
            "Epoch-95 learning rate: 1.2769560624077185e-05\n",
            "Epoch: 97/100\n",
            "Epoch : 097, Training: Loss - 0.0014, Accuracy - 99.8770%, Validation : Loss - 0.6679, Accuracy - 90.7950%, Time: 24.4366s\n",
            "Epoch-96 learning rate: 1.2769560624077185e-05\n",
            "Epoch: 98/100\n",
            "Epoch : 098, Training: Loss - 0.0003, Accuracy - 100.0000%, Validation : Loss - 0.4190, Accuracy - 92.0502%, Time: 24.4743s\n",
            "Epoch-97 learning rate: 1.0854126530465608e-05\n",
            "Epoch: 99/100\n",
            "Epoch : 099, Training: Loss - 0.0002, Accuracy - 100.0000%, Validation : Loss - 0.4620, Accuracy - 92.0502%, Time: 24.5300s\n",
            "Epoch-98 learning rate: 1.0854126530465608e-05\n",
            "Epoch: 100/100\n",
            "Epoch : 100, Training: Loss - 0.0008, Accuracy - 100.0000%, Validation : Loss - 0.4454, Accuracy - 92.0502%, Time: 24.5008s\n",
            "Epoch-99 learning rate: 9.226007550895767e-06\n"
          ],
          "name": "stdout"
        }
      ]
    },
    {
      "cell_type": "code",
      "metadata": {
        "id": "HigTVpI3JjHv",
        "colab": {
          "base_uri": "https://localhost:8080/"
        },
        "outputId": "7e543480-28fb-4146-f8dd-18f5296a35cf"
      },
      "source": [
        "print(\"Thoi gian training: \",end-start)"
      ],
      "execution_count": 15,
      "outputs": [
        {
          "output_type": "stream",
          "text": [
            "Thoi gian training:  2447.799943447113\n"
          ],
          "name": "stdout"
        }
      ]
    },
    {
      "cell_type": "code",
      "metadata": {
        "id": "j4Br59veWAkU",
        "colab": {
          "base_uri": "https://localhost:8080/"
        },
        "outputId": "21f13a8d-1647-4d13-afbd-a6285e5c43bc"
      },
      "source": [
        "#save model\n",
        "import time\n",
        "from datetime import date\n",
        "today = date.today()\n",
        "d1 = today.strftime(\"%d%m%Y\")\n",
        "print(\"d1 =\", d1)\n",
        "torch.save(trained_model, '/content/drive/My Drive/DetectBrainTumor/model/pytorch/model_adas_vgg19_'+str(d1)+'.pt')"
      ],
      "execution_count": 16,
      "outputs": [
        {
          "output_type": "stream",
          "text": [
            "d1 = 10072021\n"
          ],
          "name": "stdout"
        }
      ]
    },
    {
      "cell_type": "code",
      "metadata": {
        "id": "nVVgUij9WCGA"
      },
      "source": [
        "import pickle\n",
        "with open('/content/drive/My Drive/DetectBrainTumor/result/pytorch/history_adas_vgg19.pickle', 'wb') as f:\n",
        "    pickle.dump(history, f)\n"
      ],
      "execution_count": 17,
      "outputs": []
    },
    {
      "cell_type": "code",
      "metadata": {
        "id": "vHLlLgl5iqEp"
      },
      "source": [
        "loss_train = []\n",
        "loss_val = []\n",
        "acc_train = []\n",
        "acc_val = []\n",
        "\n",
        "for i in range(len(history)):\n",
        "  loss_train.append(history[i][0])\n",
        "  loss_val.append(history[i][1])\n",
        "  acc_train.append(history[i][2])\n",
        "  acc_val.append(history[i][3])"
      ],
      "execution_count": 18,
      "outputs": []
    },
    {
      "cell_type": "code",
      "metadata": {
        "colab": {
          "base_uri": "https://localhost:8080/"
        },
        "id": "D90LAiQisKFZ",
        "outputId": "a712bea6-abb1-47e9-a6ca-14ac62b5a080"
      },
      "source": [
        "max(acc_val)"
      ],
      "execution_count": 19,
      "outputs": [
        {
          "output_type": "execute_result",
          "data": {
            "text/plain": [
              "0.9456066945606695"
            ]
          },
          "metadata": {
            "tags": []
          },
          "execution_count": 19
        }
      ]
    },
    {
      "cell_type": "code",
      "metadata": {
        "id": "pB0-ZXLqI5fZ",
        "colab": {
          "base_uri": "https://localhost:8080/",
          "height": 457
        },
        "outputId": "0128c14f-28a6-4786-9ea0-580099f5f439"
      },
      "source": [
        "# summarize history for accuracy\n",
        "\n",
        "fig,a =  plt.subplots(1, 2, figsize=(16,7))\n",
        "a[0].plot(acc_train)\n",
        "a[0].plot(acc_val)\n",
        "a[0].set_title('model accuracy')\n",
        "a[0].set_ylabel('accuracy')\n",
        "a[0].set_xlabel('epoch')\n",
        "a[0].legend(['train', 'val'], loc='upper left')\n",
        "# summarize history for loss for epoch\n",
        "# plt.figure(figsize=(10,10))\n",
        "a[1].plot(loss_train)\n",
        "a[1].plot(loss_val)\n",
        "a[1].set_title('model loss')\n",
        "a[1].set_ylabel('loss')\n",
        "a[1].set_xlabel('epoch')\n",
        "a[1].legend(['train', 'val'], loc='upper left')\n",
        "plt.show()"
      ],
      "execution_count": 20,
      "outputs": [
        {
          "output_type": "display_data",
          "data": {
            "image/png": "[encoded data removed]",
            "text/plain": [
              "<Figure size 1152x504 with 2 Axes>"
            ]
          },
          "metadata": {
            "tags": [],
            "needs_background": "light"
          }
        }
      ]
    }
  ]
}