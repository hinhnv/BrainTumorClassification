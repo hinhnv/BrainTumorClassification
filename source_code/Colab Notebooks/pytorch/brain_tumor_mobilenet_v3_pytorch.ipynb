{
  "nbformat": 4,
  "nbformat_minor": 0,
  "metadata": {
    "accelerator": "GPU",
    "colab": {
      "name": "brain_tumor_mobilenet_v3_pytorch.ipynb",
      "provenance": [],
      "collapsed_sections": []
    },
    "kernelspec": {
      "display_name": "Python 3",
      "name": "python3"
    },
    "language_info": {
      "name": "python"
    },
    "widgets": {
      "application/vnd.jupyter.widget-state+json": {
        "bc3e435708224b8c804b388ff3f1b308": {
          "model_module": "@jupyter-widgets/controls",
          "model_name": "HBoxModel",
          "state": {
            "_view_name": "HBoxView",
            "_dom_classes": [],
            "_model_name": "HBoxModel",
            "_view_module": "@jupyter-widgets/controls",
            "_model_module_version": "1.5.0",
            "_view_count": null,
            "_view_module_version": "1.5.0",
            "box_style": "",
            "layout": "IPY_MODEL_b7b3257d489d449e84c35f1dcaf1fab9",
            "_model_module": "@jupyter-widgets/controls",
            "children": [
              "IPY_MODEL_5fd12cc9798a44ea8f2fed457c38fd66",
              "IPY_MODEL_39d5816932454980a2192a60d07f9af7"
            ]
          }
        },
        "b7b3257d489d449e84c35f1dcaf1fab9": {
          "model_module": "@jupyter-widgets/base",
          "model_name": "LayoutModel",
          "state": {
            "_view_name": "LayoutView",
            "grid_template_rows": null,
            "right": null,
            "justify_content": null,
            "_view_module": "@jupyter-widgets/base",
            "overflow": null,
            "_model_module_version": "1.2.0",
            "_view_count": null,
            "flex_flow": null,
            "width": null,
            "min_width": null,
            "border": null,
            "align_items": null,
            "bottom": null,
            "_model_module": "@jupyter-widgets/base",
            "top": null,
            "grid_column": null,
            "overflow_y": null,
            "overflow_x": null,
            "grid_auto_flow": null,
            "grid_area": null,
            "grid_template_columns": null,
            "flex": null,
            "_model_name": "LayoutModel",
            "justify_items": null,
            "grid_row": null,
            "max_height": null,
            "align_content": null,
            "visibility": null,
            "align_self": null,
            "height": null,
            "min_height": null,
            "padding": null,
            "grid_auto_rows": null,
            "grid_gap": null,
            "max_width": null,
            "order": null,
            "_view_module_version": "1.2.0",
            "grid_template_areas": null,
            "object_position": null,
            "object_fit": null,
            "grid_auto_columns": null,
            "margin": null,
            "display": null,
            "left": null
          }
        },
        "5fd12cc9798a44ea8f2fed457c38fd66": {
          "model_module": "@jupyter-widgets/controls",
          "model_name": "FloatProgressModel",
          "state": {
            "_view_name": "ProgressView",
            "style": "IPY_MODEL_434aae788b6741948c7476c04ece470c",
            "_dom_classes": [],
            "description": "100%",
            "_model_name": "FloatProgressModel",
            "bar_style": "success",
            "max": 14212972,
            "_view_module": "@jupyter-widgets/controls",
            "_model_module_version": "1.5.0",
            "value": 14212972,
            "_view_count": null,
            "_view_module_version": "1.5.0",
            "orientation": "horizontal",
            "min": 0,
            "description_tooltip": null,
            "_model_module": "@jupyter-widgets/controls",
            "layout": "IPY_MODEL_41874a4349b0471b8a1d8e9dc132b648"
          }
        },
        "39d5816932454980a2192a60d07f9af7": {
          "model_module": "@jupyter-widgets/controls",
          "model_name": "HTMLModel",
          "state": {
            "_view_name": "HTMLView",
            "style": "IPY_MODEL_a45dab04865f4881b241ddec98b4fc27",
            "_dom_classes": [],
            "description": "",
            "_model_name": "HTMLModel",
            "placeholder": "​",
            "_view_module": "@jupyter-widgets/controls",
            "_model_module_version": "1.5.0",
            "value": " 13.6M/13.6M [00:00&lt;00:00, 49.6MB/s]",
            "_view_count": null,
            "_view_module_version": "1.5.0",
            "description_tooltip": null,
            "_model_module": "@jupyter-widgets/controls",
            "layout": "IPY_MODEL_c7ca2e6db5a54a8d88fceb2617fa56f7"
          }
        },
        "434aae788b6741948c7476c04ece470c": {
          "model_module": "@jupyter-widgets/controls",
          "model_name": "ProgressStyleModel",
          "state": {
            "_view_name": "StyleView",
            "_model_name": "ProgressStyleModel",
            "description_width": "initial",
            "_view_module": "@jupyter-widgets/base",
            "_model_module_version": "1.5.0",
            "_view_count": null,
            "_view_module_version": "1.2.0",
            "bar_color": null,
            "_model_module": "@jupyter-widgets/controls"
          }
        },
        "41874a4349b0471b8a1d8e9dc132b648": {
          "model_module": "@jupyter-widgets/base",
          "model_name": "LayoutModel",
          "state": {
            "_view_name": "LayoutView",
            "grid_template_rows": null,
            "right": null,
            "justify_content": null,
            "_view_module": "@jupyter-widgets/base",
            "overflow": null,
            "_model_module_version": "1.2.0",
            "_view_count": null,
            "flex_flow": null,
            "width": null,
            "min_width": null,
            "border": null,
            "align_items": null,
            "bottom": null,
            "_model_module": "@jupyter-widgets/base",
            "top": null,
            "grid_column": null,
            "overflow_y": null,
            "overflow_x": null,
            "grid_auto_flow": null,
            "grid_area": null,
            "grid_template_columns": null,
            "flex": null,
            "_model_name": "LayoutModel",
            "justify_items": null,
            "grid_row": null,
            "max_height": null,
            "align_content": null,
            "visibility": null,
            "align_self": null,
            "height": null,
            "min_height": null,
            "padding": null,
            "grid_auto_rows": null,
            "grid_gap": null,
            "max_width": null,
            "order": null,
            "_view_module_version": "1.2.0",
            "grid_template_areas": null,
            "object_position": null,
            "object_fit": null,
            "grid_auto_columns": null,
            "margin": null,
            "display": null,
            "left": null
          }
        },
        "a45dab04865f4881b241ddec98b4fc27": {
          "model_module": "@jupyter-widgets/controls",
          "model_name": "DescriptionStyleModel",
          "state": {
            "_view_name": "StyleView",
            "_model_name": "DescriptionStyleModel",
            "description_width": "",
            "_view_module": "@jupyter-widgets/base",
            "_model_module_version": "1.5.0",
            "_view_count": null,
            "_view_module_version": "1.2.0",
            "_model_module": "@jupyter-widgets/controls"
          }
        },
        "c7ca2e6db5a54a8d88fceb2617fa56f7": {
          "model_module": "@jupyter-widgets/base",
          "model_name": "LayoutModel",
          "state": {
            "_view_name": "LayoutView",
            "grid_template_rows": null,
            "right": null,
            "justify_content": null,
            "_view_module": "@jupyter-widgets/base",
            "overflow": null,
            "_model_module_version": "1.2.0",
            "_view_count": null,
            "flex_flow": null,
            "width": null,
            "min_width": null,
            "border": null,
            "align_items": null,
            "bottom": null,
            "_model_module": "@jupyter-widgets/base",
            "top": null,
            "grid_column": null,
            "overflow_y": null,
            "overflow_x": null,
            "grid_auto_flow": null,
            "grid_area": null,
            "grid_template_columns": null,
            "flex": null,
            "_model_name": "LayoutModel",
            "justify_items": null,
            "grid_row": null,
            "max_height": null,
            "align_content": null,
            "visibility": null,
            "align_self": null,
            "height": null,
            "min_height": null,
            "padding": null,
            "grid_auto_rows": null,
            "grid_gap": null,
            "max_width": null,
            "order": null,
            "_view_module_version": "1.2.0",
            "grid_template_areas": null,
            "object_position": null,
            "object_fit": null,
            "grid_auto_columns": null,
            "margin": null,
            "display": null,
            "left": null
          }
        }
      }
    }
  },
  "cells": [
    {
      "cell_type": "code",
      "metadata": {
        "colab": {
          "base_uri": "https://localhost:8080/"
        },
        "id": "al_XWgRp3EzB",
        "outputId": "592a7c36-706e-4938-b605-dd7a22fd55b5"
      },
      "source": [
        "from google.colab import drive\n",
        "drive.mount('/content/drive')"
      ],
      "execution_count": null,
      "outputs": [
        {
          "output_type": "stream",
          "text": [
            "Mounted at /content/drive\n"
          ],
          "name": "stdout"
        }
      ]
    },
    {
      "cell_type": "code",
      "metadata": {
        "colab": {
          "base_uri": "https://localhost:8080/"
        },
        "id": "GPMeqQO6AP2D",
        "outputId": "e8af78fd-c0c5-4d4a-d818-d6035b821833"
      },
      "source": [
        "%cd /content/drive/My Drive/Adas/src\n",
        "from adas import Adas"
      ],
      "execution_count": null,
      "outputs": [
        {
          "output_type": "stream",
          "text": [
            "/content/drive/My Drive/Adas/src\n"
          ],
          "name": "stdout"
        }
      ]
    },
    {
      "cell_type": "code",
      "metadata": {
        "id": "jrQMAMh7ARMZ"
      },
      "source": [
        "import matplotlib.pyplot as plt\n",
        "from torchvision import datasets, models, transforms\n",
        "import helper\n",
        "import torch.nn as nn\n",
        "import torch.nn.functional as F\n",
        "import torch.optim as optim\n",
        "\n",
        "from torchvision import datasets\n",
        "from torchvision import transforms\n",
        "import matplotlib.pyplot as plt\n",
        "import torch, torchvision\n",
        "from torch.utils.data import DataLoader\n",
        "import time\n",
        "from torchsummary import summary\n",
        "import numpy as np\n",
        "import os\n",
        "\n",
        "from PIL import Image"
      ],
      "execution_count": null,
      "outputs": []
    },
    {
      "cell_type": "code",
      "metadata": {
        "id": "B_IymEbSAWFo"
      },
      "source": [
        "IMAGE_SIZE = 256\n",
        "batch_size = 16\n",
        "\n",
        "DATADIR_TRAIN = \"/content/drive/My Drive/DetectBrainTumor/data_15062021/T2_Train/\"\n",
        "DATADIR_VAL = \"/content/drive/My Drive/DetectBrainTumor/data_15062021/T2_Val/\""
      ],
      "execution_count": null,
      "outputs": []
    },
    {
      "cell_type": "code",
      "metadata": {
        "id": "_dG28e-KICv6"
      },
      "source": [
        "# Applying Transforms to the Data\n",
        "train_transform = transforms.Compose([\n",
        "        transforms.RandomResizedCrop(size=256, scale=(0.8, 1.0)),\n",
        "        transforms.RandomRotation(degrees=15),\n",
        "        transforms.RandomHorizontalFlip(),\n",
        "        transforms.CenterCrop(size=224),\n",
        "        transforms.ToTensor(),\n",
        "        transforms.Normalize([0.485, 0.456, 0.406],\n",
        "                             [0.229, 0.224, 0.225])\n",
        "    ])\n",
        "\n",
        "test_transform = transforms.Compose([\n",
        "        transforms.Resize(size=256),\n",
        "        transforms.CenterCrop(size=224),\n",
        "        transforms.ToTensor(),\n",
        "        transforms.Normalize([0.485, 0.456, 0.406],\n",
        "                             [0.229, 0.224, 0.225])\n",
        "    ])"
      ],
      "execution_count": null,
      "outputs": []
    },
    {
      "cell_type": "code",
      "metadata": {
        "id": "8JuOKAOLAi0X"
      },
      "source": [
        "train_data = datasets.ImageFolder(DATADIR_TRAIN, transform=train_transform)                                       \n",
        "val_data = datasets.ImageFolder(DATADIR_VAL, transform=test_transform)\n",
        "\n",
        "#Data Loading\n",
        "train_loader = torch.utils.data.DataLoader(train_data, batch_size=batch_size, shuffle=True)\n",
        "val_loader = torch.utils.data.DataLoader(val_data, batch_size=batch_size, shuffle=True)"
      ],
      "execution_count": null,
      "outputs": []
    },
    {
      "cell_type": "code",
      "metadata": {
        "id": "aOZ-WlKeJUnb"
      },
      "source": [
        "classes = ('YES', 'NO')"
      ],
      "execution_count": null,
      "outputs": []
    },
    {
      "cell_type": "code",
      "metadata": {
        "id": "kTT7H1l_NvJr"
      },
      "source": [
        "train_data_size = len(train_data)\n",
        "test_data_size = len(val_data)"
      ],
      "execution_count": null,
      "outputs": []
    },
    {
      "cell_type": "code",
      "metadata": {
        "id": "PmgAbQbVJbqn"
      },
      "source": [
        "# import matplotlib.pyplot as plt\n",
        "# import numpy as np\n",
        "\n",
        "# # functions to show an image\n",
        "\n",
        "\n",
        "# def imshow(img):\n",
        "#     img = img / 2 + 0.5     # unnormalize\n",
        "#     npimg = img.numpy()\n",
        "#     plt.imshow(np.transpose(npimg, (1, 2, 0)))\n",
        "#     plt.show()\n",
        "\n",
        "\n",
        "# # get some random training images\n",
        "# dataiter = iter(train_loader)\n",
        "# images, labels = dataiter.next()\n",
        "\n",
        "# # show images\n",
        "# imshow(torchvision.utils.make_grid(images))\n",
        "# # print labels\n",
        "# print(' '.join('%5s' % classes[labels[j]] for j in range(2)))"
      ],
      "execution_count": null,
      "outputs": []
    },
    {
      "cell_type": "code",
      "metadata": {
        "id": "JP2vIpVTXMPE"
      },
      "source": [
        "device = torch.device(\"cuda:0\" if torch.cuda.is_available() else \"cpu\")"
      ],
      "execution_count": null,
      "outputs": []
    },
    {
      "cell_type": "code",
      "metadata": {
        "id": "CJAOJSrCDEdY",
        "colab": {
          "base_uri": "https://localhost:8080/",
          "height": 84,
          "referenced_widgets": [
            "bc3e435708224b8c804b388ff3f1b308",
            "b7b3257d489d449e84c35f1dcaf1fab9",
            "5fd12cc9798a44ea8f2fed457c38fd66",
            "39d5816932454980a2192a60d07f9af7",
            "434aae788b6741948c7476c04ece470c",
            "41874a4349b0471b8a1d8e9dc132b648",
            "a45dab04865f4881b241ddec98b4fc27",
            "c7ca2e6db5a54a8d88fceb2617fa56f7"
          ]
        },
        "outputId": "b13fcfda-8e60-4680-d2c1-66421aa3cee7"
      },
      "source": [
        "# Load pretrained ResNet50 Model\n",
        "model_class = models.mobilenet_v2(pretrained=True)"
      ],
      "execution_count": null,
      "outputs": [
        {
          "output_type": "stream",
          "text": [
            "Downloading: \"https://download.pytorch.org/models/mobilenet_v2-b0353104.pth\" to /root/.cache/torch/hub/checkpoints/mobilenet_v2-b0353104.pth\n"
          ],
          "name": "stderr"
        },
        {
          "output_type": "display_data",
          "data": {
            "application/vnd.jupyter.widget-view+json": {
              "model_id": "bc3e435708224b8c804b388ff3f1b308",
              "version_minor": 0,
              "version_major": 2
            },
            "text/plain": [
              "HBox(children=(FloatProgress(value=0.0, max=14212972.0), HTML(value='')))"
            ]
          },
          "metadata": {
            "tags": []
          }
        },
        {
          "output_type": "stream",
          "text": [
            "\n"
          ],
          "name": "stdout"
        }
      ]
    },
    {
      "cell_type": "code",
      "metadata": {
        "id": "nE_07JDiOW8w"
      },
      "source": [
        "# Change the final layer of ResNet50 Model for Transfer Learning\n",
        "# inputs = model_class._classifier.in_features\n",
        "\n",
        "model_class._classifier = nn.Sequential(\n",
        "    nn.Linear(1280, 128),\n",
        "    nn.ReLU(),\n",
        "    nn.Dropout(0.3),\n",
        "    nn.Flatten(),\n",
        "    nn.Dropout(0.5),\n",
        "    nn.Linear(128, 2), # Since 2 possible outputs\n",
        "    nn.LogSoftmax(dim=1) # For using NLLLoss()\n",
        ")\n",
        "\n",
        "# Convert model to be used on GPU\n",
        "model_class = model_class.to(device)"
      ],
      "execution_count": null,
      "outputs": []
    },
    {
      "cell_type": "code",
      "metadata": {
        "id": "921-fqC4Ocep"
      },
      "source": [
        "def train_and_validate(model, scheduler, loss_criterion, optimizer, epochs):\n",
        "    '''\n",
        "    Function to train and validate\n",
        "    Parameters\n",
        "        :param model: Model to train and validate\n",
        "        :param loss_criterion: Loss Criterion to minimize\n",
        "        :param optimizer: Optimizer for computing gradients\n",
        "        :param epochs: Number of epochs (default=25)\n",
        "  \n",
        "    Returns\n",
        "        model: Trained Model with best validation accuracy\n",
        "        history: (dict object): Having training loss, accuracy and validation loss, accuracy\n",
        "    '''\n",
        "    \n",
        "    start = time.time()\n",
        "    history = []\n",
        "    best_loss = 100000.0\n",
        "    best_epoch = None\n",
        "    flag = 0\n",
        "\n",
        "    for epoch in range(epochs):\n",
        "        epoch_start = time.time()\n",
        "        print(\"Epoch: {}/{}\".format(epoch+1, epochs))\n",
        "        \n",
        "        # Set to training mode\n",
        "        model.train()\n",
        "        \n",
        "        # Loss and Accuracy within the epoch\n",
        "        train_loss = 0.0\n",
        "        train_acc = 0.0\n",
        "        \n",
        "        valid_loss = 0.0\n",
        "        valid_acc = 0.0\n",
        "        \n",
        "        for i, (inputs, labels) in enumerate(train_loader):\n",
        "\n",
        "            inputs = inputs.to(device)\n",
        "            labels = labels.to(device)\n",
        "            \n",
        "            # Clean existing gradients\n",
        "            optimizer.zero_grad()\n",
        "            \n",
        "            # Forward pass - compute outputs on input data using the model\n",
        "            outputs = model(inputs)\n",
        "            \n",
        "            # Compute loss\n",
        "            loss = loss_criterion(outputs, labels)\n",
        "            \n",
        "            # Backpropagate the gradients\n",
        "            loss.backward()\n",
        "            \n",
        "            # Update the parameters\n",
        "            optimizer.step()\n",
        "            \n",
        "            \n",
        "            # Compute the total loss for the batch and add it to train_loss\n",
        "            train_loss += loss.item() * inputs.size(0)\n",
        "            \n",
        "            # Compute the accuracy\n",
        "            ret, predictions = torch.max(outputs.data, 1)\n",
        "            correct_counts = predictions.eq(labels.data.view_as(predictions))\n",
        "            \n",
        "            # Convert correct_counts to float and then compute the mean\n",
        "            acc = torch.mean(correct_counts.type(torch.FloatTensor))\n",
        "            \n",
        "            # Compute total accuracy in the whole batch and add to train_acc\n",
        "            train_acc += acc.item() * inputs.size(0)\n",
        "            \n",
        "            #print(\"Batch number: {:03d}, Training: Loss: {:.4f}, Accuracy: {:.4f}\".format(i, loss.item(), acc.item()))\n",
        "\n",
        "        \n",
        "        # Validation - No gradient tracking needed\n",
        "        with torch.no_grad():\n",
        "\n",
        "            # Set to evaluation mode\n",
        "            model.eval()\n",
        "\n",
        "            # Validation loop\n",
        "            for j, (inputs, labels) in enumerate(val_loader):\n",
        "                inputs = inputs.to(device)\n",
        "                labels = labels.to(device)\n",
        "\n",
        "                # Forward pass - compute outputs on input data using the model\n",
        "                outputs = model(inputs)\n",
        "\n",
        "                # Compute loss\n",
        "                loss = loss_criterion(outputs, labels)\n",
        "\n",
        "                # Compute the total loss for the batch and add it to valid_loss\n",
        "                valid_loss += loss.item() * inputs.size(0)\n",
        "\n",
        "                # Calculate validation accuracy\n",
        "                ret, predictions = torch.max(outputs.data, 1)\n",
        "                correct_counts = predictions.eq(labels.data.view_as(predictions))\n",
        "\n",
        "                # Convert correct_counts to float and then compute the mean\n",
        "                acc = torch.mean(correct_counts.type(torch.FloatTensor))\n",
        "\n",
        "                # Compute total accuracy in the whole batch and add to valid_acc\n",
        "                valid_acc += acc.item() * inputs.size(0)\n",
        "                # if not j%100:\n",
        "                #   print(\"Validation Batch number: {:03d}, Validation: Loss: {:.4f}, Accuracy: {:.4f}\".format(j, loss.item(), acc.item()))\n",
        "        if valid_loss < best_loss:\n",
        "            best_loss = valid_loss\n",
        "            best_epoch = epoch\n",
        "\n",
        "        # Find average training loss and training accuracy\n",
        "        avg_train_loss = train_loss/train_data_size \n",
        "        avg_train_acc = train_acc/train_data_size\n",
        "\n",
        "        # Find average training loss and training accuracy\n",
        "        avg_valid_loss = valid_loss/test_data_size \n",
        "        avg_valid_acc = valid_acc/test_data_size\n",
        "\n",
        "        history.append([avg_train_loss, avg_valid_loss, avg_train_acc, avg_valid_acc])\n",
        "                \n",
        "        epoch_end = time.time()\n",
        "    \n",
        "        print(\"Epoch : {:03d}, Training: Loss - {:.4f}, Accuracy - {:.4f}%, Validation : Loss - {:.4f}, Accuracy - {:.4f}%, Time: {:.4f}s\".format(epoch+1, avg_train_loss, avg_train_acc*100, avg_valid_loss, avg_valid_acc*100, epoch_end-epoch_start))\n",
        "\n",
        "        #reduce lr\n",
        "        \n",
        "        if avg_valid_acc*100 > 88:\n",
        "          flag = 1\n",
        "\n",
        "        if flag == 1:\n",
        "          scheduler.step(avg_valid_loss)\n",
        "        \n",
        "        print('Epoch-{0} learning rate: {1}'.format(epoch, optimizer.param_groups[0]['lr']))\n",
        "\n",
        "        # Save if the model has best accuracy till now\n",
        "        # torch.save(model, 'model_'+str(epoch)+'.pt')\n",
        "        # optimizer.epoch_step(epoch)       \n",
        "    return model, history, best_epoch"
      ],
      "execution_count": null,
      "outputs": []
    },
    {
      "cell_type": "code",
      "metadata": {
        "id": "Jx6C95OqFFT1"
      },
      "source": [
        "# Define Optimizer and Loss Function\n",
        "# loss_func = nn.NLLLoss()\n",
        "loss_func = nn.CrossEntropyLoss()\n",
        "optimizer = optim.Adam(params=list(model_class.parameters()), lr=2e-5)"
      ],
      "execution_count": null,
      "outputs": []
    },
    {
      "cell_type": "code",
      "metadata": {
        "colab": {
          "base_uri": "https://localhost:8080/"
        },
        "id": "BR6dTBifOhoW",
        "outputId": "2dffc4f1-367e-439b-f0c0-4113eb2abbdd"
      },
      "source": [
        "num_epochs = 100\n",
        "\n",
        "start = time.time()\n",
        "\n",
        "# trained_model, history, best_epoch = train_and_validate(model_class, loss_func, optimizer, num_epochs)\n",
        "\n",
        "# scheduler = optim.lr_scheduler.MultiStepLR(optimizer, milestones=[20,35], gamma=0.1)\n",
        "# scheduler = optim.lr_scheduler.StepLR(optimizer, step_size=2, gamma=torch.exp(-0.1))\n",
        "\n",
        "# lambda1 = lambda epoch: torch.exp(-1) ** epoch\n",
        "# scheduler = torch.optim.lr_scheduler.LambdaLR(optimizer, lr_lambda=lambda1)\n",
        "\n",
        "scheduler = torch.optim.lr_scheduler.ReduceLROnPlateau(optimizer, mode='min', factor= 0.8, patience=3, threshold=0.0001, threshold_mode='abs')\n",
        "\n",
        "trained_model, history, best_epoch = train_and_validate(model_class, scheduler, loss_func, optimizer, num_epochs)\n",
        "\n",
        "end = time.time()\n",
        "# torch.save(history, 'history.pt')"
      ],
      "execution_count": null,
      "outputs": [
        {
          "output_type": "stream",
          "text": [
            "Epoch: 1/100\n",
            "Epoch : 001, Training: Loss - 8.3890, Accuracy - 1.5990%, Validation : Loss - 8.9873, Accuracy - 1.6736%, Time: 702.3071s\n",
            "Epoch-0 learning rate: 2e-05\n",
            "Epoch: 2/100\n",
            "Epoch : 002, Training: Loss - 5.1465, Accuracy - 30.9963%, Validation : Loss - 5.6544, Accuracy - 35.1464%, Time: 16.7754s\n",
            "Epoch-1 learning rate: 2e-05\n",
            "Epoch: 3/100\n",
            "Epoch : 003, Training: Loss - 2.8499, Accuracy - 67.1587%, Validation : Loss - 3.9701, Accuracy - 55.6485%, Time: 16.6958s\n",
            "Epoch-2 learning rate: 2e-05\n",
            "Epoch: 4/100\n",
            "Epoch : 004, Training: Loss - 1.9514, Accuracy - 79.7048%, Validation : Loss - 3.0185, Accuracy - 63.1799%, Time: 16.6683s\n",
            "Epoch-3 learning rate: 2e-05\n",
            "Epoch: 5/100\n",
            "Epoch : 005, Training: Loss - 1.3515, Accuracy - 85.4859%, Validation : Loss - 2.7652, Accuracy - 68.6192%, Time: 16.7017s\n",
            "Epoch-4 learning rate: 2e-05\n",
            "Epoch: 6/100\n",
            "Epoch : 006, Training: Loss - 1.1794, Accuracy - 88.1919%, Validation : Loss - 2.0532, Accuracy - 72.8033%, Time: 16.6845s\n",
            "Epoch-5 learning rate: 2e-05\n",
            "Epoch: 7/100\n",
            "Epoch : 007, Training: Loss - 0.8107, Accuracy - 90.2829%, Validation : Loss - 1.7958, Accuracy - 76.1506%, Time: 16.7446s\n",
            "Epoch-6 learning rate: 2e-05\n",
            "Epoch: 8/100\n",
            "Epoch : 008, Training: Loss - 0.7593, Accuracy - 90.8979%, Validation : Loss - 1.5727, Accuracy - 77.8243%, Time: 16.7490s\n",
            "Epoch-7 learning rate: 2e-05\n",
            "Epoch: 9/100\n",
            "Epoch : 009, Training: Loss - 0.5794, Accuracy - 91.1439%, Validation : Loss - 1.3263, Accuracy - 78.2427%, Time: 16.6714s\n",
            "Epoch-8 learning rate: 2e-05\n",
            "Epoch: 10/100\n",
            "Epoch : 010, Training: Loss - 0.5567, Accuracy - 91.5129%, Validation : Loss - 1.2858, Accuracy - 79.4979%, Time: 16.6518s\n",
            "Epoch-9 learning rate: 2e-05\n",
            "Epoch: 11/100\n",
            "Epoch : 011, Training: Loss - 0.4547, Accuracy - 92.9889%, Validation : Loss - 1.1993, Accuracy - 83.2636%, Time: 16.6784s\n",
            "Epoch-10 learning rate: 2e-05\n",
            "Epoch: 12/100\n",
            "Epoch : 012, Training: Loss - 0.3843, Accuracy - 93.1119%, Validation : Loss - 0.9896, Accuracy - 82.8452%, Time: 16.6598s\n",
            "Epoch-11 learning rate: 2e-05\n",
            "Epoch: 13/100\n",
            "Epoch : 013, Training: Loss - 0.3426, Accuracy - 94.0959%, Validation : Loss - 0.8995, Accuracy - 83.2636%, Time: 16.6970s\n",
            "Epoch-12 learning rate: 2e-05\n",
            "Epoch: 14/100\n",
            "Epoch : 014, Training: Loss - 0.1882, Accuracy - 96.3100%, Validation : Loss - 0.9554, Accuracy - 82.4268%, Time: 16.6739s\n",
            "Epoch-13 learning rate: 2e-05\n",
            "Epoch: 15/100\n",
            "Epoch : 015, Training: Loss - 0.2159, Accuracy - 94.4649%, Validation : Loss - 0.9603, Accuracy - 82.4268%, Time: 16.6996s\n",
            "Epoch-14 learning rate: 2e-05\n",
            "Epoch: 16/100\n",
            "Epoch : 016, Training: Loss - 0.2572, Accuracy - 94.5879%, Validation : Loss - 0.8962, Accuracy - 84.1004%, Time: 16.6622s\n",
            "Epoch-15 learning rate: 2e-05\n",
            "Epoch: 17/100\n",
            "Epoch : 017, Training: Loss - 0.2035, Accuracy - 94.9569%, Validation : Loss - 0.7718, Accuracy - 83.6820%, Time: 16.5942s\n",
            "Epoch-16 learning rate: 2e-05\n",
            "Epoch: 18/100\n",
            "Epoch : 018, Training: Loss - 0.2111, Accuracy - 94.4649%, Validation : Loss - 0.7557, Accuracy - 84.5188%, Time: 16.5243s\n",
            "Epoch-17 learning rate: 2e-05\n",
            "Epoch: 19/100\n",
            "Epoch : 019, Training: Loss - 0.1699, Accuracy - 95.6950%, Validation : Loss - 0.6909, Accuracy - 83.6820%, Time: 16.5402s\n",
            "Epoch-18 learning rate: 2e-05\n",
            "Epoch: 20/100\n",
            "Epoch : 020, Training: Loss - 0.1244, Accuracy - 97.1710%, Validation : Loss - 0.8369, Accuracy - 83.6820%, Time: 16.5648s\n",
            "Epoch-19 learning rate: 2e-05\n",
            "Epoch: 21/100\n",
            "Epoch : 021, Training: Loss - 0.1483, Accuracy - 95.6950%, Validation : Loss - 0.8554, Accuracy - 85.3556%, Time: 16.6157s\n",
            "Epoch-20 learning rate: 2e-05\n",
            "Epoch: 22/100\n",
            "Epoch : 022, Training: Loss - 0.1002, Accuracy - 97.9090%, Validation : Loss - 0.7009, Accuracy - 83.6820%, Time: 16.5173s\n",
            "Epoch-21 learning rate: 2e-05\n",
            "Epoch: 23/100\n",
            "Epoch : 023, Training: Loss - 0.0812, Accuracy - 97.5400%, Validation : Loss - 0.6408, Accuracy - 84.5188%, Time: 16.5779s\n",
            "Epoch-22 learning rate: 2e-05\n",
            "Epoch: 24/100\n",
            "Epoch : 024, Training: Loss - 0.1337, Accuracy - 96.9250%, Validation : Loss - 0.7698, Accuracy - 84.9372%, Time: 16.5580s\n",
            "Epoch-23 learning rate: 2e-05\n",
            "Epoch: 25/100\n",
            "Epoch : 025, Training: Loss - 0.1063, Accuracy - 96.9250%, Validation : Loss - 0.6589, Accuracy - 86.1925%, Time: 16.5875s\n",
            "Epoch-24 learning rate: 2e-05\n",
            "Epoch: 26/100\n",
            "Epoch : 026, Training: Loss - 0.0898, Accuracy - 97.7860%, Validation : Loss - 0.5596, Accuracy - 85.3556%, Time: 16.6587s\n",
            "Epoch-25 learning rate: 2e-05\n",
            "Epoch: 27/100\n",
            "Epoch : 027, Training: Loss - 0.1873, Accuracy - 96.0640%, Validation : Loss - 0.5386, Accuracy - 87.0293%, Time: 16.6049s\n",
            "Epoch-26 learning rate: 2e-05\n",
            "Epoch: 28/100\n",
            "Epoch : 028, Training: Loss - 0.1322, Accuracy - 96.1870%, Validation : Loss - 0.5895, Accuracy - 84.9372%, Time: 16.5144s\n",
            "Epoch-27 learning rate: 2e-05\n",
            "Epoch: 29/100\n",
            "Epoch : 029, Training: Loss - 0.0949, Accuracy - 97.2940%, Validation : Loss - 0.5473, Accuracy - 87.4477%, Time: 16.5148s\n",
            "Epoch-28 learning rate: 2e-05\n",
            "Epoch: 30/100\n",
            "Epoch : 030, Training: Loss - 0.0676, Accuracy - 98.0320%, Validation : Loss - 0.5164, Accuracy - 88.2845%, Time: 16.4676s\n",
            "Epoch-29 learning rate: 2e-05\n",
            "Epoch: 31/100\n",
            "Epoch : 031, Training: Loss - 0.1048, Accuracy - 97.1710%, Validation : Loss - 0.5114, Accuracy - 87.4477%, Time: 16.5175s\n",
            "Epoch-30 learning rate: 2e-05\n",
            "Epoch: 32/100\n",
            "Epoch : 032, Training: Loss - 0.0847, Accuracy - 96.9250%, Validation : Loss - 0.4775, Accuracy - 87.4477%, Time: 16.4244s\n",
            "Epoch-31 learning rate: 2e-05\n",
            "Epoch: 33/100\n",
            "Epoch : 033, Training: Loss - 0.0991, Accuracy - 96.3100%, Validation : Loss - 0.4293, Accuracy - 90.3766%, Time: 16.5012s\n",
            "Epoch-32 learning rate: 2e-05\n",
            "Epoch: 34/100\n",
            "Epoch : 034, Training: Loss - 0.0490, Accuracy - 98.5240%, Validation : Loss - 0.4709, Accuracy - 87.4477%, Time: 16.6518s\n",
            "Epoch-33 learning rate: 2e-05\n",
            "Epoch: 35/100\n",
            "Epoch : 035, Training: Loss - 0.0698, Accuracy - 98.4010%, Validation : Loss - 0.4497, Accuracy - 88.2845%, Time: 16.4736s\n",
            "Epoch-34 learning rate: 2e-05\n",
            "Epoch: 36/100\n",
            "Epoch : 036, Training: Loss - 0.0618, Accuracy - 98.5240%, Validation : Loss - 0.4317, Accuracy - 89.5397%, Time: 16.4362s\n",
            "Epoch-35 learning rate: 2e-05\n",
            "Epoch: 37/100\n",
            "Epoch : 037, Training: Loss - 0.0541, Accuracy - 98.1550%, Validation : Loss - 0.4925, Accuracy - 87.0293%, Time: 16.5221s\n",
            "Epoch-36 learning rate: 1.6000000000000003e-05\n",
            "Epoch: 38/100\n",
            "Epoch : 038, Training: Loss - 0.0579, Accuracy - 98.0320%, Validation : Loss - 0.4961, Accuracy - 87.8661%, Time: 16.5601s\n",
            "Epoch-37 learning rate: 1.6000000000000003e-05\n",
            "Epoch: 39/100\n",
            "Epoch : 039, Training: Loss - 0.0495, Accuracy - 98.4010%, Validation : Loss - 0.4834, Accuracy - 88.2845%, Time: 16.5877s\n",
            "Epoch-38 learning rate: 1.6000000000000003e-05\n",
            "Epoch: 40/100\n",
            "Epoch : 040, Training: Loss - 0.0711, Accuracy - 98.0320%, Validation : Loss - 0.4740, Accuracy - 88.7029%, Time: 16.7339s\n",
            "Epoch-39 learning rate: 1.6000000000000003e-05\n",
            "Epoch: 41/100\n",
            "Epoch : 041, Training: Loss - 0.0427, Accuracy - 98.8930%, Validation : Loss - 0.4994, Accuracy - 88.7029%, Time: 16.8104s\n",
            "Epoch-40 learning rate: 1.2800000000000003e-05\n",
            "Epoch: 42/100\n",
            "Epoch : 042, Training: Loss - 0.0510, Accuracy - 98.5240%, Validation : Loss - 0.5076, Accuracy - 88.7029%, Time: 16.9470s\n",
            "Epoch-41 learning rate: 1.2800000000000003e-05\n",
            "Epoch: 43/100\n",
            "Epoch : 043, Training: Loss - 0.0433, Accuracy - 98.4010%, Validation : Loss - 0.5548, Accuracy - 87.8661%, Time: 16.8047s\n",
            "Epoch-42 learning rate: 1.2800000000000003e-05\n",
            "Epoch: 44/100\n",
            "Epoch : 044, Training: Loss - 0.0700, Accuracy - 98.1550%, Validation : Loss - 0.4876, Accuracy - 88.7029%, Time: 16.6097s\n",
            "Epoch-43 learning rate: 1.2800000000000003e-05\n",
            "Epoch: 45/100\n",
            "Epoch : 045, Training: Loss - 0.0355, Accuracy - 99.0160%, Validation : Loss - 0.4999, Accuracy - 88.2845%, Time: 16.6755s\n",
            "Epoch-44 learning rate: 1.0240000000000004e-05\n",
            "Epoch: 46/100\n",
            "Epoch : 046, Training: Loss - 0.0337, Accuracy - 98.4010%, Validation : Loss - 0.4720, Accuracy - 89.1213%, Time: 16.5525s\n",
            "Epoch-45 learning rate: 1.0240000000000004e-05\n",
            "Epoch: 47/100\n",
            "Epoch : 047, Training: Loss - 0.0539, Accuracy - 98.2780%, Validation : Loss - 0.4343, Accuracy - 89.1213%, Time: 16.5821s\n",
            "Epoch-46 learning rate: 1.0240000000000004e-05\n",
            "Epoch: 48/100\n",
            "Epoch : 048, Training: Loss - 0.0480, Accuracy - 98.5240%, Validation : Loss - 0.4523, Accuracy - 89.5397%, Time: 16.5404s\n",
            "Epoch-47 learning rate: 1.0240000000000004e-05\n",
            "Epoch: 49/100\n",
            "Epoch : 049, Training: Loss - 0.0404, Accuracy - 98.7700%, Validation : Loss - 0.4653, Accuracy - 88.7029%, Time: 16.6774s\n",
            "Epoch-48 learning rate: 8.192000000000004e-06\n",
            "Epoch: 50/100\n",
            "Epoch : 050, Training: Loss - 0.0244, Accuracy - 99.5080%, Validation : Loss - 0.4668, Accuracy - 89.1213%, Time: 16.5411s\n",
            "Epoch-49 learning rate: 8.192000000000004e-06\n",
            "Epoch: 51/100\n",
            "Epoch : 051, Training: Loss - 0.0453, Accuracy - 98.5240%, Validation : Loss - 0.4498, Accuracy - 88.2845%, Time: 16.6330s\n",
            "Epoch-50 learning rate: 8.192000000000004e-06\n",
            "Epoch: 52/100\n",
            "Epoch : 052, Training: Loss - 0.0349, Accuracy - 98.8930%, Validation : Loss - 0.4335, Accuracy - 89.5397%, Time: 16.7556s\n",
            "Epoch-51 learning rate: 8.192000000000004e-06\n",
            "Epoch: 53/100\n",
            "Epoch : 053, Training: Loss - 0.0312, Accuracy - 98.8930%, Validation : Loss - 0.4350, Accuracy - 89.5397%, Time: 16.7816s\n",
            "Epoch-52 learning rate: 6.553600000000004e-06\n",
            "Epoch: 54/100\n",
            "Epoch : 054, Training: Loss - 0.0265, Accuracy - 99.1390%, Validation : Loss - 0.4720, Accuracy - 89.5397%, Time: 16.8165s\n",
            "Epoch-53 learning rate: 6.553600000000004e-06\n",
            "Epoch: 55/100\n",
            "Epoch : 055, Training: Loss - 0.0576, Accuracy - 98.1550%, Validation : Loss - 0.4809, Accuracy - 89.5397%, Time: 16.8829s\n",
            "Epoch-54 learning rate: 6.553600000000004e-06\n",
            "Epoch: 56/100\n",
            "Epoch : 056, Training: Loss - 0.0414, Accuracy - 98.6470%, Validation : Loss - 0.4568, Accuracy - 89.1213%, Time: 16.5856s\n",
            "Epoch-55 learning rate: 6.553600000000004e-06\n",
            "Epoch: 57/100\n",
            "Epoch : 057, Training: Loss - 0.0369, Accuracy - 99.0160%, Validation : Loss - 0.4662, Accuracy - 89.5397%, Time: 16.5711s\n",
            "Epoch-56 learning rate: 5.242880000000003e-06\n",
            "Epoch: 58/100\n",
            "Epoch : 058, Training: Loss - 0.0197, Accuracy - 99.5080%, Validation : Loss - 0.4579, Accuracy - 88.7029%, Time: 16.6507s\n",
            "Epoch-57 learning rate: 5.242880000000003e-06\n",
            "Epoch: 59/100\n",
            "Epoch : 059, Training: Loss - 0.0266, Accuracy - 99.0160%, Validation : Loss - 0.4461, Accuracy - 89.5397%, Time: 16.6238s\n",
            "Epoch-58 learning rate: 5.242880000000003e-06\n",
            "Epoch: 60/100\n",
            "Epoch : 060, Training: Loss - 0.0317, Accuracy - 99.3850%, Validation : Loss - 0.4529, Accuracy - 89.5397%, Time: 16.5961s\n",
            "Epoch-59 learning rate: 5.242880000000003e-06\n",
            "Epoch: 61/100\n",
            "Epoch : 061, Training: Loss - 0.0220, Accuracy - 99.2620%, Validation : Loss - 0.4775, Accuracy - 89.1213%, Time: 16.5419s\n",
            "Epoch-60 learning rate: 4.1943040000000025e-06\n",
            "Epoch: 62/100\n",
            "Epoch : 062, Training: Loss - 0.0447, Accuracy - 98.6470%, Validation : Loss - 0.4335, Accuracy - 89.9582%, Time: 16.6675s\n",
            "Epoch-61 learning rate: 4.1943040000000025e-06\n",
            "Epoch: 63/100\n",
            "Epoch : 063, Training: Loss - 0.0372, Accuracy - 98.2780%, Validation : Loss - 0.4430, Accuracy - 89.9582%, Time: 16.5998s\n",
            "Epoch-62 learning rate: 4.1943040000000025e-06\n",
            "Epoch: 64/100\n",
            "Epoch : 064, Training: Loss - 0.0398, Accuracy - 98.6470%, Validation : Loss - 0.4457, Accuracy - 89.5397%, Time: 16.7251s\n",
            "Epoch-63 learning rate: 4.1943040000000025e-06\n",
            "Epoch: 65/100\n",
            "Epoch : 065, Training: Loss - 0.0307, Accuracy - 98.8930%, Validation : Loss - 0.4388, Accuracy - 89.5397%, Time: 16.6036s\n",
            "Epoch-64 learning rate: 3.3554432000000022e-06\n",
            "Epoch: 66/100\n",
            "Epoch : 066, Training: Loss - 0.0248, Accuracy - 99.1390%, Validation : Loss - 0.4271, Accuracy - 90.3766%, Time: 16.6279s\n",
            "Epoch-65 learning rate: 3.3554432000000022e-06\n",
            "Epoch: 67/100\n",
            "Epoch : 067, Training: Loss - 0.0293, Accuracy - 98.6470%, Validation : Loss - 0.4519, Accuracy - 89.1213%, Time: 16.6205s\n",
            "Epoch-66 learning rate: 3.3554432000000022e-06\n",
            "Epoch: 68/100\n",
            "Epoch : 068, Training: Loss - 0.0429, Accuracy - 98.5240%, Validation : Loss - 0.4668, Accuracy - 90.3766%, Time: 16.5486s\n",
            "Epoch-67 learning rate: 3.3554432000000022e-06\n",
            "Epoch: 69/100\n",
            "Epoch : 069, Training: Loss - 0.0242, Accuracy - 99.5080%, Validation : Loss - 0.4627, Accuracy - 89.5397%, Time: 16.6737s\n",
            "Epoch-68 learning rate: 3.3554432000000022e-06\n",
            "Epoch: 70/100\n",
            "Epoch : 070, Training: Loss - 0.0473, Accuracy - 98.7700%, Validation : Loss - 0.4617, Accuracy - 88.7029%, Time: 16.6817s\n",
            "Epoch-69 learning rate: 2.684354560000002e-06\n",
            "Epoch: 71/100\n",
            "Epoch : 071, Training: Loss - 0.0245, Accuracy - 99.5080%, Validation : Loss - 0.4612, Accuracy - 89.5397%, Time: 16.6707s\n",
            "Epoch-70 learning rate: 2.684354560000002e-06\n",
            "Epoch: 72/100\n",
            "Epoch : 072, Training: Loss - 0.0171, Accuracy - 99.5080%, Validation : Loss - 0.4980, Accuracy - 89.5397%, Time: 16.6987s\n",
            "Epoch-71 learning rate: 2.684354560000002e-06\n",
            "Epoch: 73/100\n",
            "Epoch : 073, Training: Loss - 0.0349, Accuracy - 98.7700%, Validation : Loss - 0.4747, Accuracy - 88.7029%, Time: 16.5863s\n",
            "Epoch-72 learning rate: 2.684354560000002e-06\n",
            "Epoch: 74/100\n",
            "Epoch : 074, Training: Loss - 0.0155, Accuracy - 99.6310%, Validation : Loss - 0.4434, Accuracy - 89.9582%, Time: 16.6519s\n",
            "Epoch-73 learning rate: 2.147483648000002e-06\n",
            "Epoch: 75/100\n",
            "Epoch : 075, Training: Loss - 0.0273, Accuracy - 99.1390%, Validation : Loss - 0.4957, Accuracy - 89.1213%, Time: 16.9268s\n",
            "Epoch-74 learning rate: 2.147483648000002e-06\n",
            "Epoch: 76/100\n",
            "Epoch : 076, Training: Loss - 0.0383, Accuracy - 98.6470%, Validation : Loss - 0.4791, Accuracy - 88.2845%, Time: 16.7554s\n",
            "Epoch-75 learning rate: 2.147483648000002e-06\n",
            "Epoch: 77/100\n",
            "Epoch : 077, Training: Loss - 0.0201, Accuracy - 99.3850%, Validation : Loss - 0.4651, Accuracy - 89.1213%, Time: 16.7582s\n",
            "Epoch-76 learning rate: 2.147483648000002e-06\n",
            "Epoch: 78/100\n",
            "Epoch : 078, Training: Loss - 0.0133, Accuracy - 99.7540%, Validation : Loss - 0.4581, Accuracy - 89.1213%, Time: 16.9084s\n",
            "Epoch-77 learning rate: 1.7179869184000017e-06\n",
            "Epoch: 79/100\n",
            "Epoch : 079, Training: Loss - 0.0327, Accuracy - 98.7700%, Validation : Loss - 0.4764, Accuracy - 90.3766%, Time: 16.7487s\n",
            "Epoch-78 learning rate: 1.7179869184000017e-06\n",
            "Epoch: 80/100\n",
            "Epoch : 080, Training: Loss - 0.0328, Accuracy - 98.7700%, Validation : Loss - 0.4494, Accuracy - 90.3766%, Time: 16.8279s\n",
            "Epoch-79 learning rate: 1.7179869184000017e-06\n",
            "Epoch: 81/100\n",
            "Epoch : 081, Training: Loss - 0.0169, Accuracy - 99.6310%, Validation : Loss - 0.4725, Accuracy - 90.3766%, Time: 16.9309s\n",
            "Epoch-80 learning rate: 1.7179869184000017e-06\n",
            "Epoch: 82/100\n",
            "Epoch : 082, Training: Loss - 0.0263, Accuracy - 99.2620%, Validation : Loss - 0.4578, Accuracy - 89.1213%, Time: 16.8708s\n",
            "Epoch-81 learning rate: 1.3743895347200014e-06\n",
            "Epoch: 83/100\n",
            "Epoch : 083, Training: Loss - 0.0299, Accuracy - 98.8930%, Validation : Loss - 0.4424, Accuracy - 89.9582%, Time: 16.9664s\n",
            "Epoch-82 learning rate: 1.3743895347200014e-06\n",
            "Epoch: 84/100\n",
            "Epoch : 084, Training: Loss - 0.0357, Accuracy - 98.7700%, Validation : Loss - 0.4521, Accuracy - 89.9582%, Time: 17.1756s\n",
            "Epoch-83 learning rate: 1.3743895347200014e-06\n",
            "Epoch: 85/100\n",
            "Epoch : 085, Training: Loss - 0.0261, Accuracy - 99.3850%, Validation : Loss - 0.4547, Accuracy - 89.9582%, Time: 16.8326s\n",
            "Epoch-84 learning rate: 1.3743895347200014e-06\n",
            "Epoch: 86/100\n",
            "Epoch : 086, Training: Loss - 0.0186, Accuracy - 99.6310%, Validation : Loss - 0.4854, Accuracy - 89.1213%, Time: 16.7176s\n",
            "Epoch-85 learning rate: 1.0995116277760011e-06\n",
            "Epoch: 87/100\n",
            "Epoch : 087, Training: Loss - 0.0165, Accuracy - 99.6310%, Validation : Loss - 0.4443, Accuracy - 89.9582%, Time: 16.6149s\n",
            "Epoch-86 learning rate: 1.0995116277760011e-06\n",
            "Epoch: 88/100\n",
            "Epoch : 088, Training: Loss - 0.0214, Accuracy - 99.6310%, Validation : Loss - 0.4404, Accuracy - 89.9582%, Time: 16.6491s\n",
            "Epoch-87 learning rate: 1.0995116277760011e-06\n",
            "Epoch: 89/100\n",
            "Epoch : 089, Training: Loss - 0.0208, Accuracy - 99.2620%, Validation : Loss - 0.4327, Accuracy - 90.3766%, Time: 16.6907s\n",
            "Epoch-88 learning rate: 1.0995116277760011e-06\n",
            "Epoch: 90/100\n",
            "Epoch : 090, Training: Loss - 0.0181, Accuracy - 99.7540%, Validation : Loss - 0.4331, Accuracy - 91.2134%, Time: 16.6495s\n",
            "Epoch-89 learning rate: 8.796093022208009e-07\n",
            "Epoch: 91/100\n",
            "Epoch : 091, Training: Loss - 0.0203, Accuracy - 99.3850%, Validation : Loss - 0.4490, Accuracy - 90.3766%, Time: 16.5782s\n",
            "Epoch-90 learning rate: 8.796093022208009e-07\n",
            "Epoch: 92/100\n",
            "Epoch : 092, Training: Loss - 0.0157, Accuracy - 99.7540%, Validation : Loss - 0.4446, Accuracy - 90.3766%, Time: 16.7098s\n",
            "Epoch-91 learning rate: 8.796093022208009e-07\n",
            "Epoch: 93/100\n",
            "Epoch : 093, Training: Loss - 0.0274, Accuracy - 99.0160%, Validation : Loss - 0.4531, Accuracy - 89.9582%, Time: 16.5899s\n",
            "Epoch-92 learning rate: 8.796093022208009e-07\n",
            "Epoch: 94/100\n",
            "Epoch : 094, Training: Loss - 0.0553, Accuracy - 98.1550%, Validation : Loss - 0.4373, Accuracy - 91.2134%, Time: 16.6503s\n",
            "Epoch-93 learning rate: 7.036874417766408e-07\n",
            "Epoch: 95/100\n",
            "Epoch : 095, Training: Loss - 0.0219, Accuracy - 99.2620%, Validation : Loss - 0.4305, Accuracy - 91.2134%, Time: 16.6791s\n",
            "Epoch-94 learning rate: 7.036874417766408e-07\n",
            "Epoch: 96/100\n",
            "Epoch : 096, Training: Loss - 0.0220, Accuracy - 99.3850%, Validation : Loss - 0.4352, Accuracy - 89.9582%, Time: 16.7438s\n",
            "Epoch-95 learning rate: 7.036874417766408e-07\n",
            "Epoch: 97/100\n",
            "Epoch : 097, Training: Loss - 0.0253, Accuracy - 99.2620%, Validation : Loss - 0.4538, Accuracy - 89.9582%, Time: 16.6947s\n",
            "Epoch-96 learning rate: 7.036874417766408e-07\n",
            "Epoch: 98/100\n",
            "Epoch : 098, Training: Loss - 0.0232, Accuracy - 99.1390%, Validation : Loss - 0.4460, Accuracy - 90.3766%, Time: 16.7481s\n",
            "Epoch-97 learning rate: 5.629499534213127e-07\n",
            "Epoch: 99/100\n",
            "Epoch : 099, Training: Loss - 0.0145, Accuracy - 99.7540%, Validation : Loss - 0.4307, Accuracy - 90.3766%, Time: 16.6943s\n",
            "Epoch-98 learning rate: 5.629499534213127e-07\n",
            "Epoch: 100/100\n",
            "Epoch : 100, Training: Loss - 0.0264, Accuracy - 99.1390%, Validation : Loss - 0.4500, Accuracy - 90.3766%, Time: 16.7943s\n",
            "Epoch-99 learning rate: 5.629499534213127e-07\n"
          ],
          "name": "stdout"
        }
      ]
    },
    {
      "cell_type": "code",
      "metadata": {
        "id": "HigTVpI3JjHv",
        "colab": {
          "base_uri": "https://localhost:8080/"
        },
        "outputId": "792f5d35-8aad-4229-a7cd-653f2fb9d38d"
      },
      "source": [
        "print(\"Thoi gian training: \",end-start)"
      ],
      "execution_count": null,
      "outputs": [
        {
          "output_type": "stream",
          "text": [
            "Thoi gian training:  2352.4853613376617\n"
          ],
          "name": "stdout"
        }
      ]
    },
    {
      "cell_type": "code",
      "metadata": {
        "id": "ODgSE9IXX09u",
        "colab": {
          "base_uri": "https://localhost:8080/"
        },
        "outputId": "d2719b15-23c8-4525-d515-894571068907"
      },
      "source": [
        "#save model\n",
        "import time\n",
        "from datetime import date\n",
        "today = date.today()\n",
        "d1 = today.strftime(\"%d%m%Y\")\n",
        "print(\"d1 =\", d1)\n",
        "torch.save(trained_model, '/content/drive/My Drive/DetectBrainTumor/model/pytorch/model_mobilenet_v3_'+str(d1)+'.pt')"
      ],
      "execution_count": null,
      "outputs": [
        {
          "output_type": "stream",
          "text": [
            "d1 = 07072021\n"
          ],
          "name": "stdout"
        }
      ]
    },
    {
      "cell_type": "code",
      "metadata": {
        "id": "pdsNnsHaX2fa"
      },
      "source": [
        "import pickle\n",
        "with open('/content/drive/My Drive/DetectBrainTumor/result/pytorch/history_mobilenet_v3.pickle', 'wb') as f:\n",
        "    pickle.dump(history, f)\n",
        "\n",
        "# with open('/content/drive/My Drive/DetectBrainTumor/result/pytorch/time_inceptionresnetv2.pickle', 'wb') as f:\n",
        "#     pickle.dump(arr_time, f)"
      ],
      "execution_count": null,
      "outputs": []
    },
    {
      "cell_type": "code",
      "metadata": {
        "id": "uKg5tSsGdxRW"
      },
      "source": [
        "loss_train = []\n",
        "loss_val = []\n",
        "acc_train = []\n",
        "acc_val = []\n",
        "\n",
        "for i in range(len(history)):\n",
        "  loss_train.append(history[i][0])\n",
        "  loss_val.append(history[i][1])\n",
        "  acc_train.append(history[i][2])\n",
        "  acc_val.append(history[i][3])"
      ],
      "execution_count": null,
      "outputs": []
    },
    {
      "cell_type": "code",
      "metadata": {
        "id": "pB0-ZXLqI5fZ",
        "colab": {
          "base_uri": "https://localhost:8080/",
          "height": 53
        },
        "outputId": "b53448c6-4049-4b93-8433-2066d6ae6a73"
      },
      "source": [
        "# summarize history for accuracy\n",
        "fig,a =  plt.subplots(1, 2, figsize=(16,7))\n",
        "a[0].plot(acc_train)\n",
        "a[0].plot(acc_val)\n",
        "a[0].set_title('model accuracy')\n",
        "a[0].set_ylabel('accuracy')\n",
        "a[0].set_xlabel('epoch')\n",
        "a[0].legend(['train', 'val'], loc='upper left')\n",
        "# summarize history for loss for epoch\n",
        "# plt.figure(figsize=(10,10))\n",
        "a[1].plot(loss_train)\n",
        "a[1].plot(loss_val)\n",
        "a[1].set_title('model loss')\n",
        "a[1].set_ylabel('loss')\n",
        "a[1].set_xlabel('epoch')\n",
        "a[1].legend(['train', 'val'], loc='upper left')\n",
        "plt.show()"
      ],
      "execution_count": null,
      "outputs": [
        {
          "output_type": "display_data",
          "data": {
            "image/png": "[encoded data removed]",
            "text/plain": [
              "<Figure size 1152x504 with 2 Axes>"
            ]
          },
          "metadata": {
            "tags": [],
            "needs_background": "light"
          }
        }
      ]
    }
  ]
}