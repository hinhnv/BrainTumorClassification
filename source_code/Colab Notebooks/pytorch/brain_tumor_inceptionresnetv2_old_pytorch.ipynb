{
  "nbformat": 4,
  "nbformat_minor": 0,
  "metadata": {
    "accelerator": "GPU",
    "colab": {
      "name": "brain_tumor_inceptionresnetv2_old_pytorch.ipynb",
      "provenance": [],
      "collapsed_sections": []
    },
    "kernelspec": {
      "display_name": "Python 3",
      "name": "python3"
    },
    "language_info": {
      "name": "python"
    },
    "widgets": {
      "application/vnd.jupyter.widget-state+json": {
        "b567287649fc41498fa50cc6464d7fa8": {
          "model_module": "@jupyter-widgets/controls",
          "model_name": "HBoxModel",
          "state": {
            "_view_name": "HBoxView",
            "_dom_classes": [],
            "_model_name": "HBoxModel",
            "_view_module": "@jupyter-widgets/controls",
            "_model_module_version": "1.5.0",
            "_view_count": null,
            "_view_module_version": "1.5.0",
            "box_style": "",
            "layout": "IPY_MODEL_5db48ab95ffa41358599c1207cb20e07",
            "_model_module": "@jupyter-widgets/controls",
            "children": [
              "IPY_MODEL_d499e11f89b7483da283cd05b7e0e955",
              "IPY_MODEL_b9645a19ff2d4401982f78a3668673f1"
            ]
          }
        },
        "5db48ab95ffa41358599c1207cb20e07": {
          "model_module": "@jupyter-widgets/base",
          "model_name": "LayoutModel",
          "state": {
            "_view_name": "LayoutView",
            "grid_template_rows": null,
            "right": null,
            "justify_content": null,
            "_view_module": "@jupyter-widgets/base",
            "overflow": null,
            "_model_module_version": "1.2.0",
            "_view_count": null,
            "flex_flow": null,
            "width": null,
            "min_width": null,
            "border": null,
            "align_items": null,
            "bottom": null,
            "_model_module": "@jupyter-widgets/base",
            "top": null,
            "grid_column": null,
            "overflow_y": null,
            "overflow_x": null,
            "grid_auto_flow": null,
            "grid_area": null,
            "grid_template_columns": null,
            "flex": null,
            "_model_name": "LayoutModel",
            "justify_items": null,
            "grid_row": null,
            "max_height": null,
            "align_content": null,
            "visibility": null,
            "align_self": null,
            "height": null,
            "min_height": null,
            "padding": null,
            "grid_auto_rows": null,
            "grid_gap": null,
            "max_width": null,
            "order": null,
            "_view_module_version": "1.2.0",
            "grid_template_areas": null,
            "object_position": null,
            "object_fit": null,
            "grid_auto_columns": null,
            "margin": null,
            "display": null,
            "left": null
          }
        },
        "d499e11f89b7483da283cd05b7e0e955": {
          "model_module": "@jupyter-widgets/controls",
          "model_name": "FloatProgressModel",
          "state": {
            "_view_name": "ProgressView",
            "style": "IPY_MODEL_5751e78ca1194377b95277cc7094ec1f",
            "_dom_classes": [],
            "description": "100%",
            "_model_name": "FloatProgressModel",
            "bar_style": "success",
            "max": 223774246,
            "_view_module": "@jupyter-widgets/controls",
            "_model_module_version": "1.5.0",
            "value": 223774246,
            "_view_count": null,
            "_view_module_version": "1.5.0",
            "orientation": "horizontal",
            "min": 0,
            "description_tooltip": null,
            "_model_module": "@jupyter-widgets/controls",
            "layout": "IPY_MODEL_bd5c0fe0d31047e38d84501510073bb6"
          }
        },
        "b9645a19ff2d4401982f78a3668673f1": {
          "model_module": "@jupyter-widgets/controls",
          "model_name": "HTMLModel",
          "state": {
            "_view_name": "HTMLView",
            "style": "IPY_MODEL_b7413f2d922c4183bd7d504366992c92",
            "_dom_classes": [],
            "description": "",
            "_model_name": "HTMLModel",
            "placeholder": "​",
            "_view_module": "@jupyter-widgets/controls",
            "_model_module_version": "1.5.0",
            "value": " 213M/213M [10:29&lt;00:00, 355kB/s]",
            "_view_count": null,
            "_view_module_version": "1.5.0",
            "description_tooltip": null,
            "_model_module": "@jupyter-widgets/controls",
            "layout": "IPY_MODEL_5bf97de9af954dea89d097299fcd4664"
          }
        },
        "5751e78ca1194377b95277cc7094ec1f": {
          "model_module": "@jupyter-widgets/controls",
          "model_name": "ProgressStyleModel",
          "state": {
            "_view_name": "StyleView",
            "_model_name": "ProgressStyleModel",
            "description_width": "initial",
            "_view_module": "@jupyter-widgets/base",
            "_model_module_version": "1.5.0",
            "_view_count": null,
            "_view_module_version": "1.2.0",
            "bar_color": null,
            "_model_module": "@jupyter-widgets/controls"
          }
        },
        "bd5c0fe0d31047e38d84501510073bb6": {
          "model_module": "@jupyter-widgets/base",
          "model_name": "LayoutModel",
          "state": {
            "_view_name": "LayoutView",
            "grid_template_rows": null,
            "right": null,
            "justify_content": null,
            "_view_module": "@jupyter-widgets/base",
            "overflow": null,
            "_model_module_version": "1.2.0",
            "_view_count": null,
            "flex_flow": null,
            "width": null,
            "min_width": null,
            "border": null,
            "align_items": null,
            "bottom": null,
            "_model_module": "@jupyter-widgets/base",
            "top": null,
            "grid_column": null,
            "overflow_y": null,
            "overflow_x": null,
            "grid_auto_flow": null,
            "grid_area": null,
            "grid_template_columns": null,
            "flex": null,
            "_model_name": "LayoutModel",
            "justify_items": null,
            "grid_row": null,
            "max_height": null,
            "align_content": null,
            "visibility": null,
            "align_self": null,
            "height": null,
            "min_height": null,
            "padding": null,
            "grid_auto_rows": null,
            "grid_gap": null,
            "max_width": null,
            "order": null,
            "_view_module_version": "1.2.0",
            "grid_template_areas": null,
            "object_position": null,
            "object_fit": null,
            "grid_auto_columns": null,
            "margin": null,
            "display": null,
            "left": null
          }
        },
        "b7413f2d922c4183bd7d504366992c92": {
          "model_module": "@jupyter-widgets/controls",
          "model_name": "DescriptionStyleModel",
          "state": {
            "_view_name": "StyleView",
            "_model_name": "DescriptionStyleModel",
            "description_width": "",
            "_view_module": "@jupyter-widgets/base",
            "_model_module_version": "1.5.0",
            "_view_count": null,
            "_view_module_version": "1.2.0",
            "_model_module": "@jupyter-widgets/controls"
          }
        },
        "5bf97de9af954dea89d097299fcd4664": {
          "model_module": "@jupyter-widgets/base",
          "model_name": "LayoutModel",
          "state": {
            "_view_name": "LayoutView",
            "grid_template_rows": null,
            "right": null,
            "justify_content": null,
            "_view_module": "@jupyter-widgets/base",
            "overflow": null,
            "_model_module_version": "1.2.0",
            "_view_count": null,
            "flex_flow": null,
            "width": null,
            "min_width": null,
            "border": null,
            "align_items": null,
            "bottom": null,
            "_model_module": "@jupyter-widgets/base",
            "top": null,
            "grid_column": null,
            "overflow_y": null,
            "overflow_x": null,
            "grid_auto_flow": null,
            "grid_area": null,
            "grid_template_columns": null,
            "flex": null,
            "_model_name": "LayoutModel",
            "justify_items": null,
            "grid_row": null,
            "max_height": null,
            "align_content": null,
            "visibility": null,
            "align_self": null,
            "height": null,
            "min_height": null,
            "padding": null,
            "grid_auto_rows": null,
            "grid_gap": null,
            "max_width": null,
            "order": null,
            "_view_module_version": "1.2.0",
            "grid_template_areas": null,
            "object_position": null,
            "object_fit": null,
            "grid_auto_columns": null,
            "margin": null,
            "display": null,
            "left": null
          }
        }
      }
    }
  },
  "cells": [
    {
      "cell_type": "code",
      "metadata": {
        "colab": {
          "base_uri": "https://localhost:8080/"
        },
        "id": "al_XWgRp3EzB",
        "outputId": "ef77f712-e014-4396-dbf2-02968f1408de"
      },
      "source": [
        "from google.colab import drive\n",
        "drive.mount('/content/drive')"
      ],
      "execution_count": null,
      "outputs": [
        {
          "output_type": "stream",
          "text": [
            "Mounted at /content/drive\n"
          ],
          "name": "stdout"
        }
      ]
    },
    {
      "cell_type": "code",
      "metadata": {
        "colab": {
          "base_uri": "https://localhost:8080/"
        },
        "id": "GPMeqQO6AP2D",
        "outputId": "a287dafa-a4af-41ff-ee2b-fd959d5055d0"
      },
      "source": [
        "%cd /content/drive/My Drive/Adas/src\n",
        "from adas import Adas\n",
        "!pip install cnn-finetune"
      ],
      "execution_count": null,
      "outputs": [
        {
          "output_type": "stream",
          "text": [
            "/content/drive/My Drive/Adas/src\n",
            "Collecting cnn-finetune\n",
            "  Downloading https://files.pythonhosted.org/packages/e4/63/03a442d31401c43fc17a814f22bd7c39ab8f13f42a6b2467ca0d0d042b3a/cnn_finetune-0.6.0.tar.gz\n",
            "Requirement already satisfied: torch in /usr/local/lib/python3.7/dist-packages (from cnn-finetune) (1.9.0+cu102)\n",
            "Requirement already satisfied: torchvision>=0.3.0 in /usr/local/lib/python3.7/dist-packages (from cnn-finetune) (0.10.0+cu102)\n",
            "Collecting pretrainedmodels>=0.7.4\n",
            "\u001b[?25l  Downloading https://files.pythonhosted.org/packages/84/0e/be6a0e58447ac16c938799d49bfb5fb7a80ac35e137547fc6cee2c08c4cf/pretrainedmodels-0.7.4.tar.gz (58kB)\n",
            "\u001b[K     |████████████████████████████████| 61kB 3.3MB/s \n",
            "\u001b[?25hRequirement already satisfied: scipy in /usr/local/lib/python3.7/dist-packages (from cnn-finetune) (1.4.1)\n",
            "Requirement already satisfied: tqdm in /usr/local/lib/python3.7/dist-packages (from cnn-finetune) (4.41.1)\n",
            "Requirement already satisfied: typing-extensions in /usr/local/lib/python3.7/dist-packages (from torch->cnn-finetune) (3.7.4.3)\n",
            "Requirement already satisfied: numpy in /usr/local/lib/python3.7/dist-packages (from torchvision>=0.3.0->cnn-finetune) (1.19.5)\n",
            "Requirement already satisfied: pillow>=5.3.0 in /usr/local/lib/python3.7/dist-packages (from torchvision>=0.3.0->cnn-finetune) (7.1.2)\n",
            "Collecting munch\n",
            "  Downloading https://files.pythonhosted.org/packages/cc/ab/85d8da5c9a45e072301beb37ad7f833cd344e04c817d97e0cc75681d248f/munch-2.5.0-py2.py3-none-any.whl\n",
            "Requirement already satisfied: six in /usr/local/lib/python3.7/dist-packages (from munch->pretrainedmodels>=0.7.4->cnn-finetune) (1.15.0)\n",
            "Building wheels for collected packages: cnn-finetune, pretrainedmodels\n",
            "  Building wheel for cnn-finetune (setup.py) ... \u001b[?25l\u001b[?25hdone\n",
            "  Created wheel for cnn-finetune: filename=cnn_finetune-0.6.0-cp37-none-any.whl size=11449 sha256=737735b092a844be761620febbfdd5c2799cbde396a622c68bf8f5e5c46f9393\n",
            "  Stored in directory: /root/.cache/pip/wheels/12/4f/29/32978e72b606c5f51b6bd10117814deb46c6b63230eef49381\n",
            "  Building wheel for pretrainedmodels (setup.py) ... \u001b[?25l\u001b[?25hdone\n",
            "  Created wheel for pretrainedmodels: filename=pretrainedmodels-0.7.4-cp37-none-any.whl size=60966 sha256=1a033c5e81e1102e242ab9a5b15febf560b633eeef097bb97e8bea134625b427\n",
            "  Stored in directory: /root/.cache/pip/wheels/69/df/63/62583c096289713f22db605aa2334de5b591d59861a02c2ecd\n",
            "Successfully built cnn-finetune pretrainedmodels\n",
            "Installing collected packages: munch, pretrainedmodels, cnn-finetune\n",
            "Successfully installed cnn-finetune-0.6.0 munch-2.5.0 pretrainedmodels-0.7.4\n"
          ],
          "name": "stdout"
        }
      ]
    },
    {
      "cell_type": "code",
      "metadata": {
        "id": "1ki8ZDvSp1uC"
      },
      "source": [
        "# from cnn_finetune.contrib import pretrainedmodels\n",
        "from cnn_finetune import make_model"
      ],
      "execution_count": null,
      "outputs": []
    },
    {
      "cell_type": "code",
      "metadata": {
        "id": "jrQMAMh7ARMZ"
      },
      "source": [
        "import matplotlib.pyplot as plt\n",
        "from torchvision import datasets, models, transforms\n",
        "import helper\n",
        "import torch.nn as nn\n",
        "import torch.nn.functional as F\n",
        "import torch.optim as optim\n",
        "\n",
        "from torchvision import datasets\n",
        "from torchvision import transforms\n",
        "import matplotlib.pyplot as plt\n",
        "import torch, torchvision\n",
        "from torch.utils.data import DataLoader\n",
        "import time\n",
        "from torchsummary import summary\n",
        "import numpy as np\n",
        "import os\n",
        "\n",
        "from PIL import Image"
      ],
      "execution_count": null,
      "outputs": []
    },
    {
      "cell_type": "code",
      "metadata": {
        "id": "B_IymEbSAWFo"
      },
      "source": [
        "IMAGE_SIZE = 256\n",
        "batch_size = 16\n",
        "\n",
        "DATADIR_TRAIN = \"/content/drive/My Drive/DetectBrainTumor/data_1_19052021/T2_Train/\"\n",
        "DATADIR_VAL = \"/content/drive/My Drive/DetectBrainTumor/data_1_19052021/T2_Val/\""
      ],
      "execution_count": null,
      "outputs": []
    },
    {
      "cell_type": "code",
      "metadata": {
        "id": "_dG28e-KICv6"
      },
      "source": [
        "# Applying Transforms to the Data\n",
        "train_transform = transforms.Compose([\n",
        "        transforms.RandomResizedCrop(size=256, scale=(0.8, 1.0)),\n",
        "        transforms.RandomRotation(degrees=15),\n",
        "        transforms.RandomHorizontalFlip(),\n",
        "        transforms.CenterCrop(size=224),\n",
        "        transforms.ToTensor(),\n",
        "        transforms.Normalize([0.485, 0.456, 0.406],\n",
        "                             [0.229, 0.224, 0.225])\n",
        "    ])\n",
        "\n",
        "test_transform = transforms.Compose([\n",
        "        transforms.Resize(size=256),\n",
        "        transforms.CenterCrop(size=224),\n",
        "        transforms.ToTensor(),\n",
        "        transforms.Normalize([0.485, 0.456, 0.406],\n",
        "                             [0.229, 0.224, 0.225])\n",
        "    ])"
      ],
      "execution_count": null,
      "outputs": []
    },
    {
      "cell_type": "code",
      "metadata": {
        "id": "8JuOKAOLAi0X"
      },
      "source": [
        "train_data = datasets.ImageFolder(DATADIR_TRAIN, transform=train_transform)                                       \n",
        "val_data = datasets.ImageFolder(DATADIR_VAL, transform=test_transform)\n",
        "\n",
        "#Data Loading\n",
        "train_loader = torch.utils.data.DataLoader(train_data, batch_size=batch_size, shuffle=True)\n",
        "val_loader = torch.utils.data.DataLoader(val_data, batch_size=batch_size, shuffle=True)"
      ],
      "execution_count": null,
      "outputs": []
    },
    {
      "cell_type": "code",
      "metadata": {
        "id": "aOZ-WlKeJUnb"
      },
      "source": [
        "classes = ('YES', 'NO')"
      ],
      "execution_count": null,
      "outputs": []
    },
    {
      "cell_type": "code",
      "metadata": {
        "id": "kTT7H1l_NvJr"
      },
      "source": [
        "train_data_size = len(train_data)\n",
        "test_data_size = len(val_data)"
      ],
      "execution_count": null,
      "outputs": []
    },
    {
      "cell_type": "code",
      "metadata": {
        "id": "PmgAbQbVJbqn"
      },
      "source": [
        "# import matplotlib.pyplot as plt\n",
        "# import numpy as np\n",
        "\n",
        "# # functions to show an image\n",
        "\n",
        "\n",
        "# def imshow(img):\n",
        "#     img = img / 2 + 0.5     # unnormalize\n",
        "#     npimg = img.numpy()\n",
        "#     plt.imshow(np.transpose(npimg, (1, 2, 0)))\n",
        "#     plt.show()\n",
        "\n",
        "\n",
        "# # get some random training images\n",
        "# dataiter = iter(train_loader)\n",
        "# images, labels = dataiter.next()\n",
        "\n",
        "# # show images\n",
        "# imshow(torchvision.utils.make_grid(images))\n",
        "# # print labels\n",
        "# print(' '.join('%5s' % classes[labels[j]] for j in range(2)))"
      ],
      "execution_count": null,
      "outputs": []
    },
    {
      "cell_type": "code",
      "metadata": {
        "id": "JP2vIpVTXMPE"
      },
      "source": [
        "device = torch.device(\"cuda:0\" if torch.cuda.is_available() else \"cpu\")"
      ],
      "execution_count": null,
      "outputs": []
    },
    {
      "cell_type": "code",
      "metadata": {
        "id": "CJAOJSrCDEdY",
        "colab": {
          "base_uri": "https://localhost:8080/",
          "height": 140,
          "referenced_widgets": [
            "b567287649fc41498fa50cc6464d7fa8",
            "5db48ab95ffa41358599c1207cb20e07",
            "d499e11f89b7483da283cd05b7e0e955",
            "b9645a19ff2d4401982f78a3668673f1",
            "5751e78ca1194377b95277cc7094ec1f",
            "bd5c0fe0d31047e38d84501510073bb6",
            "b7413f2d922c4183bd7d504366992c92",
            "5bf97de9af954dea89d097299fcd4664"
          ]
        },
        "outputId": "60678f90-e43c-4a0a-eca1-5e6dabd1c129"
      },
      "source": [
        "# Load pretrained ResNet50 Model\n",
        "# model_class = models.inception_v3(pretrained=True)\n",
        "model_class = make_model('inceptionresnetv2', num_classes=2, pretrained=True, input_size=(256, 256))"
      ],
      "execution_count": null,
      "outputs": [
        {
          "output_type": "stream",
          "text": [
            "Downloading: \"http://data.lip6.fr/cadene/pretrainedmodels/inceptionresnetv2-520b38e4.pth\" to /root/.cache/torch/hub/checkpoints/inceptionresnetv2-520b38e4.pth\n"
          ],
          "name": "stderr"
        },
        {
          "output_type": "display_data",
          "data": {
            "application/vnd.jupyter.widget-view+json": {
              "model_id": "b567287649fc41498fa50cc6464d7fa8",
              "version_minor": 0,
              "version_major": 2
            },
            "text/plain": [
              "HBox(children=(FloatProgress(value=0.0, max=223774246.0), HTML(value='')))"
            ]
          },
          "metadata": {
            "tags": []
          }
        },
        {
          "output_type": "stream",
          "text": [
            "\n"
          ],
          "name": "stdout"
        },
        {
          "output_type": "stream",
          "text": [
            "/usr/local/lib/python3.7/dist-packages/torch/nn/functional.py:718: UserWarning: Named tensors and all their associated APIs are an experimental feature and subject to change. Please do not use them for anything important until they are released as stable. (Triggered internally at  /pytorch/c10/core/TensorImpl.h:1156.)\n",
            "  return torch.max_pool2d(input, kernel_size, stride, padding, dilation, ceil_mode)\n"
          ],
          "name": "stderr"
        }
      ]
    },
    {
      "cell_type": "code",
      "metadata": {
        "id": "ARE2bvIytYED"
      },
      "source": [
        "# print(model_class)"
      ],
      "execution_count": null,
      "outputs": []
    },
    {
      "cell_type": "code",
      "metadata": {
        "id": "qWHwvjeWOVSJ"
      },
      "source": [
        "# Freeze model parameters\n",
        "# for param in model_class.parameters():\n",
        "#     param.requires_grad = False"
      ],
      "execution_count": null,
      "outputs": []
    },
    {
      "cell_type": "code",
      "metadata": {
        "id": "yKCG2en0o-71"
      },
      "source": [
        "# fc_inputs = model_class.fc.in_features\n",
        "# fc_inputs"
      ],
      "execution_count": null,
      "outputs": []
    },
    {
      "cell_type": "code",
      "metadata": {
        "id": "nE_07JDiOW8w"
      },
      "source": [
        "# Change the final layer of ResNet50 Model for Transfer Learning\n",
        "inputs = model_class._classifier.in_features\n",
        "\n",
        "model_class._classifier = nn.Sequential(\n",
        "    nn.Linear(inputs, 128),\n",
        "    nn.ReLU(),\n",
        "    nn.Dropout(0.3),\n",
        "    nn.Flatten(),\n",
        "    nn.Dropout(0.5),\n",
        "    nn.Linear(128, 2), # Since 100 possible outputs\n",
        "    # nn.LogSoftmax(dim=1) # For using NLLLoss()\n",
        ")\n",
        "\n",
        "# Convert model to be used on GPU\n",
        "model_class = model_class.to(device)"
      ],
      "execution_count": null,
      "outputs": []
    },
    {
      "cell_type": "code",
      "metadata": {
        "id": "921-fqC4Ocep"
      },
      "source": [
        "def train_and_validate(model, scheduler, loss_criterion, optimizer, epochs):\n",
        "    '''\n",
        "    Function to train and validate\n",
        "    Parameters\n",
        "        :param model: Model to train and validate\n",
        "        :param loss_criterion: Loss Criterion to minimize\n",
        "        :param optimizer: Optimizer for computing gradients\n",
        "        :param epochs: Number of epochs (default=25)\n",
        "  \n",
        "    Returns\n",
        "        model: Trained Model with best validation accuracy\n",
        "        history: (dict object): Having training loss, accuracy and validation loss, accuracy\n",
        "    '''\n",
        "    \n",
        "    start = time.time()\n",
        "    history = []\n",
        "    best_loss = 100000.0\n",
        "    best_epoch = None\n",
        "    flag = 0\n",
        "\n",
        "    for epoch in range(epochs):\n",
        "        epoch_start = time.time()\n",
        "        print(\"Epoch: {}/{}\".format(epoch+1, epochs))\n",
        "        \n",
        "        # Set to training mode\n",
        "        model.train()\n",
        "        \n",
        "        # Loss and Accuracy within the epoch\n",
        "        train_loss = 0.0\n",
        "        train_acc = 0.0\n",
        "        \n",
        "        valid_loss = 0.0\n",
        "        valid_acc = 0.0\n",
        "        \n",
        "        for i, (inputs, labels) in enumerate(train_loader):\n",
        "\n",
        "            inputs = inputs.to(device)\n",
        "            labels = labels.to(device)\n",
        "            \n",
        "            # Clean existing gradients\n",
        "            optimizer.zero_grad()\n",
        "            \n",
        "            # Forward pass - compute outputs on input data using the model\n",
        "            outputs = model(inputs)\n",
        "            \n",
        "            # Compute loss\n",
        "            loss = loss_criterion(outputs, labels)\n",
        "            \n",
        "            # Backpropagate the gradients\n",
        "            loss.backward()\n",
        "            \n",
        "            # Update the parameters\n",
        "            optimizer.step()\n",
        "            \n",
        "            \n",
        "            # Compute the total loss for the batch and add it to train_loss\n",
        "            train_loss += loss.item() * inputs.size(0)\n",
        "            \n",
        "            # Compute the accuracy\n",
        "            ret, predictions = torch.max(outputs.data, 1)\n",
        "            correct_counts = predictions.eq(labels.data.view_as(predictions))\n",
        "            \n",
        "            # Convert correct_counts to float and then compute the mean\n",
        "            acc = torch.mean(correct_counts.type(torch.FloatTensor))\n",
        "            \n",
        "            # Compute total accuracy in the whole batch and add to train_acc\n",
        "            train_acc += acc.item() * inputs.size(0)\n",
        "            \n",
        "            #print(\"Batch number: {:03d}, Training: Loss: {:.4f}, Accuracy: {:.4f}\".format(i, loss.item(), acc.item()))\n",
        "\n",
        "        \n",
        "        # Validation - No gradient tracking needed\n",
        "        with torch.no_grad():\n",
        "\n",
        "            # Set to evaluation mode\n",
        "            model.eval()\n",
        "\n",
        "            # Validation loop\n",
        "            for j, (inputs, labels) in enumerate(val_loader):\n",
        "                inputs = inputs.to(device)\n",
        "                labels = labels.to(device)\n",
        "\n",
        "                # Forward pass - compute outputs on input data using the model\n",
        "                outputs = model(inputs)\n",
        "\n",
        "                # Compute loss\n",
        "                loss = loss_criterion(outputs, labels)\n",
        "\n",
        "                # Compute the total loss for the batch and add it to valid_loss\n",
        "                valid_loss += loss.item() * inputs.size(0)\n",
        "\n",
        "                # Calculate validation accuracy\n",
        "                ret, predictions = torch.max(outputs.data, 1)\n",
        "                correct_counts = predictions.eq(labels.data.view_as(predictions))\n",
        "\n",
        "                # Convert correct_counts to float and then compute the mean\n",
        "                acc = torch.mean(correct_counts.type(torch.FloatTensor))\n",
        "\n",
        "                # Compute total accuracy in the whole batch and add to valid_acc\n",
        "                valid_acc += acc.item() * inputs.size(0)\n",
        "                # if not j%100:\n",
        "                #   print(\"Validation Batch number: {:03d}, Validation: Loss: {:.4f}, Accuracy: {:.4f}\".format(j, loss.item(), acc.item()))\n",
        "        if valid_loss < best_loss:\n",
        "            best_loss = valid_loss\n",
        "            best_epoch = epoch\n",
        "\n",
        "        # Find average training loss and training accuracy\n",
        "        avg_train_loss = train_loss/train_data_size \n",
        "        avg_train_acc = train_acc/train_data_size\n",
        "\n",
        "        # Find average training loss and training accuracy\n",
        "        avg_valid_loss = valid_loss/test_data_size \n",
        "        avg_valid_acc = valid_acc/test_data_size\n",
        "\n",
        "        history.append([avg_train_loss, avg_valid_loss, avg_train_acc, avg_valid_acc])\n",
        "                \n",
        "        epoch_end = time.time()\n",
        "    \n",
        "        print(\"Epoch : {:03d}, Training: Loss - {:.4f}, Accuracy - {:.4f}%, Validation : Loss - {:.4f}, Accuracy - {:.4f}%, Time: {:.4f}s\".format(epoch+1, avg_train_loss, avg_train_acc*100, avg_valid_loss, avg_valid_acc*100, epoch_end-epoch_start))\n",
        "\n",
        "        #reduce lr\n",
        "        \n",
        "        if avg_valid_acc*100 > 90:\n",
        "          flag = 1\n",
        "\n",
        "        if flag == 1:\n",
        "          scheduler.step(avg_valid_loss)\n",
        "        \n",
        "        print('Epoch-{0} learning rate: {1}'.format(epoch, optimizer.param_groups[0]['lr']))\n",
        "\n",
        "        # Save if the model has best accuracy till now\n",
        "        # torch.save(model, 'model_'+str(epoch)+'.pt')\n",
        "        # optimizer.epoch_step(epoch)       \n",
        "    return model, history, best_epoch"
      ],
      "execution_count": null,
      "outputs": []
    },
    {
      "cell_type": "code",
      "metadata": {
        "id": "Jx6C95OqFFT1"
      },
      "source": [
        "# Define Optimizer and Loss Function\n",
        "# loss_func = nn.NLLLoss()\n",
        "loss_func = nn.CrossEntropyLoss()\n",
        "optimizer = optim.Adam(params=list(model_class.parameters()), lr=1e-5)"
      ],
      "execution_count": null,
      "outputs": []
    },
    {
      "cell_type": "code",
      "metadata": {
        "colab": {
          "base_uri": "https://localhost:8080/"
        },
        "id": "BR6dTBifOhoW",
        "outputId": "cbc531ad-bbd1-4316-812f-a756b8daa1eb"
      },
      "source": [
        "num_epochs = 100\n",
        "\n",
        "start = time.time()\n",
        "\n",
        "# trained_model, history, best_epoch = train_and_validate(model_class, loss_func, optimizer, num_epochs)\n",
        "\n",
        "# scheduler = optim.lr_scheduler.MultiStepLR(optimizer, milestones=[20,35], gamma=0.1)\n",
        "# scheduler = optim.lr_scheduler.StepLR(optimizer, step_size=2, gamma=torch.exp(-0.1))\n",
        "\n",
        "# lambda1 = lambda epoch: torch.exp(-1) ** epoch\n",
        "# scheduler = torch.optim.lr_scheduler.LambdaLR(optimizer, lr_lambda=lambda1)\n",
        "\n",
        "scheduler = torch.optim.lr_scheduler.ReduceLROnPlateau(optimizer, mode='min', factor= 0.9, patience=2, threshold=0.0001, threshold_mode='abs')\n",
        "\n",
        "trained_model, history, best_epoch = train_and_validate(model_class, scheduler, loss_func, optimizer, num_epochs)\n",
        "\n",
        "end = time.time()\n",
        "# torch.save(history, 'history.pt')"
      ],
      "execution_count": null,
      "outputs": [
        {
          "output_type": "stream",
          "text": [
            "Epoch: 1/100\n",
            "Epoch : 001, Training: Loss - 0.6907, Accuracy - 51.9065%, Validation : Loss - 0.6880, Accuracy - 56.9038%, Time: 665.2369s\n",
            "Epoch-0 learning rate: 4e-06\n",
            "Epoch: 2/100\n",
            "Epoch : 002, Training: Loss - 0.6797, Accuracy - 58.5486%, Validation : Loss - 0.6727, Accuracy - 69.8745%, Time: 65.7182s\n",
            "Epoch-1 learning rate: 4e-06\n",
            "Epoch: 3/100\n",
            "Epoch : 003, Training: Loss - 0.6583, Accuracy - 67.7737%, Validation : Loss - 0.6575, Accuracy - 71.5481%, Time: 65.6718s\n",
            "Epoch-2 learning rate: 4e-06\n",
            "Epoch: 4/100\n",
            "Epoch : 004, Training: Loss - 0.6317, Accuracy - 73.8007%, Validation : Loss - 0.6324, Accuracy - 75.7322%, Time: 65.8324s\n",
            "Epoch-3 learning rate: 4e-06\n",
            "Epoch: 5/100\n",
            "Epoch : 005, Training: Loss - 0.5996, Accuracy - 78.7208%, Validation : Loss - 0.6063, Accuracy - 74.4770%, Time: 66.4373s\n",
            "Epoch-4 learning rate: 4e-06\n",
            "Epoch: 6/100\n",
            "Epoch : 006, Training: Loss - 0.5461, Accuracy - 84.7478%, Validation : Loss - 0.5575, Accuracy - 77.4059%, Time: 66.3285s\n",
            "Epoch-5 learning rate: 4e-06\n",
            "Epoch: 7/100\n",
            "Epoch : 007, Training: Loss - 0.4859, Accuracy - 86.7159%, Validation : Loss - 0.5118, Accuracy - 75.3138%, Time: 66.4481s\n",
            "Epoch-6 learning rate: 4e-06\n",
            "Epoch: 8/100\n",
            "Epoch : 008, Training: Loss - 0.4380, Accuracy - 88.4379%, Validation : Loss - 0.4713, Accuracy - 78.2427%, Time: 66.4821s\n",
            "Epoch-7 learning rate: 4e-06\n",
            "Epoch: 9/100\n",
            "Epoch : 009, Training: Loss - 0.3811, Accuracy - 90.0369%, Validation : Loss - 0.4382, Accuracy - 78.2427%, Time: 66.5407s\n",
            "Epoch-8 learning rate: 4e-06\n",
            "Epoch: 10/100\n",
            "Epoch : 010, Training: Loss - 0.3389, Accuracy - 90.8979%, Validation : Loss - 0.4162, Accuracy - 78.2427%, Time: 66.2391s\n",
            "Epoch-9 learning rate: 4e-06\n",
            "Epoch: 11/100\n",
            "Epoch : 011, Training: Loss - 0.3036, Accuracy - 91.0209%, Validation : Loss - 0.4021, Accuracy - 79.0795%, Time: 66.2501s\n",
            "Epoch-10 learning rate: 4e-06\n",
            "Epoch: 12/100\n",
            "Epoch : 012, Training: Loss - 0.2786, Accuracy - 91.8819%, Validation : Loss - 0.3879, Accuracy - 80.3347%, Time: 66.1963s\n",
            "Epoch-11 learning rate: 4e-06\n",
            "Epoch: 13/100\n",
            "Epoch : 013, Training: Loss - 0.2280, Accuracy - 94.2189%, Validation : Loss - 0.3741, Accuracy - 80.7531%, Time: 66.2608s\n",
            "Epoch-12 learning rate: 4e-06\n",
            "Epoch: 14/100\n",
            "Epoch : 014, Training: Loss - 0.1987, Accuracy - 94.3419%, Validation : Loss - 0.3753, Accuracy - 81.5900%, Time: 66.4765s\n",
            "Epoch-13 learning rate: 4e-06\n",
            "Epoch: 15/100\n",
            "Epoch : 015, Training: Loss - 0.2050, Accuracy - 93.6039%, Validation : Loss - 0.3623, Accuracy - 82.0084%, Time: 66.1092s\n",
            "Epoch-14 learning rate: 4e-06\n",
            "Epoch: 16/100\n",
            "Epoch : 016, Training: Loss - 0.1734, Accuracy - 94.9569%, Validation : Loss - 0.3632, Accuracy - 81.1715%, Time: 66.2022s\n",
            "Epoch-15 learning rate: 4e-06\n",
            "Epoch: 17/100\n",
            "Epoch : 017, Training: Loss - 0.1622, Accuracy - 96.1870%, Validation : Loss - 0.3624, Accuracy - 82.8452%, Time: 66.2113s\n",
            "Epoch-16 learning rate: 4e-06\n",
            "Epoch: 18/100\n",
            "Epoch : 018, Training: Loss - 0.1387, Accuracy - 96.3100%, Validation : Loss - 0.3557, Accuracy - 82.0084%, Time: 66.3448s\n",
            "Epoch-17 learning rate: 4e-06\n",
            "Epoch: 19/100\n",
            "Epoch : 019, Training: Loss - 0.1607, Accuracy - 95.6950%, Validation : Loss - 0.3678, Accuracy - 82.0084%, Time: 66.1745s\n",
            "Epoch-18 learning rate: 4e-06\n",
            "Epoch: 20/100\n",
            "Epoch : 020, Training: Loss - 0.1491, Accuracy - 95.9410%, Validation : Loss - 0.3543, Accuracy - 82.8452%, Time: 66.2454s\n",
            "Epoch-19 learning rate: 4e-06\n",
            "Epoch: 21/100\n",
            "Epoch : 021, Training: Loss - 0.1200, Accuracy - 97.0480%, Validation : Loss - 0.3707, Accuracy - 82.0084%, Time: 66.0827s\n",
            "Epoch-20 learning rate: 4e-06\n",
            "Epoch: 22/100\n",
            "Epoch : 022, Training: Loss - 0.1201, Accuracy - 96.3100%, Validation : Loss - 0.3505, Accuracy - 84.1004%, Time: 66.2981s\n",
            "Epoch-21 learning rate: 4e-06\n",
            "Epoch: 23/100\n",
            "Epoch : 023, Training: Loss - 0.1136, Accuracy - 96.9250%, Validation : Loss - 0.3531, Accuracy - 84.1004%, Time: 66.3511s\n",
            "Epoch-22 learning rate: 4e-06\n",
            "Epoch: 24/100\n",
            "Epoch : 024, Training: Loss - 0.0996, Accuracy - 97.1710%, Validation : Loss - 0.3775, Accuracy - 82.4268%, Time: 66.0738s\n",
            "Epoch-23 learning rate: 4e-06\n",
            "Epoch: 25/100\n",
            "Epoch : 025, Training: Loss - 0.0988, Accuracy - 97.1710%, Validation : Loss - 0.3793, Accuracy - 82.8452%, Time: 66.1056s\n",
            "Epoch-24 learning rate: 4e-06\n",
            "Epoch: 26/100\n",
            "Epoch : 026, Training: Loss - 0.1144, Accuracy - 96.4330%, Validation : Loss - 0.3766, Accuracy - 84.1004%, Time: 66.1701s\n",
            "Epoch-25 learning rate: 4e-06\n",
            "Epoch: 27/100\n",
            "Epoch : 027, Training: Loss - 0.0847, Accuracy - 98.0320%, Validation : Loss - 0.4214, Accuracy - 82.4268%, Time: 66.1684s\n",
            "Epoch-26 learning rate: 4e-06\n",
            "Epoch: 28/100\n",
            "Epoch : 028, Training: Loss - 0.0724, Accuracy - 98.2780%, Validation : Loss - 0.3829, Accuracy - 84.5188%, Time: 66.3903s\n",
            "Epoch-27 learning rate: 4e-06\n",
            "Epoch: 29/100\n",
            "Epoch : 029, Training: Loss - 0.0677, Accuracy - 98.1550%, Validation : Loss - 0.3628, Accuracy - 85.3556%, Time: 66.2019s\n",
            "Epoch-28 learning rate: 4e-06\n",
            "Epoch: 30/100\n",
            "Epoch : 030, Training: Loss - 0.0706, Accuracy - 98.2780%, Validation : Loss - 0.3861, Accuracy - 84.5188%, Time: 66.1062s\n",
            "Epoch-29 learning rate: 4e-06\n",
            "Epoch: 31/100\n",
            "Epoch : 031, Training: Loss - 0.0590, Accuracy - 98.5240%, Validation : Loss - 0.3832, Accuracy - 84.1004%, Time: 66.1077s\n",
            "Epoch-30 learning rate: 4e-06\n",
            "Epoch: 32/100\n",
            "Epoch : 032, Training: Loss - 0.0570, Accuracy - 98.1550%, Validation : Loss - 0.4012, Accuracy - 81.5900%, Time: 65.9821s\n",
            "Epoch-31 learning rate: 4e-06\n",
            "Epoch: 33/100\n",
            "Epoch : 033, Training: Loss - 0.0435, Accuracy - 99.1390%, Validation : Loss - 0.3885, Accuracy - 83.6820%, Time: 66.3588s\n",
            "Epoch-32 learning rate: 4e-06\n",
            "Epoch: 34/100\n",
            "Epoch : 034, Training: Loss - 0.0497, Accuracy - 98.7700%, Validation : Loss - 0.4032, Accuracy - 83.2636%, Time: 66.0146s\n",
            "Epoch-33 learning rate: 4e-06\n",
            "Epoch: 35/100\n",
            "Epoch : 035, Training: Loss - 0.0440, Accuracy - 99.1390%, Validation : Loss - 0.4200, Accuracy - 83.2636%, Time: 66.1803s\n",
            "Epoch-34 learning rate: 4e-06\n",
            "Epoch: 36/100\n",
            "Epoch : 036, Training: Loss - 0.0705, Accuracy - 98.0320%, Validation : Loss - 0.4141, Accuracy - 84.5188%, Time: 66.1133s\n",
            "Epoch-35 learning rate: 4e-06\n",
            "Epoch: 37/100\n",
            "Epoch : 037, Training: Loss - 0.0636, Accuracy - 98.0320%, Validation : Loss - 0.4088, Accuracy - 84.1004%, Time: 66.2209s\n",
            "Epoch-36 learning rate: 4e-06\n",
            "Epoch: 38/100\n",
            "Epoch : 038, Training: Loss - 0.0503, Accuracy - 98.5240%, Validation : Loss - 0.4023, Accuracy - 84.5188%, Time: 66.2541s\n",
            "Epoch-37 learning rate: 4e-06\n",
            "Epoch: 39/100\n",
            "Epoch : 039, Training: Loss - 0.0470, Accuracy - 98.6470%, Validation : Loss - 0.4247, Accuracy - 83.6820%, Time: 66.1632s\n",
            "Epoch-38 learning rate: 4e-06\n",
            "Epoch: 40/100\n",
            "Epoch : 040, Training: Loss - 0.0419, Accuracy - 99.2620%, Validation : Loss - 0.4334, Accuracy - 83.6820%, Time: 66.1800s\n",
            "Epoch-39 learning rate: 4e-06\n",
            "Epoch: 41/100\n",
            "Epoch : 041, Training: Loss - 0.0412, Accuracy - 98.8930%, Validation : Loss - 0.4350, Accuracy - 84.1004%, Time: 65.9840s\n",
            "Epoch-40 learning rate: 4e-06\n",
            "Epoch: 42/100\n",
            "Epoch : 042, Training: Loss - 0.0409, Accuracy - 99.3850%, Validation : Loss - 0.4323, Accuracy - 84.1004%, Time: 66.1959s\n",
            "Epoch-41 learning rate: 4e-06\n",
            "Epoch: 43/100\n",
            "Epoch : 043, Training: Loss - 0.0356, Accuracy - 99.2620%, Validation : Loss - 0.4184, Accuracy - 86.1925%, Time: 66.2693s\n",
            "Epoch-42 learning rate: 4e-06\n",
            "Epoch: 44/100\n",
            "Epoch : 044, Training: Loss - 0.0367, Accuracy - 99.1390%, Validation : Loss - 0.4319, Accuracy - 85.3556%, Time: 66.0676s\n",
            "Epoch-43 learning rate: 4e-06\n",
            "Epoch: 45/100\n",
            "Epoch : 045, Training: Loss - 0.0292, Accuracy - 98.8930%, Validation : Loss - 0.4518, Accuracy - 84.5188%, Time: 66.2340s\n",
            "Epoch-44 learning rate: 4e-06\n",
            "Epoch: 46/100\n",
            "Epoch : 046, Training: Loss - 0.0327, Accuracy - 99.2620%, Validation : Loss - 0.4548, Accuracy - 84.1004%, Time: 66.1029s\n",
            "Epoch-45 learning rate: 4e-06\n",
            "Epoch: 47/100\n",
            "Epoch : 047, Training: Loss - 0.0421, Accuracy - 98.4010%, Validation : Loss - 0.4701, Accuracy - 83.2636%, Time: 66.4222s\n",
            "Epoch-46 learning rate: 4e-06\n",
            "Epoch: 48/100\n",
            "Epoch : 048, Training: Loss - 0.0420, Accuracy - 98.8930%, Validation : Loss - 0.4501, Accuracy - 85.3556%, Time: 66.1175s\n",
            "Epoch-47 learning rate: 4e-06\n",
            "Epoch: 49/100\n",
            "Epoch : 049, Training: Loss - 0.0375, Accuracy - 99.0160%, Validation : Loss - 0.4579, Accuracy - 84.5188%, Time: 66.1489s\n",
            "Epoch-48 learning rate: 4e-06\n",
            "Epoch: 50/100\n",
            "Epoch : 050, Training: Loss - 0.0325, Accuracy - 99.1390%, Validation : Loss - 0.4201, Accuracy - 85.7741%, Time: 66.1249s\n",
            "Epoch-49 learning rate: 4e-06\n",
            "Epoch: 51/100\n",
            "Epoch : 051, Training: Loss - 0.0400, Accuracy - 99.0160%, Validation : Loss - 0.4615, Accuracy - 83.2636%, Time: 66.2928s\n",
            "Epoch-50 learning rate: 4e-06\n",
            "Epoch: 52/100\n",
            "Epoch : 052, Training: Loss - 0.0306, Accuracy - 99.3850%, Validation : Loss - 0.4643, Accuracy - 84.1004%, Time: 66.3471s\n",
            "Epoch-51 learning rate: 4e-06\n",
            "Epoch: 53/100\n",
            "Epoch : 053, Training: Loss - 0.0280, Accuracy - 99.5080%, Validation : Loss - 0.4565, Accuracy - 82.8452%, Time: 65.9817s\n",
            "Epoch-52 learning rate: 4e-06\n",
            "Epoch: 54/100\n",
            "Epoch : 054, Training: Loss - 0.0239, Accuracy - 99.5080%, Validation : Loss - 0.4376, Accuracy - 85.7741%, Time: 65.9528s\n",
            "Epoch-53 learning rate: 4e-06\n",
            "Epoch: 55/100\n",
            "Epoch : 055, Training: Loss - 0.0430, Accuracy - 98.7700%, Validation : Loss - 0.4431, Accuracy - 85.7741%, Time: 66.0610s\n",
            "Epoch-54 learning rate: 4e-06\n",
            "Epoch: 56/100\n",
            "Epoch : 056, Training: Loss - 0.0269, Accuracy - 99.6310%, Validation : Loss - 0.4642, Accuracy - 83.2636%, Time: 66.1315s\n",
            "Epoch-55 learning rate: 4e-06\n",
            "Epoch: 57/100\n",
            "Epoch : 057, Training: Loss - 0.0280, Accuracy - 99.1390%, Validation : Loss - 0.4373, Accuracy - 85.3556%, Time: 66.1898s\n",
            "Epoch-56 learning rate: 4e-06\n",
            "Epoch: 58/100\n",
            "Epoch : 058, Training: Loss - 0.0133, Accuracy - 99.8770%, Validation : Loss - 0.4580, Accuracy - 84.1004%, Time: 66.1943s\n",
            "Epoch-57 learning rate: 4e-06\n",
            "Epoch: 59/100\n",
            "Epoch : 059, Training: Loss - 0.0151, Accuracy - 99.6310%, Validation : Loss - 0.4431, Accuracy - 84.1004%, Time: 66.2117s\n",
            "Epoch-58 learning rate: 4e-06\n",
            "Epoch: 60/100\n",
            "Epoch : 060, Training: Loss - 0.0348, Accuracy - 99.0160%, Validation : Loss - 0.4290, Accuracy - 87.0293%, Time: 66.1514s\n",
            "Epoch-59 learning rate: 4e-06\n",
            "Epoch: 61/100\n",
            "Epoch : 061, Training: Loss - 0.0250, Accuracy - 99.5080%, Validation : Loss - 0.4308, Accuracy - 86.6109%, Time: 66.2170s\n",
            "Epoch-60 learning rate: 4e-06\n",
            "Epoch: 62/100\n",
            "Epoch : 062, Training: Loss - 0.0193, Accuracy - 99.8770%, Validation : Loss - 0.4378, Accuracy - 86.1925%, Time: 66.0056s\n",
            "Epoch-61 learning rate: 4e-06\n",
            "Epoch: 63/100\n",
            "Epoch : 063, Training: Loss - 0.0185, Accuracy - 99.7540%, Validation : Loss - 0.4631, Accuracy - 84.9372%, Time: 66.1493s\n",
            "Epoch-62 learning rate: 4e-06\n",
            "Epoch: 64/100\n",
            "Epoch : 064, Training: Loss - 0.0152, Accuracy - 99.7540%, Validation : Loss - 0.4498, Accuracy - 86.1925%, Time: 65.8131s\n",
            "Epoch-63 learning rate: 4e-06\n",
            "Epoch: 65/100\n",
            "Epoch : 065, Training: Loss - 0.0106, Accuracy - 99.8770%, Validation : Loss - 0.4841, Accuracy - 85.3556%, Time: 65.9472s\n",
            "Epoch-64 learning rate: 4e-06\n",
            "Epoch: 66/100\n",
            "Epoch : 066, Training: Loss - 0.0183, Accuracy - 99.5080%, Validation : Loss - 0.4803, Accuracy - 86.6109%, Time: 66.1655s\n",
            "Epoch-65 learning rate: 4e-06\n",
            "Epoch: 67/100\n",
            "Epoch : 067, Training: Loss - 0.0111, Accuracy - 99.7540%, Validation : Loss - 0.4684, Accuracy - 87.0293%, Time: 66.0720s\n",
            "Epoch-66 learning rate: 4e-06\n",
            "Epoch: 68/100\n",
            "Epoch : 068, Training: Loss - 0.0189, Accuracy - 99.6310%, Validation : Loss - 0.4612, Accuracy - 87.0293%, Time: 65.9902s\n",
            "Epoch-67 learning rate: 4e-06\n",
            "Epoch: 69/100\n",
            "Epoch : 069, Training: Loss - 0.0121, Accuracy - 99.8770%, Validation : Loss - 0.4740, Accuracy - 85.3556%, Time: 66.0506s\n",
            "Epoch-68 learning rate: 4e-06\n",
            "Epoch: 70/100\n",
            "Epoch : 070, Training: Loss - 0.0085, Accuracy - 100.0000%, Validation : Loss - 0.4998, Accuracy - 85.7741%, Time: 65.9839s\n",
            "Epoch-69 learning rate: 4e-06\n",
            "Epoch: 71/100\n",
            "Epoch : 071, Training: Loss - 0.0139, Accuracy - 99.6310%, Validation : Loss - 0.5107, Accuracy - 86.1925%, Time: 66.2258s\n",
            "Epoch-70 learning rate: 4e-06\n",
            "Epoch: 72/100\n",
            "Epoch : 072, Training: Loss - 0.0119, Accuracy - 100.0000%, Validation : Loss - 0.5126, Accuracy - 85.7741%, Time: 65.7399s\n",
            "Epoch-71 learning rate: 4e-06\n",
            "Epoch: 73/100\n",
            "Epoch : 073, Training: Loss - 0.0085, Accuracy - 99.8770%, Validation : Loss - 0.5068, Accuracy - 85.3556%, Time: 65.2551s\n",
            "Epoch-72 learning rate: 4e-06\n",
            "Epoch: 74/100\n",
            "Epoch : 074, Training: Loss - 0.0082, Accuracy - 99.8770%, Validation : Loss - 0.4978, Accuracy - 87.0293%, Time: 65.2244s\n",
            "Epoch-73 learning rate: 4e-06\n",
            "Epoch: 75/100\n",
            "Epoch : 075, Training: Loss - 0.0081, Accuracy - 99.7540%, Validation : Loss - 0.5114, Accuracy - 87.0293%, Time: 65.2697s\n",
            "Epoch-74 learning rate: 4e-06\n",
            "Epoch: 76/100\n",
            "Epoch : 076, Training: Loss - 0.0064, Accuracy - 100.0000%, Validation : Loss - 0.5183, Accuracy - 85.7741%, Time: 65.1588s\n",
            "Epoch-75 learning rate: 4e-06\n",
            "Epoch: 77/100\n",
            "Epoch : 077, Training: Loss - 0.0220, Accuracy - 99.5080%, Validation : Loss - 0.4983, Accuracy - 86.1925%, Time: 65.1511s\n",
            "Epoch-76 learning rate: 4e-06\n",
            "Epoch: 78/100\n",
            "Epoch : 078, Training: Loss - 0.0107, Accuracy - 99.8770%, Validation : Loss - 0.5271, Accuracy - 87.0293%, Time: 65.0856s\n",
            "Epoch-77 learning rate: 4e-06\n",
            "Epoch: 79/100\n",
            "Epoch : 079, Training: Loss - 0.0108, Accuracy - 99.6310%, Validation : Loss - 0.4795, Accuracy - 87.4477%, Time: 65.1542s\n",
            "Epoch-78 learning rate: 4e-06\n",
            "Epoch: 80/100\n",
            "Epoch : 080, Training: Loss - 0.0086, Accuracy - 100.0000%, Validation : Loss - 0.5043, Accuracy - 86.6109%, Time: 64.9999s\n",
            "Epoch-79 learning rate: 4e-06\n",
            "Epoch: 81/100\n",
            "Epoch : 081, Training: Loss - 0.0109, Accuracy - 99.7540%, Validation : Loss - 0.5083, Accuracy - 87.0293%, Time: 65.1911s\n",
            "Epoch-80 learning rate: 4e-06\n",
            "Epoch: 82/100\n",
            "Epoch : 082, Training: Loss - 0.0065, Accuracy - 100.0000%, Validation : Loss - 0.5006, Accuracy - 87.0293%, Time: 65.0172s\n",
            "Epoch-81 learning rate: 4e-06\n",
            "Epoch: 83/100\n",
            "Epoch : 083, Training: Loss - 0.0049, Accuracy - 100.0000%, Validation : Loss - 0.5108, Accuracy - 87.0293%, Time: 65.1953s\n",
            "Epoch-82 learning rate: 4e-06\n",
            "Epoch: 84/100\n",
            "Epoch : 084, Training: Loss - 0.0126, Accuracy - 99.6310%, Validation : Loss - 0.5015, Accuracy - 86.6109%, Time: 65.0346s\n",
            "Epoch-83 learning rate: 4e-06\n",
            "Epoch: 85/100\n",
            "Epoch : 085, Training: Loss - 0.0121, Accuracy - 99.8770%, Validation : Loss - 0.5011, Accuracy - 86.6109%, Time: 65.1885s\n",
            "Epoch-84 learning rate: 4e-06\n",
            "Epoch: 86/100\n",
            "Epoch : 086, Training: Loss - 0.0093, Accuracy - 99.6310%, Validation : Loss - 0.4789, Accuracy - 87.0293%, Time: 65.2020s\n",
            "Epoch-85 learning rate: 4e-06\n",
            "Epoch: 87/100\n",
            "Epoch : 087, Training: Loss - 0.0120, Accuracy - 99.6310%, Validation : Loss - 0.4839, Accuracy - 87.4477%, Time: 65.1472s\n",
            "Epoch-86 learning rate: 4e-06\n",
            "Epoch: 88/100\n",
            "Epoch : 088, Training: Loss - 0.0075, Accuracy - 99.8770%, Validation : Loss - 0.4990, Accuracy - 86.1925%, Time: 65.1595s\n",
            "Epoch-87 learning rate: 4e-06\n",
            "Epoch: 89/100\n",
            "Epoch : 089, Training: Loss - 0.0092, Accuracy - 99.7540%, Validation : Loss - 0.5090, Accuracy - 86.1925%, Time: 65.0813s\n",
            "Epoch-88 learning rate: 4e-06\n",
            "Epoch: 90/100\n",
            "Epoch : 090, Training: Loss - 0.0050, Accuracy - 100.0000%, Validation : Loss - 0.5204, Accuracy - 86.6109%, Time: 65.0210s\n",
            "Epoch-89 learning rate: 4e-06\n",
            "Epoch: 91/100\n",
            "Epoch : 091, Training: Loss - 0.0040, Accuracy - 100.0000%, Validation : Loss - 0.5178, Accuracy - 86.1925%, Time: 65.0370s\n",
            "Epoch-90 learning rate: 4e-06\n",
            "Epoch: 92/100\n",
            "Epoch : 092, Training: Loss - 0.0071, Accuracy - 99.8770%, Validation : Loss - 0.5076, Accuracy - 86.6109%, Time: 65.0362s\n",
            "Epoch-91 learning rate: 4e-06\n",
            "Epoch: 93/100\n",
            "Epoch : 093, Training: Loss - 0.0077, Accuracy - 99.8770%, Validation : Loss - 0.4816, Accuracy - 87.0293%, Time: 65.0902s\n",
            "Epoch-92 learning rate: 4e-06\n",
            "Epoch: 94/100\n",
            "Epoch : 094, Training: Loss - 0.0114, Accuracy - 99.7540%, Validation : Loss - 0.4666, Accuracy - 86.6109%, Time: 65.3553s\n",
            "Epoch-93 learning rate: 4e-06\n",
            "Epoch: 95/100\n",
            "Epoch : 095, Training: Loss - 0.0087, Accuracy - 99.8770%, Validation : Loss - 0.4797, Accuracy - 87.0293%, Time: 65.8121s\n",
            "Epoch-94 learning rate: 4e-06\n",
            "Epoch: 96/100\n",
            "Epoch : 096, Training: Loss - 0.0041, Accuracy - 100.0000%, Validation : Loss - 0.5152, Accuracy - 85.7741%, Time: 65.7603s\n",
            "Epoch-95 learning rate: 4e-06\n",
            "Epoch: 97/100\n",
            "Epoch : 097, Training: Loss - 0.0036, Accuracy - 100.0000%, Validation : Loss - 0.4968, Accuracy - 86.1925%, Time: 65.9491s\n",
            "Epoch-96 learning rate: 4e-06\n",
            "Epoch: 98/100\n",
            "Epoch : 098, Training: Loss - 0.0060, Accuracy - 99.8770%, Validation : Loss - 0.5088, Accuracy - 86.6109%, Time: 65.8526s\n",
            "Epoch-97 learning rate: 4e-06\n",
            "Epoch: 99/100\n",
            "Epoch : 099, Training: Loss - 0.0040, Accuracy - 100.0000%, Validation : Loss - 0.5354, Accuracy - 86.6109%, Time: 66.0874s\n",
            "Epoch-98 learning rate: 4e-06\n",
            "Epoch: 100/100\n",
            "Epoch : 100, Training: Loss - 0.0029, Accuracy - 100.0000%, Validation : Loss - 0.5581, Accuracy - 85.3556%, Time: 65.8497s\n",
            "Epoch-99 learning rate: 4e-06\n"
          ],
          "name": "stdout"
        }
      ]
    },
    {
      "cell_type": "code",
      "metadata": {
        "id": "HigTVpI3JjHv",
        "colab": {
          "base_uri": "https://localhost:8080/"
        },
        "outputId": "5e9f4c0e-5553-4cc1-ec18-396a68cf4f05"
      },
      "source": [
        "print(\"Thoi gian training: \",end-start)"
      ],
      "execution_count": null,
      "outputs": [
        {
          "output_type": "stream",
          "text": [
            "Thoi gian training:  7190.908127069473\n"
          ],
          "name": "stdout"
        }
      ]
    },
    {
      "cell_type": "code",
      "metadata": {
        "id": "ODgSE9IXX09u",
        "colab": {
          "base_uri": "https://localhost:8080/"
        },
        "outputId": "735a31e6-d929-454d-e0d8-c1831601efcb"
      },
      "source": [
        "#save model\n",
        "import time\n",
        "from datetime import date\n",
        "today = date.today()\n",
        "d1 = today.strftime(\"%d%m%Y\")\n",
        "print(\"d1 =\", d1)\n",
        "torch.save(trained_model, '/content/drive/My Drive/DetectBrainTumor/model/pytorch_data_old/model_inceptionresnetv2_'+str(d1)+'.pt')"
      ],
      "execution_count": null,
      "outputs": [
        {
          "output_type": "stream",
          "text": [
            "d1 = 29062021\n"
          ],
          "name": "stdout"
        }
      ]
    },
    {
      "cell_type": "code",
      "metadata": {
        "id": "pdsNnsHaX2fa"
      },
      "source": [
        "import pickle\n",
        "with open('/content/drive/My Drive/DetectBrainTumor/result/pytorch_data_old/history_inceptionresnetv2.pickle', 'wb') as f:\n",
        "    pickle.dump([history], f)\n",
        "\n",
        "# with open('/content/drive/My Drive/DetectBrainTumor/result/pytorch/time_inceptionresnetv2.pickle', 'wb') as f:\n",
        "#     pickle.dump(arr_time, f)"
      ],
      "execution_count": null,
      "outputs": []
    },
    {
      "cell_type": "code",
      "metadata": {
        "id": "uKg5tSsGdxRW"
      },
      "source": [
        "loss_train = []\n",
        "loss_val = []\n",
        "acc_train = []\n",
        "acc_val = []\n",
        "\n",
        "for i in range(len(history)):\n",
        "  loss_train.append(history[i][0])\n",
        "  loss_val.append(history[i][1])\n",
        "  acc_train.append(history[i][2])\n",
        "  acc_val.append(history[i][3])"
      ],
      "execution_count": null,
      "outputs": []
    },
    {
      "cell_type": "code",
      "metadata": {
        "id": "pB0-ZXLqI5fZ",
        "colab": {
          "base_uri": "https://localhost:8080/",
          "height": 457
        },
        "outputId": "ad852221-9f4c-4f89-9b1a-c9cc6812fea3"
      },
      "source": [
        "# summarize history for accuracy\n",
        "fig,a =  plt.subplots(1, 2, figsize=(16,7))\n",
        "a[0].plot(acc_train)\n",
        "a[0].plot(acc_val)\n",
        "a[0].set_title('model accuracy')\n",
        "a[0].set_ylabel('accuracy')\n",
        "a[0].set_xlabel('epoch')\n",
        "a[0].legend(['train', 'val'], loc='upper left')\n",
        "# summarize history for loss for epoch\n",
        "# plt.figure(figsize=(10,10))\n",
        "a[1].plot(loss_train)\n",
        "a[1].plot(loss_val)\n",
        "a[1].set_title('model loss')\n",
        "a[1].set_ylabel('loss')\n",
        "a[1].set_xlabel('epoch')\n",
        "a[1].legend(['train', 'val'], loc='upper left')\n",
        "plt.show()"
      ],
      "execution_count": null,
      "outputs": [
        {
          "output_type": "display_data",
          "data": {
            "image/png": "[encoded data removed]",
            "text/plain": [
              "<Figure size 1152x504 with 2 Axes>"
            ]
          },
          "metadata": {
            "tags": [],
            "needs_background": "light"
          }
        }
      ]
    }
  ]
}