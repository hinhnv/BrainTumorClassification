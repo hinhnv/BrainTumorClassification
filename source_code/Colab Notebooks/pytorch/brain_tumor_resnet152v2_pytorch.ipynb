{
  "nbformat": 4,
  "nbformat_minor": 0,
  "metadata": {
    "accelerator": "GPU",
    "colab": {
      "name": "brain_tumor_resnet152v2_pytorch.ipynb",
      "provenance": [],
      "collapsed_sections": []
    },
    "kernelspec": {
      "display_name": "Python 3",
      "name": "python3"
    },
    "language_info": {
      "name": "python"
    }
  },
  "cells": [
    {
      "cell_type": "code",
      "metadata": {
        "colab": {
          "base_uri": "https://localhost:8080/"
        },
        "id": "al_XWgRp3EzB",
        "outputId": "5a0303aa-4b61-47a0-b16d-81534eb3aac2"
      },
      "source": [
        "from google.colab import drive\n",
        "drive.mount('/content/drive')"
      ],
      "execution_count": null,
      "outputs": [
        {
          "output_type": "stream",
          "text": [
            "Drive already mounted at /content/drive; to attempt to forcibly remount, call drive.mount(\"/content/drive\", force_remount=True).\n"
          ],
          "name": "stdout"
        }
      ]
    },
    {
      "cell_type": "code",
      "metadata": {
        "colab": {
          "base_uri": "https://localhost:8080/"
        },
        "id": "GPMeqQO6AP2D",
        "outputId": "802647cf-d186-4caf-d35e-76a4abc00a3a"
      },
      "source": [
        "%cd /content/drive/My Drive/Adas/src\n",
        "from adas import Adas"
      ],
      "execution_count": null,
      "outputs": [
        {
          "output_type": "stream",
          "text": [
            "/content/drive/My Drive/Adas/src\n"
          ],
          "name": "stdout"
        }
      ]
    },
    {
      "cell_type": "code",
      "metadata": {
        "id": "jrQMAMh7ARMZ"
      },
      "source": [
        "import matplotlib.pyplot as plt\n",
        "from torchvision import datasets, models, transforms\n",
        "import helper\n",
        "import torch.nn as nn\n",
        "import torch.nn.functional as F\n",
        "import torch.optim as optim\n",
        "\n",
        "from torchvision import datasets\n",
        "from torchvision import transforms\n",
        "import matplotlib.pyplot as plt\n",
        "import torch, torchvision\n",
        "from torch.utils.data import DataLoader\n",
        "import time\n",
        "from torchsummary import summary\n",
        "import numpy as np\n",
        "import os\n",
        "\n",
        "from PIL import Image"
      ],
      "execution_count": null,
      "outputs": []
    },
    {
      "cell_type": "code",
      "metadata": {
        "id": "B_IymEbSAWFo"
      },
      "source": [
        "IMAGE_SIZE = 256\n",
        "batch_size = 16\n",
        "\n",
        "DATADIR_TRAIN = \"/content/drive/My Drive/DetectBrainTumor/data_15062021/T2_Train/\"\n",
        "DATADIR_VAL = \"/content/drive/My Drive/DetectBrainTumor/data_15062021/T2_Val/\""
      ],
      "execution_count": null,
      "outputs": []
    },
    {
      "cell_type": "code",
      "metadata": {
        "id": "_dG28e-KICv6"
      },
      "source": [
        "# Applying Transforms to the Data\n",
        "train_transform = transforms.Compose([\n",
        "        transforms.RandomResizedCrop(size=256, scale=(0.8, 1.0)),\n",
        "        transforms.RandomRotation(degrees=15),\n",
        "        transforms.RandomHorizontalFlip(),\n",
        "        transforms.CenterCrop(size=224),\n",
        "        transforms.ToTensor(),\n",
        "        transforms.Normalize([0.485, 0.456, 0.406],\n",
        "                             [0.229, 0.224, 0.225])\n",
        "    ])\n",
        "\n",
        "test_transform = transforms.Compose([\n",
        "        transforms.Resize(size=256),\n",
        "        transforms.CenterCrop(size=224),\n",
        "        transforms.ToTensor(),\n",
        "        transforms.Normalize([0.485, 0.456, 0.406],\n",
        "                             [0.229, 0.224, 0.225])\n",
        "    ])"
      ],
      "execution_count": null,
      "outputs": []
    },
    {
      "cell_type": "code",
      "metadata": {
        "id": "8JuOKAOLAi0X"
      },
      "source": [
        "train_data = datasets.ImageFolder(DATADIR_TRAIN, transform=train_transform)                                       \n",
        "val_data = datasets.ImageFolder(DATADIR_VAL, transform=test_transform)\n",
        "\n",
        "#Data Loading\n",
        "train_loader = torch.utils.data.DataLoader(train_data, batch_size=batch_size, shuffle=True)\n",
        "val_loader = torch.utils.data.DataLoader(val_data, batch_size=batch_size, shuffle=True)"
      ],
      "execution_count": null,
      "outputs": []
    },
    {
      "cell_type": "code",
      "metadata": {
        "id": "aOZ-WlKeJUnb"
      },
      "source": [
        "classes = ('YES', 'NO')"
      ],
      "execution_count": null,
      "outputs": []
    },
    {
      "cell_type": "code",
      "metadata": {
        "id": "kTT7H1l_NvJr"
      },
      "source": [
        "train_data_size = len(train_data)\n",
        "test_data_size = len(val_data)"
      ],
      "execution_count": null,
      "outputs": []
    },
    {
      "cell_type": "code",
      "metadata": {
        "id": "PmgAbQbVJbqn"
      },
      "source": [
        "# import matplotlib.pyplot as plt\n",
        "# import numpy as np\n",
        "\n",
        "# # functions to show an image\n",
        "\n",
        "\n",
        "# def imshow(img):\n",
        "#     img = img / 2 + 0.5     # unnormalize\n",
        "#     npimg = img.numpy()\n",
        "#     plt.imshow(np.transpose(npimg, (1, 2, 0)))\n",
        "#     plt.show()\n",
        "\n",
        "\n",
        "# # get some random training images\n",
        "# dataiter = iter(train_loader)\n",
        "# images, labels = dataiter.next()\n",
        "\n",
        "# # show images\n",
        "# imshow(torchvision.utils.make_grid(images))\n",
        "# # print labels\n",
        "# print(' '.join('%5s' % classes[labels[j]] for j in range(2)))"
      ],
      "execution_count": null,
      "outputs": []
    },
    {
      "cell_type": "code",
      "metadata": {
        "id": "JP2vIpVTXMPE"
      },
      "source": [
        "device = torch.device(\"cuda:0\" if torch.cuda.is_available() else \"cpu\")"
      ],
      "execution_count": null,
      "outputs": []
    },
    {
      "cell_type": "code",
      "metadata": {
        "id": "CJAOJSrCDEdY"
      },
      "source": [
        "# Load pretrained ResNet50 Model\n",
        "model_class = models.resnet152(pretrained=True)"
      ],
      "execution_count": null,
      "outputs": []
    },
    {
      "cell_type": "code",
      "metadata": {
        "id": "qWHwvjeWOVSJ"
      },
      "source": [
        "# Freeze model parameters\n",
        "# for param in model_class.parameters():\n",
        "#     param.requires_grad = False"
      ],
      "execution_count": null,
      "outputs": []
    },
    {
      "cell_type": "code",
      "metadata": {
        "id": "yKCG2en0o-71"
      },
      "source": [
        "# fc_inputs = model_class.fc.in_features\n",
        "# fc_inputs"
      ],
      "execution_count": null,
      "outputs": []
    },
    {
      "cell_type": "code",
      "metadata": {
        "id": "nE_07JDiOW8w"
      },
      "source": [
        "# Change the final layer of ResNet50 Model for Transfer Learning\n",
        "fc_inputs = model_class.fc.in_features\n",
        "\n",
        "model_class.fc = nn.Sequential(\n",
        "    nn.Linear(fc_inputs, 128),\n",
        "    nn.ReLU(),\n",
        "    nn.Dropout(0.3),\n",
        "    nn.Flatten(),\n",
        "    nn.Dropout(0.5),\n",
        "    nn.Linear(128, 2), # Since 100 possible outputs\n",
        "    nn.LogSoftmax(dim=1) # For using NLLLoss()\n",
        ")\n",
        "\n",
        "# Convert model to be used on GPU\n",
        "model_class = model_class.to(device)"
      ],
      "execution_count": null,
      "outputs": []
    },
    {
      "cell_type": "code",
      "metadata": {
        "id": "921-fqC4Ocep"
      },
      "source": [
        "def train_and_validate(model, scheduler, loss_criterion, optimizer, epochs):\n",
        "    '''\n",
        "    Function to train and validate\n",
        "    Parameters\n",
        "        :param model: Model to train and validate\n",
        "        :param loss_criterion: Loss Criterion to minimize\n",
        "        :param optimizer: Optimizer for computing gradients\n",
        "        :param epochs: Number of epochs (default=25)\n",
        "  \n",
        "    Returns\n",
        "        model: Trained Model with best validation accuracy\n",
        "        history: (dict object): Having training loss, accuracy and validation loss, accuracy\n",
        "    '''\n",
        "    \n",
        "    start = time.time()\n",
        "    history = []\n",
        "    best_loss = 100000.0\n",
        "    best_epoch = None\n",
        "    flag = 0\n",
        "\n",
        "    for epoch in range(epochs):\n",
        "        epoch_start = time.time()\n",
        "        print(\"Epoch: {}/{}\".format(epoch+1, epochs))\n",
        "        \n",
        "        # Set to training mode\n",
        "        model.train()\n",
        "        \n",
        "        # Loss and Accuracy within the epoch\n",
        "        train_loss = 0.0\n",
        "        train_acc = 0.0\n",
        "        \n",
        "        valid_loss = 0.0\n",
        "        valid_acc = 0.0\n",
        "        \n",
        "        for i, (inputs, labels) in enumerate(train_loader):\n",
        "\n",
        "            inputs = inputs.to(device)\n",
        "            labels = labels.to(device)\n",
        "            \n",
        "            # Clean existing gradients\n",
        "            optimizer.zero_grad()\n",
        "            \n",
        "            # Forward pass - compute outputs on input data using the model\n",
        "            outputs = model(inputs)\n",
        "            \n",
        "            # Compute loss\n",
        "            loss = loss_criterion(outputs, labels)\n",
        "            \n",
        "            # Backpropagate the gradients\n",
        "            loss.backward()\n",
        "            \n",
        "            # Update the parameters\n",
        "            optimizer.step()\n",
        "            \n",
        "            \n",
        "            # Compute the total loss for the batch and add it to train_loss\n",
        "            train_loss += loss.item() * inputs.size(0)\n",
        "            \n",
        "            # Compute the accuracy\n",
        "            ret, predictions = torch.max(outputs.data, 1)\n",
        "            correct_counts = predictions.eq(labels.data.view_as(predictions))\n",
        "            \n",
        "            # Convert correct_counts to float and then compute the mean\n",
        "            acc = torch.mean(correct_counts.type(torch.FloatTensor))\n",
        "            \n",
        "            # Compute total accuracy in the whole batch and add to train_acc\n",
        "            train_acc += acc.item() * inputs.size(0)\n",
        "            \n",
        "            #print(\"Batch number: {:03d}, Training: Loss: {:.4f}, Accuracy: {:.4f}\".format(i, loss.item(), acc.item()))\n",
        "\n",
        "        \n",
        "        # Validation - No gradient tracking needed\n",
        "        with torch.no_grad():\n",
        "\n",
        "            # Set to evaluation mode\n",
        "            model.eval()\n",
        "\n",
        "            # Validation loop\n",
        "            for j, (inputs, labels) in enumerate(val_loader):\n",
        "                inputs = inputs.to(device)\n",
        "                labels = labels.to(device)\n",
        "\n",
        "                # Forward pass - compute outputs on input data using the model\n",
        "                outputs = model(inputs)\n",
        "\n",
        "                # Compute loss\n",
        "                loss = loss_criterion(outputs, labels)\n",
        "\n",
        "                # Compute the total loss for the batch and add it to valid_loss\n",
        "                valid_loss += loss.item() * inputs.size(0)\n",
        "\n",
        "                # Calculate validation accuracy\n",
        "                ret, predictions = torch.max(outputs.data, 1)\n",
        "                correct_counts = predictions.eq(labels.data.view_as(predictions))\n",
        "\n",
        "                # Convert correct_counts to float and then compute the mean\n",
        "                acc = torch.mean(correct_counts.type(torch.FloatTensor))\n",
        "\n",
        "                # Compute total accuracy in the whole batch and add to valid_acc\n",
        "                valid_acc += acc.item() * inputs.size(0)\n",
        "                # if not j%100:\n",
        "                #   print(\"Validation Batch number: {:03d}, Validation: Loss: {:.4f}, Accuracy: {:.4f}\".format(j, loss.item(), acc.item()))\n",
        "        if valid_loss < best_loss:\n",
        "            best_loss = valid_loss\n",
        "            best_epoch = epoch\n",
        "\n",
        "        # Find average training loss and training accuracy\n",
        "        avg_train_loss = train_loss/train_data_size \n",
        "        avg_train_acc = train_acc/train_data_size\n",
        "\n",
        "        # Find average training loss and training accuracy\n",
        "        avg_valid_loss = valid_loss/test_data_size \n",
        "        avg_valid_acc = valid_acc/test_data_size\n",
        "\n",
        "        history.append([avg_train_loss, avg_valid_loss, avg_train_acc, avg_valid_acc])\n",
        "                \n",
        "        epoch_end = time.time()\n",
        "    \n",
        "        print(\"Epoch : {:03d}, Training: Loss - {:.4f}, Accuracy - {:.4f}%, Validation : Loss - {:.4f}, Accuracy - {:.4f}%, Time: {:.4f}s\".format(epoch+1, avg_train_loss, avg_train_acc*100, avg_valid_loss, avg_valid_acc*100, epoch_end-epoch_start))\n",
        "\n",
        "        #reduce lr\n",
        "        \n",
        "        if avg_valid_acc*100 > 90.5:\n",
        "          flag = 1\n",
        "\n",
        "        if flag == 1:\n",
        "          scheduler.step(avg_valid_loss)\n",
        "        \n",
        "        print('Epoch-{0} learning rate: {1}'.format(epoch, optimizer.param_groups[0]['lr']))\n",
        "\n",
        "        # Save if the model has best accuracy till now\n",
        "        # torch.save(model, 'model_'+str(epoch)+'.pt')\n",
        "        # optimizer.epoch_step(epoch)       \n",
        "    return model, history, best_epoch"
      ],
      "execution_count": null,
      "outputs": []
    },
    {
      "cell_type": "code",
      "metadata": {
        "id": "Jx6C95OqFFT1"
      },
      "source": [
        "# Define Optimizer and Loss Function\n",
        "# loss_func = nn.NLLLoss()\n",
        "loss_func = nn.CrossEntropyLoss()\n",
        "optimizer = optim.Adam(params=list(model_class.parameters()), lr=3e-6)"
      ],
      "execution_count": null,
      "outputs": []
    },
    {
      "cell_type": "code",
      "metadata": {
        "colab": {
          "base_uri": "https://localhost:8080/"
        },
        "id": "BR6dTBifOhoW",
        "outputId": "736ba2d0-f6f4-4c02-bb04-359c6e7f188f"
      },
      "source": [
        "num_epochs = 100\n",
        "\n",
        "start = time.time()\n",
        "\n",
        "# trained_model, history, best_epoch = train_and_validate(model_class, loss_func, optimizer, num_epochs)\n",
        "\n",
        "# scheduler = optim.lr_scheduler.MultiStepLR(optimizer, milestones=[20,35], gamma=0.1)\n",
        "# scheduler = optim.lr_scheduler.StepLR(optimizer, step_size=2, gamma=torch.exp(-0.1))\n",
        "\n",
        "# lambda1 = lambda epoch: torch.exp(-1) ** epoch\n",
        "# scheduler = torch.optim.lr_scheduler.LambdaLR(optimizer, lr_lambda=lambda1)\n",
        "\n",
        "scheduler = torch.optim.lr_scheduler.ReduceLROnPlateau(optimizer, mode='min', factor= 0.9, patience=3, threshold=0.0001, threshold_mode='abs')\n",
        "\n",
        "trained_model, history, best_epoch = train_and_validate(model_class, scheduler, loss_func, optimizer, num_epochs)\n",
        "\n",
        "end = time.time()\n",
        "# torch.save(history, 'history.pt')"
      ],
      "execution_count": null,
      "outputs": [
        {
          "output_type": "stream",
          "text": [
            "Epoch: 1/100\n"
          ],
          "name": "stdout"
        },
        {
          "output_type": "stream",
          "text": [
            "/usr/local/lib/python3.7/dist-packages/torch/nn/functional.py:718: UserWarning: Named tensors and all their associated APIs are an experimental feature and subject to change. Please do not use them for anything important until they are released as stable. (Triggered internally at  /pytorch/c10/core/TensorImpl.h:1156.)\n",
            "  return torch.max_pool2d(input, kernel_size, stride, padding, dilation, ceil_mode)\n"
          ],
          "name": "stderr"
        },
        {
          "output_type": "stream",
          "text": [
            "Epoch : 001, Training: Loss - 0.6925, Accuracy - 54.8585%, Validation : Loss - 0.6812, Accuracy - 59.4142%, Time: 28.2332s\n",
            "Epoch-0 learning rate: 3e-06\n",
            "Epoch: 2/100\n",
            "Epoch : 002, Training: Loss - 0.6610, Accuracy - 60.8856%, Validation : Loss - 0.6494, Accuracy - 72.8033%, Time: 28.4061s\n",
            "Epoch-1 learning rate: 3e-06\n",
            "Epoch: 3/100\n",
            "Epoch : 003, Training: Loss - 0.6248, Accuracy - 69.9877%, Validation : Loss - 0.6204, Accuracy - 75.3138%, Time: 28.5545s\n",
            "Epoch-2 learning rate: 3e-06\n",
            "Epoch: 4/100\n",
            "Epoch : 004, Training: Loss - 0.5867, Accuracy - 74.6617%, Validation : Loss - 0.5875, Accuracy - 76.9874%, Time: 28.7315s\n",
            "Epoch-3 learning rate: 3e-06\n",
            "Epoch: 5/100\n",
            "Epoch : 005, Training: Loss - 0.5288, Accuracy - 79.5818%, Validation : Loss - 0.5451, Accuracy - 78.2427%, Time: 28.9199s\n",
            "Epoch-4 learning rate: 3e-06\n",
            "Epoch: 6/100\n",
            "Epoch : 006, Training: Loss - 0.4670, Accuracy - 84.6248%, Validation : Loss - 0.5030, Accuracy - 79.0795%, Time: 29.1684s\n",
            "Epoch-5 learning rate: 3e-06\n",
            "Epoch: 7/100\n",
            "Epoch : 007, Training: Loss - 0.4115, Accuracy - 87.5769%, Validation : Loss - 0.4509, Accuracy - 81.5900%, Time: 29.3990s\n",
            "Epoch-6 learning rate: 3e-06\n",
            "Epoch: 8/100\n",
            "Epoch : 008, Training: Loss - 0.3654, Accuracy - 88.6839%, Validation : Loss - 0.4112, Accuracy - 83.2636%, Time: 29.3884s\n",
            "Epoch-7 learning rate: 3e-06\n",
            "Epoch: 9/100\n",
            "Epoch : 009, Training: Loss - 0.3377, Accuracy - 89.5449%, Validation : Loss - 0.3870, Accuracy - 84.1004%, Time: 29.2939s\n",
            "Epoch-8 learning rate: 3e-06\n",
            "Epoch: 10/100\n",
            "Epoch : 010, Training: Loss - 0.2962, Accuracy - 91.3899%, Validation : Loss - 0.3644, Accuracy - 84.5188%, Time: 29.3812s\n",
            "Epoch-9 learning rate: 3e-06\n",
            "Epoch: 11/100\n",
            "Epoch : 011, Training: Loss - 0.2527, Accuracy - 93.6039%, Validation : Loss - 0.3484, Accuracy - 84.1004%, Time: 29.2577s\n",
            "Epoch-10 learning rate: 3e-06\n",
            "Epoch: 12/100\n",
            "Epoch : 012, Training: Loss - 0.2544, Accuracy - 92.4969%, Validation : Loss - 0.3425, Accuracy - 83.2636%, Time: 29.3410s\n",
            "Epoch-11 learning rate: 3e-06\n",
            "Epoch: 13/100\n",
            "Epoch : 013, Training: Loss - 0.2184, Accuracy - 94.0959%, Validation : Loss - 0.3258, Accuracy - 83.2636%, Time: 29.3632s\n",
            "Epoch-12 learning rate: 3e-06\n",
            "Epoch: 14/100\n",
            "Epoch : 014, Training: Loss - 0.1901, Accuracy - 95.3260%, Validation : Loss - 0.3144, Accuracy - 84.1004%, Time: 29.3295s\n",
            "Epoch-13 learning rate: 3e-06\n",
            "Epoch: 15/100\n",
            "Epoch : 015, Training: Loss - 0.1569, Accuracy - 96.8020%, Validation : Loss - 0.3007, Accuracy - 84.9372%, Time: 29.2640s\n",
            "Epoch-14 learning rate: 3e-06\n",
            "Epoch: 16/100\n",
            "Epoch : 016, Training: Loss - 0.1680, Accuracy - 95.5720%, Validation : Loss - 0.2972, Accuracy - 84.5188%, Time: 29.4035s\n",
            "Epoch-15 learning rate: 3e-06\n",
            "Epoch: 17/100\n",
            "Epoch : 017, Training: Loss - 0.1860, Accuracy - 94.5879%, Validation : Loss - 0.2662, Accuracy - 87.4477%, Time: 29.3081s\n",
            "Epoch-16 learning rate: 3e-06\n",
            "Epoch: 18/100\n",
            "Epoch : 018, Training: Loss - 0.1353, Accuracy - 96.8020%, Validation : Loss - 0.2657, Accuracy - 89.9582%, Time: 29.3213s\n",
            "Epoch-17 learning rate: 3e-06\n",
            "Epoch: 19/100\n",
            "Epoch : 019, Training: Loss - 0.1320, Accuracy - 96.4330%, Validation : Loss - 0.2576, Accuracy - 87.8661%, Time: 29.3489s\n",
            "Epoch-18 learning rate: 3e-06\n",
            "Epoch: 20/100\n",
            "Epoch : 020, Training: Loss - 0.1277, Accuracy - 96.9250%, Validation : Loss - 0.2583, Accuracy - 90.3766%, Time: 29.3586s\n",
            "Epoch-19 learning rate: 3e-06\n",
            "Epoch: 21/100\n",
            "Epoch : 021, Training: Loss - 0.1032, Accuracy - 97.1710%, Validation : Loss - 0.2524, Accuracy - 87.8661%, Time: 29.3336s\n",
            "Epoch-20 learning rate: 3e-06\n",
            "Epoch: 22/100\n",
            "Epoch : 022, Training: Loss - 0.1019, Accuracy - 97.4170%, Validation : Loss - 0.2421, Accuracy - 90.7950%, Time: 29.3716s\n",
            "Epoch-21 learning rate: 3e-06\n",
            "Epoch: 23/100\n",
            "Epoch : 023, Training: Loss - 0.0957, Accuracy - 97.6630%, Validation : Loss - 0.2524, Accuracy - 92.0502%, Time: 29.3389s\n",
            "Epoch-22 learning rate: 3e-06\n",
            "Epoch: 24/100\n",
            "Epoch : 024, Training: Loss - 0.0855, Accuracy - 98.0320%, Validation : Loss - 0.2435, Accuracy - 92.4686%, Time: 29.3526s\n",
            "Epoch-23 learning rate: 3e-06\n",
            "Epoch: 25/100\n",
            "Epoch : 025, Training: Loss - 0.0780, Accuracy - 98.2780%, Validation : Loss - 0.2408, Accuracy - 89.9582%, Time: 29.2436s\n",
            "Epoch-24 learning rate: 3e-06\n",
            "Epoch: 26/100\n",
            "Epoch : 026, Training: Loss - 0.0728, Accuracy - 98.6470%, Validation : Loss - 0.2394, Accuracy - 92.4686%, Time: 29.3273s\n",
            "Epoch-25 learning rate: 3e-06\n",
            "Epoch: 27/100\n",
            "Epoch : 027, Training: Loss - 0.0699, Accuracy - 98.5240%, Validation : Loss - 0.2398, Accuracy - 92.0502%, Time: 29.4169s\n",
            "Epoch-26 learning rate: 3e-06\n",
            "Epoch: 28/100\n",
            "Epoch : 028, Training: Loss - 0.0624, Accuracy - 98.7700%, Validation : Loss - 0.2363, Accuracy - 92.4686%, Time: 29.2710s\n",
            "Epoch-27 learning rate: 3e-06\n",
            "Epoch: 29/100\n",
            "Epoch : 029, Training: Loss - 0.0587, Accuracy - 98.8930%, Validation : Loss - 0.2398, Accuracy - 90.3766%, Time: 29.3270s\n",
            "Epoch-28 learning rate: 3e-06\n",
            "Epoch: 30/100\n",
            "Epoch : 030, Training: Loss - 0.0679, Accuracy - 98.6470%, Validation : Loss - 0.2439, Accuracy - 90.3766%, Time: 29.3655s\n",
            "Epoch-29 learning rate: 3e-06\n",
            "Epoch: 31/100\n",
            "Epoch : 031, Training: Loss - 0.0635, Accuracy - 98.8930%, Validation : Loss - 0.2384, Accuracy - 91.6318%, Time: 29.2597s\n",
            "Epoch-30 learning rate: 3e-06\n",
            "Epoch: 32/100\n",
            "Epoch : 032, Training: Loss - 0.0395, Accuracy - 99.5080%, Validation : Loss - 0.2388, Accuracy - 92.0502%, Time: 29.3146s\n",
            "Epoch-31 learning rate: 2.7e-06\n",
            "Epoch: 33/100\n",
            "Epoch : 033, Training: Loss - 0.0461, Accuracy - 99.0160%, Validation : Loss - 0.2399, Accuracy - 91.2134%, Time: 29.4012s\n",
            "Epoch-32 learning rate: 2.7e-06\n",
            "Epoch: 34/100\n",
            "Epoch : 034, Training: Loss - 0.0450, Accuracy - 99.2620%, Validation : Loss - 0.2462, Accuracy - 92.0502%, Time: 29.3244s\n",
            "Epoch-33 learning rate: 2.7e-06\n",
            "Epoch: 35/100\n",
            "Epoch : 035, Training: Loss - 0.0426, Accuracy - 99.1390%, Validation : Loss - 0.2337, Accuracy - 93.7238%, Time: 29.2965s\n",
            "Epoch-34 learning rate: 2.7e-06\n",
            "Epoch: 36/100\n",
            "Epoch : 036, Training: Loss - 0.0483, Accuracy - 99.1390%, Validation : Loss - 0.2406, Accuracy - 92.8870%, Time: 29.3531s\n",
            "Epoch-35 learning rate: 2.7e-06\n",
            "Epoch: 37/100\n",
            "Epoch : 037, Training: Loss - 0.0315, Accuracy - 99.5080%, Validation : Loss - 0.2296, Accuracy - 92.0502%, Time: 29.2916s\n",
            "Epoch-36 learning rate: 2.7e-06\n",
            "Epoch: 38/100\n",
            "Epoch : 038, Training: Loss - 0.0385, Accuracy - 99.0160%, Validation : Loss - 0.2411, Accuracy - 91.2134%, Time: 29.3927s\n",
            "Epoch-37 learning rate: 2.7e-06\n",
            "Epoch: 39/100\n",
            "Epoch : 039, Training: Loss - 0.0338, Accuracy - 99.3850%, Validation : Loss - 0.2330, Accuracy - 90.7950%, Time: 29.3596s\n",
            "Epoch-38 learning rate: 2.7e-06\n",
            "Epoch: 40/100\n",
            "Epoch : 040, Training: Loss - 0.0302, Accuracy - 99.5080%, Validation : Loss - 0.2459, Accuracy - 92.4686%, Time: 29.3139s\n",
            "Epoch-39 learning rate: 2.7e-06\n",
            "Epoch: 41/100\n",
            "Epoch : 041, Training: Loss - 0.0317, Accuracy - 99.3850%, Validation : Loss - 0.2451, Accuracy - 93.7238%, Time: 29.3239s\n",
            "Epoch-40 learning rate: 2.43e-06\n",
            "Epoch: 42/100\n",
            "Epoch : 042, Training: Loss - 0.0249, Accuracy - 99.6310%, Validation : Loss - 0.2425, Accuracy - 93.7238%, Time: 29.2840s\n",
            "Epoch-41 learning rate: 2.43e-06\n",
            "Epoch: 43/100\n",
            "Epoch : 043, Training: Loss - 0.0231, Accuracy - 99.5080%, Validation : Loss - 0.2539, Accuracy - 93.7238%, Time: 29.3044s\n",
            "Epoch-42 learning rate: 2.43e-06\n",
            "Epoch: 44/100\n",
            "Epoch : 044, Training: Loss - 0.0320, Accuracy - 99.6310%, Validation : Loss - 0.2622, Accuracy - 92.8870%, Time: 29.3928s\n",
            "Epoch-43 learning rate: 2.43e-06\n",
            "Epoch: 45/100\n",
            "Epoch : 045, Training: Loss - 0.0193, Accuracy - 99.8770%, Validation : Loss - 0.2598, Accuracy - 93.7238%, Time: 29.2741s\n",
            "Epoch-44 learning rate: 2.187e-06\n",
            "Epoch: 46/100\n",
            "Epoch : 046, Training: Loss - 0.0265, Accuracy - 99.2620%, Validation : Loss - 0.2526, Accuracy - 94.1423%, Time: 29.3630s\n",
            "Epoch-45 learning rate: 2.187e-06\n",
            "Epoch: 47/100\n",
            "Epoch : 047, Training: Loss - 0.0314, Accuracy - 99.3850%, Validation : Loss - 0.2529, Accuracy - 93.7238%, Time: 29.3573s\n",
            "Epoch-46 learning rate: 2.187e-06\n",
            "Epoch: 48/100\n",
            "Epoch : 048, Training: Loss - 0.0250, Accuracy - 99.6310%, Validation : Loss - 0.2677, Accuracy - 93.3054%, Time: 29.3576s\n",
            "Epoch-47 learning rate: 2.187e-06\n",
            "Epoch: 49/100\n",
            "Epoch : 049, Training: Loss - 0.0224, Accuracy - 99.5080%, Validation : Loss - 0.2574, Accuracy - 92.0502%, Time: 29.3243s\n",
            "Epoch-48 learning rate: 1.9683e-06\n",
            "Epoch: 50/100\n",
            "Epoch : 050, Training: Loss - 0.0186, Accuracy - 99.7540%, Validation : Loss - 0.2563, Accuracy - 92.8870%, Time: 29.3298s\n",
            "Epoch-49 learning rate: 1.9683e-06\n",
            "Epoch: 51/100\n",
            "Epoch : 051, Training: Loss - 0.0215, Accuracy - 99.8770%, Validation : Loss - 0.2648, Accuracy - 93.7238%, Time: 29.4166s\n",
            "Epoch-50 learning rate: 1.9683e-06\n",
            "Epoch: 52/100\n",
            "Epoch : 052, Training: Loss - 0.0133, Accuracy - 100.0000%, Validation : Loss - 0.2654, Accuracy - 93.3054%, Time: 29.2331s\n",
            "Epoch-51 learning rate: 1.9683e-06\n",
            "Epoch: 53/100\n",
            "Epoch : 053, Training: Loss - 0.0288, Accuracy - 99.6310%, Validation : Loss - 0.2701, Accuracy - 93.7238%, Time: 29.3215s\n",
            "Epoch-52 learning rate: 1.77147e-06\n",
            "Epoch: 54/100\n",
            "Epoch : 054, Training: Loss - 0.0150, Accuracy - 100.0000%, Validation : Loss - 0.2713, Accuracy - 93.7238%, Time: 29.2561s\n",
            "Epoch-53 learning rate: 1.77147e-06\n",
            "Epoch: 55/100\n",
            "Epoch : 055, Training: Loss - 0.0174, Accuracy - 99.8770%, Validation : Loss - 0.2737, Accuracy - 93.3054%, Time: 29.2882s\n",
            "Epoch-54 learning rate: 1.77147e-06\n",
            "Epoch: 56/100\n",
            "Epoch : 056, Training: Loss - 0.0117, Accuracy - 99.8770%, Validation : Loss - 0.2743, Accuracy - 93.7238%, Time: 29.2979s\n",
            "Epoch-55 learning rate: 1.77147e-06\n",
            "Epoch: 57/100\n",
            "Epoch : 057, Training: Loss - 0.0121, Accuracy - 100.0000%, Validation : Loss - 0.2847, Accuracy - 93.3054%, Time: 29.2960s\n",
            "Epoch-56 learning rate: 1.594323e-06\n",
            "Epoch: 58/100\n",
            "Epoch : 058, Training: Loss - 0.0261, Accuracy - 99.3850%, Validation : Loss - 0.2846, Accuracy - 94.1423%, Time: 29.3094s\n",
            "Epoch-57 learning rate: 1.594323e-06\n",
            "Epoch: 59/100\n",
            "Epoch : 059, Training: Loss - 0.0126, Accuracy - 100.0000%, Validation : Loss - 0.2956, Accuracy - 93.7238%, Time: 29.4187s\n",
            "Epoch-58 learning rate: 1.594323e-06\n",
            "Epoch: 60/100\n",
            "Epoch : 060, Training: Loss - 0.0112, Accuracy - 99.8770%, Validation : Loss - 0.3000, Accuracy - 92.8870%, Time: 29.2662s\n",
            "Epoch-59 learning rate: 1.594323e-06\n",
            "Epoch: 61/100\n",
            "Epoch : 061, Training: Loss - 0.0202, Accuracy - 99.6310%, Validation : Loss - 0.2979, Accuracy - 92.8870%, Time: 29.2692s\n",
            "Epoch-60 learning rate: 1.4348907e-06\n",
            "Epoch: 62/100\n",
            "Epoch : 062, Training: Loss - 0.0301, Accuracy - 99.2620%, Validation : Loss - 0.2983, Accuracy - 92.4686%, Time: 29.2142s\n",
            "Epoch-61 learning rate: 1.4348907e-06\n",
            "Epoch: 63/100\n",
            "Epoch : 063, Training: Loss - 0.0210, Accuracy - 99.7540%, Validation : Loss - 0.2834, Accuracy - 93.7238%, Time: 29.3767s\n",
            "Epoch-62 learning rate: 1.4348907e-06\n",
            "Epoch: 64/100\n",
            "Epoch : 064, Training: Loss - 0.0115, Accuracy - 100.0000%, Validation : Loss - 0.2807, Accuracy - 93.7238%, Time: 29.2257s\n",
            "Epoch-63 learning rate: 1.4348907e-06\n",
            "Epoch: 65/100\n",
            "Epoch : 065, Training: Loss - 0.0160, Accuracy - 99.6310%, Validation : Loss - 0.2965, Accuracy - 92.8870%, Time: 29.2809s\n",
            "Epoch-64 learning rate: 1.29140163e-06\n",
            "Epoch: 66/100\n",
            "Epoch : 066, Training: Loss - 0.0142, Accuracy - 99.8770%, Validation : Loss - 0.3138, Accuracy - 92.8870%, Time: 29.3071s\n",
            "Epoch-65 learning rate: 1.29140163e-06\n",
            "Epoch: 67/100\n",
            "Epoch : 067, Training: Loss - 0.0216, Accuracy - 99.5080%, Validation : Loss - 0.2957, Accuracy - 93.3054%, Time: 29.3028s\n",
            "Epoch-66 learning rate: 1.29140163e-06\n",
            "Epoch: 68/100\n",
            "Epoch : 068, Training: Loss - 0.0150, Accuracy - 99.7540%, Validation : Loss - 0.3014, Accuracy - 92.4686%, Time: 29.3233s\n",
            "Epoch-67 learning rate: 1.29140163e-06\n",
            "Epoch: 69/100\n",
            "Epoch : 069, Training: Loss - 0.0103, Accuracy - 100.0000%, Validation : Loss - 0.2931, Accuracy - 93.7238%, Time: 29.3514s\n",
            "Epoch-68 learning rate: 1.162261467e-06\n",
            "Epoch: 70/100\n",
            "Epoch : 070, Training: Loss - 0.0125, Accuracy - 99.8770%, Validation : Loss - 0.2933, Accuracy - 94.1423%, Time: 29.1947s\n",
            "Epoch-69 learning rate: 1.162261467e-06\n",
            "Epoch: 71/100\n",
            "Epoch : 071, Training: Loss - 0.0208, Accuracy - 99.3850%, Validation : Loss - 0.3025, Accuracy - 94.1423%, Time: 29.2674s\n",
            "Epoch-70 learning rate: 1.162261467e-06\n",
            "Epoch: 72/100\n",
            "Epoch : 072, Training: Loss - 0.0102, Accuracy - 100.0000%, Validation : Loss - 0.2830, Accuracy - 93.7238%, Time: 29.2782s\n",
            "Epoch-71 learning rate: 1.162261467e-06\n",
            "Epoch: 73/100\n",
            "Epoch : 073, Training: Loss - 0.0168, Accuracy - 99.6310%, Validation : Loss - 0.2910, Accuracy - 94.1423%, Time: 29.3148s\n",
            "Epoch-72 learning rate: 1.0460353203e-06\n",
            "Epoch: 74/100\n",
            "Epoch : 074, Training: Loss - 0.0122, Accuracy - 99.8770%, Validation : Loss - 0.2847, Accuracy - 94.1423%, Time: 29.3429s\n",
            "Epoch-73 learning rate: 1.0460353203e-06\n",
            "Epoch: 75/100\n",
            "Epoch : 075, Training: Loss - 0.0103, Accuracy - 99.7540%, Validation : Loss - 0.2855, Accuracy - 94.1423%, Time: 29.2697s\n",
            "Epoch-74 learning rate: 1.0460353203e-06\n",
            "Epoch: 76/100\n",
            "Epoch : 076, Training: Loss - 0.0165, Accuracy - 99.6310%, Validation : Loss - 0.2918, Accuracy - 94.1423%, Time: 29.2281s\n",
            "Epoch-75 learning rate: 1.0460353203e-06\n",
            "Epoch: 77/100\n",
            "Epoch : 077, Training: Loss - 0.0181, Accuracy - 99.6310%, Validation : Loss - 0.2843, Accuracy - 94.1423%, Time: 29.3145s\n",
            "Epoch-76 learning rate: 9.4143178827e-07\n",
            "Epoch: 78/100\n",
            "Epoch : 078, Training: Loss - 0.0133, Accuracy - 99.7540%, Validation : Loss - 0.3030, Accuracy - 93.3054%, Time: 29.2730s\n",
            "Epoch-77 learning rate: 9.4143178827e-07\n",
            "Epoch: 79/100\n",
            "Epoch : 079, Training: Loss - 0.0213, Accuracy - 99.5080%, Validation : Loss - 0.2963, Accuracy - 92.8870%, Time: 29.4637s\n",
            "Epoch-78 learning rate: 9.4143178827e-07\n",
            "Epoch: 80/100\n",
            "Epoch : 080, Training: Loss - 0.0136, Accuracy - 99.5080%, Validation : Loss - 0.3073, Accuracy - 92.8870%, Time: 29.4511s\n",
            "Epoch-79 learning rate: 9.4143178827e-07\n",
            "Epoch: 81/100\n",
            "Epoch : 081, Training: Loss - 0.0087, Accuracy - 100.0000%, Validation : Loss - 0.2840, Accuracy - 93.7238%, Time: 29.2970s\n",
            "Epoch-80 learning rate: 8.47288609443e-07\n",
            "Epoch: 82/100\n",
            "Epoch : 082, Training: Loss - 0.0123, Accuracy - 99.7540%, Validation : Loss - 0.2996, Accuracy - 93.7238%, Time: 29.2819s\n",
            "Epoch-81 learning rate: 8.47288609443e-07\n",
            "Epoch: 83/100\n",
            "Epoch : 083, Training: Loss - 0.0116, Accuracy - 99.7540%, Validation : Loss - 0.3061, Accuracy - 92.8870%, Time: 29.2331s\n",
            "Epoch-82 learning rate: 8.47288609443e-07\n",
            "Epoch: 84/100\n",
            "Epoch : 084, Training: Loss - 0.0130, Accuracy - 99.7540%, Validation : Loss - 0.2852, Accuracy - 93.7238%, Time: 29.3644s\n",
            "Epoch-83 learning rate: 8.47288609443e-07\n",
            "Epoch: 85/100\n",
            "Epoch : 085, Training: Loss - 0.0094, Accuracy - 99.8770%, Validation : Loss - 0.2965, Accuracy - 93.7238%, Time: 29.3352s\n",
            "Epoch-84 learning rate: 7.625597484987001e-07\n",
            "Epoch: 86/100\n",
            "Epoch : 086, Training: Loss - 0.0083, Accuracy - 100.0000%, Validation : Loss - 0.2990, Accuracy - 93.7238%, Time: 29.2233s\n",
            "Epoch-85 learning rate: 7.625597484987001e-07\n",
            "Epoch: 87/100\n",
            "Epoch : 087, Training: Loss - 0.0095, Accuracy - 99.8770%, Validation : Loss - 0.3008, Accuracy - 92.8870%, Time: 29.2410s\n",
            "Epoch-86 learning rate: 7.625597484987001e-07\n",
            "Epoch: 88/100\n",
            "Epoch : 088, Training: Loss - 0.0098, Accuracy - 99.7540%, Validation : Loss - 0.2760, Accuracy - 94.1423%, Time: 29.3726s\n",
            "Epoch-87 learning rate: 7.625597484987001e-07\n",
            "Epoch: 89/100\n",
            "Epoch : 089, Training: Loss - 0.0069, Accuracy - 100.0000%, Validation : Loss - 0.2788, Accuracy - 94.1423%, Time: 29.3003s\n",
            "Epoch-88 learning rate: 6.863037736488301e-07\n",
            "Epoch: 90/100\n",
            "Epoch : 090, Training: Loss - 0.0088, Accuracy - 100.0000%, Validation : Loss - 0.3017, Accuracy - 93.7238%, Time: 29.2590s\n",
            "Epoch-89 learning rate: 6.863037736488301e-07\n",
            "Epoch: 91/100\n",
            "Epoch : 091, Training: Loss - 0.0072, Accuracy - 100.0000%, Validation : Loss - 0.2894, Accuracy - 93.7238%, Time: 29.3266s\n",
            "Epoch-90 learning rate: 6.863037736488301e-07\n",
            "Epoch: 92/100\n",
            "Epoch : 092, Training: Loss - 0.0078, Accuracy - 100.0000%, Validation : Loss - 0.2894, Accuracy - 93.7238%, Time: 29.2823s\n",
            "Epoch-91 learning rate: 6.863037736488301e-07\n",
            "Epoch: 93/100\n",
            "Epoch : 093, Training: Loss - 0.0369, Accuracy - 99.3850%, Validation : Loss - 0.2851, Accuracy - 94.1423%, Time: 29.3345s\n",
            "Epoch-92 learning rate: 6.176733962839471e-07\n",
            "Epoch: 94/100\n",
            "Epoch : 094, Training: Loss - 0.0062, Accuracy - 100.0000%, Validation : Loss - 0.2811, Accuracy - 94.1423%, Time: 29.3162s\n",
            "Epoch-93 learning rate: 6.176733962839471e-07\n",
            "Epoch: 95/100\n",
            "Epoch : 095, Training: Loss - 0.0116, Accuracy - 99.8770%, Validation : Loss - 0.3034, Accuracy - 94.1423%, Time: 29.2033s\n",
            "Epoch-94 learning rate: 6.176733962839471e-07\n",
            "Epoch: 96/100\n",
            "Epoch : 096, Training: Loss - 0.0075, Accuracy - 100.0000%, Validation : Loss - 0.2984, Accuracy - 94.1423%, Time: 29.2910s\n",
            "Epoch-95 learning rate: 6.176733962839471e-07\n",
            "Epoch: 97/100\n",
            "Epoch : 097, Training: Loss - 0.0118, Accuracy - 99.8770%, Validation : Loss - 0.2900, Accuracy - 94.1423%, Time: 29.2421s\n",
            "Epoch-96 learning rate: 5.559060566555525e-07\n",
            "Epoch: 98/100\n",
            "Epoch : 098, Training: Loss - 0.0145, Accuracy - 99.8770%, Validation : Loss - 0.2799, Accuracy - 93.7238%, Time: 29.2893s\n",
            "Epoch-97 learning rate: 5.559060566555525e-07\n",
            "Epoch: 99/100\n",
            "Epoch : 099, Training: Loss - 0.0082, Accuracy - 99.7540%, Validation : Loss - 0.2894, Accuracy - 94.1423%, Time: 29.2320s\n",
            "Epoch-98 learning rate: 5.559060566555525e-07\n",
            "Epoch: 100/100\n",
            "Epoch : 100, Training: Loss - 0.0165, Accuracy - 99.7540%, Validation : Loss - 0.2871, Accuracy - 94.1423%, Time: 29.2713s\n",
            "Epoch-99 learning rate: 5.559060566555525e-07\n"
          ],
          "name": "stdout"
        }
      ]
    },
    {
      "cell_type": "code",
      "metadata": {
        "colab": {
          "base_uri": "https://localhost:8080/"
        },
        "id": "HigTVpI3JjHv",
        "outputId": "d3c90834-9d06-4a55-b99f-13f5a83868b1"
      },
      "source": [
        "print(\"Thoi gian training: \",end-start)"
      ],
      "execution_count": null,
      "outputs": [
        {
          "output_type": "stream",
          "text": [
            "Thoi gian training:  2927.608421564102\n"
          ],
          "name": "stdout"
        }
      ]
    },
    {
      "cell_type": "code",
      "metadata": {
        "colab": {
          "base_uri": "https://localhost:8080/"
        },
        "id": "ODgSE9IXX09u",
        "outputId": "181d8b6b-fde5-419a-e99a-28ec29343521"
      },
      "source": [
        "#save model\n",
        "import time\n",
        "from datetime import date\n",
        "today = date.today()\n",
        "d1 = today.strftime(\"%d%m%Y\")\n",
        "print(\"d1 =\", d1)\n",
        "torch.save(trained_model, '/content/drive/My Drive/DetectBrainTumor/model/pytorch/model_resnet152_'+str(d1)+'.pt')"
      ],
      "execution_count": null,
      "outputs": [
        {
          "output_type": "stream",
          "text": [
            "d1 = 28062021\n"
          ],
          "name": "stdout"
        }
      ]
    },
    {
      "cell_type": "code",
      "metadata": {
        "id": "pdsNnsHaX2fa"
      },
      "source": [
        "import pickle\n",
        "with open('/content/drive/My Drive/DetectBrainTumor/result/pytorch/history_resnet152v2.pickle', 'wb') as f:\n",
        "    pickle.dump(history, f)\n",
        "\n",
        "# with open('/content/drive/My Drive/DetectBrainTumor/result/pytorch/time_resnet152.pickle', 'wb') as f:\n",
        "#     pickle.dump(arr_time, f)"
      ],
      "execution_count": null,
      "outputs": []
    },
    {
      "cell_type": "code",
      "metadata": {
        "id": "uKg5tSsGdxRW"
      },
      "source": [
        "loss_train = []\n",
        "loss_val = []\n",
        "acc_train = []\n",
        "acc_val = []\n",
        "\n",
        "for i in range(len(history)):\n",
        "  loss_train.append(history[i][0])\n",
        "  loss_val.append(history[i][1])\n",
        "  acc_train.append(history[i][2])\n",
        "  acc_val.append(history[i][3])"
      ],
      "execution_count": null,
      "outputs": []
    },
    {
      "cell_type": "code",
      "metadata": {
        "colab": {
          "base_uri": "https://localhost:8080/",
          "height": 457
        },
        "id": "pB0-ZXLqI5fZ",
        "outputId": "2c9e9415-4166-4ef4-9af7-72dd4bb4b7d3"
      },
      "source": [
        "# summarize history for accuracy\n",
        "fig,a =  plt.subplots(1, 2, figsize=(16,7))\n",
        "a[0].plot(acc_train)\n",
        "a[0].plot(acc_val)\n",
        "a[0].set_title('model accuracy')\n",
        "a[0].set_ylabel('accuracy')\n",
        "a[0].set_xlabel('epoch')\n",
        "a[0].legend(['train', 'val'], loc='upper left')\n",
        "# summarize history for loss for epoch\n",
        "# plt.figure(figsize=(10,10))\n",
        "a[1].plot(loss_train)\n",
        "a[1].plot(loss_val)\n",
        "a[1].set_title('model loss')\n",
        "a[1].set_ylabel('loss')\n",
        "a[1].set_xlabel('epoch')\n",
        "a[1].legend(['train', 'val'], loc='upper left')\n",
        "plt.show()"
      ],
      "execution_count": null,
      "outputs": [
        {
          "output_type": "display_data",
          "data": {
            "image/png": "[encoded data removed]",
            "text/plain": [
              "<Figure size 1152x504 with 2 Axes>"
            ]
          },
          "metadata": {
            "tags": [],
            "needs_background": "light"
          }
        }
      ]
    }
  ]
}