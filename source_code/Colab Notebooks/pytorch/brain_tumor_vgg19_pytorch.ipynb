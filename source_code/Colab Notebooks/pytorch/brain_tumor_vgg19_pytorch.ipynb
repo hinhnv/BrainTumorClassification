{
  "nbformat": 4,
  "nbformat_minor": 0,
  "metadata": {
    "accelerator": "GPU",
    "colab": {
      "name": "brain_tumor_vgg19_pytorch.ipynb",
      "provenance": [],
      "collapsed_sections": []
    },
    "kernelspec": {
      "display_name": "Python 3",
      "name": "python3"
    },
    "language_info": {
      "name": "python"
    }
  },
  "cells": [
    {
      "cell_type": "code",
      "metadata": {
        "colab": {
          "base_uri": "https://localhost:8080/"
        },
        "id": "al_XWgRp3EzB",
        "outputId": "cd8b3e04-9f35-46be-c1c8-019503e470d3"
      },
      "source": [
        "from google.colab import drive\n",
        "drive.mount('/content/drive')"
      ],
      "execution_count": null,
      "outputs": [
        {
          "output_type": "stream",
          "text": [
            "Drive already mounted at /content/drive; to attempt to forcibly remount, call drive.mount(\"/content/drive\", force_remount=True).\n"
          ],
          "name": "stdout"
        }
      ]
    },
    {
      "cell_type": "code",
      "metadata": {
        "colab": {
          "base_uri": "https://localhost:8080/"
        },
        "id": "GPMeqQO6AP2D",
        "outputId": "e9bd8a96-1384-4e27-bcf1-cef51f3ee94e"
      },
      "source": [
        "%cd /content/drive/My Drive/Adas/src\n",
        "from adas import Adas"
      ],
      "execution_count": null,
      "outputs": [
        {
          "output_type": "stream",
          "text": [
            "/content/drive/My Drive/Adas/src\n"
          ],
          "name": "stdout"
        }
      ]
    },
    {
      "cell_type": "code",
      "metadata": {
        "id": "jrQMAMh7ARMZ"
      },
      "source": [
        "import matplotlib.pyplot as plt\n",
        "from torchvision import datasets, models, transforms\n",
        "import helper\n",
        "import torch.nn as nn\n",
        "import torch.nn.functional as F\n",
        "import torch.optim as optim\n",
        "\n",
        "from torchvision import datasets\n",
        "from torchvision import transforms\n",
        "import matplotlib.pyplot as plt\n",
        "import torch, torchvision\n",
        "from torch.utils.data import DataLoader\n",
        "import time\n",
        "from torchsummary import summary\n",
        "import numpy as np\n",
        "import os\n",
        "\n",
        "from PIL import Image"
      ],
      "execution_count": null,
      "outputs": []
    },
    {
      "cell_type": "code",
      "metadata": {
        "id": "B_IymEbSAWFo"
      },
      "source": [
        "IMAGE_SIZE = 256\n",
        "batch_size = 16\n",
        "\n",
        "DATADIR_TRAIN = \"/content/drive/My Drive/DetectBrainTumor/data_15062021/T2_Train/\"\n",
        "DATADIR_VAL = \"/content/drive/My Drive/DetectBrainTumor/data_15062021/T2_Val/\"\n"
      ],
      "execution_count": null,
      "outputs": []
    },
    {
      "cell_type": "code",
      "metadata": {
        "id": "_dG28e-KICv6"
      },
      "source": [
        "# Applying Transforms to the Data\n",
        "train_transform = transforms.Compose([\n",
        "        transforms.RandomResizedCrop(size=256, scale=(0.8, 1.0)),\n",
        "        transforms.RandomRotation(degrees=15),\n",
        "        transforms.RandomHorizontalFlip(),\n",
        "        transforms.CenterCrop(size=224),\n",
        "        transforms.ToTensor(),\n",
        "        transforms.Normalize([0.485, 0.456, 0.406],\n",
        "                             [0.229, 0.224, 0.225])\n",
        "    ])\n",
        "\n",
        "test_transform = transforms.Compose([\n",
        "        transforms.Resize(size=256),\n",
        "        transforms.CenterCrop(size=224),\n",
        "        transforms.ToTensor(),\n",
        "        transforms.Normalize([0.485, 0.456, 0.406],\n",
        "                             [0.229, 0.224, 0.225])\n",
        "    ])"
      ],
      "execution_count": null,
      "outputs": []
    },
    {
      "cell_type": "code",
      "metadata": {
        "id": "8JuOKAOLAi0X"
      },
      "source": [
        "train_data = datasets.ImageFolder(DATADIR_TRAIN, transform=train_transform)                                       \n",
        "val_data = datasets.ImageFolder(DATADIR_VAL, transform=test_transform)\n",
        "\n",
        "#Data Loading\n",
        "train_loader = torch.utils.data.DataLoader(train_data, batch_size=batch_size, shuffle=True)\n",
        "val_loader = torch.utils.data.DataLoader(val_data, batch_size=batch_size, shuffle=True)"
      ],
      "execution_count": null,
      "outputs": []
    },
    {
      "cell_type": "code",
      "metadata": {
        "id": "aOZ-WlKeJUnb"
      },
      "source": [
        "classes = ('YES', 'NO')"
      ],
      "execution_count": null,
      "outputs": []
    },
    {
      "cell_type": "code",
      "metadata": {
        "id": "kTT7H1l_NvJr"
      },
      "source": [
        "train_data_size = len(train_data)\n",
        "test_data_size = len(val_data)"
      ],
      "execution_count": null,
      "outputs": []
    },
    {
      "cell_type": "code",
      "metadata": {
        "id": "JP2vIpVTXMPE"
      },
      "source": [
        "device = torch.device(\"cuda:0\" if torch.cuda.is_available() else \"cpu\")"
      ],
      "execution_count": null,
      "outputs": []
    },
    {
      "cell_type": "code",
      "metadata": {
        "id": "CJAOJSrCDEdY"
      },
      "source": [
        "# Load pretrained VGG19 Model\n",
        "model_class = models.vgg19_bn(pretrained=True)"
      ],
      "execution_count": null,
      "outputs": []
    },
    {
      "cell_type": "code",
      "metadata": {
        "colab": {
          "base_uri": "https://localhost:8080/"
        },
        "id": "ECGlW63prA1j",
        "outputId": "8ebe61f4-c7ef-46f8-9b07-b2eb96422e63"
      },
      "source": [
        "model_class"
      ],
      "execution_count": null,
      "outputs": [
        {
          "output_type": "execute_result",
          "data": {
            "text/plain": [
              "VGG(\n",
              "  (features): Sequential(\n",
              "    (0): Conv2d(3, 64, kernel_size=(3, 3), stride=(1, 1), padding=(1, 1))\n",
              "    (1): BatchNorm2d(64, eps=1e-05, momentum=0.1, affine=True, track_running_stats=True)\n",
              "    (2): ReLU(inplace=True)\n",
              "    (3): Conv2d(64, 64, kernel_size=(3, 3), stride=(1, 1), padding=(1, 1))\n",
              "    (4): BatchNorm2d(64, eps=1e-05, momentum=0.1, affine=True, track_running_stats=True)\n",
              "    (5): ReLU(inplace=True)\n",
              "    (6): MaxPool2d(kernel_size=2, stride=2, padding=0, dilation=1, ceil_mode=False)\n",
              "    (7): Conv2d(64, 128, kernel_size=(3, 3), stride=(1, 1), padding=(1, 1))\n",
              "    (8): BatchNorm2d(128, eps=1e-05, momentum=0.1, affine=True, track_running_stats=True)\n",
              "    (9): ReLU(inplace=True)\n",
              "    (10): Conv2d(128, 128, kernel_size=(3, 3), stride=(1, 1), padding=(1, 1))\n",
              "    (11): BatchNorm2d(128, eps=1e-05, momentum=0.1, affine=True, track_running_stats=True)\n",
              "    (12): ReLU(inplace=True)\n",
              "    (13): MaxPool2d(kernel_size=2, stride=2, padding=0, dilation=1, ceil_mode=False)\n",
              "    (14): Conv2d(128, 256, kernel_size=(3, 3), stride=(1, 1), padding=(1, 1))\n",
              "    (15): BatchNorm2d(256, eps=1e-05, momentum=0.1, affine=True, track_running_stats=True)\n",
              "    (16): ReLU(inplace=True)\n",
              "    (17): Conv2d(256, 256, kernel_size=(3, 3), stride=(1, 1), padding=(1, 1))\n",
              "    (18): BatchNorm2d(256, eps=1e-05, momentum=0.1, affine=True, track_running_stats=True)\n",
              "    (19): ReLU(inplace=True)\n",
              "    (20): Conv2d(256, 256, kernel_size=(3, 3), stride=(1, 1), padding=(1, 1))\n",
              "    (21): BatchNorm2d(256, eps=1e-05, momentum=0.1, affine=True, track_running_stats=True)\n",
              "    (22): ReLU(inplace=True)\n",
              "    (23): Conv2d(256, 256, kernel_size=(3, 3), stride=(1, 1), padding=(1, 1))\n",
              "    (24): BatchNorm2d(256, eps=1e-05, momentum=0.1, affine=True, track_running_stats=True)\n",
              "    (25): ReLU(inplace=True)\n",
              "    (26): MaxPool2d(kernel_size=2, stride=2, padding=0, dilation=1, ceil_mode=False)\n",
              "    (27): Conv2d(256, 512, kernel_size=(3, 3), stride=(1, 1), padding=(1, 1))\n",
              "    (28): BatchNorm2d(512, eps=1e-05, momentum=0.1, affine=True, track_running_stats=True)\n",
              "    (29): ReLU(inplace=True)\n",
              "    (30): Conv2d(512, 512, kernel_size=(3, 3), stride=(1, 1), padding=(1, 1))\n",
              "    (31): BatchNorm2d(512, eps=1e-05, momentum=0.1, affine=True, track_running_stats=True)\n",
              "    (32): ReLU(inplace=True)\n",
              "    (33): Conv2d(512, 512, kernel_size=(3, 3), stride=(1, 1), padding=(1, 1))\n",
              "    (34): BatchNorm2d(512, eps=1e-05, momentum=0.1, affine=True, track_running_stats=True)\n",
              "    (35): ReLU(inplace=True)\n",
              "    (36): Conv2d(512, 512, kernel_size=(3, 3), stride=(1, 1), padding=(1, 1))\n",
              "    (37): BatchNorm2d(512, eps=1e-05, momentum=0.1, affine=True, track_running_stats=True)\n",
              "    (38): ReLU(inplace=True)\n",
              "    (39): MaxPool2d(kernel_size=2, stride=2, padding=0, dilation=1, ceil_mode=False)\n",
              "    (40): Conv2d(512, 512, kernel_size=(3, 3), stride=(1, 1), padding=(1, 1))\n",
              "    (41): BatchNorm2d(512, eps=1e-05, momentum=0.1, affine=True, track_running_stats=True)\n",
              "    (42): ReLU(inplace=True)\n",
              "    (43): Conv2d(512, 512, kernel_size=(3, 3), stride=(1, 1), padding=(1, 1))\n",
              "    (44): BatchNorm2d(512, eps=1e-05, momentum=0.1, affine=True, track_running_stats=True)\n",
              "    (45): ReLU(inplace=True)\n",
              "    (46): Conv2d(512, 512, kernel_size=(3, 3), stride=(1, 1), padding=(1, 1))\n",
              "    (47): BatchNorm2d(512, eps=1e-05, momentum=0.1, affine=True, track_running_stats=True)\n",
              "    (48): ReLU(inplace=True)\n",
              "    (49): Conv2d(512, 512, kernel_size=(3, 3), stride=(1, 1), padding=(1, 1))\n",
              "    (50): BatchNorm2d(512, eps=1e-05, momentum=0.1, affine=True, track_running_stats=True)\n",
              "    (51): ReLU(inplace=True)\n",
              "    (52): MaxPool2d(kernel_size=2, stride=2, padding=0, dilation=1, ceil_mode=False)\n",
              "  )\n",
              "  (avgpool): AdaptiveAvgPool2d(output_size=(7, 7))\n",
              "  (classifier): Sequential(\n",
              "    (0): Linear(in_features=25088, out_features=4096, bias=True)\n",
              "    (1): ReLU(inplace=True)\n",
              "    (2): Dropout(p=0.5, inplace=False)\n",
              "    (3): Linear(in_features=4096, out_features=4096, bias=True)\n",
              "    (4): ReLU(inplace=True)\n",
              "    (5): Dropout(p=0.5, inplace=False)\n",
              "    (6): Linear(in_features=4096, out_features=1000, bias=True)\n",
              "  )\n",
              ")"
            ]
          },
          "metadata": {
            "tags": []
          },
          "execution_count": 11
        }
      ]
    },
    {
      "cell_type": "code",
      "metadata": {
        "id": "nE_07JDiOW8w"
      },
      "source": [
        "# Change the final layer of VGG19 Model for Transfer Learning\n",
        "# classifier_input = model_class.classifier\n",
        "\n",
        "model_class.classifier = nn.Sequential(\n",
        "    nn.Linear(25088, 4096),\n",
        "    nn.ReLU(),\n",
        "    nn.Dropout(0.3),\n",
        "    nn.Linear(4096, 128),\n",
        "    nn.Flatten(),\n",
        "    nn.Dropout(0.5),\n",
        "    nn.Linear(128, 2), # Since 2 possible outputs\n",
        "    nn.LogSoftmax(dim=1)\n",
        ")\n",
        "\n",
        "# Convert model to be used on GPU\n",
        "model_class = model_class.to(device)"
      ],
      "execution_count": null,
      "outputs": []
    },
    {
      "cell_type": "code",
      "metadata": {
        "colab": {
          "base_uri": "https://localhost:8080/"
        },
        "id": "65pam2SIs4tR",
        "outputId": "0478cfd2-4423-49d9-b7f1-f67eca8f7bd8"
      },
      "source": [
        "model_class"
      ],
      "execution_count": null,
      "outputs": [
        {
          "output_type": "execute_result",
          "data": {
            "text/plain": [
              "VGG(\n",
              "  (features): Sequential(\n",
              "    (0): Conv2d(3, 64, kernel_size=(3, 3), stride=(1, 1), padding=(1, 1))\n",
              "    (1): BatchNorm2d(64, eps=1e-05, momentum=0.1, affine=True, track_running_stats=True)\n",
              "    (2): ReLU(inplace=True)\n",
              "    (3): Conv2d(64, 64, kernel_size=(3, 3), stride=(1, 1), padding=(1, 1))\n",
              "    (4): BatchNorm2d(64, eps=1e-05, momentum=0.1, affine=True, track_running_stats=True)\n",
              "    (5): ReLU(inplace=True)\n",
              "    (6): MaxPool2d(kernel_size=2, stride=2, padding=0, dilation=1, ceil_mode=False)\n",
              "    (7): Conv2d(64, 128, kernel_size=(3, 3), stride=(1, 1), padding=(1, 1))\n",
              "    (8): BatchNorm2d(128, eps=1e-05, momentum=0.1, affine=True, track_running_stats=True)\n",
              "    (9): ReLU(inplace=True)\n",
              "    (10): Conv2d(128, 128, kernel_size=(3, 3), stride=(1, 1), padding=(1, 1))\n",
              "    (11): BatchNorm2d(128, eps=1e-05, momentum=0.1, affine=True, track_running_stats=True)\n",
              "    (12): ReLU(inplace=True)\n",
              "    (13): MaxPool2d(kernel_size=2, stride=2, padding=0, dilation=1, ceil_mode=False)\n",
              "    (14): Conv2d(128, 256, kernel_size=(3, 3), stride=(1, 1), padding=(1, 1))\n",
              "    (15): BatchNorm2d(256, eps=1e-05, momentum=0.1, affine=True, track_running_stats=True)\n",
              "    (16): ReLU(inplace=True)\n",
              "    (17): Conv2d(256, 256, kernel_size=(3, 3), stride=(1, 1), padding=(1, 1))\n",
              "    (18): BatchNorm2d(256, eps=1e-05, momentum=0.1, affine=True, track_running_stats=True)\n",
              "    (19): ReLU(inplace=True)\n",
              "    (20): Conv2d(256, 256, kernel_size=(3, 3), stride=(1, 1), padding=(1, 1))\n",
              "    (21): BatchNorm2d(256, eps=1e-05, momentum=0.1, affine=True, track_running_stats=True)\n",
              "    (22): ReLU(inplace=True)\n",
              "    (23): Conv2d(256, 256, kernel_size=(3, 3), stride=(1, 1), padding=(1, 1))\n",
              "    (24): BatchNorm2d(256, eps=1e-05, momentum=0.1, affine=True, track_running_stats=True)\n",
              "    (25): ReLU(inplace=True)\n",
              "    (26): MaxPool2d(kernel_size=2, stride=2, padding=0, dilation=1, ceil_mode=False)\n",
              "    (27): Conv2d(256, 512, kernel_size=(3, 3), stride=(1, 1), padding=(1, 1))\n",
              "    (28): BatchNorm2d(512, eps=1e-05, momentum=0.1, affine=True, track_running_stats=True)\n",
              "    (29): ReLU(inplace=True)\n",
              "    (30): Conv2d(512, 512, kernel_size=(3, 3), stride=(1, 1), padding=(1, 1))\n",
              "    (31): BatchNorm2d(512, eps=1e-05, momentum=0.1, affine=True, track_running_stats=True)\n",
              "    (32): ReLU(inplace=True)\n",
              "    (33): Conv2d(512, 512, kernel_size=(3, 3), stride=(1, 1), padding=(1, 1))\n",
              "    (34): BatchNorm2d(512, eps=1e-05, momentum=0.1, affine=True, track_running_stats=True)\n",
              "    (35): ReLU(inplace=True)\n",
              "    (36): Conv2d(512, 512, kernel_size=(3, 3), stride=(1, 1), padding=(1, 1))\n",
              "    (37): BatchNorm2d(512, eps=1e-05, momentum=0.1, affine=True, track_running_stats=True)\n",
              "    (38): ReLU(inplace=True)\n",
              "    (39): MaxPool2d(kernel_size=2, stride=2, padding=0, dilation=1, ceil_mode=False)\n",
              "    (40): Conv2d(512, 512, kernel_size=(3, 3), stride=(1, 1), padding=(1, 1))\n",
              "    (41): BatchNorm2d(512, eps=1e-05, momentum=0.1, affine=True, track_running_stats=True)\n",
              "    (42): ReLU(inplace=True)\n",
              "    (43): Conv2d(512, 512, kernel_size=(3, 3), stride=(1, 1), padding=(1, 1))\n",
              "    (44): BatchNorm2d(512, eps=1e-05, momentum=0.1, affine=True, track_running_stats=True)\n",
              "    (45): ReLU(inplace=True)\n",
              "    (46): Conv2d(512, 512, kernel_size=(3, 3), stride=(1, 1), padding=(1, 1))\n",
              "    (47): BatchNorm2d(512, eps=1e-05, momentum=0.1, affine=True, track_running_stats=True)\n",
              "    (48): ReLU(inplace=True)\n",
              "    (49): Conv2d(512, 512, kernel_size=(3, 3), stride=(1, 1), padding=(1, 1))\n",
              "    (50): BatchNorm2d(512, eps=1e-05, momentum=0.1, affine=True, track_running_stats=True)\n",
              "    (51): ReLU(inplace=True)\n",
              "    (52): MaxPool2d(kernel_size=2, stride=2, padding=0, dilation=1, ceil_mode=False)\n",
              "  )\n",
              "  (avgpool): AdaptiveAvgPool2d(output_size=(7, 7))\n",
              "  (classifier): Sequential(\n",
              "    (0): Linear(in_features=25088, out_features=4096, bias=True)\n",
              "    (1): ReLU()\n",
              "    (2): Dropout(p=0.3, inplace=False)\n",
              "    (3): Linear(in_features=4096, out_features=128, bias=True)\n",
              "    (4): Flatten(start_dim=1, end_dim=-1)\n",
              "    (5): Dropout(p=0.5, inplace=False)\n",
              "    (6): Linear(in_features=128, out_features=2, bias=True)\n",
              "    (7): LogSoftmax(dim=1)\n",
              "  )\n",
              ")"
            ]
          },
          "metadata": {
            "tags": []
          },
          "execution_count": 13
        }
      ]
    },
    {
      "cell_type": "code",
      "metadata": {
        "id": "Jx6C95OqFFT1"
      },
      "source": [
        "def train_and_validate(model, scheduler, loss_criterion, optimizer, epochs):\n",
        "    '''\n",
        "    Function to train and validate\n",
        "    Parameters\n",
        "        :param model: Model to train and validate\n",
        "        :param loss_criterion: Loss Criterion to minimize\n",
        "        :param optimizer: Optimizer for computing gradients\n",
        "        :param epochs: Number of epochs (default=25)\n",
        "  \n",
        "    Returns\n",
        "        model: Trained Model with best validation accuracy\n",
        "        history: (dict object): Having training loss, accuracy and validation loss, accuracy\n",
        "    '''\n",
        "    \n",
        "    start = time.time()\n",
        "    history = []\n",
        "    best_loss = 100000.0\n",
        "    best_epoch = None\n",
        "    flag = 0\n",
        "\n",
        "    for epoch in range(epochs):\n",
        "        epoch_start = time.time()\n",
        "        print(\"Epoch: {}/{}\".format(epoch+1, epochs))\n",
        "        \n",
        "        # Set to training mode\n",
        "        model.train()\n",
        "        \n",
        "        # Loss and Accuracy within the epoch\n",
        "        train_loss = 0.0\n",
        "        train_acc = 0.0\n",
        "        \n",
        "        valid_loss = 0.0\n",
        "        valid_acc = 0.0\n",
        "        \n",
        "        for i, (inputs, labels) in enumerate(train_loader):\n",
        "\n",
        "            inputs = inputs.to(device)\n",
        "            labels = labels.to(device)\n",
        "            \n",
        "            # Clean existing gradients\n",
        "            optimizer.zero_grad()\n",
        "            \n",
        "            # Forward pass - compute outputs on input data using the model\n",
        "            outputs = model(inputs)\n",
        "            \n",
        "            # Compute loss\n",
        "            loss = loss_criterion(outputs, labels)\n",
        "            \n",
        "            # Backpropagate the gradients\n",
        "            loss.backward()\n",
        "            \n",
        "            # Update the parameters\n",
        "            optimizer.step()\n",
        "            \n",
        "            \n",
        "            # Compute the total loss for the batch and add it to train_loss\n",
        "            train_loss += loss.item() * inputs.size(0)\n",
        "            \n",
        "            # Compute the accuracy\n",
        "            ret, predictions = torch.max(outputs.data, 1)\n",
        "            correct_counts = predictions.eq(labels.data.view_as(predictions))\n",
        "            \n",
        "            # Convert correct_counts to float and then compute the mean\n",
        "            acc = torch.mean(correct_counts.type(torch.FloatTensor))\n",
        "            \n",
        "            # Compute total accuracy in the whole batch and add to train_acc\n",
        "            train_acc += acc.item() * inputs.size(0)\n",
        "            \n",
        "            #print(\"Batch number: {:03d}, Training: Loss: {:.4f}, Accuracy: {:.4f}\".format(i, loss.item(), acc.item()))\n",
        "\n",
        "        \n",
        "        # Validation - No gradient tracking needed\n",
        "        with torch.no_grad():\n",
        "\n",
        "            # Set to evaluation mode\n",
        "            model.eval()\n",
        "\n",
        "            # Validation loop\n",
        "            for j, (inputs, labels) in enumerate(val_loader):\n",
        "                inputs = inputs.to(device)\n",
        "                labels = labels.to(device)\n",
        "\n",
        "                # Forward pass - compute outputs on input data using the model\n",
        "                outputs = model(inputs)\n",
        "\n",
        "                # Compute loss\n",
        "                loss = loss_criterion(outputs, labels)\n",
        "\n",
        "                # Compute the total loss for the batch and add it to valid_loss\n",
        "                valid_loss += loss.item() * inputs.size(0)\n",
        "\n",
        "                # Calculate validation accuracy\n",
        "                ret, predictions = torch.max(outputs.data, 1)\n",
        "                correct_counts = predictions.eq(labels.data.view_as(predictions))\n",
        "\n",
        "                # Convert correct_counts to float and then compute the mean\n",
        "                acc = torch.mean(correct_counts.type(torch.FloatTensor))\n",
        "\n",
        "                # Compute total accuracy in the whole batch and add to valid_acc\n",
        "                valid_acc += acc.item() * inputs.size(0)\n",
        "                # if not j%100:\n",
        "                #   print(\"Validation Batch number: {:03d}, Validation: Loss: {:.4f}, Accuracy: {:.4f}\".format(j, loss.item(), acc.item()))\n",
        "        if valid_loss < best_loss:\n",
        "            best_loss = valid_loss\n",
        "            best_epoch = epoch\n",
        "\n",
        "        # Find average training loss and training accuracy\n",
        "        avg_train_loss = train_loss/train_data_size \n",
        "        avg_train_acc = train_acc/train_data_size\n",
        "\n",
        "        # Find average training loss and training accuracy\n",
        "        avg_valid_loss = valid_loss/test_data_size \n",
        "        avg_valid_acc = valid_acc/test_data_size\n",
        "\n",
        "        history.append([avg_train_loss, avg_valid_loss, avg_train_acc, avg_valid_acc])\n",
        "                \n",
        "        epoch_end = time.time()\n",
        "    \n",
        "        print(\"Epoch : {:03d}, Training: Loss - {:.4f}, Accuracy - {:.4f}%, Validation : Loss - {:.4f}, Accuracy - {:.4f}%, Time: {:.4f}s\".format(epoch+1, avg_train_loss, avg_train_acc*100, avg_valid_loss, avg_valid_acc*100, epoch_end-epoch_start))\n",
        "\n",
        "        #reduce lr\n",
        "        \n",
        "        if avg_valid_acc*100 > 88:\n",
        "          flag = 1\n",
        "\n",
        "        if flag == 1:\n",
        "          scheduler.step(avg_valid_loss)\n",
        "        \n",
        "        print('Epoch-{0} learning rate: {1}'.format(epoch, optimizer.param_groups[0]['lr']))\n",
        "\n",
        "        # Save if the model has best accuracy till now\n",
        "        # torch.save(model, 'model_'+str(epoch)+'.pt')\n",
        "        # optimizer.epoch_step(epoch)       \n",
        "    return model, history, best_epoch"
      ],
      "execution_count": null,
      "outputs": []
    },
    {
      "cell_type": "code",
      "metadata": {
        "id": "l9DyPd-dtyys"
      },
      "source": [
        "# Define Optimizer and Loss Function\n",
        "# loss_func = nn.NLLLoss()\n",
        "loss_func = nn.CrossEntropyLoss()\n",
        "optimizer = optim.Adam(params=list(model_class.parameters()), lr=3e-6)"
      ],
      "execution_count": null,
      "outputs": []
    },
    {
      "cell_type": "code",
      "metadata": {
        "id": "BR6dTBifOhoW",
        "colab": {
          "base_uri": "https://localhost:8080/"
        },
        "outputId": "88fb1bdb-ba62-4955-e348-2c6cefdaa9fb"
      },
      "source": [
        "num_epochs = 100\n",
        "\n",
        "start = time.time()\n",
        "\n",
        "# trained_model, history, best_epoch = train_and_validate(model_class, loss_func, optimizer, num_epochs)\n",
        "\n",
        "# scheduler = optim.lr_scheduler.MultiStepLR(optimizer, milestones=[20,35], gamma=0.1)\n",
        "# scheduler = optim.lr_scheduler.StepLR(optimizer, step_size=2, gamma=torch.exp(-0.1))\n",
        "\n",
        "# lambda1 = lambda epoch: torch.exp(-1) ** epoch\n",
        "# scheduler = torch.optim.lr_scheduler.LambdaLR(optimizer, lr_lambda=lambda1)\n",
        "\n",
        "scheduler = torch.optim.lr_scheduler.ReduceLROnPlateau(optimizer, mode='min', factor= 0.85, patience=2, threshold=0.0001, threshold_mode='abs')\n",
        "\n",
        "trained_model, history, best_epoch = train_and_validate(model_class, scheduler, loss_func, optimizer, num_epochs)\n",
        "\n",
        "end = time.time()\n",
        "# torch.save(history, 'history.pt')"
      ],
      "execution_count": null,
      "outputs": [
        {
          "output_type": "stream",
          "text": [
            "Epoch: 1/100\n"
          ],
          "name": "stdout"
        },
        {
          "output_type": "stream",
          "text": [
            "/usr/local/lib/python3.7/dist-packages/torch/nn/functional.py:718: UserWarning: Named tensors and all their associated APIs are an experimental feature and subject to change. Please do not use them for anything important until they are released as stable. (Triggered internally at  /pytorch/c10/core/TensorImpl.h:1156.)\n",
            "  return torch.max_pool2d(input, kernel_size, stride, padding, dilation, ceil_mode)\n"
          ],
          "name": "stderr"
        },
        {
          "output_type": "stream",
          "text": [
            "Epoch : 001, Training: Loss - 0.6744, Accuracy - 58.5486%, Validation : Loss - 0.6709, Accuracy - 56.9038%, Time: 27.3918s\n",
            "Epoch-0 learning rate: 3e-06\n",
            "Epoch: 2/100\n",
            "Epoch : 002, Training: Loss - 0.6173, Accuracy - 74.0467%, Validation : Loss - 0.6462, Accuracy - 58.9958%, Time: 27.2613s\n",
            "Epoch-1 learning rate: 3e-06\n",
            "Epoch: 3/100\n",
            "Epoch : 003, Training: Loss - 0.5578, Accuracy - 75.2768%, Validation : Loss - 0.6023, Accuracy - 64.4351%, Time: 26.7605s\n",
            "Epoch-2 learning rate: 3e-06\n",
            "Epoch: 4/100\n",
            "Epoch : 004, Training: Loss - 0.4737, Accuracy - 80.4428%, Validation : Loss - 0.5537, Accuracy - 68.6192%, Time: 26.8207s\n",
            "Epoch-3 learning rate: 3e-06\n",
            "Epoch: 5/100\n",
            "Epoch : 005, Training: Loss - 0.3765, Accuracy - 85.7319%, Validation : Loss - 0.4940, Accuracy - 73.6402%, Time: 27.1665s\n",
            "Epoch-4 learning rate: 3e-06\n",
            "Epoch: 6/100\n",
            "Epoch : 006, Training: Loss - 0.3018, Accuracy - 90.0369%, Validation : Loss - 0.4470, Accuracy - 79.4979%, Time: 27.1007s\n",
            "Epoch-5 learning rate: 3e-06\n",
            "Epoch: 7/100\n",
            "Epoch : 007, Training: Loss - 0.2723, Accuracy - 89.7909%, Validation : Loss - 0.4177, Accuracy - 81.1715%, Time: 27.0158s\n",
            "Epoch-6 learning rate: 3e-06\n",
            "Epoch: 8/100\n",
            "Epoch : 008, Training: Loss - 0.2205, Accuracy - 92.6199%, Validation : Loss - 0.3970, Accuracy - 83.6820%, Time: 26.9860s\n",
            "Epoch-7 learning rate: 3e-06\n",
            "Epoch: 9/100\n",
            "Epoch : 009, Training: Loss - 0.2032, Accuracy - 94.0959%, Validation : Loss - 0.3727, Accuracy - 83.6820%, Time: 26.9672s\n",
            "Epoch-8 learning rate: 3e-06\n",
            "Epoch: 10/100\n",
            "Epoch : 010, Training: Loss - 0.1890, Accuracy - 93.3579%, Validation : Loss - 0.3498, Accuracy - 85.3556%, Time: 27.0436s\n",
            "Epoch-9 learning rate: 3e-06\n",
            "Epoch: 11/100\n",
            "Epoch : 011, Training: Loss - 0.1538, Accuracy - 95.0800%, Validation : Loss - 0.3610, Accuracy - 87.0293%, Time: 27.0833s\n",
            "Epoch-10 learning rate: 3e-06\n",
            "Epoch: 12/100\n",
            "Epoch : 012, Training: Loss - 0.1397, Accuracy - 94.7109%, Validation : Loss - 0.3336, Accuracy - 87.8661%, Time: 27.0415s\n",
            "Epoch-11 learning rate: 3e-06\n",
            "Epoch: 13/100\n",
            "Epoch : 013, Training: Loss - 0.1467, Accuracy - 94.3419%, Validation : Loss - 0.3205, Accuracy - 89.1213%, Time: 27.0244s\n",
            "Epoch-12 learning rate: 3e-06\n",
            "Epoch: 14/100\n",
            "Epoch : 014, Training: Loss - 0.1193, Accuracy - 95.9410%, Validation : Loss - 0.3183, Accuracy - 88.7029%, Time: 27.0368s\n",
            "Epoch-13 learning rate: 3e-06\n",
            "Epoch: 15/100\n",
            "Epoch : 015, Training: Loss - 0.1117, Accuracy - 96.1870%, Validation : Loss - 0.3246, Accuracy - 89.1213%, Time: 27.0140s\n",
            "Epoch-14 learning rate: 3e-06\n",
            "Epoch: 16/100\n",
            "Epoch : 016, Training: Loss - 0.1012, Accuracy - 96.1870%, Validation : Loss - 0.3109, Accuracy - 89.5397%, Time: 27.0200s\n",
            "Epoch-15 learning rate: 3e-06\n",
            "Epoch: 17/100\n",
            "Epoch : 017, Training: Loss - 0.0920, Accuracy - 96.8020%, Validation : Loss - 0.3089, Accuracy - 89.5397%, Time: 27.0272s\n",
            "Epoch-16 learning rate: 3e-06\n",
            "Epoch: 18/100\n",
            "Epoch : 018, Training: Loss - 0.0967, Accuracy - 97.1710%, Validation : Loss - 0.3064, Accuracy - 89.1213%, Time: 27.0152s\n",
            "Epoch-17 learning rate: 3e-06\n",
            "Epoch: 19/100\n",
            "Epoch : 019, Training: Loss - 0.0978, Accuracy - 96.9250%, Validation : Loss - 0.3001, Accuracy - 89.1213%, Time: 27.0773s\n",
            "Epoch-18 learning rate: 3e-06\n",
            "Epoch: 20/100\n",
            "Epoch : 020, Training: Loss - 0.0821, Accuracy - 97.0480%, Validation : Loss - 0.2860, Accuracy - 89.1213%, Time: 27.0869s\n",
            "Epoch-19 learning rate: 3e-06\n",
            "Epoch: 21/100\n",
            "Epoch : 021, Training: Loss - 0.0704, Accuracy - 98.2780%, Validation : Loss - 0.2942, Accuracy - 89.5397%, Time: 26.9674s\n",
            "Epoch-20 learning rate: 3e-06\n",
            "Epoch: 22/100\n",
            "Epoch : 022, Training: Loss - 0.0597, Accuracy - 98.0320%, Validation : Loss - 0.2992, Accuracy - 90.3766%, Time: 26.9811s\n",
            "Epoch-21 learning rate: 3e-06\n",
            "Epoch: 23/100\n",
            "Epoch : 023, Training: Loss - 0.0731, Accuracy - 97.0480%, Validation : Loss - 0.2659, Accuracy - 89.9582%, Time: 26.9262s\n",
            "Epoch-22 learning rate: 3e-06\n",
            "Epoch: 24/100\n",
            "Epoch : 024, Training: Loss - 0.0613, Accuracy - 97.9090%, Validation : Loss - 0.2634, Accuracy - 89.5397%, Time: 27.0345s\n",
            "Epoch-23 learning rate: 3e-06\n",
            "Epoch: 25/100\n",
            "Epoch : 025, Training: Loss - 0.0628, Accuracy - 97.9090%, Validation : Loss - 0.2772, Accuracy - 92.0502%, Time: 27.1112s\n",
            "Epoch-24 learning rate: 3e-06\n",
            "Epoch: 26/100\n",
            "Epoch : 026, Training: Loss - 0.0509, Accuracy - 98.2780%, Validation : Loss - 0.2586, Accuracy - 89.5397%, Time: 26.9776s\n",
            "Epoch-25 learning rate: 3e-06\n",
            "Epoch: 27/100\n",
            "Epoch : 027, Training: Loss - 0.0470, Accuracy - 98.4010%, Validation : Loss - 0.2586, Accuracy - 90.7950%, Time: 27.0789s\n",
            "Epoch-26 learning rate: 3e-06\n",
            "Epoch: 28/100\n",
            "Epoch : 028, Training: Loss - 0.0472, Accuracy - 98.6470%, Validation : Loss - 0.2606, Accuracy - 90.3766%, Time: 26.9674s\n",
            "Epoch-27 learning rate: 3e-06\n",
            "Epoch: 29/100\n",
            "Epoch : 029, Training: Loss - 0.0442, Accuracy - 98.7700%, Validation : Loss - 0.2617, Accuracy - 90.3766%, Time: 26.9880s\n",
            "Epoch-28 learning rate: 2.55e-06\n",
            "Epoch: 30/100\n",
            "Epoch : 030, Training: Loss - 0.0504, Accuracy - 98.5240%, Validation : Loss - 0.2690, Accuracy - 90.7950%, Time: 26.9153s\n",
            "Epoch-29 learning rate: 2.55e-06\n",
            "Epoch: 31/100\n",
            "Epoch : 031, Training: Loss - 0.0363, Accuracy - 99.0160%, Validation : Loss - 0.2702, Accuracy - 91.2134%, Time: 26.8519s\n",
            "Epoch-30 learning rate: 2.55e-06\n",
            "Epoch: 32/100\n",
            "Epoch : 032, Training: Loss - 0.0330, Accuracy - 99.1390%, Validation : Loss - 0.2639, Accuracy - 90.3766%, Time: 26.8539s\n",
            "Epoch-31 learning rate: 2.1675e-06\n",
            "Epoch: 33/100\n",
            "Epoch : 033, Training: Loss - 0.0341, Accuracy - 99.1390%, Validation : Loss - 0.2750, Accuracy - 90.7950%, Time: 26.8452s\n",
            "Epoch-32 learning rate: 2.1675e-06\n",
            "Epoch: 34/100\n",
            "Epoch : 034, Training: Loss - 0.0307, Accuracy - 99.1390%, Validation : Loss - 0.2619, Accuracy - 91.2134%, Time: 26.8813s\n",
            "Epoch-33 learning rate: 2.1675e-06\n",
            "Epoch: 35/100\n",
            "Epoch : 035, Training: Loss - 0.0321, Accuracy - 99.1390%, Validation : Loss - 0.2617, Accuracy - 90.3766%, Time: 26.9640s\n",
            "Epoch-34 learning rate: 1.8423749999999999e-06\n",
            "Epoch: 36/100\n",
            "Epoch : 036, Training: Loss - 0.0271, Accuracy - 99.6310%, Validation : Loss - 0.2617, Accuracy - 91.6318%, Time: 26.8468s\n",
            "Epoch-35 learning rate: 1.8423749999999999e-06\n",
            "Epoch: 37/100\n",
            "Epoch : 037, Training: Loss - 0.0248, Accuracy - 99.3850%, Validation : Loss - 0.2594, Accuracy - 90.7950%, Time: 26.8743s\n",
            "Epoch-36 learning rate: 1.8423749999999999e-06\n",
            "Epoch: 38/100\n",
            "Epoch : 038, Training: Loss - 0.0273, Accuracy - 98.8930%, Validation : Loss - 0.2684, Accuracy - 92.0502%, Time: 26.8476s\n",
            "Epoch-37 learning rate: 1.56601875e-06\n",
            "Epoch: 39/100\n",
            "Epoch : 039, Training: Loss - 0.0210, Accuracy - 99.5080%, Validation : Loss - 0.2811, Accuracy - 91.6318%, Time: 26.8048s\n",
            "Epoch-38 learning rate: 1.56601875e-06\n",
            "Epoch: 40/100\n",
            "Epoch : 040, Training: Loss - 0.0268, Accuracy - 99.1390%, Validation : Loss - 0.2712, Accuracy - 91.6318%, Time: 26.8576s\n",
            "Epoch-39 learning rate: 1.56601875e-06\n",
            "Epoch: 41/100\n",
            "Epoch : 041, Training: Loss - 0.0229, Accuracy - 99.2620%, Validation : Loss - 0.2922, Accuracy - 91.6318%, Time: 26.8497s\n",
            "Epoch-40 learning rate: 1.3311159375e-06\n",
            "Epoch: 42/100\n",
            "Epoch : 042, Training: Loss - 0.0228, Accuracy - 99.0160%, Validation : Loss - 0.2764, Accuracy - 92.0502%, Time: 26.7967s\n",
            "Epoch-41 learning rate: 1.3311159375e-06\n",
            "Epoch: 43/100\n",
            "Epoch : 043, Training: Loss - 0.0172, Accuracy - 99.5080%, Validation : Loss - 0.2814, Accuracy - 92.0502%, Time: 26.8393s\n",
            "Epoch-42 learning rate: 1.3311159375e-06\n",
            "Epoch: 44/100\n",
            "Epoch : 044, Training: Loss - 0.0200, Accuracy - 99.3850%, Validation : Loss - 0.2632, Accuracy - 91.6318%, Time: 26.8804s\n",
            "Epoch-43 learning rate: 1.1314485468749999e-06\n",
            "Epoch: 45/100\n",
            "Epoch : 045, Training: Loss - 0.0227, Accuracy - 99.3850%, Validation : Loss - 0.2841, Accuracy - 91.6318%, Time: 26.8273s\n",
            "Epoch-44 learning rate: 1.1314485468749999e-06\n",
            "Epoch: 46/100\n",
            "Epoch : 046, Training: Loss - 0.0269, Accuracy - 99.2620%, Validation : Loss - 0.2828, Accuracy - 92.0502%, Time: 26.8570s\n",
            "Epoch-45 learning rate: 1.1314485468749999e-06\n",
            "Epoch: 47/100\n",
            "Epoch : 047, Training: Loss - 0.0131, Accuracy - 99.7540%, Validation : Loss - 0.2719, Accuracy - 91.6318%, Time: 26.8002s\n",
            "Epoch-46 learning rate: 9.617312648437498e-07\n",
            "Epoch: 48/100\n",
            "Epoch : 048, Training: Loss - 0.0227, Accuracy - 99.2620%, Validation : Loss - 0.2673, Accuracy - 91.6318%, Time: 26.7459s\n",
            "Epoch-47 learning rate: 9.617312648437498e-07\n",
            "Epoch: 49/100\n",
            "Epoch : 049, Training: Loss - 0.0219, Accuracy - 99.3850%, Validation : Loss - 0.2775, Accuracy - 91.6318%, Time: 26.8460s\n",
            "Epoch-48 learning rate: 9.617312648437498e-07\n",
            "Epoch: 50/100\n",
            "Epoch : 050, Training: Loss - 0.0164, Accuracy - 99.6310%, Validation : Loss - 0.2636, Accuracy - 91.6318%, Time: 26.8574s\n",
            "Epoch-49 learning rate: 8.174715751171873e-07\n",
            "Epoch: 51/100\n",
            "Epoch : 051, Training: Loss - 0.0147, Accuracy - 99.7540%, Validation : Loss - 0.2724, Accuracy - 91.6318%, Time: 26.8502s\n",
            "Epoch-50 learning rate: 8.174715751171873e-07\n",
            "Epoch: 52/100\n",
            "Epoch : 052, Training: Loss - 0.0152, Accuracy - 99.7540%, Validation : Loss - 0.2739, Accuracy - 91.6318%, Time: 26.9080s\n",
            "Epoch-51 learning rate: 8.174715751171873e-07\n",
            "Epoch: 53/100\n",
            "Epoch : 053, Training: Loss - 0.0254, Accuracy - 99.5080%, Validation : Loss - 0.2883, Accuracy - 91.6318%, Time: 26.7649s\n",
            "Epoch-52 learning rate: 6.948508388496093e-07\n",
            "Epoch: 54/100\n",
            "Epoch : 054, Training: Loss - 0.0183, Accuracy - 99.2620%, Validation : Loss - 0.2637, Accuracy - 92.0502%, Time: 26.8437s\n",
            "Epoch-53 learning rate: 6.948508388496093e-07\n",
            "Epoch: 55/100\n",
            "Epoch : 055, Training: Loss - 0.0113, Accuracy - 100.0000%, Validation : Loss - 0.2714, Accuracy - 92.0502%, Time: 26.9689s\n",
            "Epoch-54 learning rate: 6.948508388496093e-07\n",
            "Epoch: 56/100\n",
            "Epoch : 056, Training: Loss - 0.0152, Accuracy - 99.6310%, Validation : Loss - 0.2786, Accuracy - 91.6318%, Time: 26.8604s\n",
            "Epoch-55 learning rate: 5.906232130221678e-07\n",
            "Epoch: 57/100\n",
            "Epoch : 057, Training: Loss - 0.0098, Accuracy - 99.6310%, Validation : Loss - 0.2667, Accuracy - 92.0502%, Time: 26.9473s\n",
            "Epoch-56 learning rate: 5.906232130221678e-07\n",
            "Epoch: 58/100\n",
            "Epoch : 058, Training: Loss - 0.0190, Accuracy - 99.2620%, Validation : Loss - 0.2826, Accuracy - 91.6318%, Time: 26.9091s\n",
            "Epoch-57 learning rate: 5.906232130221678e-07\n",
            "Epoch: 59/100\n",
            "Epoch : 059, Training: Loss - 0.0248, Accuracy - 99.2620%, Validation : Loss - 0.2655, Accuracy - 92.0502%, Time: 26.8579s\n",
            "Epoch-58 learning rate: 5.020297310688427e-07\n",
            "Epoch: 60/100\n",
            "Epoch : 060, Training: Loss - 0.0210, Accuracy - 99.5080%, Validation : Loss - 0.2705, Accuracy - 91.6318%, Time: 26.9254s\n",
            "Epoch-59 learning rate: 5.020297310688427e-07\n",
            "Epoch: 61/100\n",
            "Epoch : 061, Training: Loss - 0.0185, Accuracy - 99.6310%, Validation : Loss - 0.2785, Accuracy - 91.6318%, Time: 26.8648s\n",
            "Epoch-60 learning rate: 5.020297310688427e-07\n",
            "Epoch: 62/100\n",
            "Epoch : 062, Training: Loss - 0.0335, Accuracy - 98.8930%, Validation : Loss - 0.2760, Accuracy - 92.0502%, Time: 26.8348s\n",
            "Epoch-61 learning rate: 4.2672527140851627e-07\n",
            "Epoch: 63/100\n",
            "Epoch : 063, Training: Loss - 0.0121, Accuracy - 99.5080%, Validation : Loss - 0.2749, Accuracy - 92.0502%, Time: 26.8806s\n",
            "Epoch-62 learning rate: 4.2672527140851627e-07\n",
            "Epoch: 64/100\n",
            "Epoch : 064, Training: Loss - 0.0102, Accuracy - 99.8770%, Validation : Loss - 0.2758, Accuracy - 91.6318%, Time: 26.9039s\n",
            "Epoch-63 learning rate: 4.2672527140851627e-07\n",
            "Epoch: 65/100\n",
            "Epoch : 065, Training: Loss - 0.0132, Accuracy - 99.6310%, Validation : Loss - 0.2708, Accuracy - 91.6318%, Time: 26.8289s\n",
            "Epoch-64 learning rate: 3.627164806972388e-07\n",
            "Epoch: 66/100\n",
            "Epoch : 066, Training: Loss - 0.0174, Accuracy - 99.5080%, Validation : Loss - 0.2792, Accuracy - 91.6318%, Time: 26.9222s\n",
            "Epoch-65 learning rate: 3.627164806972388e-07\n",
            "Epoch: 67/100\n",
            "Epoch : 067, Training: Loss - 0.0112, Accuracy - 99.7540%, Validation : Loss - 0.2702, Accuracy - 91.2134%, Time: 26.9001s\n",
            "Epoch-66 learning rate: 3.627164806972388e-07\n",
            "Epoch: 68/100\n",
            "Epoch : 068, Training: Loss - 0.0094, Accuracy - 99.7540%, Validation : Loss - 0.2746, Accuracy - 92.0502%, Time: 27.0165s\n",
            "Epoch-67 learning rate: 3.08309008592653e-07\n",
            "Epoch: 69/100\n",
            "Epoch : 069, Training: Loss - 0.0105, Accuracy - 99.8770%, Validation : Loss - 0.2924, Accuracy - 91.6318%, Time: 26.8716s\n",
            "Epoch-68 learning rate: 3.08309008592653e-07\n",
            "Epoch: 70/100\n",
            "Epoch : 070, Training: Loss - 0.0118, Accuracy - 99.8770%, Validation : Loss - 0.2880, Accuracy - 91.6318%, Time: 26.7861s\n",
            "Epoch-69 learning rate: 3.08309008592653e-07\n",
            "Epoch: 71/100\n",
            "Epoch : 071, Training: Loss - 0.0153, Accuracy - 99.6310%, Validation : Loss - 0.2800, Accuracy - 91.6318%, Time: 26.9101s\n",
            "Epoch-70 learning rate: 2.62062657303755e-07\n",
            "Epoch: 72/100\n",
            "Epoch : 072, Training: Loss - 0.0134, Accuracy - 99.6310%, Validation : Loss - 0.2760, Accuracy - 91.6318%, Time: 26.8782s\n",
            "Epoch-71 learning rate: 2.62062657303755e-07\n",
            "Epoch: 73/100\n",
            "Epoch : 073, Training: Loss - 0.0096, Accuracy - 100.0000%, Validation : Loss - 0.2729, Accuracy - 92.4686%, Time: 26.9600s\n",
            "Epoch-72 learning rate: 2.62062657303755e-07\n",
            "Epoch: 74/100\n",
            "Epoch : 074, Training: Loss - 0.0095, Accuracy - 99.8770%, Validation : Loss - 0.2857, Accuracy - 91.6318%, Time: 26.9087s\n",
            "Epoch-73 learning rate: 2.2275325870819177e-07\n",
            "Epoch: 75/100\n",
            "Epoch : 075, Training: Loss - 0.0167, Accuracy - 99.3850%, Validation : Loss - 0.2819, Accuracy - 92.0502%, Time: 26.9231s\n",
            "Epoch-74 learning rate: 2.2275325870819177e-07\n",
            "Epoch: 76/100\n",
            "Epoch : 076, Training: Loss - 0.0158, Accuracy - 99.6310%, Validation : Loss - 0.2733, Accuracy - 91.6318%, Time: 26.8499s\n",
            "Epoch-75 learning rate: 2.2275325870819177e-07\n",
            "Epoch: 77/100\n",
            "Epoch : 077, Training: Loss - 0.0117, Accuracy - 99.7540%, Validation : Loss - 0.2708, Accuracy - 92.0502%, Time: 26.8753s\n",
            "Epoch-76 learning rate: 1.89340269901963e-07\n",
            "Epoch: 78/100\n",
            "Epoch : 078, Training: Loss - 0.0116, Accuracy - 99.6310%, Validation : Loss - 0.2858, Accuracy - 91.6318%, Time: 26.9047s\n",
            "Epoch-77 learning rate: 1.89340269901963e-07\n",
            "Epoch: 79/100\n",
            "Epoch : 079, Training: Loss - 0.0236, Accuracy - 99.1390%, Validation : Loss - 0.2752, Accuracy - 92.4686%, Time: 26.9358s\n",
            "Epoch-78 learning rate: 1.89340269901963e-07\n",
            "Epoch: 80/100\n",
            "Epoch : 080, Training: Loss - 0.0105, Accuracy - 99.8770%, Validation : Loss - 0.2757, Accuracy - 91.6318%, Time: 26.8549s\n",
            "Epoch-79 learning rate: 1.6093922941666855e-07\n",
            "Epoch: 81/100\n",
            "Epoch : 081, Training: Loss - 0.0186, Accuracy - 99.3850%, Validation : Loss - 0.2896, Accuracy - 91.6318%, Time: 26.8868s\n",
            "Epoch-80 learning rate: 1.6093922941666855e-07\n",
            "Epoch: 82/100\n",
            "Epoch : 082, Training: Loss - 0.0106, Accuracy - 99.8770%, Validation : Loss - 0.2789, Accuracy - 91.6318%, Time: 26.9135s\n",
            "Epoch-81 learning rate: 1.6093922941666855e-07\n",
            "Epoch: 83/100\n",
            "Epoch : 083, Training: Loss - 0.0163, Accuracy - 99.7540%, Validation : Loss - 0.2788, Accuracy - 92.0502%, Time: 26.7987s\n",
            "Epoch-82 learning rate: 1.3679834500416826e-07\n",
            "Epoch: 84/100\n",
            "Epoch : 084, Training: Loss - 0.0142, Accuracy - 99.5080%, Validation : Loss - 0.2776, Accuracy - 92.0502%, Time: 26.9183s\n",
            "Epoch-83 learning rate: 1.3679834500416826e-07\n",
            "Epoch: 85/100\n",
            "Epoch : 085, Training: Loss - 0.0145, Accuracy - 99.2620%, Validation : Loss - 0.2708, Accuracy - 91.6318%, Time: 26.9219s\n",
            "Epoch-84 learning rate: 1.3679834500416826e-07\n",
            "Epoch: 86/100\n",
            "Epoch : 086, Training: Loss - 0.0185, Accuracy - 99.6310%, Validation : Loss - 0.2757, Accuracy - 92.0502%, Time: 26.8175s\n",
            "Epoch-85 learning rate: 1.1627859325354302e-07\n",
            "Epoch: 87/100\n",
            "Epoch : 087, Training: Loss - 0.0103, Accuracy - 99.5080%, Validation : Loss - 0.2755, Accuracy - 91.6318%, Time: 26.8824s\n",
            "Epoch-86 learning rate: 1.1627859325354302e-07\n",
            "Epoch: 88/100\n",
            "Epoch : 088, Training: Loss - 0.0099, Accuracy - 99.7540%, Validation : Loss - 0.2745, Accuracy - 92.4686%, Time: 26.8179s\n",
            "Epoch-87 learning rate: 1.1627859325354302e-07\n",
            "Epoch: 89/100\n",
            "Epoch : 089, Training: Loss - 0.0147, Accuracy - 99.5080%, Validation : Loss - 0.2829, Accuracy - 91.6318%, Time: 26.8263s\n",
            "Epoch-88 learning rate: 9.883680426551156e-08\n",
            "Epoch: 90/100\n",
            "Epoch : 090, Training: Loss - 0.0135, Accuracy - 99.6310%, Validation : Loss - 0.2774, Accuracy - 92.0502%, Time: 26.8211s\n",
            "Epoch-89 learning rate: 9.883680426551156e-08\n",
            "Epoch: 91/100\n",
            "Epoch : 091, Training: Loss - 0.0148, Accuracy - 99.8770%, Validation : Loss - 0.2762, Accuracy - 92.0502%, Time: 26.8472s\n",
            "Epoch-90 learning rate: 9.883680426551156e-08\n",
            "Epoch: 92/100\n",
            "Epoch : 092, Training: Loss - 0.0115, Accuracy - 99.8770%, Validation : Loss - 0.2849, Accuracy - 91.6318%, Time: 26.8395s\n",
            "Epoch-91 learning rate: 8.401128362568482e-08\n",
            "Epoch: 93/100\n",
            "Epoch : 093, Training: Loss - 0.0182, Accuracy - 99.5080%, Validation : Loss - 0.2812, Accuracy - 91.6318%, Time: 26.8870s\n",
            "Epoch-92 learning rate: 8.401128362568482e-08\n",
            "Epoch: 94/100\n",
            "Epoch : 094, Training: Loss - 0.0134, Accuracy - 99.7540%, Validation : Loss - 0.2804, Accuracy - 91.6318%, Time: 26.8203s\n",
            "Epoch-93 learning rate: 8.401128362568482e-08\n",
            "Epoch: 95/100\n",
            "Epoch : 095, Training: Loss - 0.0164, Accuracy - 99.6310%, Validation : Loss - 0.2744, Accuracy - 92.8870%, Time: 26.9546s\n",
            "Epoch-94 learning rate: 7.140959108183209e-08\n",
            "Epoch: 96/100\n",
            "Epoch : 096, Training: Loss - 0.0208, Accuracy - 99.0160%, Validation : Loss - 0.2797, Accuracy - 91.6318%, Time: 26.9109s\n",
            "Epoch-95 learning rate: 7.140959108183209e-08\n",
            "Epoch: 97/100\n",
            "Epoch : 097, Training: Loss - 0.0109, Accuracy - 99.7540%, Validation : Loss - 0.2743, Accuracy - 92.4686%, Time: 26.8726s\n",
            "Epoch-96 learning rate: 7.140959108183209e-08\n",
            "Epoch: 98/100\n",
            "Epoch : 098, Training: Loss - 0.0169, Accuracy - 99.6310%, Validation : Loss - 0.2802, Accuracy - 91.6318%, Time: 26.8724s\n",
            "Epoch-97 learning rate: 6.069815241955727e-08\n",
            "Epoch: 99/100\n",
            "Epoch : 099, Training: Loss - 0.0125, Accuracy - 99.7540%, Validation : Loss - 0.2748, Accuracy - 92.0502%, Time: 26.8466s\n",
            "Epoch-98 learning rate: 6.069815241955727e-08\n",
            "Epoch: 100/100\n",
            "Epoch : 100, Training: Loss - 0.0126, Accuracy - 99.5080%, Validation : Loss - 0.2739, Accuracy - 91.6318%, Time: 26.9089s\n",
            "Epoch-99 learning rate: 6.069815241955727e-08\n"
          ],
          "name": "stdout"
        }
      ]
    },
    {
      "cell_type": "code",
      "metadata": {
        "id": "HigTVpI3JjHv",
        "colab": {
          "base_uri": "https://localhost:8080/"
        },
        "outputId": "ba2259dd-83f1-44bf-8a92-e49453e9eb0d"
      },
      "source": [
        "print(\"Thoi gian training: \",end-start)"
      ],
      "execution_count": null,
      "outputs": [
        {
          "output_type": "stream",
          "text": [
            "Thoi gian training:  2691.850120306015\n"
          ],
          "name": "stdout"
        }
      ]
    },
    {
      "cell_type": "code",
      "metadata": {
        "id": "j4Br59veWAkU",
        "colab": {
          "base_uri": "https://localhost:8080/"
        },
        "outputId": "c2e80c97-dfc9-454d-8467-0367b3370628"
      },
      "source": [
        "#save model\n",
        "import time\n",
        "from datetime import date\n",
        "today = date.today()\n",
        "d1 = today.strftime(\"%d%m%Y\")\n",
        "print(\"d1 =\", d1)\n",
        "torch.save(trained_model, '/content/drive/My Drive/DetectBrainTumor/model/pytorch/model_vgg19_'+str(d1)+'.pt')"
      ],
      "execution_count": null,
      "outputs": [
        {
          "output_type": "stream",
          "text": [
            "d1 = 02072021\n"
          ],
          "name": "stdout"
        }
      ]
    },
    {
      "cell_type": "code",
      "metadata": {
        "id": "nVVgUij9WCGA"
      },
      "source": [
        "import pickle\n",
        "with open('/content/drive/My Drive/DetectBrainTumor/result/pytorch/history_vgg19.pickle', 'wb') as f:\n",
        "    pickle.dump(history, f)\n"
      ],
      "execution_count": null,
      "outputs": []
    },
    {
      "cell_type": "code",
      "metadata": {
        "id": "vHLlLgl5iqEp"
      },
      "source": [
        "loss_train = []\n",
        "loss_val = []\n",
        "acc_train = []\n",
        "acc_val = []\n",
        "\n",
        "for i in range(len(history)):\n",
        "  loss_train.append(history[i][0])\n",
        "  loss_val.append(history[i][1])\n",
        "  acc_train.append(history[i][2])\n",
        "  acc_val.append(history[i][3])"
      ],
      "execution_count": null,
      "outputs": []
    },
    {
      "cell_type": "code",
      "metadata": {
        "id": "pB0-ZXLqI5fZ",
        "colab": {
          "base_uri": "https://localhost:8080/"
        },
        "outputId": "9b724672-4160-43e6-b087-8c41f041f759"
      },
      "source": [
        "# summarize history for accuracy\n",
        "\n",
        "fig,a =  plt.subplots(1, 2, figsize=(16,7))\n",
        "a[0].plot(acc_train)\n",
        "a[0].plot(acc_val)\n",
        "a[0].set_title('model accuracy')\n",
        "a[0].set_ylabel('accuracy')\n",
        "a[0].set_xlabel('epoch')\n",
        "a[0].legend(['train', 'val'], loc='upper left')\n",
        "# summarize history for loss for epoch\n",
        "# plt.figure(figsize=(10,10))\n",
        "a[1].plot(loss_train)\n",
        "a[1].plot(loss_val)\n",
        "a[1].set_title('model loss')\n",
        "a[1].set_ylabel('loss')\n",
        "a[1].set_xlabel('epoch')\n",
        "a[1].legend(['train', 'val'], loc='upper left')\n",
        "plt.show()"
      ],
      "execution_count": null,
      "outputs": [
        {
          "output_type": "display_data",
          "data": {
            "image/png": "[encoded data removed]",
            "text/plain": [
              "<Figure size 1152x504 with 2 Axes>"
            ]
          },
          "metadata": {
            "tags": [],
            "needs_background": "light"
          }
        }
      ]
    }
  ]
}