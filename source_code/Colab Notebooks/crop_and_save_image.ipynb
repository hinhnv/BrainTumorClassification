{
  "nbformat": 4,
  "nbformat_minor": 0,
  "metadata": {
    "colab": {
      "name": "crop_and_save_image.ipynb",
      "provenance": [],
      "collapsed_sections": []
    },
    "kernelspec": {
      "name": "python3",
      "display_name": "Python 3"
    },
    "language_info": {
      "name": "python"
    },
    "accelerator": "GPU"
  },
  "cells": [
    {
      "cell_type": "code",
      "metadata": {
        "id": "Iae8YLuBIgkn",
        "colab": {
          "base_uri": "https://localhost:8080/"
        },
        "outputId": "bafa14aa-c741-4300-e30a-8237a6624bfd"
      },
      "source": [
        "from google.colab import drive\n",
        "drive.mount('/content/drive')"
      ],
      "execution_count": 1,
      "outputs": [
        {
          "output_type": "stream",
          "text": [
            "Drive already mounted at /content/drive; to attempt to forcibly remount, call drive.mount(\"/content/drive\", force_remount=True).\n"
          ],
          "name": "stdout"
        }
      ]
    },
    {
      "cell_type": "code",
      "metadata": {
        "id": "Nj2YVYgVVkfn"
      },
      "source": [
        "%rm -rf sample_data"
      ],
      "execution_count": 2,
      "outputs": []
    },
    {
      "cell_type": "code",
      "metadata": {
        "id": "gHk66aueIikQ"
      },
      "source": [
        "from datetime import date\n",
        "import numpy as np\n",
        "import matplotlib.pyplot as plt\n",
        "import h5py\n",
        "import time\n",
        "import sys\n",
        "import tensorflow as tf\n",
        "import cv2\n",
        "import os\n",
        "import pickle\n",
        "import imutils\n",
        "\n",
        "from keras.preprocessing.image import ImageDataGenerator\n",
        "from tensorflow.keras import layers\n",
        "from tensorflow import keras\n",
        "from tensorflow.keras.preprocessing import image_dataset_from_directory\n",
        "from tensorflow.keras.applications.densenet import preprocess_input\n",
        "from tensorflow.keras.applications import DenseNet201\n",
        "from tensorflow.keras.callbacks import ModelCheckpoint, ReduceLROnPlateau, EarlyStopping"
      ],
      "execution_count": 3,
      "outputs": []
    },
    {
      "cell_type": "code",
      "metadata": {
        "id": "qNjQ80YRIj6O"
      },
      "source": [
        "IMAGE_SIZE = 256\n",
        "batch_size = 16\n",
        "\n",
        "DATADIR_TRAIN = \"/content/drive/My Drive/DetectBrainTumor/data_1_19052021/T2_Train/\"\n",
        "DATADIR_VAL = \"/content/drive/My Drive/DetectBrainTumor/data_1_19052021/T2_Val/\"\n",
        "DATADIR_TRAIN_SAVE = \"/content/drive/My Drive/DetectBrainTumor/data_15062021/T2_Train/\"\n",
        "DATADIR_VAL_SAVE = \"/content/drive/My Drive/DetectBrainTumor/data_15062021/T2_Val/\"\n",
        "\n",
        "CATEGORIES = [\"YES\",\"NO\"]"
      ],
      "execution_count": 4,
      "outputs": []
    },
    {
      "cell_type": "code",
      "metadata": {
        "id": "1R3vTF3SJlY1"
      },
      "source": [
        "def crop_and_save_imgs (path, path_save, add_pixels_value, cate):\n",
        "    \"\"\"\n",
        "    Finds the extreme points on the image and crops the rectangular out of them\n",
        "    \"\"\"\n",
        "    for category in cate:\n",
        "      path_new = path + category\n",
        "      for img in os.listdir(path_new):\n",
        "          # plt.imshow(img)\n",
        "          # plt.show()\n",
        "          img_array = cv2.imread(os.path.join(path_new, img))\n",
        "          gray = cv2.cvtColor(img_array, cv2.COLOR_BGR2GRAY)\n",
        "          gray = cv2.GaussianBlur(gray, (5, 5), 0)\n",
        "\n",
        "          # threshold the image, then perform a series of erosions +\n",
        "          # dilations to remove any small regions of noise\n",
        "          thresh = cv2.threshold(gray, 45, 255, cv2.THRESH_BINARY)[1]\n",
        "          thresh = cv2.erode(thresh, None, iterations=2)\n",
        "          thresh = cv2.dilate(thresh, None, iterations=2)\n",
        "\n",
        "          # find contours in thresholded image, then grab the largest one\n",
        "          cnts = cv2.findContours(thresh.copy(), cv2.RETR_EXTERNAL, cv2.CHAIN_APPROX_SIMPLE)\n",
        "          cnts = imutils.grab_contours(cnts)\n",
        "          c = max(cnts, key=cv2.contourArea)\n",
        "\n",
        "          # find the extreme points\n",
        "          extLeft = tuple(c[c[:, :, 0].argmin()][0])\n",
        "          extRight = tuple(c[c[:, :, 0].argmax()][0])\n",
        "          extTop = tuple(c[c[:, :, 1].argmin()][0])\n",
        "          extBot = tuple(c[c[:, :, 1].argmax()][0])\n",
        "\n",
        "          ADD_PIXELS = add_pixels_value\n",
        "          new_img = img_array[extTop[1]-ADD_PIXELS:extBot[1]+ADD_PIXELS, extLeft[0]-ADD_PIXELS:extRight[0]+ADD_PIXELS].copy()\n",
        "\n",
        "          filename = path_save + category + \"/\" + img \n",
        "          cv2.imwrite(filename, new_img)"
      ],
      "execution_count": 5,
      "outputs": []
    },
    {
      "cell_type": "code",
      "metadata": {
        "colab": {
          "base_uri": "https://localhost:8080/"
        },
        "id": "IO1vxfjXfNDH",
        "outputId": "e15b432d-33e7-47f0-c8aa-64ee0abd07d9"
      },
      "source": [
        "print(DATADIR_TRAIN_SAVE)"
      ],
      "execution_count": 6,
      "outputs": [
        {
          "output_type": "stream",
          "text": [
            "/content/drive/My Drive/DetectBrainTumor/data_15062021/T2_Train/\n"
          ],
          "name": "stdout"
        }
      ]
    },
    {
      "cell_type": "code",
      "metadata": {
        "id": "-vimVrujOAsG"
      },
      "source": [
        "crop_and_save_imgs(path=DATADIR_TRAIN, path_save=DATADIR_TRAIN_SAVE, add_pixels_value=5, cate=CATEGORIES)\n",
        "crop_and_save_imgs(path=DATADIR_VAL, path_save=DATADIR_VAL_SAVE, add_pixels_value=5, cate=CATEGORIES)"
      ],
      "execution_count": 7,
      "outputs": []
    },
    {
      "cell_type": "code",
      "metadata": {
        "id": "kXnvqit2JqKU"
      },
      "source": [
        "# img = cv2.imread(\"IMG-0174-00010.jpg\")\n",
        "# gray = cv2.cvtColor(img, cv2.COLOR_RGB2GRAY)\n",
        "# gray = cv2.GaussianBlur(gray, (5, 5), 0)\n",
        "\n",
        "# # threshold the image, then perform a series of erosions +\n",
        "# # dilations to remove any small regions of noise\n",
        "# thresh = cv2.threshold(gray, 45, 255, cv2.THRESH_BINARY)[1]\n",
        "# thresh = cv2.erode(thresh, None, iterations=2)\n",
        "# thresh = cv2.dilate(thresh, None, iterations=2)\n",
        "\n",
        "# # find contours in thresholded image, then grab the largest one\n",
        "# cnts = cv2.findContours(thresh.copy(), cv2.RETR_EXTERNAL, cv2.CHAIN_APPROX_SIMPLE)\n",
        "# cnts = imutils.grab_contours(cnts)\n",
        "# c = max(cnts, key=cv2.contourArea)\n",
        "\n",
        "# # find the extreme points\n",
        "# extLeft = tuple(c[c[:, :, 0].argmin()][0])\n",
        "# extRight = tuple(c[c[:, :, 0].argmax()][0])\n",
        "# extTop = tuple(c[c[:, :, 1].argmin()][0])\n",
        "# extBot = tuple(c[c[:, :, 1].argmax()][0])\n",
        "\n",
        "# add_pixels_value = 5\n",
        "# ADD_PIXELS = add_pixels_value\n",
        "# img = img[extTop[1]-ADD_PIXELS:extBot[1]+ADD_PIXELS, extLeft[0]-ADD_PIXELS:extRight[0]+ADD_PIXELS].copy()\n",
        "\n",
        "# # cv2.drawContours(img, [c], -1, (0, 255, 255), 1)\n",
        "# # cv2.circle(img, extLeft, 8, (0, 0, 255), -1)\n",
        "# # cv2.circle(img, extRight, 8, (0, 255, 0), -1)\n",
        "# # cv2.circle(img, extTop, 8, (255, 0, 0), -1)\n",
        "# # cv2.circle(img, extBot, 8, (255, 255, 0), -1)\n",
        "# # show the output image\n",
        "\n",
        "\n",
        "# img = cv2.resize(img,(IMAGE_SIZE,IMAGE_SIZE))\n",
        "\n",
        "# plt.imshow(img)\n",
        "# plt.show()"
      ],
      "execution_count": 8,
      "outputs": []
    }
  ]
}